{
  "nbformat": 4,
  "nbformat_minor": 0,
  "metadata": {
    "colab": {
      "name": "Kaggle_API",
      "version": "0.3.2",
      "provenance": [],
      "collapsed_sections": [],
      "toc_visible": true,
      "include_colab_link": true
    },
    "kernelspec": {
      "name": "python3",
      "display_name": "Python 3"
    },
    "accelerator": "GPU"
  },
  "cells": [
    {
      "cell_type": "markdown",
      "metadata": {
        "id": "view-in-github",
        "colab_type": "text"
      },
      "source": [
        "<a href=\"https://colab.research.google.com/github/Redwoods/Py/blob/master/py-ml-dl-tf/Kaggle_API.ipynb\" target=\"_parent\"><img src=\"https://colab.research.google.com/assets/colab-badge.svg\" alt=\"Open In Colab\"/></a>"
      ]
    },
    {
      "metadata": {
        "id": "3G4Qz1_JjQiF",
        "colab_type": "text"
      },
      "cell_type": "markdown",
      "source": [
        "## Kaggle API\n",
        "\n",
        "> [kaggle-api](https://github.com/Kaggle/kaggle-api)"
      ]
    },
    {
      "metadata": {
        "id": "kKjAL-ofjQiJ",
        "colab_type": "text"
      },
      "cell_type": "markdown",
      "source": [
        "### Kaggle API credentials"
      ]
    },
    {
      "metadata": {
        "id": "GacRl8wqjQiL",
        "colab_type": "text"
      },
      "cell_type": "markdown",
      "source": [
        "To use the Kaggle API in Windows or Linux, \n",
        "1. sign up for a Kaggle account at https://www.kaggle.com. \n",
        "2. go to the 'My Account' tab of your user profile \n",
        "3. select 'Create (New) API Token'. \n",
        "4. download kaggle.json, a file containing your API credentials. \n",
        "5. Place this file in the location ~/.kaggle/kaggle.json (on Windows in the location \"C:\\Users\\Windows-username\\\\.kaggle\\kaggle.json\""
      ]
    },
    {
      "metadata": {
        "id": "OJKy40ztjQiN",
        "colab_type": "text"
      },
      "cell_type": "markdown",
      "source": [
        "## Using Kaggle API on Google colab\n",
        "\n",
        "1. Upload your 'kaggle.json' on Colab using 'File' tab.\n",
        "2. Move kaggle.json into the folder where the API expects to find it. \n",
        "\n",
        " > !mkdir -p ~/.kaggle/ && mv kaggle.json ~/.kaggle/ && chmod 600 ~/.kaggle/kaggle.json\n",
        " "
      ]
    },
    {
      "metadata": {
        "id": "V0AV8a85jnYk",
        "colab_type": "code",
        "colab": {}
      },
      "cell_type": "code",
      "source": [
        "!mkdir -p ~/.kaggle/ && mv kaggle.json ~/.kaggle/ && chmod 600 ~/.kaggle/kaggle.json"
      ],
      "execution_count": 0,
      "outputs": []
    },
    {
      "metadata": {
        "id": "QZ1wHuuSjQiQ",
        "colab_type": "code",
        "outputId": "3e41d2b6-96f1-48f8-c90c-af6db31086bc",
        "colab": {
          "base_uri": "https://localhost:8080/",
          "height": 210
        }
      },
      "cell_type": "code",
      "source": [
        "!pip install kaggle"
      ],
      "execution_count": 3,
      "outputs": [
        {
          "output_type": "stream",
          "text": [
            "Requirement already satisfied: kaggle in /usr/local/lib/python3.6/dist-packages (1.5.2)\n",
            "Requirement already satisfied: urllib3<1.23.0,>=1.15 in /usr/local/lib/python3.6/dist-packages (from kaggle) (1.22)\n",
            "Requirement already satisfied: six>=1.10 in /usr/local/lib/python3.6/dist-packages (from kaggle) (1.11.0)\n",
            "Requirement already satisfied: certifi in /usr/local/lib/python3.6/dist-packages (from kaggle) (2018.11.29)\n",
            "Requirement already satisfied: python-dateutil in /usr/local/lib/python3.6/dist-packages (from kaggle) (2.5.3)\n",
            "Requirement already satisfied: requests in /usr/local/lib/python3.6/dist-packages (from kaggle) (2.18.4)\n",
            "Requirement already satisfied: tqdm in /usr/local/lib/python3.6/dist-packages (from kaggle) (4.28.1)\n",
            "Requirement already satisfied: python-slugify in /usr/local/lib/python3.6/dist-packages (from kaggle) (2.0.1)\n",
            "Requirement already satisfied: idna<2.7,>=2.5 in /usr/local/lib/python3.6/dist-packages (from requests->kaggle) (2.6)\n",
            "Requirement already satisfied: chardet<3.1.0,>=3.0.2 in /usr/local/lib/python3.6/dist-packages (from requests->kaggle) (3.0.4)\n",
            "Requirement already satisfied: Unidecode>=0.04.16 in /usr/local/lib/python3.6/dist-packages (from python-slugify->kaggle) (1.0.23)\n"
          ],
          "name": "stdout"
        }
      ]
    },
    {
      "metadata": {
        "id": "Ckqcs4TDjQiY",
        "colab_type": "code",
        "outputId": "8af55149-5420-49cf-9aec-5b6e32739ae6",
        "colab": {
          "base_uri": "https://localhost:8080/",
          "height": 404
        }
      },
      "cell_type": "code",
      "source": [
        "!kaggle competitions list"
      ],
      "execution_count": 4,
      "outputs": [
        {
          "output_type": "stream",
          "text": [
            "ref                                            deadline             category            reward  teamCount  userHasEntered  \n",
            "---------------------------------------------  -------------------  ---------------  ---------  ---------  --------------  \n",
            "digit-recognizer                               2030-01-01 00:00:00  Getting Started  Knowledge       2589            True  \n",
            "titanic                                        2030-01-01 00:00:00  Getting Started  Knowledge      10043           False  \n",
            "house-prices-advanced-regression-techniques    2030-01-01 00:00:00  Getting Started  Knowledge       4097            True  \n",
            "imagenet-object-localization-challenge         2029-12-31 07:00:00  Research         Knowledge         33           False  \n",
            "competitive-data-science-predict-future-sales  2019-12-31 23:59:00  Playground           Kudos       2322           False  \n",
            "two-sigma-financial-news                       2019-07-15 23:59:00  Featured          $100,000       2895           False  \n",
            "LANL-Earthquake-Prediction                     2019-06-03 23:59:00  Research           $50,000       1107            True  \n",
            "tmdb-box-office-prediction                     2019-05-30 23:59:00  Playground       Knowledge        152           False  \n",
            "dont-overfit-ii                                2019-05-07 23:59:00  Playground            Swag        454           False  \n",
            "gendered-pronoun-resolution                    2019-04-22 23:59:00  Research           $25,000        164           False  \n",
            "santander-customer-transaction-prediction      2019-04-10 23:59:00  Featured           $65,000          7           False  \n",
            "histopathologic-cancer-detection               2019-03-30 23:59:00  Playground       Knowledge        609           False  \n",
            "petfinder-adoption-prediction                  2019-03-28 23:59:00  Featured           $25,000       1114           False  \n",
            "vsb-power-line-fault-detection                 2019-03-21 23:59:00  Featured           $25,000        891           False  \n",
            "microsoft-malware-prediction                   2019-03-13 23:59:00  Research           $25,000       1666           False  \n",
            "humpback-whale-identification                  2019-02-28 23:59:00  Featured           $25,000       1856           False  \n",
            "elo-merchant-category-recommendation           2019-02-26 23:59:00  Featured           $50,000       3826           False  \n",
            "ga-customer-revenue-prediction                 2019-02-15 23:59:00  Featured           $45,000       1104           False  \n",
            "quora-insincere-questions-classification       2019-02-13 23:09:00  Featured           $25,000       4037           False  \n",
            "reducing-commercial-aviation-fatalities        2019-02-12 23:59:00  Playground            Swag        180           False  \n"
          ],
          "name": "stdout"
        }
      ]
    },
    {
      "metadata": {
        "id": "rvpDA-D6jQif",
        "colab_type": "code",
        "outputId": "edc99f69-24fb-46cd-b804-1421fd74d7d5",
        "colab": {
          "base_uri": "https://localhost:8080/",
          "height": 228
        }
      },
      "cell_type": "code",
      "source": [
        "!kaggle competitions download house-prices-advanced-regression-techniques"
      ],
      "execution_count": 5,
      "outputs": [
        {
          "output_type": "stream",
          "text": [
            "Downloading sample_submission.csv to /content\n",
            "\r  0% 0.00/31.2k [00:00<?, ?B/s]\n",
            "100% 31.2k/31.2k [00:00<00:00, 12.2MB/s]\n",
            "Downloading test.csv to /content\n",
            "  0% 0.00/441k [00:00<?, ?B/s]\n",
            "100% 441k/441k [00:00<00:00, 60.7MB/s]\n",
            "Downloading train.csv to /content\n",
            "  0% 0.00/450k [00:00<?, ?B/s]\n",
            "100% 450k/450k [00:00<00:00, 61.8MB/s]\n",
            "Downloading data_description.txt to /content\n",
            "  0% 0.00/13.1k [00:00<?, ?B/s]\n",
            "100% 13.1k/13.1k [00:00<00:00, 11.4MB/s]\n"
          ],
          "name": "stdout"
        }
      ]
    },
    {
      "metadata": {
        "id": "8YWsEKIWjQim",
        "colab_type": "code",
        "outputId": "df84ef22-2175-4a78-ac3f-6937cf5b1536",
        "colab": {
          "base_uri": "https://localhost:8080/",
          "height": 175
        }
      },
      "cell_type": "code",
      "source": [
        "# Download LANL-Earthquake-Prediction\n",
        "!kaggle competitions download LANL-Earthquake-Prediction\n",
        "# !unzip train.csv.zip\n",
        "!ls"
      ],
      "execution_count": 6,
      "outputs": [
        {
          "output_type": "stream",
          "text": [
            "sample_submission.csv: Skipping, found more recently modified local copy (use --force to force download)\n",
            "Downloading test.zip to /content\n",
            "100% 241M/242M [00:04<00:00, 68.8MB/s]\n",
            "100% 242M/242M [00:04<00:00, 56.1MB/s]\n",
            "Downloading train.csv.zip to /content\n",
            "100% 2.02G/2.03G [00:35<00:00, 56.1MB/s]\n",
            "100% 2.03G/2.03G [00:35<00:00, 61.9MB/s]\n",
            "data_description.txt  sample_submission.csv  test.zip\ttrain.csv.zip\n",
            "sample_data\t      test.csv\t\t     train.csv\n"
          ],
          "name": "stdout"
        }
      ]
    },
    {
      "metadata": {
        "id": "6JMegTkUqTEa",
        "colab_type": "code",
        "colab": {}
      },
      "cell_type": "code",
      "source": [
        "### Plot timeseries of earthquake\n",
        "# #Extract training data into a dataframe for further manipulation\n",
        "# train_df = pd.read_csv('train.csv', nrows=6000000, dtype={'acoustic_data': np.int16, 'time_to_failure': np.float64})\n",
        "# train_df.head(10)\n",
        "# #visualize 1% of samples data, every 100 datapoints\n",
        "# train_ad_sample_df = train_df['acoustic_data'].values[::100]\n",
        "# train_ttf_sample_df = train_df['time_to_failure'].values[::100]\n",
        "\n",
        "# #function for plotting based on both features\n",
        "# def plot_acc_ttf_data(train_ad_sample_df, train_ttf_sample_df, title=\"Acoustic data and time to failure: 1% sampled data\"):\n",
        "#     fig, ax1 = plt.subplots(figsize=(12, 8))\n",
        "#     plt.title(title)\n",
        "#     plt.plot(train_ad_sample_df, color='r')\n",
        "#     ax1.set_ylabel('acoustic data', color='r')\n",
        "#     plt.legend(['acoustic data'], loc=(0.01, 0.95))\n",
        "#     ax2 = ax1.twinx()\n",
        "#     plt.plot(train_ttf_sample_df, color='b')\n",
        "#     ax2.set_ylabel('time to failure', color='b')\n",
        "#     plt.legend(['time to failure'], loc=(0.01, 0.9))\n",
        "#     plt.grid(True)\n",
        "\n",
        "# plot_acc_ttf_data(train_ad_sample_df, train_ttf_sample_df)\n",
        "# del train_ad_sample_df\n",
        "# del train_ttf_sample_df"
      ],
      "execution_count": 0,
      "outputs": []
    },
    {
      "metadata": {
        "id": "EbC_OVbXkNtq",
        "colab_type": "code",
        "outputId": "1a6e7a71-149c-4330-b360-e8bc46e40923",
        "colab": {
          "base_uri": "https://localhost:8080/",
          "height": 424
        }
      },
      "cell_type": "code",
      "source": [
        "!kaggle datasets list"
      ],
      "execution_count": 8,
      "outputs": [
        {
          "output_type": "stream",
          "text": [
            "ref                                                          title                                                size  lastUpdated          downloadCount  \n",
            "-----------------------------------------------------------  --------------------------------------------------  -----  -------------------  -------------  \n",
            "ronitf/heart-disease-uci                                     Heart Disease UCI                                     3KB  2018-06-25 11:33:56           5937  \n",
            "jessicali9530/stanford-dogs-dataset                          Stanford Dogs Dataset                               735MB  2019-02-13 05:45:25             10  \n",
            "russellyates88/suicide-rates-overview-1985-to-2016           Suicide Rates Overview 1985 to 2016                 396KB  2018-12-01 19:18:25           4355  \n",
            "karangadiya/fifa19                                           FIFA 19 complete player dataset                       2MB  2018-12-21 03:52:59           7763  \n",
            "iarunava/cell-images-for-detecting-malaria                   Malaria Cell Images Dataset                         337MB  2018-12-05 05:40:21           1336  \n",
            "timoboz/stock-data-dow-jones                                 EOD data for all Dow Jones stocks                     2MB  2019-02-13 21:53:40           1207  \n",
            "mohansacharya/graduate-admissions                            Graduate Admissions                                   9KB  2018-12-28 10:07:14           9117  \n",
            "cityofLA/los-angeles-parking-citations                       Los Angeles Parking Citations                       245MB  2019-02-13 22:18:01           1600  \n",
            "lava18/google-play-store-apps                                Google Play Store Apps                                2MB  2019-02-03 13:55:47          36091  \n",
            "vjchoudhary7/customer-segmentation-tutorial-in-python        Mall Customer Segmentation Data                       2KB  2018-08-11 07:23:02           2089  \n",
            "rmisra/news-headlines-dataset-for-sarcasm-detection          News Headlines Dataset For Sarcasm Detection          2MB  2018-06-09 22:14:56           1055  \n",
            "bigquery/crypto-ethereum-classic                             Ethereum Classic Blockchain                          66GB  2019-02-05 17:41:48              0  \n",
            "pavansanagapati/urban-sound-classification                   Urban Sound Classification                            6GB  2018-06-16 13:44:36           1350  \n",
            "safegraph/census-block-group-american-community-survey-data  Census Block Group American Community Survey Data     2GB  2018-12-22 00:29:56            273  \n",
            "mdhrumil/top-5000-youtube-channels-data-from-socialblade     Top 5000 Youtube channels data from Socialblade.    128KB  2018-09-09 14:05:54           2468  \n",
            "anokas/kuzushiji                                             Kuzushiji-MNIST                                     318MB  2018-12-17 01:19:31            354  \n",
            "noriuk/us-education-datasets-unification-project             U.S. Education Datasets: Unification Project         84MB  2018-12-22 17:09:05           1051  \n",
            "safegraph/visit-patterns-by-census-block-group               Consumer & Visitor Insights For Neighborhoods        66MB  2018-12-19 21:31:50            400  \n",
            "jessicali9530/celeba-dataset                                 CelebFaces Attributes (CelebA) Dataset                1GB  2018-06-01 20:08:48           3946  \n",
            "jutrera/stanford-car-dataset-by-classes-folder               Stanford Car Dataset by classes folder                2GB  2018-07-02 07:35:45           1617  \n"
          ],
          "name": "stdout"
        }
      ]
    },
    {
      "metadata": {
        "id": "2DeZJwv8jQis",
        "colab_type": "code",
        "outputId": "12d086e1-1fac-40ff-f034-ff335878137d",
        "colab": {
          "base_uri": "https://localhost:8080/",
          "height": 70
        }
      },
      "cell_type": "code",
      "source": [
        "!kaggle datasets download karangadiya/fifa19"
      ],
      "execution_count": 9,
      "outputs": [
        {
          "output_type": "stream",
          "text": [
            "Downloading fifa19.zip to /content\n",
            "\r  0% 0.00/2.08M [00:00<?, ?B/s]\n",
            "\r100% 2.08M/2.08M [00:00<00:00, 69.2MB/s]\n"
          ],
          "name": "stdout"
        }
      ]
    },
    {
      "metadata": {
        "id": "v681avxMlg16",
        "colab_type": "code",
        "outputId": "ec3d6f93-cbf2-4a45-fb55-2f0b4fd1a5b7",
        "colab": {
          "base_uri": "https://localhost:8080/",
          "height": 404
        }
      },
      "cell_type": "code",
      "source": [
        "!kaggle kernels list -s titanic"
      ],
      "execution_count": 10,
      "outputs": [
        {
          "output_type": "stream",
          "text": [
            "ref                                              title                                   author                   lastRunTime          totalVotes  \n",
            "-----------------------------------------------  --------------------------------------  -----------------------  -------------------  ----------  \n",
            "michielkalkman/kaggle-titanic-001                kaggle-titanic-001                      Michiel Kalkman          2015-10-27 14:27:06          42  \n",
            "zikazika/understandable-titanic-challenge        Understandable titanic challenge.       Noah Weber               2019-02-13 03:42:18          40  \n",
            "anaskad/step-by-step-solving-titanic-problem     Step by step solving titanic problem    Kad                      2018-02-23 10:14:46          39  \n",
            "shivam001/titanic-py                             titanic.py                              Shivam Kumar             2018-10-06 10:14:39           6  \n",
            "peopletrees/stan-on-the-titanic                  Stan on the titanic                     Peter Phalen             2018-06-01 19:58:03           8  \n",
            "utsavpatel/titanic                               titanic                                 Utsav Patel              2017-03-17 20:04:36           5  \n",
            "mohitm96/titanic                                 titanic                                 Mohit Musaadi            2018-11-09 12:47:45           4  \n",
            "hyzhak/titanic-for-beginners                     titanic-for-beginners                   Eugene Krevenets         2017-11-27 11:28:14           8  \n",
            "joedumoulin/joe-titanic                          joe titanic                             Joe Dumoulin             2019-01-17 08:41:10           4  \n",
            "zbasper/test-for-titanic                         test for titanic                        asper                    2017-10-14 14:50:58           5  \n",
            "youhanlee/my-titanic-tutorial                    my_titanic_tutorial                     YouHan Lee               2018-06-19 13:28:59           6  \n",
            "arshadgeek/titanic-py                            titanic.py                              Arshadgeek               2018-11-16 12:20:17           3  \n",
            "sandeep8530/titanic-v01                          titanic_v01                             sandeep                  2017-02-26 18:55:47           3  \n",
            "nitikakamboj/titanic-comp                        titanic comp                            Nitika Kamboj            2018-07-20 08:49:05           3  \n",
            "ampretuzo/dumb-titanic                           dumb titanic                            Ampretuzo                2018-08-12 10:06:32           3  \n",
            "architdxb/titanic-3                              titanic_3                               Archit Singh             2017-05-16 07:21:29           2  \n",
            "sonujha090/titanic-rfc                           titanic-rfc                             Sonu Jha                 2019-01-24 06:28:12           2  \n",
            "arshadgeek/titanic2-py                           titanic2.py                             Arshadgeek               2018-12-15 09:37:35           2  \n",
            "fhlgood/glm-titanic                              glm titanic                             HaoleiFang               2016-02-25 05:43:10           2  \n",
            "monthepp/titanic-machine-learning-from-disaster  titanic_machine_learning_from_disaster  Monthep Parimontonsakul  2018-12-30 10:07:00           7  \n"
          ],
          "name": "stdout"
        }
      ]
    },
    {
      "metadata": {
        "id": "3_rxRnobmGvq",
        "colab_type": "code",
        "colab": {}
      },
      "cell_type": "code",
      "source": [
        ""
      ],
      "execution_count": 0,
      "outputs": []
    }
  ]
}