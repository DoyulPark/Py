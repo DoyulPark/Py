{
 "cells": [
  {
   "cell_type": "markdown",
   "metadata": {},
   "source": [
    "This notebook goes along with the Deep Learning using Keras tutorial on Medium.\n",
    "\n",
    "- [Keras tutorial: classification](https://towardsdatascience.com/building-a-deep-learning-model-using-keras-1548ca149d37)"
   ]
  },
  {
   "cell_type": "code",
   "execution_count": 78,
   "metadata": {},
   "outputs": [],
   "source": [
    "import pandas as pd\n",
    "import numpy as np\n",
    "from keras.models import Sequential\n",
    "from keras.layers import Dense\n",
    "from keras.callbacks import EarlyStopping\n",
    "from keras.utils import to_categorical"
   ]
  },
  {
   "cell_type": "markdown",
   "metadata": {},
   "source": [
    "### In this model, we are going to predict if patients have diabetes or not."
   ]
  },
  {
   "cell_type": "code",
   "execution_count": 102,
   "metadata": {},
   "outputs": [
    {
     "data": {
      "text/html": [
       "<div>\n",
       "<style scoped>\n",
       "    .dataframe tbody tr th:only-of-type {\n",
       "        vertical-align: middle;\n",
       "    }\n",
       "\n",
       "    .dataframe tbody tr th {\n",
       "        vertical-align: top;\n",
       "    }\n",
       "\n",
       "    .dataframe thead th {\n",
       "        text-align: right;\n",
       "    }\n",
       "</style>\n",
       "<table border=\"1\" class=\"dataframe\">\n",
       "  <thead>\n",
       "    <tr style=\"text-align: right;\">\n",
       "      <th></th>\n",
       "      <th>pregnancies</th>\n",
       "      <th>glucose</th>\n",
       "      <th>diastolic</th>\n",
       "      <th>triceps</th>\n",
       "      <th>insulin</th>\n",
       "      <th>bmi</th>\n",
       "      <th>dpf</th>\n",
       "      <th>age</th>\n",
       "      <th>diabetes</th>\n",
       "    </tr>\n",
       "  </thead>\n",
       "  <tbody>\n",
       "    <tr>\n",
       "      <th>0</th>\n",
       "      <td>6</td>\n",
       "      <td>148</td>\n",
       "      <td>72</td>\n",
       "      <td>35</td>\n",
       "      <td>0</td>\n",
       "      <td>33.6</td>\n",
       "      <td>0.627</td>\n",
       "      <td>50</td>\n",
       "      <td>1</td>\n",
       "    </tr>\n",
       "    <tr>\n",
       "      <th>1</th>\n",
       "      <td>1</td>\n",
       "      <td>85</td>\n",
       "      <td>66</td>\n",
       "      <td>29</td>\n",
       "      <td>0</td>\n",
       "      <td>26.6</td>\n",
       "      <td>0.351</td>\n",
       "      <td>31</td>\n",
       "      <td>0</td>\n",
       "    </tr>\n",
       "    <tr>\n",
       "      <th>2</th>\n",
       "      <td>8</td>\n",
       "      <td>183</td>\n",
       "      <td>64</td>\n",
       "      <td>0</td>\n",
       "      <td>0</td>\n",
       "      <td>23.3</td>\n",
       "      <td>0.672</td>\n",
       "      <td>32</td>\n",
       "      <td>1</td>\n",
       "    </tr>\n",
       "    <tr>\n",
       "      <th>3</th>\n",
       "      <td>1</td>\n",
       "      <td>89</td>\n",
       "      <td>66</td>\n",
       "      <td>23</td>\n",
       "      <td>94</td>\n",
       "      <td>28.1</td>\n",
       "      <td>0.167</td>\n",
       "      <td>21</td>\n",
       "      <td>0</td>\n",
       "    </tr>\n",
       "    <tr>\n",
       "      <th>4</th>\n",
       "      <td>0</td>\n",
       "      <td>137</td>\n",
       "      <td>40</td>\n",
       "      <td>35</td>\n",
       "      <td>168</td>\n",
       "      <td>43.1</td>\n",
       "      <td>2.288</td>\n",
       "      <td>33</td>\n",
       "      <td>1</td>\n",
       "    </tr>\n",
       "  </tbody>\n",
       "</table>\n",
       "</div>"
      ],
      "text/plain": [
       "   pregnancies  glucose  diastolic  triceps  insulin   bmi    dpf  age  \\\n",
       "0            6      148         72       35        0  33.6  0.627   50   \n",
       "1            1       85         66       29        0  26.6  0.351   31   \n",
       "2            8      183         64        0        0  23.3  0.672   32   \n",
       "3            1       89         66       23       94  28.1  0.167   21   \n",
       "4            0      137         40       35      168  43.1  2.288   33   \n",
       "\n",
       "   diabetes  \n",
       "0         1  \n",
       "1         0  \n",
       "2         1  \n",
       "3         0  \n",
       "4         1  "
      ]
     },
     "execution_count": 102,
     "metadata": {},
     "output_type": "execute_result"
    }
   ],
   "source": [
    "# read in training data\n",
    "diabetes_df = pd.read_csv('diabetes_data.csv')\n",
    "\n",
    "# view data structure\n",
    "diabetes_df.head()"
   ]
  },
  {
   "cell_type": "code",
   "execution_count": 105,
   "metadata": {},
   "outputs": [
    {
     "data": {
      "text/html": [
       "<div>\n",
       "<style scoped>\n",
       "    .dataframe tbody tr th:only-of-type {\n",
       "        vertical-align: middle;\n",
       "    }\n",
       "\n",
       "    .dataframe tbody tr th {\n",
       "        vertical-align: top;\n",
       "    }\n",
       "\n",
       "    .dataframe thead th {\n",
       "        text-align: right;\n",
       "    }\n",
       "</style>\n",
       "<table border=\"1\" class=\"dataframe\">\n",
       "  <thead>\n",
       "    <tr style=\"text-align: right;\">\n",
       "      <th></th>\n",
       "      <th>pregnancies</th>\n",
       "      <th>glucose</th>\n",
       "      <th>diastolic</th>\n",
       "      <th>triceps</th>\n",
       "      <th>insulin</th>\n",
       "      <th>bmi</th>\n",
       "      <th>dpf</th>\n",
       "      <th>age</th>\n",
       "    </tr>\n",
       "  </thead>\n",
       "  <tbody>\n",
       "    <tr>\n",
       "      <th>0</th>\n",
       "      <td>6</td>\n",
       "      <td>148</td>\n",
       "      <td>72</td>\n",
       "      <td>35</td>\n",
       "      <td>0</td>\n",
       "      <td>33.6</td>\n",
       "      <td>0.627</td>\n",
       "      <td>50</td>\n",
       "    </tr>\n",
       "    <tr>\n",
       "      <th>1</th>\n",
       "      <td>1</td>\n",
       "      <td>85</td>\n",
       "      <td>66</td>\n",
       "      <td>29</td>\n",
       "      <td>0</td>\n",
       "      <td>26.6</td>\n",
       "      <td>0.351</td>\n",
       "      <td>31</td>\n",
       "    </tr>\n",
       "    <tr>\n",
       "      <th>2</th>\n",
       "      <td>8</td>\n",
       "      <td>183</td>\n",
       "      <td>64</td>\n",
       "      <td>0</td>\n",
       "      <td>0</td>\n",
       "      <td>23.3</td>\n",
       "      <td>0.672</td>\n",
       "      <td>32</td>\n",
       "    </tr>\n",
       "    <tr>\n",
       "      <th>3</th>\n",
       "      <td>1</td>\n",
       "      <td>89</td>\n",
       "      <td>66</td>\n",
       "      <td>23</td>\n",
       "      <td>94</td>\n",
       "      <td>28.1</td>\n",
       "      <td>0.167</td>\n",
       "      <td>21</td>\n",
       "    </tr>\n",
       "    <tr>\n",
       "      <th>4</th>\n",
       "      <td>0</td>\n",
       "      <td>137</td>\n",
       "      <td>40</td>\n",
       "      <td>35</td>\n",
       "      <td>168</td>\n",
       "      <td>43.1</td>\n",
       "      <td>2.288</td>\n",
       "      <td>33</td>\n",
       "    </tr>\n",
       "  </tbody>\n",
       "</table>\n",
       "</div>"
      ],
      "text/plain": [
       "   pregnancies  glucose  diastolic  triceps  insulin   bmi    dpf  age\n",
       "0            6      148         72       35        0  33.6  0.627   50\n",
       "1            1       85         66       29        0  26.6  0.351   31\n",
       "2            8      183         64        0        0  23.3  0.672   32\n",
       "3            1       89         66       23       94  28.1  0.167   21\n",
       "4            0      137         40       35      168  43.1  2.288   33"
      ]
     },
     "execution_count": 105,
     "metadata": {},
     "output_type": "execute_result"
    }
   ],
   "source": [
    "# create a dataframe with all training data except the target column\n",
    "data_X = diabetes_df.drop(columns=['diabetes'])\n",
    "\n",
    "# check that the target variable has been removed\n",
    "data_X.head()"
   ]
  },
  {
   "cell_type": "code",
   "execution_count": 108,
   "metadata": {},
   "outputs": [
    {
     "data": {
      "text/plain": [
       "(0    1\n",
       " 1    0\n",
       " 2    1\n",
       " 3    0\n",
       " 4    1\n",
       " Name: diabetes, dtype: int64, array([[0., 1.],\n",
       "        [1., 0.],\n",
       "        [0., 1.],\n",
       "        [1., 0.],\n",
       "        [0., 1.]], dtype=float32))"
      ]
     },
     "execution_count": 108,
     "metadata": {},
     "output_type": "execute_result"
    }
   ],
   "source": [
    "# one-hot encode target column\n",
    "data_y = to_categorical(diabetes_df.diabetes)\n",
    "\n",
    "# check that target column has been converted\n",
    "diabetes_df.diabetes[:5],data_y[:5]"
   ]
  },
  {
   "cell_type": "markdown",
   "metadata": {},
   "source": [
    "### Simple model"
   ]
  },
  {
   "cell_type": "code",
   "execution_count": 109,
   "metadata": {},
   "outputs": [],
   "source": [
    "# create simple model\n",
    "model_s = Sequential()  # simple model\n",
    "\n",
    "#get number of columns in training data\n",
    "n_cols = data_X.shape[1]\n",
    "\n",
    "#add layers to model\n",
    "model_s.add(Dense(10, activation='relu', input_shape=(n_cols,)))\n",
    "model_s.add(Dense(10, activation='relu'))\n",
    "model_s.add(Dense(2, activation='softmax'))"
   ]
  },
  {
   "cell_type": "code",
   "execution_count": 114,
   "metadata": {},
   "outputs": [],
   "source": [
    "# compile model using accuracy to measure model performance\n",
    "model_s.compile(optimizer='adam', loss='categorical_crossentropy', metrics=['accuracy'])\n",
    "\n",
    "# set early stopping monitor so the model stops training when it won't improve anymore\n",
    "early_stopping_monitor = EarlyStopping(patience=3)"
   ]
  },
  {
   "cell_type": "code",
   "execution_count": 111,
   "metadata": {},
   "outputs": [
    {
     "name": "stdout",
     "output_type": "stream",
     "text": [
      "_________________________________________________________________\n",
      "Layer (type)                 Output Shape              Param #   \n",
      "=================================================================\n",
      "dense_60 (Dense)             (None, 10)                90        \n",
      "_________________________________________________________________\n",
      "dense_61 (Dense)             (None, 10)                110       \n",
      "_________________________________________________________________\n",
      "dense_62 (Dense)             (None, 2)                 22        \n",
      "=================================================================\n",
      "Total params: 222\n",
      "Trainable params: 222\n",
      "Non-trainable params: 0\n",
      "_________________________________________________________________\n"
     ]
    }
   ],
   "source": [
    "model_s.summary()"
   ]
  },
  {
   "cell_type": "code",
   "execution_count": 115,
   "metadata": {},
   "outputs": [
    {
     "name": "stdout",
     "output_type": "stream",
     "text": [
      "Train on 614 samples, validate on 154 samples\n",
      "Epoch 1/30\n",
      "614/614 [==============================] - 1s 876us/step - loss: 5.5915 - acc: 0.6531 - val_loss: 5.7565 - val_acc: 0.6429\n",
      "Epoch 2/30\n",
      "614/614 [==============================] - 0s 42us/step - loss: 5.5915 - acc: 0.6531 - val_loss: 5.7565 - val_acc: 0.6429\n",
      "Epoch 3/30\n",
      "614/614 [==============================] - 0s 41us/step - loss: 5.5915 - acc: 0.6531 - val_loss: 5.7565 - val_acc: 0.6429\n",
      "Epoch 4/30\n",
      "614/614 [==============================] - 0s 41us/step - loss: 5.5915 - acc: 0.6531 - val_loss: 5.7565 - val_acc: 0.6429\n"
     ]
    },
    {
     "data": {
      "text/plain": [
       "<keras.callbacks.History at 0x1c9ae4ad160>"
      ]
     },
     "execution_count": 115,
     "metadata": {},
     "output_type": "execute_result"
    }
   ],
   "source": [
    "# train model with all data\n",
    "model_s.fit(data_X, data_y, epochs=30, validation_split=0.2, callbacks=[early_stopping_monitor])"
   ]
  },
  {
   "cell_type": "markdown",
   "metadata": {},
   "source": [
    "### Increase model capacity"
   ]
  },
  {
   "cell_type": "code",
   "execution_count": 120,
   "metadata": {},
   "outputs": [],
   "source": [
    "#create model\n",
    "model_b = Sequential()\n",
    "\n",
    "#get number of columns in training data\n",
    "n_cols = data_X.shape[1]\n",
    "\n",
    "#add layers to model\n",
    "model_b.add(Dense(250, activation='relu', input_shape=(n_cols,)))\n",
    "model_b.add(Dense(100, activation='relu'))\n",
    "model_b.add(Dense(25, activation='relu'))\n",
    "model_b.add(Dense(2, activation='softmax'))"
   ]
  },
  {
   "cell_type": "code",
   "execution_count": 121,
   "metadata": {},
   "outputs": [
    {
     "name": "stdout",
     "output_type": "stream",
     "text": [
      "_________________________________________________________________\n",
      "Layer (type)                 Output Shape              Param #   \n",
      "=================================================================\n",
      "dense_49 (Dense)             (None, 250)               2250      \n",
      "_________________________________________________________________\n",
      "dense_50 (Dense)             (None, 250)               62750     \n",
      "_________________________________________________________________\n",
      "dense_51 (Dense)             (None, 25)                6275      \n",
      "_________________________________________________________________\n",
      "dense_52 (Dense)             (None, 2)                 52        \n",
      "=================================================================\n",
      "Total params: 71,327\n",
      "Trainable params: 71,327\n",
      "Non-trainable params: 0\n",
      "_________________________________________________________________\n"
     ]
    }
   ],
   "source": [
    "model_big.summary()"
   ]
  },
  {
   "cell_type": "code",
   "execution_count": 122,
   "metadata": {},
   "outputs": [],
   "source": [
    "# compile model using accuracy to measure model performance\n",
    "model_b.compile(optimizer='adam', loss='categorical_crossentropy', metrics=['accuracy'])\n",
    "# set early stopping monitor so the model stops training when it won't improve anymore\n",
    "early_stopping_monitor = EarlyStopping(patience=3)"
   ]
  },
  {
   "cell_type": "code",
   "execution_count": 123,
   "metadata": {},
   "outputs": [
    {
     "name": "stdout",
     "output_type": "stream",
     "text": [
      "Train on 614 samples, validate on 154 samples\n",
      "Epoch 1/30\n",
      "614/614 [==============================] - 1s 1ms/step - loss: 3.7034 - acc: 0.5212 - val_loss: 1.2911 - val_acc: 0.6039\n",
      "Epoch 2/30\n",
      "614/614 [==============================] - 0s 57us/step - loss: 1.1180 - acc: 0.6238 - val_loss: 1.3614 - val_acc: 0.6494\n",
      "Epoch 3/30\n",
      "614/614 [==============================] - 0s 57us/step - loss: 1.0136 - acc: 0.6189 - val_loss: 0.8876 - val_acc: 0.6558\n",
      "Epoch 4/30\n",
      "614/614 [==============================] - 0s 55us/step - loss: 0.6886 - acc: 0.6694 - val_loss: 0.8402 - val_acc: 0.5844\n",
      "Epoch 5/30\n",
      "614/614 [==============================] - 0s 57us/step - loss: 0.9945 - acc: 0.6384 - val_loss: 0.7243 - val_acc: 0.6234\n",
      "Epoch 6/30\n",
      "614/614 [==============================] - 0s 54us/step - loss: 0.7157 - acc: 0.6368 - val_loss: 0.8783 - val_acc: 0.6364\n",
      "Epoch 7/30\n",
      "614/614 [==============================] - 0s 55us/step - loss: 0.8013 - acc: 0.6564 - val_loss: 0.7063 - val_acc: 0.6753\n",
      "Epoch 8/30\n",
      "614/614 [==============================] - 0s 55us/step - loss: 1.0165 - acc: 0.6938 - val_loss: 0.6785 - val_acc: 0.6494\n",
      "Epoch 9/30\n",
      "614/614 [==============================] - 0s 57us/step - loss: 0.7459 - acc: 0.6726 - val_loss: 0.8182 - val_acc: 0.5260\n",
      "Epoch 10/30\n",
      "614/614 [==============================] - 0s 55us/step - loss: 0.7252 - acc: 0.6564 - val_loss: 0.6715 - val_acc: 0.6104\n",
      "Epoch 11/30\n",
      "614/614 [==============================] - 0s 57us/step - loss: 0.6231 - acc: 0.7117 - val_loss: 0.7080 - val_acc: 0.6104\n",
      "Epoch 12/30\n",
      "614/614 [==============================] - 0s 57us/step - loss: 0.6307 - acc: 0.6840 - val_loss: 0.7274 - val_acc: 0.6234\n",
      "Epoch 13/30\n",
      "614/614 [==============================] - 0s 55us/step - loss: 0.7689 - acc: 0.6808 - val_loss: 0.6790 - val_acc: 0.5909\n"
     ]
    },
    {
     "data": {
      "text/plain": [
       "<keras.callbacks.History at 0x1c9b040c2e8>"
      ]
     },
     "execution_count": 123,
     "metadata": {},
     "output_type": "execute_result"
    }
   ],
   "source": [
    "# fit model\n",
    "model_b.fit(data_X, data_y, epochs=30, validation_split=0.2, callbacks=[early_stopping_monitor])"
   ]
  },
  {
   "cell_type": "markdown",
   "metadata": {},
   "source": [
    "### Test of model_s and model_big\n",
    "\n",
    "> Split dataframe into the train and test set"
   ]
  },
  {
   "cell_type": "code",
   "execution_count": 124,
   "metadata": {},
   "outputs": [],
   "source": [
    "from sklearn.model_selection import train_test_split"
   ]
  },
  {
   "cell_type": "code",
   "execution_count": 126,
   "metadata": {},
   "outputs": [],
   "source": [
    "X_train, X_test, y_train, y_test = train_test_split(data_X, data_y, test_size=0.25, random_state=42)"
   ]
  },
  {
   "cell_type": "code",
   "execution_count": 127,
   "metadata": {},
   "outputs": [
    {
     "data": {
      "text/plain": [
       "((576, 8), (192, 8), (576, 2), (192, 2))"
      ]
     },
     "execution_count": 127,
     "metadata": {},
     "output_type": "execute_result"
    }
   ],
   "source": [
    "X_train.shape, X_test.shape, y_train.shape, y_test.shape"
   ]
  },
  {
   "cell_type": "markdown",
   "metadata": {},
   "source": [
    "### small model: model_s1"
   ]
  },
  {
   "cell_type": "code",
   "execution_count": 128,
   "metadata": {},
   "outputs": [],
   "source": [
    "# create simple model\n",
    "model_s1 = Sequential()  # simple model\n",
    "\n",
    "#get number of columns in training data\n",
    "n_cols = X_train.shape[1]\n",
    "\n",
    "#add layers to model\n",
    "model_s1.add(Dense(10, activation='relu', input_shape=(n_cols,)))\n",
    "model_s1.add(Dense(10, activation='relu'))\n",
    "model_s1.add(Dense(2, activation='softmax'))"
   ]
  },
  {
   "cell_type": "code",
   "execution_count": 129,
   "metadata": {},
   "outputs": [],
   "source": [
    "# compile model using accuracy to measure model performance\n",
    "model_s1.compile(optimizer='adam', loss='categorical_crossentropy', metrics=['accuracy'])\n",
    "\n",
    "# set early stopping monitor so the model stops training when it won't improve anymore\n",
    "early_stopping_monitor = EarlyStopping(patience=3)"
   ]
  },
  {
   "cell_type": "code",
   "execution_count": 130,
   "metadata": {},
   "outputs": [
    {
     "name": "stdout",
     "output_type": "stream",
     "text": [
      "Train on 576 samples, validate on 192 samples\n",
      "Epoch 1/30\n",
      "576/576 [==============================] - 1s 1ms/step - loss: 1.2044 - acc: 0.6510 - val_loss: 1.2885 - val_acc: 0.6250\n",
      "Epoch 2/30\n",
      "576/576 [==============================] - 0s 42us/step - loss: 1.1040 - acc: 0.6528 - val_loss: 1.2297 - val_acc: 0.6302\n",
      "Epoch 3/30\n",
      "576/576 [==============================] - 0s 43us/step - loss: 1.0636 - acc: 0.6510 - val_loss: 1.1749 - val_acc: 0.6458\n",
      "Epoch 4/30\n",
      "576/576 [==============================] - 0s 42us/step - loss: 1.0248 - acc: 0.6562 - val_loss: 1.0709 - val_acc: 0.6562\n",
      "Epoch 5/30\n",
      "576/576 [==============================] - 0s 43us/step - loss: 0.9724 - acc: 0.6615 - val_loss: 1.0307 - val_acc: 0.6562\n",
      "Epoch 6/30\n",
      "576/576 [==============================] - 0s 42us/step - loss: 0.9464 - acc: 0.6719 - val_loss: 0.9777 - val_acc: 0.6823\n",
      "Epoch 7/30\n",
      "576/576 [==============================] - 0s 43us/step - loss: 0.9193 - acc: 0.6597 - val_loss: 0.9455 - val_acc: 0.6875\n",
      "Epoch 8/30\n",
      "576/576 [==============================] - 0s 42us/step - loss: 0.8976 - acc: 0.6528 - val_loss: 0.8499 - val_acc: 0.6771\n",
      "Epoch 9/30\n",
      "576/576 [==============================] - 0s 43us/step - loss: 0.9073 - acc: 0.6528 - val_loss: 0.7545 - val_acc: 0.6667\n",
      "Epoch 10/30\n",
      "576/576 [==============================] - 0s 43us/step - loss: 0.7950 - acc: 0.6649 - val_loss: 0.7238 - val_acc: 0.6562\n",
      "Epoch 11/30\n",
      "576/576 [==============================] - 0s 42us/step - loss: 0.7661 - acc: 0.6719 - val_loss: 0.6898 - val_acc: 0.7031\n",
      "Epoch 12/30\n",
      "576/576 [==============================] - 0s 43us/step - loss: 0.7288 - acc: 0.6736 - val_loss: 0.7283 - val_acc: 0.6719\n",
      "Epoch 13/30\n",
      "576/576 [==============================] - 0s 43us/step - loss: 0.7101 - acc: 0.6719 - val_loss: 0.6976 - val_acc: 0.6667\n",
      "Epoch 14/30\n",
      "576/576 [==============================] - 0s 42us/step - loss: 0.6869 - acc: 0.6719 - val_loss: 0.7159 - val_acc: 0.6771\n"
     ]
    }
   ],
   "source": [
    "# train model\n",
    "hist = model_s1.fit(X_train, y_train, epochs=30, validation_data=(X_test, y_test), callbacks=[early_stopping_monitor])  # validation_split=0.2"
   ]
  },
  {
   "cell_type": "code",
   "execution_count": 131,
   "metadata": {},
   "outputs": [],
   "source": [
    "import matplotlib.pyplot as plt\n",
    "import matplotlib as mpl\n",
    "%matplotlib inline"
   ]
  },
  {
   "cell_type": "code",
   "execution_count": 132,
   "metadata": {},
   "outputs": [
    {
     "data": {
      "image/png": "[encoded data removed]",
      "text/plain": [
       "<Figure size 432x288 with 1 Axes>"
      ]
     },
     "metadata": {
      "needs_background": "light"
     },
     "output_type": "display_data"
    }
   ],
   "source": [
    "# Plot performance\n",
    "plt.plot(hist.history['loss'])\n",
    "plt.show()"
   ]
  },
  {
   "cell_type": "code",
   "execution_count": 133,
   "metadata": {},
   "outputs": [
    {
     "data": {
      "image/png": "[encoded data removed]",
      "text/plain": [
       "<Figure size 432x288 with 1 Axes>"
      ]
     },
     "metadata": {
      "needs_background": "light"
     },
     "output_type": "display_data"
    }
   ],
   "source": [
    "plt.plot(hist.history['acc'], 'b-', label=\"training\")\n",
    "plt.plot(hist.history['val_acc'], 'r:', label=\"test\")\n",
    "plt.legend()\n",
    "plt.show()"
   ]
  },
  {
   "cell_type": "code",
   "execution_count": 134,
   "metadata": {},
   "outputs": [
    {
     "name": "stdout",
     "output_type": "stream",
     "text": [
      "192/192 [==============================] - 0s 1ms/step\n"
     ]
    }
   ],
   "source": [
    "# 전체 테스트 데이터에 대한 예측\n",
    "x_pred = model_s1.predict_classes(X_test, verbose=1)"
   ]
  },
  {
   "cell_type": "code",
   "execution_count": 135,
   "metadata": {},
   "outputs": [
    {
     "data": {
      "text/plain": [
       "(array([0, 0, 0, 0, 0, 0, 0, 0, 0, 0, 0, 0, 1, 0, 0, 1, 0, 0, 0, 0, 0, 0,\n",
       "        0, 0, 0, 0, 0, 0, 0, 0, 1, 0, 1, 0, 0, 0, 1, 0, 0, 1, 0, 0, 0, 0,\n",
       "        0, 1, 0, 0, 0, 0, 0, 0, 1, 0, 0, 0, 0, 0, 0, 0, 0, 0, 1, 1, 0, 0,\n",
       "        0, 0, 0, 1, 1, 0, 0, 0, 0, 0, 0, 0, 0, 0, 0, 0, 0, 0, 0, 1, 0, 0,\n",
       "        0, 0, 0, 0, 0, 0, 1, 0, 0, 0, 0, 0, 0, 0, 0, 1, 0, 0, 1, 1, 0, 0,\n",
       "        0, 0, 0, 0, 0, 0, 0, 0, 0, 0, 0, 0, 0, 0, 0, 0, 0, 0, 1, 0, 0, 0,\n",
       "        0, 0, 1, 0, 0, 0, 0, 0, 0, 0, 0, 0, 0, 0, 0, 0, 0, 0, 0, 0, 1, 0,\n",
       "        0, 0, 0, 0, 0, 0, 0, 0, 1, 0, 0, 0, 0, 0, 0, 0, 0, 0, 0, 0, 1, 0,\n",
       "        0, 0, 0, 0, 0, 0, 0, 0, 0, 0, 0, 0, 0, 1, 0, 0], dtype=int64),\n",
       " array([0, 0, 0, 0, 0, 0, 0, 0, 0, 0, 1, 0, 1, 0, 0, 1, 0, 0, 1, 1, 0, 0,\n",
       "        0, 0, 0, 1, 0, 0, 1, 0, 1, 1, 1, 1, 0, 1, 1, 1, 0, 1, 0, 0, 0, 1,\n",
       "        0, 1, 1, 0, 0, 0, 0, 1, 1, 1, 0, 0, 0, 0, 0, 1, 1, 0, 0, 1, 0, 0,\n",
       "        0, 1, 0, 1, 0, 0, 0, 1, 0, 0, 0, 0, 0, 0, 1, 1, 0, 0, 0, 1, 1, 1,\n",
       "        0, 0, 0, 0, 0, 1, 0, 0, 0, 0, 1, 0, 0, 0, 1, 0, 1, 0, 0, 1, 1, 1,\n",
       "        0, 0, 0, 1, 0, 0, 1, 0, 0, 0, 0, 0, 1, 0, 0, 0, 1, 1, 1, 0, 1, 1,\n",
       "        0, 1, 1, 0, 1, 1, 1, 0, 0, 0, 0, 0, 0, 0, 1, 0, 0, 1, 0, 0, 1, 0,\n",
       "        0, 1, 0, 0, 1, 0, 1, 1, 0, 0, 0, 1, 0, 0, 0, 1, 0, 1, 1, 0, 0, 0,\n",
       "        0, 0, 1, 1, 0, 0, 0, 1, 1, 0, 0, 0, 1, 0, 1, 0], dtype=int64))"
      ]
     },
     "execution_count": 135,
     "metadata": {},
     "output_type": "execute_result"
    }
   ],
   "source": [
    "x_pred,np.argmax(y_test, axis=1)"
   ]
  },
  {
   "cell_type": "code",
   "execution_count": 136,
   "metadata": {},
   "outputs": [],
   "source": [
    "true_y=np.argmax(y_test, axis=1)"
   ]
  },
  {
   "cell_type": "code",
   "execution_count": 137,
   "metadata": {},
   "outputs": [
    {
     "data": {
      "text/plain": [
       "True"
      ]
     },
     "execution_count": 137,
     "metadata": {},
     "output_type": "execute_result"
    }
   ],
   "source": [
    "t_count = np.sum(x_pred==true_y) # True positive\n",
    "f_count = np.sum(x_pred!=true_y) # False positive\n",
    "f_count==len(true_y)-t_count"
   ]
  },
  {
   "cell_type": "code",
   "execution_count": 138,
   "metadata": {},
   "outputs": [
    {
     "data": {
      "text/plain": [
       "(130, 62)"
      ]
     },
     "execution_count": 138,
     "metadata": {},
     "output_type": "execute_result"
    }
   ],
   "source": [
    "t_count,f_count"
   ]
  },
  {
   "cell_type": "code",
   "execution_count": 139,
   "metadata": {},
   "outputs": [
    {
     "data": {
      "text/plain": [
       "67.70833333333334"
      ]
     },
     "execution_count": 139,
     "metadata": {},
     "output_type": "execute_result"
    }
   ],
   "source": [
    "accuracy = t_count/len(true_y)*100\n",
    "accuracy"
   ]
  },
  {
   "cell_type": "markdown",
   "metadata": {},
   "source": [
    "### Big model: model_big1"
   ]
  },
  {
   "cell_type": "code",
   "execution_count": 140,
   "metadata": {},
   "outputs": [],
   "source": [
    "#create model with larger capacity\n",
    "model_big1 = Sequential()\n",
    "\n",
    "#get number of columns in training data\n",
    "n_cols = X_train.shape[1]\n",
    "\n",
    "#add layers to model\n",
    "model_big1.add(Dense(250, activation='relu', input_shape=(n_cols,)))\n",
    "model_big1.add(Dense(250, activation='relu'))\n",
    "model_big1.add(Dense(25, activation='relu'))\n",
    "model_big1.add(Dense(2, activation='softmax'))"
   ]
  },
  {
   "cell_type": "code",
   "execution_count": 141,
   "metadata": {},
   "outputs": [],
   "source": [
    "# compile model using accuracy to measure model performance\n",
    "model_big1.compile(optimizer='adam', loss='categorical_crossentropy', metrics=['accuracy'])\n",
    "\n",
    "# set early stopping monitor so the model stops training when it won't improve anymore\n",
    "early_stopping_monitor = EarlyStopping(patience=3)"
   ]
  },
  {
   "cell_type": "code",
   "execution_count": 142,
   "metadata": {},
   "outputs": [
    {
     "name": "stdout",
     "output_type": "stream",
     "text": [
      "Train on 576 samples, validate on 192 samples\n",
      "Epoch 1/30\n",
      "576/576 [==============================] - 1s 1ms/step - loss: 4.5897 - acc: 0.6059 - val_loss: 2.8630 - val_acc: 0.5104\n",
      "Epoch 2/30\n",
      "576/576 [==============================] - 0s 71us/step - loss: 1.0095 - acc: 0.5573 - val_loss: 0.6653 - val_acc: 0.6458\n",
      "Epoch 3/30\n",
      "576/576 [==============================] - 0s 71us/step - loss: 0.6491 - acc: 0.6493 - val_loss: 0.6377 - val_acc: 0.6510\n",
      "Epoch 4/30\n",
      "576/576 [==============================] - 0s 71us/step - loss: 0.6328 - acc: 0.6701 - val_loss: 0.6134 - val_acc: 0.6823\n",
      "Epoch 5/30\n",
      "576/576 [==============================] - 0s 71us/step - loss: 0.6324 - acc: 0.6719 - val_loss: 0.6232 - val_acc: 0.6458\n",
      "Epoch 6/30\n",
      "576/576 [==============================] - 0s 71us/step - loss: 0.6008 - acc: 0.6927 - val_loss: 0.6089 - val_acc: 0.6875\n",
      "Epoch 7/30\n",
      "576/576 [==============================] - 0s 69us/step - loss: 0.6375 - acc: 0.6545 - val_loss: 0.6908 - val_acc: 0.5990\n",
      "Epoch 8/30\n",
      "576/576 [==============================] - 0s 69us/step - loss: 0.6252 - acc: 0.6649 - val_loss: 0.6368 - val_acc: 0.6250\n",
      "Epoch 9/30\n",
      "576/576 [==============================] - 0s 71us/step - loss: 0.6202 - acc: 0.6562 - val_loss: 0.6008 - val_acc: 0.6979\n",
      "Epoch 10/30\n",
      "576/576 [==============================] - 0s 73us/step - loss: 0.5753 - acc: 0.7135 - val_loss: 0.5971 - val_acc: 0.7031\n",
      "Epoch 11/30\n",
      "576/576 [==============================] - 0s 71us/step - loss: 0.5767 - acc: 0.7205 - val_loss: 0.5999 - val_acc: 0.6979\n",
      "Epoch 12/30\n",
      "576/576 [==============================] - 0s 69us/step - loss: 0.5696 - acc: 0.6997 - val_loss: 0.5908 - val_acc: 0.7292\n",
      "Epoch 13/30\n",
      "576/576 [==============================] - 0s 73us/step - loss: 0.5648 - acc: 0.7049 - val_loss: 0.5941 - val_acc: 0.7031\n",
      "Epoch 14/30\n",
      "576/576 [==============================] - 0s 71us/step - loss: 0.5639 - acc: 0.7205 - val_loss: 0.5958 - val_acc: 0.7083\n",
      "Epoch 15/30\n",
      "576/576 [==============================] - 0s 68us/step - loss: 0.5609 - acc: 0.7083 - val_loss: 0.5893 - val_acc: 0.7083\n",
      "Epoch 16/30\n",
      "576/576 [==============================] - 0s 71us/step - loss: 0.5534 - acc: 0.7292 - val_loss: 0.5986 - val_acc: 0.7188\n",
      "Epoch 17/30\n",
      "576/576 [==============================] - 0s 69us/step - loss: 0.5500 - acc: 0.7274 - val_loss: 0.5941 - val_acc: 0.6875\n",
      "Epoch 18/30\n",
      "576/576 [==============================] - 0s 69us/step - loss: 0.5458 - acc: 0.7188 - val_loss: 0.5932 - val_acc: 0.6979\n"
     ]
    }
   ],
   "source": [
    "# train model\n",
    "hist = model_big1.fit(X_train, y_train, epochs=30, validation_data=(X_test, y_test), callbacks=[early_stopping_monitor])  # validation_split=0.2"
   ]
  },
  {
   "cell_type": "code",
   "execution_count": 143,
   "metadata": {},
   "outputs": [
    {
     "data": {
      "image/png": "[encoded data removed]",
      "text/plain": [
       "<Figure size 432x288 with 1 Axes>"
      ]
     },
     "metadata": {
      "needs_background": "light"
     },
     "output_type": "display_data"
    }
   ],
   "source": [
    "# Plot performance\n",
    "plt.plot(hist.history['loss'])\n",
    "plt.show()"
   ]
  },
  {
   "cell_type": "code",
   "execution_count": 144,
   "metadata": {},
   "outputs": [
    {
     "data": {
      "image/png": "[encoded data removed]",
      "text/plain": [
       "<Figure size 432x288 with 1 Axes>"
      ]
     },
     "metadata": {
      "needs_background": "light"
     },
     "output_type": "display_data"
    }
   ],
   "source": [
    "plt.plot(hist.history['acc'], 'b-', label=\"training\")\n",
    "plt.plot(hist.history['val_acc'], 'r:', label=\"test\")\n",
    "plt.legend()\n",
    "plt.show()"
   ]
  },
  {
   "cell_type": "code",
   "execution_count": 145,
   "metadata": {},
   "outputs": [
    {
     "name": "stdout",
     "output_type": "stream",
     "text": [
      "192/192 [==============================] - 0s 1ms/step\n"
     ]
    }
   ],
   "source": [
    "# 전체 테스트 데이터에 대한 예측\n",
    "x_pred = model_big1.predict_classes(X_test, verbose=1)"
   ]
  },
  {
   "cell_type": "code",
   "execution_count": 146,
   "metadata": {},
   "outputs": [
    {
     "data": {
      "text/plain": [
       "(array([1, 0, 0, 0, 0, 1, 0, 0, 0, 0, 0, 1, 0, 0, 0, 1, 0, 0, 0, 0, 0, 0,\n",
       "        0, 0, 0, 1, 0, 0, 0, 0, 0, 0, 1, 1, 0, 0, 0, 0, 0, 1, 0, 0, 0, 0,\n",
       "        0, 0, 1, 0, 0, 1, 0, 0, 1, 0, 0, 0, 0, 0, 0, 1, 1, 0, 0, 0, 0, 0,\n",
       "        0, 0, 0, 1, 1, 0, 0, 0, 0, 0, 0, 0, 0, 0, 1, 0, 0, 0, 0, 1, 0, 0,\n",
       "        0, 0, 0, 0, 0, 0, 1, 0, 1, 0, 1, 0, 0, 0, 0, 0, 1, 0, 1, 1, 0, 0,\n",
       "        0, 0, 0, 0, 0, 1, 1, 0, 0, 0, 0, 0, 0, 0, 1, 1, 0, 1, 1, 0, 1, 1,\n",
       "        0, 0, 0, 0, 0, 0, 0, 0, 0, 0, 0, 1, 0, 0, 0, 0, 0, 1, 0, 0, 0, 0,\n",
       "        0, 0, 1, 0, 0, 0, 1, 1, 0, 0, 0, 1, 0, 0, 1, 1, 1, 0, 1, 0, 1, 0,\n",
       "        0, 0, 0, 0, 0, 0, 0, 0, 0, 0, 0, 0, 1, 0, 0, 0], dtype=int64),\n",
       " array([0, 0, 0, 0, 0, 0, 0, 0, 0, 0, 1, 0, 1, 0, 0, 1, 0, 0, 1, 1, 0, 0,\n",
       "        0, 0, 0, 1, 0, 0, 1, 0, 1, 1, 1, 1, 0, 1, 1, 1, 0, 1, 0, 0, 0, 1,\n",
       "        0, 1, 1, 0, 0, 0, 0, 1, 1, 1, 0, 0, 0, 0, 0, 1, 1, 0, 0, 1, 0, 0,\n",
       "        0, 1, 0, 1, 0, 0, 0, 1, 0, 0, 0, 0, 0, 0, 1, 1, 0, 0, 0, 1, 1, 1,\n",
       "        0, 0, 0, 0, 0, 1, 0, 0, 0, 0, 1, 0, 0, 0, 1, 0, 1, 0, 0, 1, 1, 1,\n",
       "        0, 0, 0, 1, 0, 0, 1, 0, 0, 0, 0, 0, 1, 0, 0, 0, 1, 1, 1, 0, 1, 1,\n",
       "        0, 1, 1, 0, 1, 1, 1, 0, 0, 0, 0, 0, 0, 0, 1, 0, 0, 1, 0, 0, 1, 0,\n",
       "        0, 1, 0, 0, 1, 0, 1, 1, 0, 0, 0, 1, 0, 0, 0, 1, 0, 1, 1, 0, 0, 0,\n",
       "        0, 0, 1, 1, 0, 0, 0, 1, 1, 0, 0, 0, 1, 0, 1, 0], dtype=int64))"
      ]
     },
     "execution_count": 146,
     "metadata": {},
     "output_type": "execute_result"
    }
   ],
   "source": [
    "x_pred,np.argmax(y_test, axis=1)"
   ]
  },
  {
   "cell_type": "code",
   "execution_count": 147,
   "metadata": {},
   "outputs": [],
   "source": [
    "true_y=np.argmax(y_test, axis=1)"
   ]
  },
  {
   "cell_type": "code",
   "execution_count": 148,
   "metadata": {},
   "outputs": [
    {
     "data": {
      "text/plain": [
       "True"
      ]
     },
     "execution_count": 148,
     "metadata": {},
     "output_type": "execute_result"
    }
   ],
   "source": [
    "t_count = np.sum(x_pred==true_y) # True positive\n",
    "f_count = np.sum(x_pred!=true_y) # False positive\n",
    "f_count==len(true_y)-t_count"
   ]
  },
  {
   "cell_type": "code",
   "execution_count": 149,
   "metadata": {},
   "outputs": [
    {
     "data": {
      "text/plain": [
       "(134, 58)"
      ]
     },
     "execution_count": 149,
     "metadata": {},
     "output_type": "execute_result"
    }
   ],
   "source": [
    "t_count,f_count"
   ]
  },
  {
   "cell_type": "code",
   "execution_count": 150,
   "metadata": {},
   "outputs": [
    {
     "data": {
      "text/plain": [
       "69.79166666666666"
      ]
     },
     "execution_count": 150,
     "metadata": {},
     "output_type": "execute_result"
    }
   ],
   "source": [
    "accuracy = t_count/len(true_y)*100\n",
    "accuracy"
   ]
  },
  {
   "cell_type": "markdown",
   "metadata": {},
   "source": [
    "### Model with large capacity is slightly better than the model with small capacity."
   ]
  },
  {
   "cell_type": "code",
   "execution_count": null,
   "metadata": {},
   "outputs": [],
   "source": []
  }
 ],
 "metadata": {
  "kernelspec": {
   "display_name": "Python 3",
   "language": "python",
   "name": "python3"
  },
  "language_info": {
   "codemirror_mode": {
    "name": "ipython",
    "version": 3
   },
   "file_extension": ".py",
   "mimetype": "text/x-python",
   "name": "python",
   "nbconvert_exporter": "python",
   "pygments_lexer": "ipython3",
   "version": "3.6.6"
  }
 },
 "nbformat": 4,
 "nbformat_minor": 2
}
