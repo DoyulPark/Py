{
 "cells": [
  {
   "cell_type": "markdown",
   "metadata": {},
   "source": [
    "This notebook goes along with the Deep Learning using Keras tutorial on Medium.\n",
    "\n",
    "- [Keras tutorial: classification](https://towardsdatascience.com/building-a-deep-learning-model-using-keras-1548ca149d37)"
   ]
  },
  {
   "cell_type": "code",
   "execution_count": 18,
   "metadata": {},
   "outputs": [],
   "source": [
    "import pandas as pd\n",
    "import numpy as np\n",
    "from keras.models import Sequential\n",
    "from keras.layers import Dense\n",
    "from keras.callbacks import EarlyStopping\n",
    "from keras.utils import to_categorical"
   ]
  },
  {
   "cell_type": "markdown",
   "metadata": {},
   "source": [
    "### In this model, we are going to predict if patients have diabetes or not.\n",
    "\n",
    "> The data set used for the purpose of this study is Pima Indians Diabetes Database of National Institute of Diabetes and Digestive and Kidney Diseases. This diabetes database, donated by Vincent Sigillito, is a collection of medical diagnostic reports of 768 examples from a population living near Phoenix, Arizona, USA."
   ]
  },
  {
   "cell_type": "code",
   "execution_count": 19,
   "metadata": {},
   "outputs": [
    {
     "data": {
      "text/html": [
       "<div>\n",
       "<style scoped>\n",
       "    .dataframe tbody tr th:only-of-type {\n",
       "        vertical-align: middle;\n",
       "    }\n",
       "\n",
       "    .dataframe tbody tr th {\n",
       "        vertical-align: top;\n",
       "    }\n",
       "\n",
       "    .dataframe thead th {\n",
       "        text-align: right;\n",
       "    }\n",
       "</style>\n",
       "<table border=\"1\" class=\"dataframe\">\n",
       "  <thead>\n",
       "    <tr style=\"text-align: right;\">\n",
       "      <th></th>\n",
       "      <th>pregnancies</th>\n",
       "      <th>glucose</th>\n",
       "      <th>diastolic</th>\n",
       "      <th>triceps</th>\n",
       "      <th>insulin</th>\n",
       "      <th>bmi</th>\n",
       "      <th>dpf</th>\n",
       "      <th>age</th>\n",
       "      <th>diabetes</th>\n",
       "    </tr>\n",
       "  </thead>\n",
       "  <tbody>\n",
       "    <tr>\n",
       "      <th>0</th>\n",
       "      <td>6</td>\n",
       "      <td>148</td>\n",
       "      <td>72</td>\n",
       "      <td>35</td>\n",
       "      <td>0</td>\n",
       "      <td>33.6</td>\n",
       "      <td>0.627</td>\n",
       "      <td>50</td>\n",
       "      <td>1</td>\n",
       "    </tr>\n",
       "    <tr>\n",
       "      <th>1</th>\n",
       "      <td>1</td>\n",
       "      <td>85</td>\n",
       "      <td>66</td>\n",
       "      <td>29</td>\n",
       "      <td>0</td>\n",
       "      <td>26.6</td>\n",
       "      <td>0.351</td>\n",
       "      <td>31</td>\n",
       "      <td>0</td>\n",
       "    </tr>\n",
       "    <tr>\n",
       "      <th>2</th>\n",
       "      <td>8</td>\n",
       "      <td>183</td>\n",
       "      <td>64</td>\n",
       "      <td>0</td>\n",
       "      <td>0</td>\n",
       "      <td>23.3</td>\n",
       "      <td>0.672</td>\n",
       "      <td>32</td>\n",
       "      <td>1</td>\n",
       "    </tr>\n",
       "    <tr>\n",
       "      <th>3</th>\n",
       "      <td>1</td>\n",
       "      <td>89</td>\n",
       "      <td>66</td>\n",
       "      <td>23</td>\n",
       "      <td>94</td>\n",
       "      <td>28.1</td>\n",
       "      <td>0.167</td>\n",
       "      <td>21</td>\n",
       "      <td>0</td>\n",
       "    </tr>\n",
       "    <tr>\n",
       "      <th>4</th>\n",
       "      <td>0</td>\n",
       "      <td>137</td>\n",
       "      <td>40</td>\n",
       "      <td>35</td>\n",
       "      <td>168</td>\n",
       "      <td>43.1</td>\n",
       "      <td>2.288</td>\n",
       "      <td>33</td>\n",
       "      <td>1</td>\n",
       "    </tr>\n",
       "  </tbody>\n",
       "</table>\n",
       "</div>"
      ],
      "text/plain": [
       "   pregnancies  glucose  diastolic  triceps  insulin   bmi    dpf  age  \\\n",
       "0            6      148         72       35        0  33.6  0.627   50   \n",
       "1            1       85         66       29        0  26.6  0.351   31   \n",
       "2            8      183         64        0        0  23.3  0.672   32   \n",
       "3            1       89         66       23       94  28.1  0.167   21   \n",
       "4            0      137         40       35      168  43.1  2.288   33   \n",
       "\n",
       "   diabetes  \n",
       "0         1  \n",
       "1         0  \n",
       "2         1  \n",
       "3         0  \n",
       "4         1  "
      ]
     },
     "execution_count": 19,
     "metadata": {},
     "output_type": "execute_result"
    }
   ],
   "source": [
    "# read in training data\n",
    "diabetes_df = pd.read_csv('diabetes_data.csv')\n",
    "\n",
    "# view data structure\n",
    "diabetes_df.head()"
   ]
  },
  {
   "cell_type": "code",
   "execution_count": 20,
   "metadata": {},
   "outputs": [
    {
     "data": {
      "text/html": [
       "<div>\n",
       "<style scoped>\n",
       "    .dataframe tbody tr th:only-of-type {\n",
       "        vertical-align: middle;\n",
       "    }\n",
       "\n",
       "    .dataframe tbody tr th {\n",
       "        vertical-align: top;\n",
       "    }\n",
       "\n",
       "    .dataframe thead th {\n",
       "        text-align: right;\n",
       "    }\n",
       "</style>\n",
       "<table border=\"1\" class=\"dataframe\">\n",
       "  <thead>\n",
       "    <tr style=\"text-align: right;\">\n",
       "      <th></th>\n",
       "      <th>pregnancies</th>\n",
       "      <th>glucose</th>\n",
       "      <th>diastolic</th>\n",
       "      <th>triceps</th>\n",
       "      <th>insulin</th>\n",
       "      <th>bmi</th>\n",
       "      <th>dpf</th>\n",
       "      <th>age</th>\n",
       "    </tr>\n",
       "  </thead>\n",
       "  <tbody>\n",
       "    <tr>\n",
       "      <th>0</th>\n",
       "      <td>6</td>\n",
       "      <td>148</td>\n",
       "      <td>72</td>\n",
       "      <td>35</td>\n",
       "      <td>0</td>\n",
       "      <td>33.6</td>\n",
       "      <td>0.627</td>\n",
       "      <td>50</td>\n",
       "    </tr>\n",
       "    <tr>\n",
       "      <th>1</th>\n",
       "      <td>1</td>\n",
       "      <td>85</td>\n",
       "      <td>66</td>\n",
       "      <td>29</td>\n",
       "      <td>0</td>\n",
       "      <td>26.6</td>\n",
       "      <td>0.351</td>\n",
       "      <td>31</td>\n",
       "    </tr>\n",
       "    <tr>\n",
       "      <th>2</th>\n",
       "      <td>8</td>\n",
       "      <td>183</td>\n",
       "      <td>64</td>\n",
       "      <td>0</td>\n",
       "      <td>0</td>\n",
       "      <td>23.3</td>\n",
       "      <td>0.672</td>\n",
       "      <td>32</td>\n",
       "    </tr>\n",
       "    <tr>\n",
       "      <th>3</th>\n",
       "      <td>1</td>\n",
       "      <td>89</td>\n",
       "      <td>66</td>\n",
       "      <td>23</td>\n",
       "      <td>94</td>\n",
       "      <td>28.1</td>\n",
       "      <td>0.167</td>\n",
       "      <td>21</td>\n",
       "    </tr>\n",
       "    <tr>\n",
       "      <th>4</th>\n",
       "      <td>0</td>\n",
       "      <td>137</td>\n",
       "      <td>40</td>\n",
       "      <td>35</td>\n",
       "      <td>168</td>\n",
       "      <td>43.1</td>\n",
       "      <td>2.288</td>\n",
       "      <td>33</td>\n",
       "    </tr>\n",
       "  </tbody>\n",
       "</table>\n",
       "</div>"
      ],
      "text/plain": [
       "   pregnancies  glucose  diastolic  triceps  insulin   bmi    dpf  age\n",
       "0            6      148         72       35        0  33.6  0.627   50\n",
       "1            1       85         66       29        0  26.6  0.351   31\n",
       "2            8      183         64        0        0  23.3  0.672   32\n",
       "3            1       89         66       23       94  28.1  0.167   21\n",
       "4            0      137         40       35      168  43.1  2.288   33"
      ]
     },
     "execution_count": 20,
     "metadata": {},
     "output_type": "execute_result"
    }
   ],
   "source": [
    "# create a dataframe with all training data except the target column\n",
    "data_X = diabetes_df.drop(columns=['diabetes'])\n",
    "\n",
    "# check that the target variable has been removed\n",
    "data_X.head()"
   ]
  },
  {
   "cell_type": "code",
   "execution_count": 21,
   "metadata": {},
   "outputs": [
    {
     "data": {
      "text/plain": [
       "(0    1\n",
       " 1    0\n",
       " 2    1\n",
       " 3    0\n",
       " 4    1\n",
       " Name: diabetes, dtype: int64, array([[0., 1.],\n",
       "        [1., 0.],\n",
       "        [0., 1.],\n",
       "        [1., 0.],\n",
       "        [0., 1.]], dtype=float32))"
      ]
     },
     "execution_count": 21,
     "metadata": {},
     "output_type": "execute_result"
    }
   ],
   "source": [
    "# one-hot encode target column\n",
    "data_y = to_categorical(diabetes_df.diabetes)\n",
    "\n",
    "# check that target column has been converted\n",
    "diabetes_df.diabetes[:5],data_y[:5]"
   ]
  },
  {
   "cell_type": "markdown",
   "metadata": {},
   "source": [
    "### Simple model"
   ]
  },
  {
   "cell_type": "code",
   "execution_count": 22,
   "metadata": {},
   "outputs": [
    {
     "name": "stdout",
     "output_type": "stream",
     "text": [
      "8\n"
     ]
    }
   ],
   "source": [
    "# create simple model with light model capacity \n",
    "model_s = Sequential()  # simple model\n",
    "\n",
    "#get number of columns in training data\n",
    "n_cols = data_X.shape[1]\n",
    "print(n_cols)\n",
    "#add layers to model\n",
    "model_s.add(Dense(10, activation='relu', input_shape=(n_cols,)))\n",
    "model_s.add(Dense(10, activation='relu'))\n",
    "model_s.add(Dense(2, activation='softmax'))"
   ]
  },
  {
   "cell_type": "code",
   "execution_count": 23,
   "metadata": {},
   "outputs": [],
   "source": [
    "# compile model using accuracy to measure model performance\n",
    "model_s.compile(optimizer='adam', loss='categorical_crossentropy', metrics=['accuracy'])\n",
    "\n",
    "# set early stopping monitor so the model stops training when it won't improve anymore\n",
    "early_stopping_monitor = EarlyStopping(patience=3)"
   ]
  },
  {
   "cell_type": "code",
   "execution_count": 24,
   "metadata": {},
   "outputs": [
    {
     "name": "stdout",
     "output_type": "stream",
     "text": [
      "_________________________________________________________________\n",
      "Layer (type)                 Output Shape              Param #   \n",
      "=================================================================\n",
      "dense_11 (Dense)             (None, 10)                90        \n",
      "_________________________________________________________________\n",
      "dense_12 (Dense)             (None, 10)                110       \n",
      "_________________________________________________________________\n",
      "dense_13 (Dense)             (None, 2)                 22        \n",
      "=================================================================\n",
      "Total params: 222\n",
      "Trainable params: 222\n",
      "Non-trainable params: 0\n",
      "_________________________________________________________________\n"
     ]
    }
   ],
   "source": [
    "model_s.summary()"
   ]
  },
  {
   "cell_type": "code",
   "execution_count": 25,
   "metadata": {},
   "outputs": [
    {
     "name": "stdout",
     "output_type": "stream",
     "text": [
      "Train on 614 samples, validate on 154 samples\n",
      "Epoch 1/30\n",
      "614/614 [==============================] - 0s 264us/step - loss: 3.4499 - acc: 0.5831 - val_loss: 2.2430 - val_acc: 0.6429\n",
      "Epoch 2/30\n",
      "614/614 [==============================] - 0s 36us/step - loss: 3.0086 - acc: 0.5651 - val_loss: 2.0097 - val_acc: 0.6494\n",
      "Epoch 3/30\n",
      "614/614 [==============================] - 0s 36us/step - loss: 2.7587 - acc: 0.5977 - val_loss: 1.6754 - val_acc: 0.6364\n",
      "Epoch 4/30\n",
      "614/614 [==============================] - 0s 36us/step - loss: 2.5559 - acc: 0.5798 - val_loss: 1.4725 - val_acc: 0.6364\n",
      "Epoch 5/30\n",
      "614/614 [==============================] - 0s 37us/step - loss: 2.2662 - acc: 0.5928 - val_loss: 1.3329 - val_acc: 0.6688\n",
      "Epoch 6/30\n",
      "614/614 [==============================] - 0s 36us/step - loss: 1.9893 - acc: 0.6124 - val_loss: 1.2457 - val_acc: 0.7143\n",
      "Epoch 7/30\n",
      "614/614 [==============================] - 0s 36us/step - loss: 1.7537 - acc: 0.6384 - val_loss: 1.1673 - val_acc: 0.7013\n",
      "Epoch 8/30\n",
      "614/614 [==============================] - 0s 34us/step - loss: 1.5501 - acc: 0.6287 - val_loss: 1.2111 - val_acc: 0.6883\n",
      "Epoch 9/30\n",
      "614/614 [==============================] - 0s 36us/step - loss: 1.4700 - acc: 0.6531 - val_loss: 1.1462 - val_acc: 0.6753\n",
      "Epoch 10/30\n",
      "614/614 [==============================] - 0s 36us/step - loss: 1.3293 - acc: 0.6417 - val_loss: 1.2104 - val_acc: 0.5714\n",
      "Epoch 11/30\n",
      "614/614 [==============================] - 0s 36us/step - loss: 1.2440 - acc: 0.6384 - val_loss: 1.1990 - val_acc: 0.6623\n",
      "Epoch 12/30\n",
      "614/614 [==============================] - 0s 34us/step - loss: 1.1740 - acc: 0.6612 - val_loss: 1.1749 - val_acc: 0.6688\n"
     ]
    },
    {
     "data": {
      "text/plain": [
       "<keras.callbacks.History at 0x1b03826e160>"
      ]
     },
     "execution_count": 25,
     "metadata": {},
     "output_type": "execute_result"
    }
   ],
   "source": [
    "# train model with all data\n",
    "model_s.fit(data_X, data_y, epochs=30, validation_split=0.2, callbacks=[early_stopping_monitor])"
   ]
  },
  {
   "cell_type": "markdown",
   "metadata": {},
   "source": [
    "### Increase model capacity"
   ]
  },
  {
   "cell_type": "code",
   "execution_count": 26,
   "metadata": {},
   "outputs": [],
   "source": [
    "# training a new model on the same data to show the effect of increasing model capacity\n",
    "model_b = Sequential()\n",
    "\n",
    "#get number of columns in training data\n",
    "n_cols = data_X.shape[1]\n",
    "\n",
    "#add layers to model\n",
    "model_b.add(Dense(250, activation='relu', input_shape=(n_cols,)))\n",
    "model_b.add(Dense(100, activation='relu'))\n",
    "model_b.add(Dense(25, activation='relu'))\n",
    "model_b.add(Dense(2, activation='softmax'))"
   ]
  },
  {
   "cell_type": "code",
   "execution_count": 27,
   "metadata": {},
   "outputs": [
    {
     "name": "stdout",
     "output_type": "stream",
     "text": [
      "_________________________________________________________________\n",
      "Layer (type)                 Output Shape              Param #   \n",
      "=================================================================\n",
      "dense_14 (Dense)             (None, 250)               2250      \n",
      "_________________________________________________________________\n",
      "dense_15 (Dense)             (None, 100)               25100     \n",
      "_________________________________________________________________\n",
      "dense_16 (Dense)             (None, 25)                2525      \n",
      "_________________________________________________________________\n",
      "dense_17 (Dense)             (None, 2)                 52        \n",
      "=================================================================\n",
      "Total params: 29,927\n",
      "Trainable params: 29,927\n",
      "Non-trainable params: 0\n",
      "_________________________________________________________________\n"
     ]
    }
   ],
   "source": [
    "model_b.summary()"
   ]
  },
  {
   "cell_type": "code",
   "execution_count": 28,
   "metadata": {},
   "outputs": [],
   "source": [
    "# compile model using accuracy to measure model performance\n",
    "model_b.compile(optimizer='adam', loss='categorical_crossentropy', metrics=['accuracy'])\n",
    "# set early stopping monitor so the model stops training when it won't improve anymore\n",
    "early_stopping_monitor = EarlyStopping(patience=3)"
   ]
  },
  {
   "cell_type": "code",
   "execution_count": 29,
   "metadata": {},
   "outputs": [
    {
     "name": "stdout",
     "output_type": "stream",
     "text": [
      "Train on 614 samples, validate on 154 samples\n",
      "Epoch 1/30\n",
      "614/614 [==============================] - 0s 345us/step - loss: 5.5915 - acc: 0.6531 - val_loss: 5.7565 - val_acc: 0.6429\n",
      "Epoch 2/30\n",
      "614/614 [==============================] - 0s 47us/step - loss: 5.5915 - acc: 0.6531 - val_loss: 5.7565 - val_acc: 0.6429\n",
      "Epoch 3/30\n",
      "614/614 [==============================] - 0s 49us/step - loss: 5.5915 - acc: 0.6531 - val_loss: 5.7565 - val_acc: 0.6429\n",
      "Epoch 4/30\n",
      "614/614 [==============================] - 0s 47us/step - loss: 5.5915 - acc: 0.6531 - val_loss: 5.7565 - val_acc: 0.6429\n"
     ]
    },
    {
     "data": {
      "text/plain": [
       "<keras.callbacks.History at 0x1b03af27940>"
      ]
     },
     "execution_count": 29,
     "metadata": {},
     "output_type": "execute_result"
    }
   ],
   "source": [
    "# fit model\n",
    "model_b.fit(data_X, data_y, epochs=30, validation_split=0.2, callbacks=[early_stopping_monitor])"
   ]
  },
  {
   "cell_type": "markdown",
   "metadata": {},
   "source": [
    "### Test of model_s and model_b\n",
    "\n",
    "> Split dataframe into the train and test set"
   ]
  },
  {
   "cell_type": "code",
   "execution_count": 30,
   "metadata": {},
   "outputs": [],
   "source": [
    "from sklearn.model_selection import train_test_split"
   ]
  },
  {
   "cell_type": "code",
   "execution_count": 31,
   "metadata": {},
   "outputs": [],
   "source": [
    "X_train, X_test, y_train, y_test = train_test_split(data_X, data_y, test_size=0.25, random_state=42)"
   ]
  },
  {
   "cell_type": "code",
   "execution_count": 32,
   "metadata": {},
   "outputs": [
    {
     "data": {
      "text/plain": [
       "((576, 8), (192, 8), (576, 2), (192, 2))"
      ]
     },
     "execution_count": 32,
     "metadata": {},
     "output_type": "execute_result"
    }
   ],
   "source": [
    "X_train.shape, X_test.shape, y_train.shape, y_test.shape"
   ]
  },
  {
   "cell_type": "markdown",
   "metadata": {},
   "source": [
    "### small model: model_s1"
   ]
  },
  {
   "cell_type": "code",
   "execution_count": 33,
   "metadata": {},
   "outputs": [],
   "source": [
    "# create simple model\n",
    "model_s1 = Sequential()  # simple model\n",
    "\n",
    "#get number of columns in training data\n",
    "n_cols = X_train.shape[1]\n",
    "\n",
    "#add layers to model\n",
    "model_s1.add(Dense(10, activation='relu', input_shape=(n_cols,)))\n",
    "model_s1.add(Dense(10, activation='relu'))\n",
    "model_s1.add(Dense(2, activation='softmax'))"
   ]
  },
  {
   "cell_type": "code",
   "execution_count": 34,
   "metadata": {},
   "outputs": [],
   "source": [
    "# compile model using accuracy to measure model performance\n",
    "model_s1.compile(optimizer='adam', loss='categorical_crossentropy', metrics=['accuracy'])\n",
    "\n",
    "# set early stopping monitor so the model stops training when it won't improve anymore\n",
    "early_stopping_monitor = EarlyStopping(patience=3)"
   ]
  },
  {
   "cell_type": "code",
   "execution_count": 35,
   "metadata": {},
   "outputs": [
    {
     "name": "stdout",
     "output_type": "stream",
     "text": [
      "Train on 576 samples, validate on 192 samples\n",
      "Epoch 1/30\n",
      "576/576 [==============================] - 0s 371us/step - loss: 1.7515 - acc: 0.4948 - val_loss: 1.2201 - val_acc: 0.6198\n",
      "Epoch 2/30\n",
      "576/576 [==============================] - 0s 36us/step - loss: 1.0978 - acc: 0.6337 - val_loss: 1.0918 - val_acc: 0.6406\n",
      "Epoch 3/30\n",
      "576/576 [==============================] - 0s 36us/step - loss: 0.9524 - acc: 0.6076 - val_loss: 0.9550 - val_acc: 0.5938\n",
      "Epoch 4/30\n",
      "576/576 [==============================] - 0s 35us/step - loss: 0.8912 - acc: 0.6111 - val_loss: 0.8767 - val_acc: 0.6406\n",
      "Epoch 5/30\n",
      "576/576 [==============================] - 0s 35us/step - loss: 0.8276 - acc: 0.6337 - val_loss: 0.8432 - val_acc: 0.6302\n",
      "Epoch 6/30\n",
      "576/576 [==============================] - 0s 36us/step - loss: 0.7892 - acc: 0.6441 - val_loss: 0.8160 - val_acc: 0.6458\n",
      "Epoch 7/30\n",
      "576/576 [==============================] - 0s 35us/step - loss: 0.7528 - acc: 0.6562 - val_loss: 0.8044 - val_acc: 0.6250\n",
      "Epoch 8/30\n",
      "576/576 [==============================] - 0s 35us/step - loss: 0.7312 - acc: 0.6476 - val_loss: 0.7730 - val_acc: 0.6146\n",
      "Epoch 9/30\n",
      "576/576 [==============================] - 0s 36us/step - loss: 0.7088 - acc: 0.6510 - val_loss: 0.7634 - val_acc: 0.6250\n",
      "Epoch 10/30\n",
      "576/576 [==============================] - 0s 35us/step - loss: 0.6953 - acc: 0.6389 - val_loss: 0.7382 - val_acc: 0.6042\n",
      "Epoch 11/30\n",
      "576/576 [==============================] - 0s 35us/step - loss: 0.6766 - acc: 0.6424 - val_loss: 0.7354 - val_acc: 0.6198\n",
      "Epoch 12/30\n",
      "576/576 [==============================] - 0s 38us/step - loss: 0.6740 - acc: 0.6458 - val_loss: 0.7227 - val_acc: 0.6354\n",
      "Epoch 13/30\n",
      "576/576 [==============================] - 0s 35us/step - loss: 0.6673 - acc: 0.6389 - val_loss: 0.7174 - val_acc: 0.6458\n",
      "Epoch 14/30\n",
      "576/576 [==============================] - 0s 35us/step - loss: 0.6620 - acc: 0.6441 - val_loss: 0.7197 - val_acc: 0.6354\n",
      "Epoch 15/30\n",
      "576/576 [==============================] - 0s 35us/step - loss: 0.6579 - acc: 0.6580 - val_loss: 0.7021 - val_acc: 0.6146\n",
      "Epoch 16/30\n",
      "576/576 [==============================] - 0s 36us/step - loss: 0.6458 - acc: 0.6632 - val_loss: 0.7030 - val_acc: 0.6302\n",
      "Epoch 17/30\n",
      "576/576 [==============================] - 0s 35us/step - loss: 0.6459 - acc: 0.6701 - val_loss: 0.7046 - val_acc: 0.6406\n",
      "Epoch 18/30\n",
      "576/576 [==============================] - 0s 35us/step - loss: 0.6483 - acc: 0.6580 - val_loss: 0.6893 - val_acc: 0.6406\n",
      "Epoch 19/30\n",
      "576/576 [==============================] - 0s 36us/step - loss: 0.6376 - acc: 0.6806 - val_loss: 0.6828 - val_acc: 0.6302\n",
      "Epoch 20/30\n",
      "576/576 [==============================] - 0s 36us/step - loss: 0.6343 - acc: 0.6701 - val_loss: 0.6739 - val_acc: 0.6406\n",
      "Epoch 21/30\n",
      "576/576 [==============================] - 0s 36us/step - loss: 0.6318 - acc: 0.6649 - val_loss: 0.6728 - val_acc: 0.6250\n",
      "Epoch 22/30\n",
      "576/576 [==============================] - 0s 36us/step - loss: 0.6217 - acc: 0.6788 - val_loss: 0.6735 - val_acc: 0.6354\n",
      "Epoch 23/30\n",
      "576/576 [==============================] - 0s 36us/step - loss: 0.6223 - acc: 0.6823 - val_loss: 0.6703 - val_acc: 0.6250\n",
      "Epoch 24/30\n",
      "576/576 [==============================] - 0s 36us/step - loss: 0.6195 - acc: 0.6719 - val_loss: 0.6667 - val_acc: 0.6458\n",
      "Epoch 25/30\n",
      "576/576 [==============================] - 0s 35us/step - loss: 0.6199 - acc: 0.6684 - val_loss: 0.6606 - val_acc: 0.6458\n",
      "Epoch 26/30\n",
      "576/576 [==============================] - 0s 36us/step - loss: 0.6155 - acc: 0.6719 - val_loss: 0.6669 - val_acc: 0.6406\n",
      "Epoch 27/30\n",
      "576/576 [==============================] - 0s 36us/step - loss: 0.6170 - acc: 0.6788 - val_loss: 0.6626 - val_acc: 0.6406\n",
      "Epoch 28/30\n",
      "576/576 [==============================] - 0s 33us/step - loss: 0.6155 - acc: 0.6684 - val_loss: 0.6622 - val_acc: 0.6250\n"
     ]
    }
   ],
   "source": [
    "# train model\n",
    "hist = model_s1.fit(X_train, y_train, epochs=30, validation_data=(X_test, y_test), callbacks=[early_stopping_monitor])  # validation_split=0.2"
   ]
  },
  {
   "cell_type": "code",
   "execution_count": 36,
   "metadata": {},
   "outputs": [],
   "source": [
    "import matplotlib.pyplot as plt\n",
    "import matplotlib as mpl\n",
    "%matplotlib inline"
   ]
  },
  {
   "cell_type": "code",
   "execution_count": 37,
   "metadata": {},
   "outputs": [
    {
     "data": {
      "image/png": "[encoded data removed]",
      "text/plain": [
       "<Figure size 432x288 with 1 Axes>"
      ]
     },
     "metadata": {
      "needs_background": "light"
     },
     "output_type": "display_data"
    }
   ],
   "source": [
    "# Plot performance\n",
    "plt.plot(hist.history['loss'])\n",
    "plt.show()"
   ]
  },
  {
   "cell_type": "code",
   "execution_count": 38,
   "metadata": {},
   "outputs": [
    {
     "data": {
      "image/png": "[encoded data removed]",
      "text/plain": [
       "<Figure size 432x288 with 1 Axes>"
      ]
     },
     "metadata": {
      "needs_background": "light"
     },
     "output_type": "display_data"
    }
   ],
   "source": [
    "plt.plot(hist.history['acc'], 'b-', label=\"training\")\n",
    "plt.plot(hist.history['val_acc'], 'r:', label=\"test\")\n",
    "plt.legend()\n",
    "plt.show()"
   ]
  },
  {
   "cell_type": "code",
   "execution_count": 39,
   "metadata": {},
   "outputs": [
    {
     "name": "stdout",
     "output_type": "stream",
     "text": [
      "192/192 [==============================] - 0s 479us/step\n"
     ]
    }
   ],
   "source": [
    "# 전체 테스트 데이터에 대한 예측\n",
    "x_pred = model_s1.predict_classes(X_test, verbose=1)"
   ]
  },
  {
   "cell_type": "code",
   "execution_count": 40,
   "metadata": {},
   "outputs": [
    {
     "data": {
      "text/plain": [
       "(array([1, 0, 0, 0, 0, 1, 0, 1, 0, 0, 0, 0, 0, 0, 0, 1, 0, 0, 0, 0, 0, 0,\n",
       "        0, 0, 0, 0, 0, 0, 0, 0, 0, 0, 0, 0, 0, 0, 0, 0, 0, 0, 0, 0, 0, 0,\n",
       "        0, 0, 1, 0, 0, 1, 0, 0, 1, 1, 0, 0, 0, 0, 0, 0, 0, 0, 0, 1, 0, 0,\n",
       "        0, 0, 0, 1, 1, 0, 0, 0, 1, 0, 0, 0, 0, 0, 1, 0, 0, 0, 0, 0, 0, 0,\n",
       "        0, 0, 0, 0, 0, 0, 1, 0, 0, 0, 0, 0, 0, 0, 0, 0, 1, 0, 0, 0, 0, 0,\n",
       "        0, 1, 0, 0, 0, 0, 0, 0, 0, 0, 0, 0, 0, 0, 1, 0, 0, 0, 1, 1, 1, 1,\n",
       "        0, 0, 0, 0, 0, 0, 0, 0, 0, 0, 1, 0, 0, 0, 0, 0, 0, 1, 0, 0, 0, 0,\n",
       "        0, 0, 0, 0, 1, 0, 0, 0, 1, 0, 0, 1, 0, 0, 1, 0, 1, 0, 0, 1, 1, 0,\n",
       "        0, 0, 0, 0, 0, 0, 0, 0, 0, 0, 0, 0, 0, 1, 0, 0], dtype=int64),\n",
       " array([0, 0, 0, 0, 0, 0, 0, 0, 0, 0, 1, 0, 1, 0, 0, 1, 0, 0, 1, 1, 0, 0,\n",
       "        0, 0, 0, 1, 0, 0, 1, 0, 1, 1, 1, 1, 0, 1, 1, 1, 0, 1, 0, 0, 0, 1,\n",
       "        0, 1, 1, 0, 0, 0, 0, 1, 1, 1, 0, 0, 0, 0, 0, 1, 1, 0, 0, 1, 0, 0,\n",
       "        0, 1, 0, 1, 0, 0, 0, 1, 0, 0, 0, 0, 0, 0, 1, 1, 0, 0, 0, 1, 1, 1,\n",
       "        0, 0, 0, 0, 0, 1, 0, 0, 0, 0, 1, 0, 0, 0, 1, 0, 1, 0, 0, 1, 1, 1,\n",
       "        0, 0, 0, 1, 0, 0, 1, 0, 0, 0, 0, 0, 1, 0, 0, 0, 1, 1, 1, 0, 1, 1,\n",
       "        0, 1, 1, 0, 1, 1, 1, 0, 0, 0, 0, 0, 0, 0, 1, 0, 0, 1, 0, 0, 1, 0,\n",
       "        0, 1, 0, 0, 1, 0, 1, 1, 0, 0, 0, 1, 0, 0, 0, 1, 0, 1, 1, 0, 0, 0,\n",
       "        0, 0, 1, 1, 0, 0, 0, 1, 1, 0, 0, 0, 1, 0, 1, 0], dtype=int64))"
      ]
     },
     "execution_count": 40,
     "metadata": {},
     "output_type": "execute_result"
    }
   ],
   "source": [
    "x_pred,np.argmax(y_test, axis=1)"
   ]
  },
  {
   "cell_type": "code",
   "execution_count": 42,
   "metadata": {},
   "outputs": [],
   "source": [
    "true_y=np.argmax(y_test, axis=1)  # decode one-hot encoding"
   ]
  },
  {
   "cell_type": "code",
   "execution_count": 43,
   "metadata": {},
   "outputs": [
    {
     "data": {
      "text/plain": [
       "True"
      ]
     },
     "execution_count": 43,
     "metadata": {},
     "output_type": "execute_result"
    }
   ],
   "source": [
    "t_count = np.sum(x_pred==true_y) # True positive\n",
    "f_count = np.sum(x_pred!=true_y) # False positive\n",
    "f_count==len(true_y)-t_count"
   ]
  },
  {
   "cell_type": "code",
   "execution_count": 44,
   "metadata": {},
   "outputs": [
    {
     "data": {
      "text/plain": [
       "(120, 72)"
      ]
     },
     "execution_count": 44,
     "metadata": {},
     "output_type": "execute_result"
    }
   ],
   "source": [
    "t_count,f_count"
   ]
  },
  {
   "cell_type": "code",
   "execution_count": 45,
   "metadata": {},
   "outputs": [
    {
     "data": {
      "text/plain": [
       "62.5"
      ]
     },
     "execution_count": 45,
     "metadata": {},
     "output_type": "execute_result"
    }
   ],
   "source": [
    "accuracy = t_count/len(true_y)*100\n",
    "accuracy"
   ]
  },
  {
   "cell_type": "markdown",
   "metadata": {},
   "source": [
    "### Big model: model_b1"
   ]
  },
  {
   "cell_type": "code",
   "execution_count": 46,
   "metadata": {},
   "outputs": [],
   "source": [
    "#create model with larger capacity\n",
    "model_b1 = Sequential()\n",
    "\n",
    "#get number of columns in training data\n",
    "n_cols = X_train.shape[1]\n",
    "\n",
    "#add layers to model\n",
    "model_b1.add(Dense(250, activation='relu', input_shape=(n_cols,)))\n",
    "model_b1.add(Dense(250, activation='relu'))\n",
    "model_b1.add(Dense(25, activation='relu'))\n",
    "model_b1.add(Dense(2, activation='softmax'))"
   ]
  },
  {
   "cell_type": "code",
   "execution_count": 47,
   "metadata": {},
   "outputs": [],
   "source": [
    "# compile model using accuracy to measure model performance\n",
    "model_b1.compile(optimizer='adam', loss='categorical_crossentropy', metrics=['accuracy'])\n",
    "\n",
    "# set early stopping monitor so the model stops training when it won't improve anymore\n",
    "early_stopping_monitor = EarlyStopping(patience=3)"
   ]
  },
  {
   "cell_type": "code",
   "execution_count": 48,
   "metadata": {},
   "outputs": [
    {
     "name": "stdout",
     "output_type": "stream",
     "text": [
      "Train on 576 samples, validate on 192 samples\n",
      "Epoch 1/30\n",
      "576/576 [==============================] - 0s 474us/step - loss: 3.2679 - acc: 0.5972 - val_loss: 3.3753 - val_acc: 0.6510\n",
      "Epoch 2/30\n",
      "576/576 [==============================] - 0s 59us/step - loss: 3.2016 - acc: 0.6198 - val_loss: 3.2040 - val_acc: 0.6562\n",
      "Epoch 3/30\n",
      "576/576 [==============================] - 0s 62us/step - loss: 3.0119 - acc: 0.6545 - val_loss: 3.0456 - val_acc: 0.6667\n",
      "Epoch 4/30\n",
      "576/576 [==============================] - 0s 62us/step - loss: 2.1045 - acc: 0.6458 - val_loss: 1.0551 - val_acc: 0.6354\n",
      "Epoch 5/30\n",
      "576/576 [==============================] - 0s 62us/step - loss: 0.7165 - acc: 0.6493 - val_loss: 0.9604 - val_acc: 0.6458\n",
      "Epoch 6/30\n",
      "576/576 [==============================] - 0s 62us/step - loss: 0.6224 - acc: 0.6562 - val_loss: 0.6856 - val_acc: 0.6562\n",
      "Epoch 7/30\n",
      "576/576 [==============================] - 0s 62us/step - loss: 0.5895 - acc: 0.6580 - val_loss: 0.6768 - val_acc: 0.6615\n",
      "Epoch 8/30\n",
      "576/576 [==============================] - 0s 61us/step - loss: 0.6186 - acc: 0.6597 - val_loss: 0.6695 - val_acc: 0.6615\n",
      "Epoch 9/30\n",
      "576/576 [==============================] - 0s 62us/step - loss: 0.6679 - acc: 0.6597 - val_loss: 0.6801 - val_acc: 0.6562\n",
      "Epoch 10/30\n",
      "576/576 [==============================] - 0s 62us/step - loss: 0.6791 - acc: 0.6545 - val_loss: 0.6723 - val_acc: 0.6615\n",
      "Epoch 11/30\n",
      "576/576 [==============================] - 0s 61us/step - loss: 0.6737 - acc: 0.6615 - val_loss: 0.6725 - val_acc: 0.6562\n"
     ]
    }
   ],
   "source": [
    "# train model\n",
    "hist = model_b1.fit(X_train, y_train, epochs=30, validation_data=(X_test, y_test), callbacks=[early_stopping_monitor])  # validation_split=0.2"
   ]
  },
  {
   "cell_type": "code",
   "execution_count": 49,
   "metadata": {},
   "outputs": [
    {
     "data": {
      "image/png": "[encoded data removed]",
      "text/plain": [
       "<Figure size 432x288 with 1 Axes>"
      ]
     },
     "metadata": {
      "needs_background": "light"
     },
     "output_type": "display_data"
    }
   ],
   "source": [
    "# Plot performance\n",
    "plt.plot(hist.history['loss'])\n",
    "plt.show()"
   ]
  },
  {
   "cell_type": "code",
   "execution_count": 50,
   "metadata": {},
   "outputs": [
    {
     "data": {
      "image/png": "[encoded data removed]",
      "text/plain": [
       "<Figure size 432x288 with 1 Axes>"
      ]
     },
     "metadata": {
      "needs_background": "light"
     },
     "output_type": "display_data"
    }
   ],
   "source": [
    "plt.plot(hist.history['acc'], 'b-', label=\"training\")\n",
    "plt.plot(hist.history['val_acc'], 'r:', label=\"test\")\n",
    "plt.legend()\n",
    "plt.show()"
   ]
  },
  {
   "cell_type": "code",
   "execution_count": 51,
   "metadata": {},
   "outputs": [
    {
     "name": "stdout",
     "output_type": "stream",
     "text": [
      "192/192 [==============================] - 0s 515us/step\n"
     ]
    }
   ],
   "source": [
    "# 전체 테스트 데이터에 대한 예측\n",
    "x_pred = model_b1.predict_classes(X_test, verbose=1)"
   ]
  },
  {
   "cell_type": "code",
   "execution_count": 52,
   "metadata": {},
   "outputs": [
    {
     "data": {
      "text/plain": [
       "(array([0, 0, 0, 0, 0, 0, 0, 0, 0, 0, 0, 0, 0, 0, 0, 0, 0, 0, 0, 0, 0, 0,\n",
       "        0, 0, 0, 0, 0, 0, 0, 0, 0, 0, 0, 1, 0, 0, 0, 0, 0, 1, 0, 0, 0, 0,\n",
       "        0, 0, 0, 0, 0, 0, 0, 0, 0, 0, 0, 0, 0, 0, 0, 0, 0, 0, 0, 0, 0, 0,\n",
       "        0, 0, 0, 0, 0, 0, 0, 0, 0, 0, 0, 0, 0, 0, 0, 0, 0, 0, 0, 0, 0, 0,\n",
       "        0, 0, 0, 0, 0, 0, 0, 0, 0, 0, 0, 0, 0, 0, 0, 0, 0, 0, 0, 0, 0, 0,\n",
       "        0, 0, 0, 0, 0, 0, 0, 0, 0, 0, 0, 0, 0, 0, 0, 0, 0, 0, 0, 0, 0, 0,\n",
       "        0, 0, 0, 0, 0, 0, 0, 0, 0, 0, 0, 0, 0, 0, 0, 0, 0, 0, 0, 0, 0, 0,\n",
       "        0, 0, 0, 0, 0, 0, 1, 0, 0, 0, 0, 0, 0, 0, 0, 0, 0, 0, 0, 0, 0, 0,\n",
       "        0, 0, 0, 0, 0, 0, 0, 0, 0, 0, 0, 0, 0, 0, 0, 0], dtype=int64),\n",
       " array([0, 0, 0, 0, 0, 0, 0, 0, 0, 0, 1, 0, 1, 0, 0, 1, 0, 0, 1, 1, 0, 0,\n",
       "        0, 0, 0, 1, 0, 0, 1, 0, 1, 1, 1, 1, 0, 1, 1, 1, 0, 1, 0, 0, 0, 1,\n",
       "        0, 1, 1, 0, 0, 0, 0, 1, 1, 1, 0, 0, 0, 0, 0, 1, 1, 0, 0, 1, 0, 0,\n",
       "        0, 1, 0, 1, 0, 0, 0, 1, 0, 0, 0, 0, 0, 0, 1, 1, 0, 0, 0, 1, 1, 1,\n",
       "        0, 0, 0, 0, 0, 1, 0, 0, 0, 0, 1, 0, 0, 0, 1, 0, 1, 0, 0, 1, 1, 1,\n",
       "        0, 0, 0, 1, 0, 0, 1, 0, 0, 0, 0, 0, 1, 0, 0, 0, 1, 1, 1, 0, 1, 1,\n",
       "        0, 1, 1, 0, 1, 1, 1, 0, 0, 0, 0, 0, 0, 0, 1, 0, 0, 1, 0, 0, 1, 0,\n",
       "        0, 1, 0, 0, 1, 0, 1, 1, 0, 0, 0, 1, 0, 0, 0, 1, 0, 1, 1, 0, 0, 0,\n",
       "        0, 0, 1, 1, 0, 0, 0, 1, 1, 0, 0, 0, 1, 0, 1, 0], dtype=int64))"
      ]
     },
     "execution_count": 52,
     "metadata": {},
     "output_type": "execute_result"
    }
   ],
   "source": [
    "x_pred,np.argmax(y_test, axis=1)"
   ]
  },
  {
   "cell_type": "code",
   "execution_count": 53,
   "metadata": {},
   "outputs": [],
   "source": [
    "true_y=np.argmax(y_test, axis=1)"
   ]
  },
  {
   "cell_type": "code",
   "execution_count": 54,
   "metadata": {},
   "outputs": [
    {
     "data": {
      "text/plain": [
       "True"
      ]
     },
     "execution_count": 54,
     "metadata": {},
     "output_type": "execute_result"
    }
   ],
   "source": [
    "t_count = np.sum(x_pred==true_y) # True positive\n",
    "f_count = np.sum(x_pred!=true_y) # False positive\n",
    "f_count==len(true_y)-t_count"
   ]
  },
  {
   "cell_type": "code",
   "execution_count": 55,
   "metadata": {},
   "outputs": [
    {
     "data": {
      "text/plain": [
       "(126, 66)"
      ]
     },
     "execution_count": 55,
     "metadata": {},
     "output_type": "execute_result"
    }
   ],
   "source": [
    "t_count,f_count"
   ]
  },
  {
   "cell_type": "code",
   "execution_count": 56,
   "metadata": {},
   "outputs": [
    {
     "data": {
      "text/plain": [
       "65.625"
      ]
     },
     "execution_count": 56,
     "metadata": {},
     "output_type": "execute_result"
    }
   ],
   "source": [
    "accuracy = t_count/len(true_y)*100\n",
    "accuracy"
   ]
  },
  {
   "cell_type": "markdown",
   "metadata": {},
   "source": [
    "### Model with large capacity is slightly better than the model with small capacity."
   ]
  },
  {
   "cell_type": "code",
   "execution_count": null,
   "metadata": {},
   "outputs": [],
   "source": []
  }
 ],
 "metadata": {
  "kernelspec": {
   "display_name": "Python 3",
   "language": "python",
   "name": "python3"
  },
  "language_info": {
   "codemirror_mode": {
    "name": "ipython",
    "version": 3
   },
   "file_extension": ".py",
   "mimetype": "text/x-python",
   "name": "python",
   "nbconvert_exporter": "python",
   "pygments_lexer": "ipython3",
   "version": "3.6.6"
  }
 },
 "nbformat": 4,
 "nbformat_minor": 2
}
