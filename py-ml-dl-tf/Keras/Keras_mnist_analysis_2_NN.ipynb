{
 "cells": [
  {
   "cell_type": "markdown",
   "metadata": {},
   "source": [
    "## Keras example: mnist analysis by simple NN"
   ]
  },
  {
   "cell_type": "code",
   "execution_count": 1,
   "metadata": {},
   "outputs": [
    {
     "name": "stderr",
     "output_type": "stream",
     "text": [
      "Using TensorFlow backend.\n"
     ]
    },
    {
     "name": "stdout",
     "output_type": "stream",
     "text": [
      "CPU times: user 1.13 s, sys: 606 ms, total: 1.73 s\n",
      "Wall time: 1.02 s\n"
     ]
    }
   ],
   "source": [
    "%%time\n",
    "from keras.datasets import mnist\n",
    "(X_train0, y_train0), (X_test0, y_test0) = mnist.load_data()"
   ]
  },
  {
   "cell_type": "code",
   "execution_count": 2,
   "metadata": {},
   "outputs": [
    {
     "name": "stdout",
     "output_type": "stream",
     "text": [
      "(60000, 28, 28) uint8\n",
      "(60000,) uint8\n",
      "(10000, 28, 28) uint8\n",
      "(10000,) uint8\n"
     ]
    }
   ],
   "source": [
    "print(X_train0.shape, X_train0.dtype)\n",
    "print(y_train0.shape, y_train0.dtype)\n",
    "print(X_test0.shape, X_test0.dtype)\n",
    "print(y_test0.shape, y_test0.dtype)"
   ]
  },
  {
   "cell_type": "code",
   "execution_count": 3,
   "metadata": {},
   "outputs": [],
   "source": [
    "import matplotlib.pyplot as plt\n",
    "import matplotlib as mpl\n",
    "%matplotlib inline"
   ]
  },
  {
   "cell_type": "code",
   "execution_count": 4,
   "metadata": {},
   "outputs": [
    {
     "data": {
      "image/png": "[encoded data removed]",
      "text/plain": [
       "<matplotlib.figure.Figure at 0x7ff5eb5ea470>"
      ]
     },
     "metadata": {},
     "output_type": "display_data"
    }
   ],
   "source": [
    "plt.figure(figsize=(2, 2))\n",
    "plt.imshow(X_train0[0], cmap=mpl.cm.bone_r)\n",
    "plt.grid(False)\n",
    "plt.xticks([])\n",
    "plt.yticks([])\n",
    "plt.show()"
   ]
  },
  {
   "cell_type": "markdown",
   "metadata": {},
   "source": [
    "### Show images of numbers"
   ]
  },
  {
   "cell_type": "code",
   "execution_count": 5,
   "metadata": {},
   "outputs": [],
   "source": [
    "# 추가 사항\n",
    "import numpy as np\n",
    "# import matplotlib as mpl\n",
    "def plot_digits(instances, images_per_row=10, **options):\n",
    "    size = 28\n",
    "    images_per_row = min(len(instances), images_per_row)\n",
    "    images = [instance.reshape(size,size) for instance in instances]\n",
    "    n_rows = (len(instances) - 1) // images_per_row + 1\n",
    "    row_images = []\n",
    "    n_empty = n_rows * images_per_row - len(instances)\n",
    "    images.append(np.zeros((size, size * n_empty)))\n",
    "    for row in range(n_rows):\n",
    "        rimages = images[row * images_per_row : (row + 1) * images_per_row]\n",
    "        row_images.append(np.concatenate(rimages, axis=1))\n",
    "    image = np.concatenate(row_images, axis=0)\n",
    "    plt.imshow(image, cmap = mpl.cm.binary, **options)\n",
    "    plt.axis(\"off\")"
   ]
  },
  {
   "cell_type": "code",
   "execution_count": 6,
   "metadata": {},
   "outputs": [
    {
     "data": {
      "image/png": "[encoded data removed]",
      "text/plain": [
       "<matplotlib.figure.Figure at 0x7ff5eb5ea198>"
      ]
     },
     "metadata": {},
     "output_type": "display_data"
    }
   ],
   "source": [
    "plt.figure(figsize=(9,9))\n",
    "example_images = np.r_[X_train0[:50]]\n",
    "plot_digits(example_images, images_per_row=10)\n",
    "\n",
    "plt.show()"
   ]
  },
  {
   "cell_type": "markdown",
   "metadata": {},
   "source": [
    "### 데이터를 float 타입으로 바꾸고 스케일링한다."
   ]
  },
  {
   "cell_type": "code",
   "execution_count": 7,
   "metadata": {},
   "outputs": [
    {
     "name": "stdout",
     "output_type": "stream",
     "text": [
      "(60000, 784) float32\n"
     ]
    }
   ],
   "source": [
    "X_train = X_train0.reshape(60000, 784).astype('float32') / 255.0\n",
    "X_test = X_test0.reshape(10000, 784).astype('float32') / 255.0\n",
    "print(X_train.shape, X_train.dtype)"
   ]
  },
  {
   "cell_type": "markdown",
   "metadata": {},
   "source": [
    "### y 데이터는 One-Hot-Encoding 을 한다."
   ]
  },
  {
   "cell_type": "code",
   "execution_count": 8,
   "metadata": {},
   "outputs": [
    {
     "data": {
      "text/plain": [
       "array([5, 0, 4, 1, 9], dtype=uint8)"
      ]
     },
     "execution_count": 8,
     "metadata": {},
     "output_type": "execute_result"
    }
   ],
   "source": [
    "y_train0[:5]"
   ]
  },
  {
   "cell_type": "code",
   "execution_count": 9,
   "metadata": {},
   "outputs": [
    {
     "data": {
      "text/plain": [
       "array([[0., 0., 0., 0., 0., 1., 0., 0., 0., 0.],\n",
       "       [1., 0., 0., 0., 0., 0., 0., 0., 0., 0.],\n",
       "       [0., 0., 0., 0., 1., 0., 0., 0., 0., 0.],\n",
       "       [0., 1., 0., 0., 0., 0., 0., 0., 0., 0.],\n",
       "       [0., 0., 0., 0., 0., 0., 0., 0., 0., 1.]], dtype=float32)"
      ]
     },
     "execution_count": 9,
     "metadata": {},
     "output_type": "execute_result"
    }
   ],
   "source": [
    "from keras.utils import np_utils\n",
    "\n",
    "Y_train = np_utils.to_categorical(y_train0, 10)\n",
    "Y_test = np_utils.to_categorical(y_test0, 10)\n",
    "Y_train[:5]"
   ]
  },
  {
   "cell_type": "markdown",
   "metadata": {},
   "source": [
    "***"
   ]
  },
  {
   "cell_type": "markdown",
   "metadata": {},
   "source": [
    "## 신경망 구현 순서\n",
    "\n",
    "### Keras 를 사용하면 다음과 같은 순서로 신경망을 구성할 수 있다.\n",
    "\n",
    "1. Sequential 모형 클래스 객체 생성\n",
    "2. add 메서드로 layer 추가.\n",
    "    - Dense layer 가 가장 일반적인 신경망\n",
    "    - 입력단부터 순차적으로 추가한다.\n",
    "    - 레이어는 출력 뉴런 갯수를 첫번째 인수로 받는다.\n",
    "    - 최초의 레이어는 input_dim 인수로 입력 크기를 설정해야 한다.\n",
    "    - activation 인수로 activation 함수 설정\n",
    "3. compile 메서드로 모형 완성.\n",
    "    - loss인수로 Loss 함수 설정\n",
    "    - optimizer 인수로 최적화 알고리즘 설정\n",
    "    - metrics 인수로 트레이닝 단계에서 기록할 성능 기준 설정\n",
    "4. fit 메서드로 트레이닝\n",
    "    - nb_epoch 로 epoch 횟수 설정\n",
    "    - batch_size 로 mini batch size 설정\n",
    "    - metrics 인수로 설정한 성능 기준 기록을 출력으로 반환\n",
    "    - Jupyter Notebook을 사용할 때는 verbose=2로 설정하여 progress bar 가 나오지 않도록 설정한다."
   ]
  },
  {
   "cell_type": "code",
   "execution_count": 10,
   "metadata": {},
   "outputs": [],
   "source": [
    "from keras.models import Sequential\n",
    "from keras.layers.core import Dense\n",
    "from keras.optimizers import SGD\n",
    "import numpy as np"
   ]
  },
  {
   "cell_type": "code",
   "execution_count": 11,
   "metadata": {},
   "outputs": [],
   "source": [
    "# Learning model\n",
    "np.random.seed(0)\n",
    "\n",
    "model = Sequential()\n",
    "model.add(Dense(15, input_dim=784, activation=\"sigmoid\"))  # firsr layer\n",
    "model.add(Dense(10, activation=\"sigmoid\")) # output layer"
   ]
  },
  {
   "cell_type": "markdown",
   "metadata": {},
   "source": [
    "> 만들어진 모형은 model_to_dot 명령이나 summary 명령으로 모델 내부의 layers 리스트를 살펴봄으로써 내부 구조를 확인할 수 있다."
   ]
  },
  {
   "cell_type": "code",
   "execution_count": 12,
   "metadata": {},
   "outputs": [],
   "source": [
    "# !pip install pydot"
   ]
  },
  {
   "cell_type": "code",
   "execution_count": 13,
   "metadata": {},
   "outputs": [],
   "source": [
    "# !pip install GraphViz"
   ]
  },
  {
   "cell_type": "code",
   "execution_count": 14,
   "metadata": {},
   "outputs": [],
   "source": [
    "import pydot\n",
    "import graphviz"
   ]
  },
  {
   "cell_type": "code",
   "execution_count": 15,
   "metadata": {},
   "outputs": [
    {
     "data": {
      "image/svg+xml": [
       "<svg height=\"211pt\" viewBox=\"0.00 0.00 248.00 211.00\" width=\"248pt\" xmlns=\"http://www.w3.org/2000/svg\" xmlns:xlink=\"http://www.w3.org/1999/xlink\">\n",
       "<g class=\"graph\" id=\"graph0\" transform=\"scale(1 1) rotate(0) translate(4 207)\">\n",
       "<title>G</title>\n",
       "<polygon fill=\"#ffffff\" points=\"-4,4 -4,-207 244,-207 244,4 -4,4\" stroke=\"transparent\"/>\n",
       "<!-- 140694132852048 -->\n",
       "<g class=\"node\" id=\"node1\">\n",
       "<title>140694132852048</title>\n",
       "<polygon fill=\"none\" points=\"0,-83.5 0,-129.5 240,-129.5 240,-83.5 0,-83.5\" stroke=\"#000000\"/>\n",
       "<text fill=\"#000000\" font-family=\"Times,serif\" font-size=\"14.00\" text-anchor=\"middle\" x=\"51\" y=\"-102.8\">dense_1: Dense</text>\n",
       "<polyline fill=\"none\" points=\"102,-83.5 102,-129.5 \" stroke=\"#000000\"/>\n",
       "<text fill=\"#000000\" font-family=\"Times,serif\" font-size=\"14.00\" text-anchor=\"middle\" x=\"129.5\" y=\"-114.3\">input:</text>\n",
       "<polyline fill=\"none\" points=\"102,-106.5 157,-106.5 \" stroke=\"#000000\"/>\n",
       "<text fill=\"#000000\" font-family=\"Times,serif\" font-size=\"14.00\" text-anchor=\"middle\" x=\"129.5\" y=\"-91.3\">output:</text>\n",
       "<polyline fill=\"none\" points=\"157,-83.5 157,-129.5 \" stroke=\"#000000\"/>\n",
       "<text fill=\"#000000\" font-family=\"Times,serif\" font-size=\"14.00\" text-anchor=\"middle\" x=\"198.5\" y=\"-114.3\">(None, 784)</text>\n",
       "<polyline fill=\"none\" points=\"157,-106.5 240,-106.5 \" stroke=\"#000000\"/>\n",
       "<text fill=\"#000000\" font-family=\"Times,serif\" font-size=\"14.00\" text-anchor=\"middle\" x=\"198.5\" y=\"-91.3\">(None, 15)</text>\n",
       "</g>\n",
       "<!-- 140694191931968 -->\n",
       "<g class=\"node\" id=\"node2\">\n",
       "<title>140694191931968</title>\n",
       "<polygon fill=\"none\" points=\"3.5,-.5 3.5,-46.5 236.5,-46.5 236.5,-.5 3.5,-.5\" stroke=\"#000000\"/>\n",
       "<text fill=\"#000000\" font-family=\"Times,serif\" font-size=\"14.00\" text-anchor=\"middle\" x=\"54.5\" y=\"-19.8\">dense_2: Dense</text>\n",
       "<polyline fill=\"none\" points=\"105.5,-.5 105.5,-46.5 \" stroke=\"#000000\"/>\n",
       "<text fill=\"#000000\" font-family=\"Times,serif\" font-size=\"14.00\" text-anchor=\"middle\" x=\"133\" y=\"-31.3\">input:</text>\n",
       "<polyline fill=\"none\" points=\"105.5,-23.5 160.5,-23.5 \" stroke=\"#000000\"/>\n",
       "<text fill=\"#000000\" font-family=\"Times,serif\" font-size=\"14.00\" text-anchor=\"middle\" x=\"133\" y=\"-8.3\">output:</text>\n",
       "<polyline fill=\"none\" points=\"160.5,-.5 160.5,-46.5 \" stroke=\"#000000\"/>\n",
       "<text fill=\"#000000\" font-family=\"Times,serif\" font-size=\"14.00\" text-anchor=\"middle\" x=\"198.5\" y=\"-31.3\">(None, 15)</text>\n",
       "<polyline fill=\"none\" points=\"160.5,-23.5 236.5,-23.5 \" stroke=\"#000000\"/>\n",
       "<text fill=\"#000000\" font-family=\"Times,serif\" font-size=\"14.00\" text-anchor=\"middle\" x=\"198.5\" y=\"-8.3\">(None, 10)</text>\n",
       "</g>\n",
       "<!-- 140694132852048&#45;&gt;140694191931968 -->\n",
       "<g class=\"edge\" id=\"edge2\">\n",
       "<title>140694132852048-&gt;140694191931968</title>\n",
       "<path d=\"M120,-83.3799C120,-75.1745 120,-65.7679 120,-56.8786\" fill=\"none\" stroke=\"#000000\"/>\n",
       "<polygon fill=\"#000000\" points=\"123.5001,-56.784 120,-46.784 116.5001,-56.784 123.5001,-56.784\" stroke=\"#000000\"/>\n",
       "</g>\n",
       "<!-- 140694099057128 -->\n",
       "<g class=\"node\" id=\"node3\">\n",
       "<title>140694099057128</title>\n",
       "<polygon fill=\"none\" points=\"61,-166.5 61,-202.5 179,-202.5 179,-166.5 61,-166.5\" stroke=\"#000000\"/>\n",
       "<text fill=\"#000000\" font-family=\"Times,serif\" font-size=\"14.00\" text-anchor=\"middle\" x=\"120\" y=\"-180.8\">140694099057128</text>\n",
       "</g>\n",
       "<!-- 140694099057128&#45;&gt;140694132852048 -->\n",
       "<g class=\"edge\" id=\"edge1\">\n",
       "<title>140694099057128-&gt;140694132852048</title>\n",
       "<path d=\"M120,-166.4092C120,-158.4308 120,-148.795 120,-139.606\" fill=\"none\" stroke=\"#000000\"/>\n",
       "<polygon fill=\"#000000\" points=\"123.5001,-139.5333 120,-129.5333 116.5001,-139.5334 123.5001,-139.5333\" stroke=\"#000000\"/>\n",
       "</g>\n",
       "</g>\n",
       "</svg>"
      ],
      "text/plain": [
       "<IPython.core.display.SVG object>"
      ]
     },
     "execution_count": 15,
     "metadata": {},
     "output_type": "execute_result"
    }
   ],
   "source": [
    "from IPython.display import SVG\n",
    "from keras.utils.vis_utils import model_to_dot\n",
    "\n",
    "SVG(model_to_dot(model, show_shapes=True).create(prog='dot', format='svg'))"
   ]
  },
  {
   "cell_type": "code",
   "execution_count": 16,
   "metadata": {},
   "outputs": [],
   "source": [
    "from keras.utils import plot_model\n",
    "plot_model(model, to_file='model.png')"
   ]
  },
  {
   "cell_type": "code",
   "execution_count": 17,
   "metadata": {},
   "outputs": [
    {
     "name": "stdout",
     "output_type": "stream",
     "text": [
      "_________________________________________________________________\n",
      "Layer (type)                 Output Shape              Param #   \n",
      "=================================================================\n",
      "dense_1 (Dense)              (None, 15)                11775     \n",
      "_________________________________________________________________\n",
      "dense_2 (Dense)              (None, 10)                160       \n",
      "=================================================================\n",
      "Total params: 11,935\n",
      "Trainable params: 11,935\n",
      "Non-trainable params: 0\n",
      "_________________________________________________________________\n"
     ]
    }
   ],
   "source": [
    "model.summary()"
   ]
  },
  {
   "cell_type": "code",
   "execution_count": 18,
   "metadata": {},
   "outputs": [],
   "source": [
    "l1 = model.layers[0]\n",
    "l2 = model.layers[1]"
   ]
  },
  {
   "cell_type": "code",
   "execution_count": 19,
   "metadata": {},
   "outputs": [
    {
     "data": {
      "text/plain": [
       "('dense_1', keras.layers.core.Dense, (None, 15), 'sigmoid', 11775)"
      ]
     },
     "execution_count": 19,
     "metadata": {},
     "output_type": "execute_result"
    }
   ],
   "source": [
    "l1.name, type(l1), l1.output_shape, l1.activation.__name__, l1.count_params()"
   ]
  },
  {
   "cell_type": "code",
   "execution_count": 20,
   "metadata": {},
   "outputs": [
    {
     "data": {
      "text/plain": [
       "('dense_2', keras.layers.core.Dense, (None, 10), 'sigmoid', 160)"
      ]
     },
     "execution_count": 20,
     "metadata": {},
     "output_type": "execute_result"
    }
   ],
   "source": [
    "l2.name, type(l1), l2.output_shape, l2.activation.__name__, l2.count_params()"
   ]
  },
  {
   "cell_type": "markdown",
   "metadata": {},
   "source": [
    "## fit 메서드로 트레이닝"
   ]
  },
  {
   "cell_type": "code",
   "execution_count": 21,
   "metadata": {},
   "outputs": [],
   "source": [
    "model.compile(optimizer=SGD(lr=0.2), loss='mean_squared_error', metrics=[\"accuracy\"])"
   ]
  },
  {
   "cell_type": "code",
   "execution_count": 22,
   "metadata": {},
   "outputs": [
    {
     "name": "stdout",
     "output_type": "stream",
     "text": [
      "Train on 60000 samples, validate on 10000 samples\n",
      "Epoch 1/30\n",
      "60000/60000 [==============================] - 2s 26us/step - loss: 0.1019 - acc: 0.2440 - val_loss: 0.0864 - val_acc: 0.3212\n",
      "Epoch 2/30\n",
      "60000/60000 [==============================] - 1s 12us/step - loss: 0.0845 - acc: 0.3921 - val_loss: 0.0821 - val_acc: 0.4409\n",
      "Epoch 3/30\n",
      "60000/60000 [==============================] - 1s 12us/step - loss: 0.0796 - acc: 0.4997 - val_loss: 0.0765 - val_acc: 0.5340\n",
      "Epoch 4/30\n",
      "60000/60000 [==============================] - 1s 11us/step - loss: 0.0740 - acc: 0.5620 - val_loss: 0.0707 - val_acc: 0.5852\n",
      "Epoch 5/30\n",
      "60000/60000 [==============================] - 1s 11us/step - loss: 0.0682 - acc: 0.6149 - val_loss: 0.0649 - val_acc: 0.6522\n",
      "Epoch 6/30\n",
      "60000/60000 [==============================] - 1s 11us/step - loss: 0.0625 - acc: 0.6759 - val_loss: 0.0594 - val_acc: 0.6998\n",
      "Epoch 7/30\n",
      "60000/60000 [==============================] - 1s 11us/step - loss: 0.0576 - acc: 0.7101 - val_loss: 0.0551 - val_acc: 0.7316\n",
      "Epoch 8/30\n",
      "60000/60000 [==============================] - 1s 11us/step - loss: 0.0537 - acc: 0.7325 - val_loss: 0.0516 - val_acc: 0.7485\n",
      "Epoch 9/30\n",
      "60000/60000 [==============================] - 1s 11us/step - loss: 0.0505 - acc: 0.7474 - val_loss: 0.0486 - val_acc: 0.7639\n",
      "Epoch 10/30\n",
      "60000/60000 [==============================] - 1s 11us/step - loss: 0.0478 - acc: 0.7608 - val_loss: 0.0461 - val_acc: 0.7759\n",
      "Epoch 11/30\n",
      "60000/60000 [==============================] - 1s 11us/step - loss: 0.0455 - acc: 0.7739 - val_loss: 0.0439 - val_acc: 0.7893\n",
      "Epoch 12/30\n",
      "60000/60000 [==============================] - 1s 11us/step - loss: 0.0435 - acc: 0.7859 - val_loss: 0.0420 - val_acc: 0.8023\n",
      "Epoch 13/30\n",
      "60000/60000 [==============================] - 1s 11us/step - loss: 0.0417 - acc: 0.7977 - val_loss: 0.0402 - val_acc: 0.8132\n",
      "Epoch 14/30\n",
      "60000/60000 [==============================] - 1s 11us/step - loss: 0.0400 - acc: 0.8083 - val_loss: 0.0386 - val_acc: 0.8255\n",
      "Epoch 15/30\n",
      "60000/60000 [==============================] - 1s 11us/step - loss: 0.0385 - acc: 0.8192 - val_loss: 0.0371 - val_acc: 0.8359\n",
      "Epoch 16/30\n",
      "60000/60000 [==============================] - 1s 11us/step - loss: 0.0371 - acc: 0.8288 - val_loss: 0.0358 - val_acc: 0.8432\n",
      "Epoch 17/30\n",
      "60000/60000 [==============================] - 1s 11us/step - loss: 0.0359 - acc: 0.8371 - val_loss: 0.0345 - val_acc: 0.8503\n",
      "Epoch 18/30\n",
      "60000/60000 [==============================] - 1s 11us/step - loss: 0.0347 - acc: 0.8440 - val_loss: 0.0334 - val_acc: 0.8557\n",
      "Epoch 19/30\n",
      "60000/60000 [==============================] - 1s 11us/step - loss: 0.0336 - acc: 0.8506 - val_loss: 0.0323 - val_acc: 0.8618\n",
      "Epoch 20/30\n",
      "60000/60000 [==============================] - 1s 11us/step - loss: 0.0326 - acc: 0.8565 - val_loss: 0.0313 - val_acc: 0.8651\n",
      "Epoch 21/30\n",
      "60000/60000 [==============================] - 1s 11us/step - loss: 0.0316 - acc: 0.8610 - val_loss: 0.0304 - val_acc: 0.8706\n",
      "Epoch 22/30\n",
      "60000/60000 [==============================] - 1s 11us/step - loss: 0.0308 - acc: 0.8646 - val_loss: 0.0295 - val_acc: 0.8742\n",
      "Epoch 23/30\n",
      "60000/60000 [==============================] - 1s 11us/step - loss: 0.0299 - acc: 0.8679 - val_loss: 0.0287 - val_acc: 0.8777\n",
      "Epoch 24/30\n",
      "60000/60000 [==============================] - 1s 11us/step - loss: 0.0292 - acc: 0.8709 - val_loss: 0.0280 - val_acc: 0.8790\n",
      "Epoch 25/30\n",
      "60000/60000 [==============================] - 1s 11us/step - loss: 0.0285 - acc: 0.8738 - val_loss: 0.0273 - val_acc: 0.8814\n",
      "Epoch 26/30\n",
      "60000/60000 [==============================] - 1s 11us/step - loss: 0.0278 - acc: 0.8765 - val_loss: 0.0267 - val_acc: 0.8845\n",
      "Epoch 27/30\n",
      "60000/60000 [==============================] - 1s 11us/step - loss: 0.0272 - acc: 0.8787 - val_loss: 0.0261 - val_acc: 0.8863\n",
      "Epoch 28/30\n",
      "60000/60000 [==============================] - 1s 11us/step - loss: 0.0266 - acc: 0.8814 - val_loss: 0.0255 - val_acc: 0.8878\n",
      "Epoch 29/30\n",
      "60000/60000 [==============================] - 1s 11us/step - loss: 0.0261 - acc: 0.8829 - val_loss: 0.0250 - val_acc: 0.8894\n",
      "Epoch 30/30\n",
      "60000/60000 [==============================] - 1s 11us/step - loss: 0.0256 - acc: 0.8844 - val_loss: 0.0245 - val_acc: 0.8904\n",
      "CPU times: user 37.9 s, sys: 4.1 s, total: 42 s\n",
      "Wall time: 20.8 s\n"
     ]
    }
   ],
   "source": [
    "%%time\n",
    "hist = model.fit(X_train, Y_train, \n",
    "                 epochs=30, batch_size=100, \n",
    "                 validation_data=(X_test, Y_test), \n",
    "                 verbose=1)"
   ]
  },
  {
   "cell_type": "code",
   "execution_count": 23,
   "metadata": {},
   "outputs": [
    {
     "data": {
      "image/png": "[encoded data removed]",
      "text/plain": [
       "<matplotlib.figure.Figure at 0x7ff6601cf630>"
      ]
     },
     "metadata": {},
     "output_type": "display_data"
    }
   ],
   "source": [
    "# Plot performance\n",
    "plt.plot(hist.history['loss'])\n",
    "plt.show()"
   ]
  },
  {
   "cell_type": "code",
   "execution_count": 24,
   "metadata": {},
   "outputs": [
    {
     "data": {
      "image/png": "[encoded data removed]",
      "text/plain": [
       "<matplotlib.figure.Figure at 0x7ff65f735128>"
      ]
     },
     "metadata": {},
     "output_type": "display_data"
    }
   ],
   "source": [
    "plt.plot(hist.history['acc'], 'b-', label=\"training\")\n",
    "plt.plot(hist.history['val_acc'], 'r:', label=\"test\")\n",
    "plt.legend()\n",
    "plt.show()"
   ]
  },
  {
   "cell_type": "markdown",
   "metadata": {},
   "source": [
    "## 가중치 정보"
   ]
  },
  {
   "cell_type": "markdown",
   "metadata": {},
   "source": [
    "> 트레이닝이 끝난 모형의 가중치 정보는 get_weights 메서드로 구할 수 있다. 이 메서드는 w 값과 b 값을 출력한다."
   ]
  },
  {
   "cell_type": "code",
   "execution_count": 25,
   "metadata": {},
   "outputs": [
    {
     "data": {
      "text/plain": [
       "((784, 15), (15,))"
      ]
     },
     "execution_count": 25,
     "metadata": {},
     "output_type": "execute_result"
    }
   ],
   "source": [
    "w1 = l1.get_weights()\n",
    "w1[0].shape, w1[1].shape"
   ]
  },
  {
   "cell_type": "code",
   "execution_count": 26,
   "metadata": {},
   "outputs": [
    {
     "data": {
      "text/plain": [
       "((15, 10), (10,))"
      ]
     },
     "execution_count": 26,
     "metadata": {},
     "output_type": "execute_result"
    }
   ],
   "source": [
    "w2 = l2.get_weights()\n",
    "w2[0].shape, w2[1].shape"
   ]
  },
  {
   "cell_type": "markdown",
   "metadata": {},
   "source": [
    "## 모형의 사용\n",
    "\n",
    "> 트레이닝이 끝난 모형은 predict 메서드로 y 값을 출력하거나 출력된 y값을 각 클래스에 대한 판별함수로 가정하고 predict_classes 메서드로 classification을 할 수 있다."
   ]
  },
  {
   "cell_type": "code",
   "execution_count": 27,
   "metadata": {},
   "outputs": [
    {
     "data": {
      "image/png": "[encoded data removed]",
      "text/plain": [
       "<matplotlib.figure.Figure at 0x7ff65f6b6780>"
      ]
     },
     "metadata": {},
     "output_type": "display_data"
    }
   ],
   "source": [
    "plt.figure(figsize=(2, 2))\n",
    "plt.imshow(X_test0[0], cmap=mpl.cm.bone_r)\n",
    "plt.grid(False)\n",
    "plt.xticks([])\n",
    "plt.yticks([])\n",
    "plt.show()"
   ]
  },
  {
   "cell_type": "code",
   "execution_count": 28,
   "metadata": {},
   "outputs": [
    {
     "data": {
      "text/plain": [
       "array([[0.01767   , 0.01917328, 0.01319782, 0.0286966 , 0.01251966,\n",
       "        0.05721792, 0.01232018, 0.9418675 , 0.00762814, 0.0553683 ]],\n",
       "      dtype=float32)"
      ]
     },
     "execution_count": 28,
     "metadata": {},
     "output_type": "execute_result"
    }
   ],
   "source": [
    "model.predict(X_test[:1, :])"
   ]
  },
  {
   "cell_type": "code",
   "execution_count": 29,
   "metadata": {},
   "outputs": [
    {
     "data": {
      "text/plain": [
       "array([7])"
      ]
     },
     "execution_count": 29,
     "metadata": {},
     "output_type": "execute_result"
    }
   ],
   "source": [
    "model.predict_classes(X_test[:1, :], verbose=0)"
   ]
  },
  {
   "cell_type": "markdown",
   "metadata": {},
   "source": [
    "## 모형의 저장\n",
    "\n",
    ">  트레이닝이 끝난 모형은 save 메서드로 가중치와 함께 hdf5 형식으로 저장하였다가 나중에 load 명령으로 불러 사용할 수 있다."
   ]
  },
  {
   "cell_type": "code",
   "execution_count": 30,
   "metadata": {},
   "outputs": [],
   "source": [
    "model.save('my_model.hdf5')\n",
    "# del model"
   ]
  },
  {
   "cell_type": "code",
   "execution_count": 31,
   "metadata": {},
   "outputs": [
    {
     "data": {
      "text/plain": [
       "array([7])"
      ]
     },
     "execution_count": 31,
     "metadata": {},
     "output_type": "execute_result"
    }
   ],
   "source": [
    "from keras.models import load_model\n",
    "\n",
    "model2 = load_model('my_model.hdf5')\n",
    "model2.predict_classes(X_test[:1, :], verbose=0)"
   ]
  },
  {
   "cell_type": "code",
   "execution_count": 32,
   "metadata": {},
   "outputs": [
    {
     "data": {
      "text/plain": [
       "array([7, 2, 1, 0, 4, 1, 4, 9, 6, 9])"
      ]
     },
     "execution_count": 32,
     "metadata": {},
     "output_type": "execute_result"
    }
   ],
   "source": [
    "model2.predict_classes(X_test[:10, :], verbose=0)"
   ]
  },
  {
   "cell_type": "code",
   "execution_count": 33,
   "metadata": {},
   "outputs": [
    {
     "data": {
      "text/plain": [
       "array([7, 2, 1, 0, 4, 1, 4, 9, 5, 9], dtype=uint8)"
      ]
     },
     "execution_count": 33,
     "metadata": {},
     "output_type": "execute_result"
    }
   ],
   "source": [
    "y_test0[:10]"
   ]
  },
  {
   "cell_type": "markdown",
   "metadata": {},
   "source": [
    "### 테스트 데이터에 대한 예측 정확도 계산 "
   ]
  },
  {
   "cell_type": "code",
   "execution_count": 34,
   "metadata": {},
   "outputs": [
    {
     "name": "stdout",
     "output_type": "stream",
     "text": [
      "1/1 [==============================] - 0s 645us/step\n"
     ]
    },
    {
     "data": {
      "text/plain": [
       "array([6])"
      ]
     },
     "execution_count": 34,
     "metadata": {},
     "output_type": "execute_result"
    }
   ],
   "source": [
    "# Wrong prediction\n",
    "model2.predict_classes(X_test[8:9, :], verbose=1)"
   ]
  },
  {
   "cell_type": "code",
   "execution_count": 35,
   "metadata": {},
   "outputs": [
    {
     "data": {
      "text/plain": [
       "5"
      ]
     },
     "execution_count": 35,
     "metadata": {},
     "output_type": "execute_result"
    }
   ],
   "source": [
    "y_test0[8]"
   ]
  },
  {
   "cell_type": "code",
   "execution_count": 36,
   "metadata": {},
   "outputs": [
    {
     "name": "stdout",
     "output_type": "stream",
     "text": [
      "10000/10000 [==============================] - 0s 10us/step\n"
     ]
    }
   ],
   "source": [
    "x_pred = model2.predict_classes(X_test, verbose=1)"
   ]
  },
  {
   "cell_type": "code",
   "execution_count": 37,
   "metadata": {},
   "outputs": [
    {
     "data": {
      "text/plain": [
       "True"
      ]
     },
     "execution_count": 37,
     "metadata": {},
     "output_type": "execute_result"
    }
   ],
   "source": [
    "t_count = np.sum(x_pred==y_test0) # True positive\n",
    "f_count = np.sum(x_pred!=y_test0) # False positive\n",
    "f_count==10000-t_count"
   ]
  },
  {
   "cell_type": "code",
   "execution_count": 38,
   "metadata": {},
   "outputs": [
    {
     "data": {
      "text/plain": [
       "(8904, 1096)"
      ]
     },
     "execution_count": 38,
     "metadata": {},
     "output_type": "execute_result"
    }
   ],
   "source": [
    "t_count,f_count"
   ]
  },
  {
   "cell_type": "code",
   "execution_count": 39,
   "metadata": {},
   "outputs": [
    {
     "data": {
      "text/plain": [
       "89.03999999999999"
      ]
     },
     "execution_count": 39,
     "metadata": {},
     "output_type": "execute_result"
    }
   ],
   "source": [
    "accuracy = t_count/10000*100\n",
    "accuracy"
   ]
  },
  {
   "cell_type": "markdown",
   "metadata": {},
   "source": [
    "### Accuracy of predicting test numbers is around 89% in simple neural network model."
   ]
  },
  {
   "cell_type": "code",
   "execution_count": null,
   "metadata": {},
   "outputs": [],
   "source": []
  }
 ],
 "metadata": {
  "kernelspec": {
   "display_name": "Python 3",
   "language": "python",
   "name": "python3"
  },
  "language_info": {
   "codemirror_mode": {
    "name": "ipython",
    "version": 3
   },
   "file_extension": ".py",
   "mimetype": "text/x-python",
   "name": "python",
   "nbconvert_exporter": "python",
   "pygments_lexer": "ipython3",
   "version": "3.6.5"
  }
 },
 "nbformat": 4,
 "nbformat_minor": 2
}
