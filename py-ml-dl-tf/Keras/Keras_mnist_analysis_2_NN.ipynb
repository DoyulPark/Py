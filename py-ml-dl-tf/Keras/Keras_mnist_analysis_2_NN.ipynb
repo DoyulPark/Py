{
  "nbformat": 4,
  "nbformat_minor": 0,
  "metadata": {
    "colab": {
      "name": "Keras_mnist_analysis_2_NN",
      "version": "0.3.2",
      "provenance": [],
      "collapsed_sections": [],
      "include_colab_link": true
    },
    "kernelspec": {
      "display_name": "Python 3",
      "language": "python",
      "name": "python3"
    }
  },
  "cells": [
    {
      "cell_type": "markdown",
      "metadata": {
        "id": "view-in-github",
        "colab_type": "text"
      },
      "source": [
        "<a href=\"https://colab.research.google.com/github/Redwoods/Py/blob/master/py-ml-dl-tf/Keras/Keras_mnist_analysis_2_NN.ipynb\" target=\"_parent\"><img src=\"https://colab.research.google.com/assets/colab-badge.svg\" alt=\"Open In Colab\"/></a>"
      ]
    },
    {
      "metadata": {
        "id": "P9FOeMJZ3fqD",
        "colab_type": "text"
      },
      "cell_type": "markdown",
      "source": [
        "## Keras example: mnist analysis by simple NN"
      ]
    },
    {
      "metadata": {
        "id": "BDbYHPtT3fqH",
        "colab_type": "code",
        "colab": {
          "base_uri": "https://localhost:8080/",
          "height": 73
        },
        "outputId": "8408e3d0-b4cd-4060-caa5-89a1e44c80cd"
      },
      "cell_type": "code",
      "source": [
        "%%time\n",
        "from keras.datasets import mnist\n",
        "(X_train0, y_train0), (X_test0, y_test0) = mnist.load_data()"
      ],
      "execution_count": 1,
      "outputs": [
        {
          "output_type": "stream",
          "text": [
            "Using TensorFlow backend.\n"
          ],
          "name": "stderr"
        },
        {
          "output_type": "stream",
          "text": [
            "CPU times: user 1.24 s, sys: 186 ms, total: 1.43 s\n",
            "Wall time: 1.44 s\n"
          ],
          "name": "stdout"
        }
      ]
    },
    {
      "metadata": {
        "id": "Z12GoOpw3fqW",
        "colab_type": "code",
        "colab": {
          "base_uri": "https://localhost:8080/",
          "height": 92
        },
        "outputId": "17fc6070-3d0f-496e-acf5-7759035cc2b6"
      },
      "cell_type": "code",
      "source": [
        "print(X_train0.shape, X_train0.dtype)\n",
        "print(y_train0.shape, y_train0.dtype)\n",
        "print(X_test0.shape, X_test0.dtype)\n",
        "print(y_test0.shape, y_test0.dtype)"
      ],
      "execution_count": 2,
      "outputs": [
        {
          "output_type": "stream",
          "text": [
            "(60000, 28, 28) uint8\n",
            "(60000,) uint8\n",
            "(10000, 28, 28) uint8\n",
            "(10000,) uint8\n"
          ],
          "name": "stdout"
        }
      ]
    },
    {
      "metadata": {
        "id": "w1zLlWM53fqg",
        "colab_type": "code",
        "colab": {}
      },
      "cell_type": "code",
      "source": [
        "import matplotlib.pyplot as plt\n",
        "import matplotlib as mpl\n",
        "%matplotlib inline"
      ],
      "execution_count": 0,
      "outputs": []
    },
    {
      "metadata": {
        "id": "wQZZiLvL3fqk",
        "colab_type": "code",
        "colab": {
          "base_uri": "https://localhost:8080/",
          "height": 141
        },
        "outputId": "d66f2551-da22-41b2-c98e-163ee1b3064c"
      },
      "cell_type": "code",
      "source": [
        "plt.figure(figsize=(2, 2))\n",
        "plt.imshow(X_train0[0], cmap=mpl.cm.bone_r)\n",
        "plt.grid(False)\n",
        "plt.xticks([])\n",
        "plt.yticks([])\n",
        "plt.show()"
      ],
      "execution_count": 4,
      "outputs": [
        {
          "output_type": "display_data",
          "data": {
            "image/png": "[encoded data removed]",
            "text/plain": [
              "<matplotlib.figure.Figure at 0x7fa86b757160>"
            ]
          },
          "metadata": {
            "tags": []
          }
        }
      ]
    },
    {
      "metadata": {
        "id": "5grjRfzH3fqq",
        "colab_type": "text"
      },
      "cell_type": "markdown",
      "source": [
        "### Show images of numbers"
      ]
    },
    {
      "metadata": {
        "id": "j7ODSrrh3fqs",
        "colab_type": "code",
        "colab": {}
      },
      "cell_type": "code",
      "source": [
        "# 추가 사항\n",
        "import numpy as np\n",
        "# import matplotlib as mpl\n",
        "def plot_digits(instances, images_per_row=10, **options):\n",
        "    size = 28\n",
        "    images_per_row = min(len(instances), images_per_row)\n",
        "    images = [instance.reshape(size,size) for instance in instances]\n",
        "    n_rows = (len(instances) - 1) // images_per_row + 1\n",
        "    row_images = []\n",
        "    n_empty = n_rows * images_per_row - len(instances)\n",
        "    images.append(np.zeros((size, size * n_empty)))\n",
        "    for row in range(n_rows):\n",
        "        rimages = images[row * images_per_row : (row + 1) * images_per_row]\n",
        "        row_images.append(np.concatenate(rimages, axis=1))\n",
        "    image = np.concatenate(row_images, axis=0)\n",
        "    plt.imshow(image, cmap = mpl.cm.binary, **options)\n",
        "    plt.axis(\"off\")"
      ],
      "execution_count": 0,
      "outputs": []
    },
    {
      "metadata": {
        "id": "dIzPa2Dl3fqw",
        "colab_type": "code",
        "colab": {
          "base_uri": "https://localhost:8080/",
          "height": 303
        },
        "outputId": "8f6b79a8-4858-4ef2-a416-4b9a126140a3"
      },
      "cell_type": "code",
      "source": [
        "plt.figure(figsize=(9,9))\n",
        "example_images = np.r_[X_train0[:50]]\n",
        "plot_digits(example_images, images_per_row=10)\n",
        "\n",
        "plt.show()"
      ],
      "execution_count": 6,
      "outputs": [
        {
          "output_type": "display_data",
          "data": {
            "image/png": "[encoded data removed]",
            "text/plain": [
              "<matplotlib.figure.Figure at 0x7fa86b6fb8d0>"
            ]
          },
          "metadata": {
            "tags": []
          }
        }
      ]
    },
    {
      "metadata": {
        "id": "dqgh5skp3fq3",
        "colab_type": "text"
      },
      "cell_type": "markdown",
      "source": [
        "### 데이터를 float 타입으로 바꾸고 스케일링한다."
      ]
    },
    {
      "metadata": {
        "id": "Dnp1-p703fq4",
        "colab_type": "code",
        "colab": {
          "base_uri": "https://localhost:8080/",
          "height": 36
        },
        "outputId": "e1d3bfaf-fce0-4cc4-b1a5-1dae0554af80"
      },
      "cell_type": "code",
      "source": [
        "X_train = X_train0.reshape(60000, 784).astype('float32') / 255.0\n",
        "X_test = X_test0.reshape(10000, 784).astype('float32') / 255.0\n",
        "print(X_train.shape, X_train.dtype)"
      ],
      "execution_count": 7,
      "outputs": [
        {
          "output_type": "stream",
          "text": [
            "(60000, 784) float32\n"
          ],
          "name": "stdout"
        }
      ]
    },
    {
      "metadata": {
        "id": "qb9QZ7JJ3fq9",
        "colab_type": "text"
      },
      "cell_type": "markdown",
      "source": [
        "### y 데이터는 One-Hot-Encoding 을 한다."
      ]
    },
    {
      "metadata": {
        "id": "yeiRbIY83fq_",
        "colab_type": "code",
        "colab": {
          "base_uri": "https://localhost:8080/",
          "height": 36
        },
        "outputId": "968ab026-efc2-4326-e691-abeb0e7eccd9"
      },
      "cell_type": "code",
      "source": [
        "y_train0[:5]"
      ],
      "execution_count": 8,
      "outputs": [
        {
          "output_type": "execute_result",
          "data": {
            "text/plain": [
              "array([5, 0, 4, 1, 9], dtype=uint8)"
            ]
          },
          "metadata": {
            "tags": []
          },
          "execution_count": 8
        }
      ]
    },
    {
      "metadata": {
        "id": "wbORHwO83frC",
        "colab_type": "code",
        "colab": {
          "base_uri": "https://localhost:8080/",
          "height": 111
        },
        "outputId": "1c028050-bd22-40a2-a38b-b9a95e1681f5"
      },
      "cell_type": "code",
      "source": [
        "from keras.utils import np_utils\n",
        "\n",
        "y_train = np_utils.to_categorical(y_train0, 10)\n",
        "y_test = np_utils.to_categorical(y_test0, 10)\n",
        "y_train[:5]"
      ],
      "execution_count": 10,
      "outputs": [
        {
          "output_type": "execute_result",
          "data": {
            "text/plain": [
              "array([[0., 0., 0., 0., 0., 1., 0., 0., 0., 0.],\n",
              "       [1., 0., 0., 0., 0., 0., 0., 0., 0., 0.],\n",
              "       [0., 0., 0., 0., 1., 0., 0., 0., 0., 0.],\n",
              "       [0., 1., 0., 0., 0., 0., 0., 0., 0., 0.],\n",
              "       [0., 0., 0., 0., 0., 0., 0., 0., 0., 1.]], dtype=float32)"
            ]
          },
          "metadata": {
            "tags": []
          },
          "execution_count": 10
        }
      ]
    },
    {
      "metadata": {
        "id": "bVhko1KC3frH",
        "colab_type": "text"
      },
      "cell_type": "markdown",
      "source": [
        "***"
      ]
    },
    {
      "metadata": {
        "id": "uxDb3nEL3frI",
        "colab_type": "text"
      },
      "cell_type": "markdown",
      "source": [
        "## 신경망 구현 순서\n",
        "\n",
        "### Keras 를 사용하면 다음과 같은 순서로 신경망을 구성할 수 있다.\n",
        "\n",
        "1. Sequential 모형 클래스 객체 생성\n",
        "2. add 메서드로 layer 추가.\n",
        "    - Dense layer 가 가장 일반적인 신경망\n",
        "    - 입력단부터 순차적으로 추가한다.\n",
        "    - 레이어는 출력 뉴런 갯수를 첫번째 인수로 받는다.\n",
        "    - 최초의 레이어는 input_dim 인수로 입력 크기를 설정해야 한다.\n",
        "    - activation 인수로 activation 함수 설정\n",
        "3. compile 메서드로 모형 완성.\n",
        "    - loss인수로 Loss 함수 설정\n",
        "    - optimizer 인수로 최적화 알고리즘 설정\n",
        "    - metrics 인수로 트레이닝 단계에서 기록할 성능 기준 설정\n",
        "4. fit 메서드로 트레이닝\n",
        "    - nb_epoch 로 epoch 횟수 설정\n",
        "    - batch_size 로 mini batch size 설정\n",
        "    - metrics 인수로 설정한 성능 기준 기록을 출력으로 반환\n",
        "    - Jupyter Notebook을 사용할 때는 verbose=2로 설정하여 progress bar 가 나오지 않도록 설정한다."
      ]
    },
    {
      "metadata": {
        "id": "jhpH9wM23frJ",
        "colab_type": "code",
        "colab": {}
      },
      "cell_type": "code",
      "source": [
        "from keras.models import Sequential\n",
        "from keras.layers.core import Dense\n",
        "from keras.optimizers import SGD\n",
        "import numpy as np"
      ],
      "execution_count": 0,
      "outputs": []
    },
    {
      "metadata": {
        "id": "GfgcaZSL3frM",
        "colab_type": "code",
        "colab": {}
      },
      "cell_type": "code",
      "source": [
        "# Learning model\n",
        "np.random.seed(0)\n",
        "\n",
        "model = Sequential()\n",
        "model.add(Dense(15, input_dim=784, activation=\"sigmoid\"))  # firsr layer\n",
        "model.add(Dense(10, activation=\"sigmoid\")) # output layer"
      ],
      "execution_count": 0,
      "outputs": []
    },
    {
      "metadata": {
        "id": "-QzXxanP3frP",
        "colab_type": "text"
      },
      "cell_type": "markdown",
      "source": [
        "> 만들어진 모형은 model_to_dot 명령이나 summary 명령으로 모델 내부의 layers 리스트를 살펴봄으로써 내부 구조를 확인할 수 있다."
      ]
    },
    {
      "metadata": {
        "id": "MsEk3ukw3frh",
        "colab_type": "code",
        "colab": {
          "base_uri": "https://localhost:8080/",
          "height": 185
        },
        "outputId": "b0512ae8-d099-42b5-8bff-9174af5c5aee"
      },
      "cell_type": "code",
      "source": [
        "# https://laujohn.com/2018/09/24/Plot-Keras-Model-in-Colaboratory/\n",
        "# Install dependencies\n",
        "!apt install graphviz\n",
        "!pip install pydot pydot-ng\n",
        "!echo \"Double check with Python 3\"\n",
        "!python -c \"import pydot\""
      ],
      "execution_count": 38,
      "outputs": [
        {
          "output_type": "stream",
          "text": [
            "Reading package lists... Done\n",
            "Building dependency tree       \n",
            "Reading state information... Done\n",
            "graphviz is already the newest version (2.40.1-2).\n",
            "0 upgraded, 0 newly installed, 0 to remove and 5 not upgraded.\n",
            "Requirement already satisfied: pydot in /usr/local/lib/python3.6/dist-packages (1.3.0)\n",
            "Requirement already satisfied: pydot-ng in /usr/local/lib/python3.6/dist-packages (2.0.0)\n",
            "Requirement already satisfied: pyparsing>=2.1.4 in /usr/local/lib/python3.6/dist-packages (from pydot) (2.3.0)\n",
            "Double check with Python 3\n"
          ],
          "name": "stdout"
        }
      ]
    },
    {
      "metadata": {
        "id": "S6fEqUpd3frm",
        "colab_type": "code",
        "colab": {
          "base_uri": "https://localhost:8080/",
          "height": 301
        },
        "outputId": "5eabfbf6-ed6b-426f-fac2-76b45c92f907"
      },
      "cell_type": "code",
      "source": [
        "from IPython.display import SVG\n",
        "from keras.utils.vis_utils import model_to_dot\n",
        "\n",
        "SVG(model_to_dot(model, show_shapes=True).create(prog='dot', format='svg'))"
      ],
      "execution_count": 39,
      "outputs": [
        {
          "output_type": "execute_result",
          "data": {
            "text/plain": [
              "<IPython.core.display.SVG object>"
            ],
            "image/svg+xml": "<svg height=\"211pt\" viewBox=\"0.00 0.00 260.00 211.00\" width=\"260pt\" xmlns=\"http://www.w3.org/2000/svg\" xmlns:xlink=\"http://www.w3.org/1999/xlink\">\n<g class=\"graph\" id=\"graph0\" transform=\"scale(1 1) rotate(0) translate(4 207)\">\n<title>G</title>\n<polygon fill=\"#ffffff\" points=\"-4,4 -4,-207 256,-207 256,4 -4,4\" stroke=\"transparent\"/>\n<!-- 140361333716360 -->\n<g class=\"node\" id=\"node1\">\n<title>140361333716360</title>\n<polygon fill=\"none\" points=\"0,-83.5 0,-129.5 252,-129.5 252,-83.5 0,-83.5\" stroke=\"#000000\"/>\n<text fill=\"#000000\" font-family=\"Times,serif\" font-size=\"14.00\" text-anchor=\"middle\" x=\"53.5\" y=\"-102.8\">dense_1: Dense</text>\n<polyline fill=\"none\" points=\"107,-83.5 107,-129.5 \" stroke=\"#000000\"/>\n<text fill=\"#000000\" font-family=\"Times,serif\" font-size=\"14.00\" text-anchor=\"middle\" x=\"136\" y=\"-114.3\">input:</text>\n<polyline fill=\"none\" points=\"107,-106.5 165,-106.5 \" stroke=\"#000000\"/>\n<text fill=\"#000000\" font-family=\"Times,serif\" font-size=\"14.00\" text-anchor=\"middle\" x=\"136\" y=\"-91.3\">output:</text>\n<polyline fill=\"none\" points=\"165,-83.5 165,-129.5 \" stroke=\"#000000\"/>\n<text fill=\"#000000\" font-family=\"Times,serif\" font-size=\"14.00\" text-anchor=\"middle\" x=\"208.5\" y=\"-114.3\">(None, 784)</text>\n<polyline fill=\"none\" points=\"165,-106.5 252,-106.5 \" stroke=\"#000000\"/>\n<text fill=\"#000000\" font-family=\"Times,serif\" font-size=\"14.00\" text-anchor=\"middle\" x=\"208.5\" y=\"-91.3\">(None, 15)</text>\n</g>\n<!-- 140361333716808 -->\n<g class=\"node\" id=\"node2\">\n<title>140361333716808</title>\n<polygon fill=\"none\" points=\"3.5,-.5 3.5,-46.5 248.5,-46.5 248.5,-.5 3.5,-.5\" stroke=\"#000000\"/>\n<text fill=\"#000000\" font-family=\"Times,serif\" font-size=\"14.00\" text-anchor=\"middle\" x=\"57\" y=\"-19.8\">dense_2: Dense</text>\n<polyline fill=\"none\" points=\"110.5,-.5 110.5,-46.5 \" stroke=\"#000000\"/>\n<text fill=\"#000000\" font-family=\"Times,serif\" font-size=\"14.00\" text-anchor=\"middle\" x=\"139.5\" y=\"-31.3\">input:</text>\n<polyline fill=\"none\" points=\"110.5,-23.5 168.5,-23.5 \" stroke=\"#000000\"/>\n<text fill=\"#000000\" font-family=\"Times,serif\" font-size=\"14.00\" text-anchor=\"middle\" x=\"139.5\" y=\"-8.3\">output:</text>\n<polyline fill=\"none\" points=\"168.5,-.5 168.5,-46.5 \" stroke=\"#000000\"/>\n<text fill=\"#000000\" font-family=\"Times,serif\" font-size=\"14.00\" text-anchor=\"middle\" x=\"208.5\" y=\"-31.3\">(None, 15)</text>\n<polyline fill=\"none\" points=\"168.5,-23.5 248.5,-23.5 \" stroke=\"#000000\"/>\n<text fill=\"#000000\" font-family=\"Times,serif\" font-size=\"14.00\" text-anchor=\"middle\" x=\"208.5\" y=\"-8.3\">(None, 10)</text>\n</g>\n<!-- 140361333716360&#45;&gt;140361333716808 -->\n<g class=\"edge\" id=\"edge2\">\n<title>140361333716360-&gt;140361333716808</title>\n<path d=\"M126,-83.3799C126,-75.1745 126,-65.7679 126,-56.8786\" fill=\"none\" stroke=\"#000000\"/>\n<polygon fill=\"#000000\" points=\"129.5001,-56.784 126,-46.784 122.5001,-56.784 129.5001,-56.784\" stroke=\"#000000\"/>\n</g>\n<!-- 140361333717088 -->\n<g class=\"node\" id=\"node3\">\n<title>140361333717088</title>\n<polygon fill=\"none\" points=\"61.5,-166.5 61.5,-202.5 190.5,-202.5 190.5,-166.5 61.5,-166.5\" stroke=\"#000000\"/>\n<text fill=\"#000000\" font-family=\"Times,serif\" font-size=\"14.00\" text-anchor=\"middle\" x=\"126\" y=\"-180.8\">140361333717088</text>\n</g>\n<!-- 140361333717088&#45;&gt;140361333716360 -->\n<g class=\"edge\" id=\"edge1\">\n<title>140361333717088-&gt;140361333716360</title>\n<path d=\"M126,-166.4092C126,-158.4308 126,-148.795 126,-139.606\" fill=\"none\" stroke=\"#000000\"/>\n<polygon fill=\"#000000\" points=\"129.5001,-139.5333 126,-129.5333 122.5001,-139.5334 129.5001,-139.5333\" stroke=\"#000000\"/>\n</g>\n</g>\n</svg>"
          },
          "metadata": {
            "tags": []
          },
          "execution_count": 39
        }
      ]
    },
    {
      "metadata": {
        "id": "xqGrDLam3fro",
        "colab_type": "code",
        "colab": {}
      },
      "cell_type": "code",
      "source": [
        "from keras.utils import plot_model\n",
        "plot_model(model, to_file='model.png')"
      ],
      "execution_count": 0,
      "outputs": []
    },
    {
      "metadata": {
        "id": "hXqoUGwz3frs",
        "colab_type": "code",
        "colab": {
          "base_uri": "https://localhost:8080/",
          "height": 223
        },
        "outputId": "d8dc7ed9-71a3-4d98-8459-6250ae8fea22"
      },
      "cell_type": "code",
      "source": [
        "model.summary()"
      ],
      "execution_count": 41,
      "outputs": [
        {
          "output_type": "stream",
          "text": [
            "_________________________________________________________________\n",
            "Layer (type)                 Output Shape              Param #   \n",
            "=================================================================\n",
            "dense_1 (Dense)              (None, 15)                11775     \n",
            "_________________________________________________________________\n",
            "dense_2 (Dense)              (None, 10)                160       \n",
            "=================================================================\n",
            "Total params: 11,935\n",
            "Trainable params: 11,935\n",
            "Non-trainable params: 0\n",
            "_________________________________________________________________\n"
          ],
          "name": "stdout"
        }
      ]
    },
    {
      "metadata": {
        "id": "HKb0O8bz3frv",
        "colab_type": "code",
        "colab": {}
      },
      "cell_type": "code",
      "source": [
        "l1 = model.layers[0]\n",
        "l2 = model.layers[1]"
      ],
      "execution_count": 0,
      "outputs": []
    },
    {
      "metadata": {
        "id": "WlN4UR333frx",
        "colab_type": "code",
        "colab": {
          "base_uri": "https://localhost:8080/",
          "height": 36
        },
        "outputId": "7e49a29b-8315-4bcc-fc27-a78c08750578"
      },
      "cell_type": "code",
      "source": [
        "l1.name, type(l1), l1.output_shape, l1.activation.__name__, l1.count_params()"
      ],
      "execution_count": 43,
      "outputs": [
        {
          "output_type": "execute_result",
          "data": {
            "text/plain": [
              "('dense_1', keras.layers.core.Dense, (None, 15), 'sigmoid', 11775)"
            ]
          },
          "metadata": {
            "tags": []
          },
          "execution_count": 43
        }
      ]
    },
    {
      "metadata": {
        "id": "StH9J4ID3fr0",
        "colab_type": "code",
        "colab": {
          "base_uri": "https://localhost:8080/",
          "height": 36
        },
        "outputId": "d8188d08-fb8c-4564-fdf6-b43cbb8ca04e"
      },
      "cell_type": "code",
      "source": [
        "l2.name, type(l1), l2.output_shape, l2.activation.__name__, l2.count_params()"
      ],
      "execution_count": 44,
      "outputs": [
        {
          "output_type": "execute_result",
          "data": {
            "text/plain": [
              "('dense_2', keras.layers.core.Dense, (None, 10), 'sigmoid', 160)"
            ]
          },
          "metadata": {
            "tags": []
          },
          "execution_count": 44
        }
      ]
    },
    {
      "metadata": {
        "id": "PfrTI1pL3fr3",
        "colab_type": "text"
      },
      "cell_type": "markdown",
      "source": [
        "## fit 메서드로 트레이닝"
      ]
    },
    {
      "metadata": {
        "id": "WPFBcg5_3fr4",
        "colab_type": "code",
        "colab": {}
      },
      "cell_type": "code",
      "source": [
        "model.compile(optimizer=SGD(lr=0.2), loss='mean_squared_error', metrics=[\"accuracy\"])"
      ],
      "execution_count": 0,
      "outputs": []
    },
    {
      "metadata": {
        "id": "YbTI5EF23fr8",
        "colab_type": "code",
        "colab": {
          "base_uri": "https://localhost:8080/",
          "height": 1213
        },
        "outputId": "e194da3c-0f1f-4a30-9bbb-48805b2ff7a8"
      },
      "cell_type": "code",
      "source": [
        "%%time\n",
        "hist = model.fit(X_train, Y_train, \n",
        "                 epochs=30, batch_size=100, \n",
        "                 validation_data=(X_test, Y_test), \n",
        "                 verbose=1)"
      ],
      "execution_count": 46,
      "outputs": [
        {
          "output_type": "stream",
          "text": [
            "Train on 60000 samples, validate on 10000 samples\n",
            "Epoch 1/30\n",
            "60000/60000 [==============================] - 1s 21us/step - loss: 0.0251 - acc: 0.8859 - val_loss: 0.0241 - val_acc: 0.8911\n",
            "Epoch 2/30\n",
            "60000/60000 [==============================] - 1s 19us/step - loss: 0.0246 - acc: 0.8871 - val_loss: 0.0236 - val_acc: 0.8928\n",
            "Epoch 3/30\n",
            "60000/60000 [==============================] - 1s 19us/step - loss: 0.0242 - acc: 0.8884 - val_loss: 0.0232 - val_acc: 0.8946\n",
            "Epoch 4/30\n",
            "60000/60000 [==============================] - 1s 19us/step - loss: 0.0238 - acc: 0.8898 - val_loss: 0.0229 - val_acc: 0.8956\n",
            "Epoch 5/30\n",
            "60000/60000 [==============================] - 1s 19us/step - loss: 0.0234 - acc: 0.8912 - val_loss: 0.0225 - val_acc: 0.8961\n",
            "Epoch 6/30\n",
            "60000/60000 [==============================] - 1s 19us/step - loss: 0.0231 - acc: 0.8917 - val_loss: 0.0222 - val_acc: 0.8972\n",
            "Epoch 7/30\n",
            "60000/60000 [==============================] - 1s 19us/step - loss: 0.0228 - acc: 0.8928 - val_loss: 0.0219 - val_acc: 0.8990\n",
            "Epoch 8/30\n",
            "60000/60000 [==============================] - 1s 19us/step - loss: 0.0225 - acc: 0.8939 - val_loss: 0.0216 - val_acc: 0.8996\n",
            "Epoch 9/30\n",
            "60000/60000 [==============================] - 1s 19us/step - loss: 0.0222 - acc: 0.8945 - val_loss: 0.0213 - val_acc: 0.9006\n",
            "Epoch 10/30\n",
            "60000/60000 [==============================] - 1s 19us/step - loss: 0.0219 - acc: 0.8953 - val_loss: 0.0210 - val_acc: 0.9011\n",
            "Epoch 11/30\n",
            "60000/60000 [==============================] - 1s 19us/step - loss: 0.0216 - acc: 0.8963 - val_loss: 0.0208 - val_acc: 0.9016\n",
            "Epoch 12/30\n",
            "60000/60000 [==============================] - 1s 19us/step - loss: 0.0214 - acc: 0.8970 - val_loss: 0.0205 - val_acc: 0.9022\n",
            "Epoch 13/30\n",
            "60000/60000 [==============================] - 1s 19us/step - loss: 0.0211 - acc: 0.8975 - val_loss: 0.0203 - val_acc: 0.9027\n",
            "Epoch 14/30\n",
            "60000/60000 [==============================] - 1s 19us/step - loss: 0.0209 - acc: 0.8985 - val_loss: 0.0201 - val_acc: 0.9029\n",
            "Epoch 15/30\n",
            "60000/60000 [==============================] - 1s 19us/step - loss: 0.0207 - acc: 0.8994 - val_loss: 0.0199 - val_acc: 0.9030\n",
            "Epoch 16/30\n",
            "60000/60000 [==============================] - 1s 19us/step - loss: 0.0205 - acc: 0.9000 - val_loss: 0.0197 - val_acc: 0.9033\n",
            "Epoch 17/30\n",
            "60000/60000 [==============================] - 1s 19us/step - loss: 0.0203 - acc: 0.9007 - val_loss: 0.0195 - val_acc: 0.9044\n",
            "Epoch 18/30\n",
            "60000/60000 [==============================] - 1s 19us/step - loss: 0.0201 - acc: 0.9014 - val_loss: 0.0193 - val_acc: 0.9048\n",
            "Epoch 19/30\n",
            "60000/60000 [==============================] - 1s 19us/step - loss: 0.0199 - acc: 0.9021 - val_loss: 0.0191 - val_acc: 0.9046\n",
            "Epoch 20/30\n",
            "60000/60000 [==============================] - 1s 19us/step - loss: 0.0197 - acc: 0.9025 - val_loss: 0.0190 - val_acc: 0.9044\n",
            "Epoch 21/30\n",
            "60000/60000 [==============================] - 1s 19us/step - loss: 0.0195 - acc: 0.9028 - val_loss: 0.0188 - val_acc: 0.9061\n",
            "Epoch 22/30\n",
            "60000/60000 [==============================] - 1s 19us/step - loss: 0.0194 - acc: 0.9035 - val_loss: 0.0187 - val_acc: 0.9061\n",
            "Epoch 23/30\n",
            "60000/60000 [==============================] - 1s 19us/step - loss: 0.0192 - acc: 0.9040 - val_loss: 0.0185 - val_acc: 0.9071\n",
            "Epoch 24/30\n",
            "60000/60000 [==============================] - 1s 19us/step - loss: 0.0191 - acc: 0.9044 - val_loss: 0.0184 - val_acc: 0.9075\n",
            "Epoch 25/30\n",
            "60000/60000 [==============================] - 1s 19us/step - loss: 0.0189 - acc: 0.9047 - val_loss: 0.0182 - val_acc: 0.9075\n",
            "Epoch 26/30\n",
            "60000/60000 [==============================] - 1s 19us/step - loss: 0.0188 - acc: 0.9052 - val_loss: 0.0181 - val_acc: 0.9080\n",
            "Epoch 27/30\n",
            "60000/60000 [==============================] - 1s 19us/step - loss: 0.0186 - acc: 0.9056 - val_loss: 0.0180 - val_acc: 0.9083\n",
            "Epoch 28/30\n",
            "60000/60000 [==============================] - 1s 19us/step - loss: 0.0185 - acc: 0.9059 - val_loss: 0.0179 - val_acc: 0.9089\n",
            "Epoch 29/30\n",
            "60000/60000 [==============================] - 1s 19us/step - loss: 0.0184 - acc: 0.9061 - val_loss: 0.0177 - val_acc: 0.9092\n",
            "Epoch 30/30\n",
            "60000/60000 [==============================] - 1s 19us/step - loss: 0.0183 - acc: 0.9068 - val_loss: 0.0176 - val_acc: 0.9097\n",
            "CPU times: user 43 s, sys: 3.12 s, total: 46.1 s\n",
            "Wall time: 34.2 s\n"
          ],
          "name": "stdout"
        }
      ]
    },
    {
      "metadata": {
        "id": "FPeQByvA3fr_",
        "colab_type": "code",
        "colab": {
          "base_uri": "https://localhost:8080/",
          "height": 265
        },
        "outputId": "d27ec63e-36a3-43c2-87da-cb78113429ef"
      },
      "cell_type": "code",
      "source": [
        "# Plot performance\n",
        "plt.plot(hist.history['loss'])\n",
        "plt.show()"
      ],
      "execution_count": 47,
      "outputs": [
        {
          "output_type": "display_data",
          "data": {
            "image/png": "[encoded data removed]",
            "text/plain": [
              "<matplotlib.figure.Figure at 0x7fa864aea860>"
            ]
          },
          "metadata": {
            "tags": []
          }
        }
      ]
    },
    {
      "metadata": {
        "id": "m5ForJ5k3fsD",
        "colab_type": "code",
        "colab": {
          "base_uri": "https://localhost:8080/",
          "height": 265
        },
        "outputId": "d99a9337-f718-4af7-f28d-d92c5cf4eda4"
      },
      "cell_type": "code",
      "source": [
        "plt.plot(hist.history['acc'], 'b-', label=\"training\")\n",
        "plt.plot(hist.history['val_acc'], 'r:', label=\"test\")\n",
        "plt.legend()\n",
        "plt.show()"
      ],
      "execution_count": 48,
      "outputs": [
        {
          "output_type": "display_data",
          "data": {
            "image/png": "[encoded data removed]",
            "text/plain": [
              "<matplotlib.figure.Figure at 0x7fa86490f828>"
            ]
          },
          "metadata": {
            "tags": []
          }
        }
      ]
    },
    {
      "metadata": {
        "id": "R6pUmTTR3fsI",
        "colab_type": "text"
      },
      "cell_type": "markdown",
      "source": [
        "## 가중치 정보"
      ]
    },
    {
      "metadata": {
        "id": "b6PeV3Yk3fsJ",
        "colab_type": "text"
      },
      "cell_type": "markdown",
      "source": [
        "> 트레이닝이 끝난 모형의 가중치 정보는 get_weights 메서드로 구할 수 있다. 이 메서드는 w 값과 b 값을 출력한다."
      ]
    },
    {
      "metadata": {
        "id": "ZWfw5Z_F3fsK",
        "colab_type": "code",
        "colab": {
          "base_uri": "https://localhost:8080/",
          "height": 36
        },
        "outputId": "63378bb7-2024-4afe-8fb0-305fe72149c3"
      },
      "cell_type": "code",
      "source": [
        "w1 = l1.get_weights()  # 784*15 + 15 = 11775\n",
        "w1[0].shape, w1[1].shape"
      ],
      "execution_count": 21,
      "outputs": [
        {
          "output_type": "execute_result",
          "data": {
            "text/plain": [
              "((784, 15), (15,))"
            ]
          },
          "metadata": {
            "tags": []
          },
          "execution_count": 21
        }
      ]
    },
    {
      "metadata": {
        "id": "S9tVnYoX3fsN",
        "colab_type": "code",
        "colab": {
          "base_uri": "https://localhost:8080/",
          "height": 36
        },
        "outputId": "98026462-4b74-4984-eb23-3e6dd800d700"
      },
      "cell_type": "code",
      "source": [
        "w2 = l2.get_weights()  # 15*10 + 10 = 160\n",
        "w2[0].shape, w2[1].shape"
      ],
      "execution_count": 22,
      "outputs": [
        {
          "output_type": "execute_result",
          "data": {
            "text/plain": [
              "((15, 10), (10,))"
            ]
          },
          "metadata": {
            "tags": []
          },
          "execution_count": 22
        }
      ]
    },
    {
      "metadata": {
        "id": "iaRWl02D3fsR",
        "colab_type": "text"
      },
      "cell_type": "markdown",
      "source": [
        "## 모형의 사용\n",
        "\n",
        "> 트레이닝이 끝난 모형은 predict 메서드로 y 값을 출력하거나 출력된 y값을 각 클래스에 대한 판별함수로 가정하고 predict_classes 메서드로 classification을 할 수 있다."
      ]
    },
    {
      "metadata": {
        "id": "3-ShrKKV3fsS",
        "colab_type": "code",
        "colab": {
          "base_uri": "https://localhost:8080/",
          "height": 141
        },
        "outputId": "3a9cb399-8cab-46d3-d0f2-d1031bec4b51"
      },
      "cell_type": "code",
      "source": [
        "plt.figure(figsize=(2, 2))\n",
        "plt.imshow(X_test0[0], cmap=mpl.cm.bone_r)\n",
        "plt.grid(False)\n",
        "plt.xticks([])\n",
        "plt.yticks([])\n",
        "plt.show()"
      ],
      "execution_count": 23,
      "outputs": [
        {
          "output_type": "display_data",
          "data": {
            "image/png": "[encoded data removed]",
            "text/plain": [
              "<matplotlib.figure.Figure at 0x7fa8653d40f0>"
            ]
          },
          "metadata": {
            "tags": []
          }
        }
      ]
    },
    {
      "metadata": {
        "id": "n1SG0Okg3fsV",
        "colab_type": "code",
        "colab": {
          "base_uri": "https://localhost:8080/",
          "height": 73
        },
        "outputId": "4931af4b-de23-49ef-f424-ae21f2201e3e"
      },
      "cell_type": "code",
      "source": [
        "model.predict(X_test[:1, :])  # Probabilitic prediction viq one-hot encoding of labels"
      ],
      "execution_count": 26,
      "outputs": [
        {
          "output_type": "execute_result",
          "data": {
            "text/plain": [
              "array([[0.01766422, 0.01915493, 0.0131979 , 0.028706  , 0.01252179,\n",
              "        0.0572116 , 0.01232646, 0.94186133, 0.00762723, 0.05534772]],\n",
              "      dtype=float32)"
            ]
          },
          "metadata": {
            "tags": []
          },
          "execution_count": 26
        }
      ]
    },
    {
      "metadata": {
        "id": "J40aL4ts3fsY",
        "colab_type": "code",
        "colab": {
          "base_uri": "https://localhost:8080/",
          "height": 36
        },
        "outputId": "859871d7-d001-4a14-d23a-fd6282d15d45"
      },
      "cell_type": "code",
      "source": [
        "model.predict_classes(X_test[:1, :], verbose=0)"
      ],
      "execution_count": 27,
      "outputs": [
        {
          "output_type": "execute_result",
          "data": {
            "text/plain": [
              "array([7])"
            ]
          },
          "metadata": {
            "tags": []
          },
          "execution_count": 27
        }
      ]
    },
    {
      "metadata": {
        "id": "gBPKMI4y3fsa",
        "colab_type": "text"
      },
      "cell_type": "markdown",
      "source": [
        "## 모형의 저장\n",
        "\n",
        ">  트레이닝이 끝난 모형은 save 메서드로 가중치와 함께 hdf5 형식으로 저장하였다가 나중에 load 명령으로 불러 사용할 수 있다."
      ]
    },
    {
      "metadata": {
        "id": "KCfbQl2v3fsa",
        "colab_type": "code",
        "colab": {}
      },
      "cell_type": "code",
      "source": [
        "model.save('my_model.hdf5')\n",
        "# del model"
      ],
      "execution_count": 0,
      "outputs": []
    },
    {
      "metadata": {
        "id": "b7-ysIVy3fse",
        "colab_type": "code",
        "colab": {
          "base_uri": "https://localhost:8080/",
          "height": 36
        },
        "outputId": "05baba25-2239-4d3d-b6e6-c59a568361ec"
      },
      "cell_type": "code",
      "source": [
        "from keras.models import load_model\n",
        "\n",
        "model2 = load_model('my_model.hdf5')\n",
        "model2.predict_classes(X_test[:1, :], verbose=0)"
      ],
      "execution_count": 29,
      "outputs": [
        {
          "output_type": "execute_result",
          "data": {
            "text/plain": [
              "array([7])"
            ]
          },
          "metadata": {
            "tags": []
          },
          "execution_count": 29
        }
      ]
    },
    {
      "metadata": {
        "id": "euLaPown3fsi",
        "colab_type": "code",
        "colab": {
          "base_uri": "https://localhost:8080/",
          "height": 36
        },
        "outputId": "aca05055-65da-43c3-820c-ecd60bd57321"
      },
      "cell_type": "code",
      "source": [
        "model2.predict_classes(X_test[:10, :], verbose=0)"
      ],
      "execution_count": 30,
      "outputs": [
        {
          "output_type": "execute_result",
          "data": {
            "text/plain": [
              "array([7, 2, 1, 0, 4, 1, 4, 9, 6, 9])"
            ]
          },
          "metadata": {
            "tags": []
          },
          "execution_count": 30
        }
      ]
    },
    {
      "metadata": {
        "id": "JS0vt4Ve3fsq",
        "colab_type": "code",
        "colab": {
          "base_uri": "https://localhost:8080/",
          "height": 36
        },
        "outputId": "bf0c97dd-0c47-4955-82bb-58ddee3be736"
      },
      "cell_type": "code",
      "source": [
        "y_test0[:10]"
      ],
      "execution_count": 31,
      "outputs": [
        {
          "output_type": "execute_result",
          "data": {
            "text/plain": [
              "array([7, 2, 1, 0, 4, 1, 4, 9, 5, 9], dtype=uint8)"
            ]
          },
          "metadata": {
            "tags": []
          },
          "execution_count": 31
        }
      ]
    },
    {
      "metadata": {
        "id": "hRL0bcIk3fst",
        "colab_type": "text"
      },
      "cell_type": "markdown",
      "source": [
        "### 테스트 데이터에 대한 예측 정확도 계산 "
      ]
    },
    {
      "metadata": {
        "id": "KPIoiMZC3fst",
        "colab_type": "code",
        "colab": {
          "base_uri": "https://localhost:8080/",
          "height": 55
        },
        "outputId": "659f2329-077e-4305-aa62-1fcee0514bd2"
      },
      "cell_type": "code",
      "source": [
        "# Wrong prediction\n",
        "model2.predict_classes(X_test[8:9, :], verbose=1)"
      ],
      "execution_count": 32,
      "outputs": [
        {
          "output_type": "stream",
          "text": [
            "\r1/1 [==============================] - 0s 919us/step\n"
          ],
          "name": "stdout"
        },
        {
          "output_type": "execute_result",
          "data": {
            "text/plain": [
              "array([6])"
            ]
          },
          "metadata": {
            "tags": []
          },
          "execution_count": 32
        }
      ]
    },
    {
      "metadata": {
        "id": "1A0mpUeg3fsy",
        "colab_type": "code",
        "colab": {
          "base_uri": "https://localhost:8080/",
          "height": 36
        },
        "outputId": "17f5bb8d-bc25-43b3-d135-d59d389bf030"
      },
      "cell_type": "code",
      "source": [
        "y_test0[8]"
      ],
      "execution_count": 33,
      "outputs": [
        {
          "output_type": "execute_result",
          "data": {
            "text/plain": [
              "5"
            ]
          },
          "metadata": {
            "tags": []
          },
          "execution_count": 33
        }
      ]
    },
    {
      "metadata": {
        "id": "M9zDSNI13fs1",
        "colab_type": "code",
        "colab": {
          "base_uri": "https://localhost:8080/",
          "height": 36
        },
        "outputId": "80396dc5-b57c-4a20-e088-96ac5ccefeff"
      },
      "cell_type": "code",
      "source": [
        "# 전체 테스트 데이터에 대한 예측\n",
        "x_pred = model2.predict_classes(X_test, verbose=1)"
      ],
      "execution_count": 34,
      "outputs": [
        {
          "output_type": "stream",
          "text": [
            "10000/10000 [==============================] - 0s 15us/step\n"
          ],
          "name": "stdout"
        }
      ]
    },
    {
      "metadata": {
        "id": "QNEtpmQL3fs3",
        "colab_type": "code",
        "colab": {
          "base_uri": "https://localhost:8080/",
          "height": 36
        },
        "outputId": "bbccb60f-ff91-4d29-cabf-4e0971356875"
      },
      "cell_type": "code",
      "source": [
        "t_count = np.sum(x_pred==y_test0) # True positive\n",
        "f_count = np.sum(x_pred!=y_test0) # False positive\n",
        "f_count==10000-t_count"
      ],
      "execution_count": 35,
      "outputs": [
        {
          "output_type": "execute_result",
          "data": {
            "text/plain": [
              "True"
            ]
          },
          "metadata": {
            "tags": []
          },
          "execution_count": 35
        }
      ]
    },
    {
      "metadata": {
        "id": "YaKHTNi43fs8",
        "colab_type": "code",
        "colab": {
          "base_uri": "https://localhost:8080/",
          "height": 36
        },
        "outputId": "cb1a8f5e-7b3e-4f12-9ebd-3edb4f535f55"
      },
      "cell_type": "code",
      "source": [
        "t_count,f_count"
      ],
      "execution_count": 36,
      "outputs": [
        {
          "output_type": "execute_result",
          "data": {
            "text/plain": [
              "(8904, 1096)"
            ]
          },
          "metadata": {
            "tags": []
          },
          "execution_count": 36
        }
      ]
    },
    {
      "metadata": {
        "id": "aiDlchVL3fs-",
        "colab_type": "code",
        "colab": {
          "base_uri": "https://localhost:8080/",
          "height": 36
        },
        "outputId": "e30e437b-5fb5-4f11-ef24-747aa07a85b7"
      },
      "cell_type": "code",
      "source": [
        "accuracy = t_count/10000*100\n",
        "accuracy"
      ],
      "execution_count": 37,
      "outputs": [
        {
          "output_type": "execute_result",
          "data": {
            "text/plain": [
              "89.03999999999999"
            ]
          },
          "metadata": {
            "tags": []
          },
          "execution_count": 37
        }
      ]
    },
    {
      "metadata": {
        "id": "MRK6YRJd3ftC",
        "colab_type": "text"
      },
      "cell_type": "markdown",
      "source": [
        "### Accuracy of predicting test numbers is around 89% in simple neural network model."
      ]
    },
    {
      "metadata": {
        "id": "bMO71GJI3ftC",
        "colab_type": "code",
        "colab": {}
      },
      "cell_type": "code",
      "source": [
        ""
      ],
      "execution_count": 0,
      "outputs": []
    }
  ]
}