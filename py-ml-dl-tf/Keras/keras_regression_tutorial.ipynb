{
 "cells": [
  {
   "cell_type": "markdown",
   "metadata": {},
   "source": [
    "This notebook goes along with the Deep Learning using Keras tutorial on Medium.\n",
    "\n",
    "- [Keras tutorial: regression](https://towardsdatascience.com/building-a-deep-learning-model-using-keras-1548ca149d37)"
   ]
  },
  {
   "cell_type": "code",
   "execution_count": 2,
   "metadata": {},
   "outputs": [
    {
     "name": "stderr",
     "output_type": "stream",
     "text": [
      "Using TensorFlow backend.\n"
     ]
    }
   ],
   "source": [
    "import pandas as pd\n",
    "import numpy as np\n",
    "from keras.models import Sequential\n",
    "from keras.layers import Dense\n",
    "from keras.callbacks import EarlyStopping\n",
    "from keras.utils import to_categorical"
   ]
  },
  {
   "cell_type": "markdown",
   "metadata": {},
   "source": [
    "### In this model, we are going to predict the hourly wages of employees using regression based on Keras."
   ]
  },
  {
   "cell_type": "code",
   "execution_count": 3,
   "metadata": {
    "scrolled": true
   },
   "outputs": [
    {
     "data": {
      "text/html": [
       "<div>\n",
       "<style scoped>\n",
       "    .dataframe tbody tr th:only-of-type {\n",
       "        vertical-align: middle;\n",
       "    }\n",
       "\n",
       "    .dataframe tbody tr th {\n",
       "        vertical-align: top;\n",
       "    }\n",
       "\n",
       "    .dataframe thead th {\n",
       "        text-align: right;\n",
       "    }\n",
       "</style>\n",
       "<table border=\"1\" class=\"dataframe\">\n",
       "  <thead>\n",
       "    <tr style=\"text-align: right;\">\n",
       "      <th></th>\n",
       "      <th>wage_per_hour</th>\n",
       "      <th>union</th>\n",
       "      <th>education_yrs</th>\n",
       "      <th>experience_yrs</th>\n",
       "      <th>age</th>\n",
       "      <th>female</th>\n",
       "      <th>marr</th>\n",
       "      <th>south</th>\n",
       "      <th>manufacturing</th>\n",
       "      <th>construction</th>\n",
       "    </tr>\n",
       "  </thead>\n",
       "  <tbody>\n",
       "    <tr>\n",
       "      <th>0</th>\n",
       "      <td>5.10</td>\n",
       "      <td>0</td>\n",
       "      <td>8</td>\n",
       "      <td>21</td>\n",
       "      <td>35</td>\n",
       "      <td>1</td>\n",
       "      <td>1</td>\n",
       "      <td>0</td>\n",
       "      <td>1</td>\n",
       "      <td>0</td>\n",
       "    </tr>\n",
       "    <tr>\n",
       "      <th>1</th>\n",
       "      <td>4.95</td>\n",
       "      <td>0</td>\n",
       "      <td>9</td>\n",
       "      <td>42</td>\n",
       "      <td>57</td>\n",
       "      <td>1</td>\n",
       "      <td>1</td>\n",
       "      <td>0</td>\n",
       "      <td>1</td>\n",
       "      <td>0</td>\n",
       "    </tr>\n",
       "    <tr>\n",
       "      <th>2</th>\n",
       "      <td>6.67</td>\n",
       "      <td>0</td>\n",
       "      <td>12</td>\n",
       "      <td>1</td>\n",
       "      <td>19</td>\n",
       "      <td>0</td>\n",
       "      <td>0</td>\n",
       "      <td>0</td>\n",
       "      <td>1</td>\n",
       "      <td>0</td>\n",
       "    </tr>\n",
       "    <tr>\n",
       "      <th>3</th>\n",
       "      <td>4.00</td>\n",
       "      <td>0</td>\n",
       "      <td>12</td>\n",
       "      <td>4</td>\n",
       "      <td>22</td>\n",
       "      <td>0</td>\n",
       "      <td>0</td>\n",
       "      <td>0</td>\n",
       "      <td>0</td>\n",
       "      <td>0</td>\n",
       "    </tr>\n",
       "    <tr>\n",
       "      <th>4</th>\n",
       "      <td>7.50</td>\n",
       "      <td>0</td>\n",
       "      <td>12</td>\n",
       "      <td>17</td>\n",
       "      <td>35</td>\n",
       "      <td>0</td>\n",
       "      <td>1</td>\n",
       "      <td>0</td>\n",
       "      <td>0</td>\n",
       "      <td>0</td>\n",
       "    </tr>\n",
       "  </tbody>\n",
       "</table>\n",
       "</div>"
      ],
      "text/plain": [
       "   wage_per_hour  union  education_yrs  experience_yrs  age  female  marr  \\\n",
       "0           5.10      0              8              21   35       1     1   \n",
       "1           4.95      0              9              42   57       1     1   \n",
       "2           6.67      0             12               1   19       0     0   \n",
       "3           4.00      0             12               4   22       0     0   \n",
       "4           7.50      0             12              17   35       0     1   \n",
       "\n",
       "   south  manufacturing  construction  \n",
       "0      0              1             0  \n",
       "1      0              1             0  \n",
       "2      0              1             0  \n",
       "3      0              0             0  \n",
       "4      0              0             0  "
      ]
     },
     "execution_count": 3,
     "metadata": {},
     "output_type": "execute_result"
    }
   ],
   "source": [
    "#read in training data\n",
    "wages_df = pd.read_csv('hourly_wages_data.csv')\n",
    "\n",
    "#view data structure\n",
    "wages_df.head()"
   ]
  },
  {
   "cell_type": "code",
   "execution_count": 4,
   "metadata": {},
   "outputs": [
    {
     "data": {
      "text/html": [
       "<div>\n",
       "<style scoped>\n",
       "    .dataframe tbody tr th:only-of-type {\n",
       "        vertical-align: middle;\n",
       "    }\n",
       "\n",
       "    .dataframe tbody tr th {\n",
       "        vertical-align: top;\n",
       "    }\n",
       "\n",
       "    .dataframe thead th {\n",
       "        text-align: right;\n",
       "    }\n",
       "</style>\n",
       "<table border=\"1\" class=\"dataframe\">\n",
       "  <thead>\n",
       "    <tr style=\"text-align: right;\">\n",
       "      <th></th>\n",
       "      <th>union</th>\n",
       "      <th>education_yrs</th>\n",
       "      <th>experience_yrs</th>\n",
       "      <th>age</th>\n",
       "      <th>female</th>\n",
       "      <th>marr</th>\n",
       "      <th>south</th>\n",
       "      <th>manufacturing</th>\n",
       "      <th>construction</th>\n",
       "    </tr>\n",
       "  </thead>\n",
       "  <tbody>\n",
       "    <tr>\n",
       "      <th>0</th>\n",
       "      <td>0</td>\n",
       "      <td>8</td>\n",
       "      <td>21</td>\n",
       "      <td>35</td>\n",
       "      <td>1</td>\n",
       "      <td>1</td>\n",
       "      <td>0</td>\n",
       "      <td>1</td>\n",
       "      <td>0</td>\n",
       "    </tr>\n",
       "    <tr>\n",
       "      <th>1</th>\n",
       "      <td>0</td>\n",
       "      <td>9</td>\n",
       "      <td>42</td>\n",
       "      <td>57</td>\n",
       "      <td>1</td>\n",
       "      <td>1</td>\n",
       "      <td>0</td>\n",
       "      <td>1</td>\n",
       "      <td>0</td>\n",
       "    </tr>\n",
       "    <tr>\n",
       "      <th>2</th>\n",
       "      <td>0</td>\n",
       "      <td>12</td>\n",
       "      <td>1</td>\n",
       "      <td>19</td>\n",
       "      <td>0</td>\n",
       "      <td>0</td>\n",
       "      <td>0</td>\n",
       "      <td>1</td>\n",
       "      <td>0</td>\n",
       "    </tr>\n",
       "    <tr>\n",
       "      <th>3</th>\n",
       "      <td>0</td>\n",
       "      <td>12</td>\n",
       "      <td>4</td>\n",
       "      <td>22</td>\n",
       "      <td>0</td>\n",
       "      <td>0</td>\n",
       "      <td>0</td>\n",
       "      <td>0</td>\n",
       "      <td>0</td>\n",
       "    </tr>\n",
       "    <tr>\n",
       "      <th>4</th>\n",
       "      <td>0</td>\n",
       "      <td>12</td>\n",
       "      <td>17</td>\n",
       "      <td>35</td>\n",
       "      <td>0</td>\n",
       "      <td>1</td>\n",
       "      <td>0</td>\n",
       "      <td>0</td>\n",
       "      <td>0</td>\n",
       "    </tr>\n",
       "  </tbody>\n",
       "</table>\n",
       "</div>"
      ],
      "text/plain": [
       "   union  education_yrs  experience_yrs  age  female  marr  south  \\\n",
       "0      0              8              21   35       1     1      0   \n",
       "1      0              9              42   57       1     1      0   \n",
       "2      0             12               1   19       0     0      0   \n",
       "3      0             12               4   22       0     0      0   \n",
       "4      0             12              17   35       0     1      0   \n",
       "\n",
       "   manufacturing  construction  \n",
       "0              1             0  \n",
       "1              1             0  \n",
       "2              1             0  \n",
       "3              0             0  \n",
       "4              0             0  "
      ]
     },
     "execution_count": 4,
     "metadata": {},
     "output_type": "execute_result"
    }
   ],
   "source": [
    "#create a dataframe with all training data except the target column\n",
    "data_X = wages_df.drop(columns=['wage_per_hour'])\n",
    "\n",
    "#check that the target variable has been removed\n",
    "data_X.head()"
   ]
  },
  {
   "cell_type": "code",
   "execution_count": 5,
   "metadata": {},
   "outputs": [
    {
     "data": {
      "text/plain": [
       "(   wage_per_hour\n",
       " 0           5.10\n",
       " 1           4.95\n",
       " 2           6.67\n",
       " 3           4.00\n",
       " 4           7.50,    wage_per_hour\n",
       " 0           5.10\n",
       " 1           4.95\n",
       " 2           6.67\n",
       " 3           4.00\n",
       " 4           7.50)"
      ]
     },
     "execution_count": 5,
     "metadata": {},
     "output_type": "execute_result"
    }
   ],
   "source": [
    "#create a dataframe with only the target column\n",
    "data_y = wages_df[['wage_per_hour']]\n",
    "\n",
    "#view dataframe\n",
    "wages_df[['wage_per_hour']].head(),data_y.head()"
   ]
  },
  {
   "cell_type": "markdown",
   "metadata": {},
   "source": [
    "### Simple model"
   ]
  },
  {
   "cell_type": "code",
   "execution_count": 6,
   "metadata": {},
   "outputs": [
    {
     "name": "stdout",
     "output_type": "stream",
     "text": [
      "9\n"
     ]
    }
   ],
   "source": [
    "#create simple model with light model capacity \n",
    "model_s = Sequential()\n",
    "\n",
    "#get number of columns in training data\n",
    "n_cols = data_X.shape[1]\n",
    "print(n_cols)\n",
    "\n",
    "#add model layers\n",
    "model_s.add(Dense(10, activation='relu', input_shape=(n_cols,)))\n",
    "model_s.add(Dense(10, activation='relu'))\n",
    "model_s.add(Dense(1, activation='relu'))"
   ]
  },
  {
   "cell_type": "code",
   "execution_count": 7,
   "metadata": {},
   "outputs": [
    {
     "name": "stdout",
     "output_type": "stream",
     "text": [
      "_________________________________________________________________\n",
      "Layer (type)                 Output Shape              Param #   \n",
      "=================================================================\n",
      "dense_1 (Dense)              (None, 10)                100       \n",
      "_________________________________________________________________\n",
      "dense_2 (Dense)              (None, 10)                110       \n",
      "_________________________________________________________________\n",
      "dense_3 (Dense)              (None, 1)                 11        \n",
      "=================================================================\n",
      "Total params: 221\n",
      "Trainable params: 221\n",
      "Non-trainable params: 0\n",
      "_________________________________________________________________\n"
     ]
    }
   ],
   "source": [
    "model_s.summary()"
   ]
  },
  {
   "cell_type": "code",
   "execution_count": 8,
   "metadata": {},
   "outputs": [],
   "source": [
    "# compile model using mse as a measure of model performance\n",
    "model_s.compile(optimizer='adam', loss='mean_squared_error')\n",
    "\n",
    "# set early stopping monitor so the model stops training when it won't improve anymore\n",
    "early_stopping_monitor = EarlyStopping(patience=3)"
   ]
  },
  {
   "cell_type": "code",
   "execution_count": 9,
   "metadata": {},
   "outputs": [
    {
     "name": "stdout",
     "output_type": "stream",
     "text": [
      "Train on 400 samples, validate on 134 samples\n",
      "Epoch 1/30\n",
      "400/400 [==============================] - 0s 325us/step - loss: 93.0294 - val_loss: 151.8699\n",
      "Epoch 2/30\n",
      "400/400 [==============================] - 0s 32us/step - loss: 93.0294 - val_loss: 151.8699\n",
      "Epoch 3/30\n",
      "400/400 [==============================] - 0s 32us/step - loss: 93.0294 - val_loss: 151.8699\n",
      "Epoch 4/30\n",
      "400/400 [==============================] - 0s 32us/step - loss: 93.0294 - val_loss: 151.8699\n"
     ]
    },
    {
     "data": {
      "text/plain": [
       "<keras.callbacks.History at 0x2c028b87320>"
      ]
     },
     "execution_count": 9,
     "metadata": {},
     "output_type": "execute_result"
    }
   ],
   "source": [
    "#train model with all data\n",
    "model_s.fit(data_X, data_y, validation_split=0.25, epochs=30, callbacks=[early_stopping_monitor])"
   ]
  },
  {
   "cell_type": "markdown",
   "metadata": {},
   "source": [
    "### Increase model capacity"
   ]
  },
  {
   "cell_type": "code",
   "execution_count": 10,
   "metadata": {},
   "outputs": [],
   "source": [
    "# training a new model on the same data to show the effect of increasing model capacity\n",
    "model_b = Sequential()\n",
    "\n",
    "#get number of columns in training data\n",
    "n_cols = data_X.shape[1]\n",
    "\n",
    "#add model layers\n",
    "model_b.add(Dense(200, activation='relu', input_shape=(n_cols,)))\n",
    "model_b.add(Dense(100, activation='relu'))\n",
    "model_b.add(Dense(20, activation='relu'))\n",
    "model_b.add(Dense(1, activation='relu'))"
   ]
  },
  {
   "cell_type": "code",
   "execution_count": 11,
   "metadata": {},
   "outputs": [
    {
     "name": "stdout",
     "output_type": "stream",
     "text": [
      "_________________________________________________________________\n",
      "Layer (type)                 Output Shape              Param #   \n",
      "=================================================================\n",
      "dense_4 (Dense)              (None, 200)               2000      \n",
      "_________________________________________________________________\n",
      "dense_5 (Dense)              (None, 100)               20100     \n",
      "_________________________________________________________________\n",
      "dense_6 (Dense)              (None, 20)                2020      \n",
      "_________________________________________________________________\n",
      "dense_7 (Dense)              (None, 1)                 21        \n",
      "=================================================================\n",
      "Total params: 24,141\n",
      "Trainable params: 24,141\n",
      "Non-trainable params: 0\n",
      "_________________________________________________________________\n"
     ]
    }
   ],
   "source": [
    "model_b.summary()"
   ]
  },
  {
   "cell_type": "code",
   "execution_count": 12,
   "metadata": {},
   "outputs": [],
   "source": [
    "# compile model using mse as a measure of model performance\n",
    "model_b.compile(optimizer='adam', loss='mean_squared_error')\n",
    "\n",
    "# set early stopping monitor so the model stops training when it won't improve anymore\n",
    "early_stopping_monitor = EarlyStopping(patience=10)"
   ]
  },
  {
   "cell_type": "code",
   "execution_count": 13,
   "metadata": {},
   "outputs": [
    {
     "name": "stdout",
     "output_type": "stream",
     "text": [
      "Train on 400 samples, validate on 134 samples\n",
      "Epoch 1/30\n",
      "400/400 [==============================] - 0s 297us/step - loss: 34.7431 - val_loss: 35.8337\n",
      "Epoch 2/30\n",
      "400/400 [==============================] - 0s 45us/step - loss: 21.2125 - val_loss: 30.4940\n",
      "Epoch 3/30\n",
      "400/400 [==============================] - 0s 45us/step - loss: 19.6026 - val_loss: 27.8281\n",
      "Epoch 4/30\n",
      "400/400 [==============================] - 0s 42us/step - loss: 18.9610 - val_loss: 28.4479\n",
      "Epoch 5/30\n",
      "400/400 [==============================] - 0s 42us/step - loss: 19.4883 - val_loss: 29.3852\n",
      "Epoch 6/30\n",
      "400/400 [==============================] - 0s 42us/step - loss: 18.9902 - val_loss: 30.2292\n",
      "Epoch 7/30\n",
      "400/400 [==============================] - 0s 42us/step - loss: 18.7951 - val_loss: 28.3096\n",
      "Epoch 8/30\n",
      "400/400 [==============================] - 0s 42us/step - loss: 20.8905 - val_loss: 30.1161\n",
      "Epoch 9/30\n",
      "400/400 [==============================] - 0s 42us/step - loss: 18.1960 - val_loss: 30.2936\n",
      "Epoch 10/30\n",
      "400/400 [==============================] - 0s 42us/step - loss: 18.3347 - val_loss: 28.3994\n",
      "Epoch 11/30\n",
      "400/400 [==============================] - 0s 42us/step - loss: 19.6705 - val_loss: 31.6453\n",
      "Epoch 12/30\n",
      "400/400 [==============================] - 0s 45us/step - loss: 18.0672 - val_loss: 32.6848\n",
      "Epoch 13/30\n",
      "400/400 [==============================] - 0s 42us/step - loss: 19.5967 - val_loss: 28.5092\n"
     ]
    },
    {
     "data": {
      "text/plain": [
       "<keras.callbacks.History at 0x2c028b87390>"
      ]
     },
     "execution_count": 13,
     "metadata": {},
     "output_type": "execute_result"
    }
   ],
   "source": [
    "#train model\n",
    "model_b.fit(data_X, data_y, validation_split=0.25, epochs=30, callbacks=[early_stopping_monitor])"
   ]
  },
  {
   "cell_type": "markdown",
   "metadata": {},
   "source": [
    "### Performance of model_s and model_b\n",
    "\n",
    "> Split dataframe into the train and test set"
   ]
  },
  {
   "cell_type": "code",
   "execution_count": 14,
   "metadata": {},
   "outputs": [],
   "source": [
    "from sklearn.model_selection import train_test_split"
   ]
  },
  {
   "cell_type": "code",
   "execution_count": 15,
   "metadata": {},
   "outputs": [],
   "source": [
    "X_train, X_test, y_train, y_test = train_test_split(data_X, data_y, test_size=0.25, random_state=42)"
   ]
  },
  {
   "cell_type": "code",
   "execution_count": 16,
   "metadata": {},
   "outputs": [
    {
     "data": {
      "text/plain": [
       "((400, 9), (134, 9), (400, 1), (134, 1))"
      ]
     },
     "execution_count": 16,
     "metadata": {},
     "output_type": "execute_result"
    }
   ],
   "source": [
    "X_train.shape, X_test.shape, y_train.shape, y_test.shape"
   ]
  },
  {
   "cell_type": "code",
   "execution_count": 18,
   "metadata": {},
   "outputs": [
    {
     "data": {
      "text/html": [
       "<div>\n",
       "<style scoped>\n",
       "    .dataframe tbody tr th:only-of-type {\n",
       "        vertical-align: middle;\n",
       "    }\n",
       "\n",
       "    .dataframe tbody tr th {\n",
       "        vertical-align: top;\n",
       "    }\n",
       "\n",
       "    .dataframe thead th {\n",
       "        text-align: right;\n",
       "    }\n",
       "</style>\n",
       "<table border=\"1\" class=\"dataframe\">\n",
       "  <thead>\n",
       "    <tr style=\"text-align: right;\">\n",
       "      <th></th>\n",
       "      <th>wage_per_hour</th>\n",
       "    </tr>\n",
       "  </thead>\n",
       "  <tbody>\n",
       "    <tr>\n",
       "      <th>222</th>\n",
       "      <td>6.4</td>\n",
       "    </tr>\n",
       "    <tr>\n",
       "      <th>131</th>\n",
       "      <td>5.5</td>\n",
       "    </tr>\n",
       "    <tr>\n",
       "      <th>149</th>\n",
       "      <td>6.0</td>\n",
       "    </tr>\n",
       "    <tr>\n",
       "      <th>244</th>\n",
       "      <td>5.5</td>\n",
       "    </tr>\n",
       "    <tr>\n",
       "      <th>84</th>\n",
       "      <td>9.0</td>\n",
       "    </tr>\n",
       "  </tbody>\n",
       "</table>\n",
       "</div>"
      ],
      "text/plain": [
       "     wage_per_hour\n",
       "222            6.4\n",
       "131            5.5\n",
       "149            6.0\n",
       "244            5.5\n",
       "84             9.0"
      ]
     },
     "execution_count": 18,
     "metadata": {},
     "output_type": "execute_result"
    }
   ],
   "source": [
    "y_test[:5]  # randomly selected!"
   ]
  },
  {
   "cell_type": "markdown",
   "metadata": {},
   "source": [
    "### small model: model_s1"
   ]
  },
  {
   "cell_type": "code",
   "execution_count": 30,
   "metadata": {},
   "outputs": [],
   "source": [
    "# create simple model\n",
    "model_s1 = Sequential()  # simple model\n",
    "\n",
    "#get number of columns in training data\n",
    "n_cols = X_train.shape[1]\n",
    "\n",
    "#add layers to model\n",
    "model_s1.add(Dense(10, activation='relu', input_shape=(n_cols,)))\n",
    "model_s1.add(Dense(10, activation='relu'))\n",
    "model_s1.add(Dense(1, activation='relu'))"
   ]
  },
  {
   "cell_type": "code",
   "execution_count": 20,
   "metadata": {},
   "outputs": [],
   "source": [
    "#-----------------------------------------------------------------_______------------\n",
    "# Define custom loss functions for regression in Keras \n",
    "#\n",
    "# The functions below are Keras backend tensor functions \n",
    "# and can be used for Keras loss functions, Keras metrics and Keras learning curves. \n",
    "#------------------------------------------------------------------_______-----------\n",
    "# https://github.com/keras-team/keras/issues/7947\n",
    "\n",
    "# root mean squared error (rmse) for regression (only for Keras tensors)\n",
    "def rmse(y_true, y_pred):\n",
    "    from keras import backend\n",
    "    return backend.sqrt(backend.mean(backend.square(y_pred - y_true), axis=-1))\n",
    "\n",
    "# mean squared error (mse) for regression  (only for Keras tensors)\n",
    "def mse(y_true, y_pred):\n",
    "    from keras import backend\n",
    "    return backend.mean(backend.square(y_pred - y_true), axis=-1)\n",
    "\n",
    "# coefficient of determination (R^2) for regression  (only for Keras tensors)\n",
    "def r_square(y_true, y_pred):\n",
    "    from keras import backend as K\n",
    "    SS_res =  K.sum(K.square(y_true - y_pred)) \n",
    "    SS_tot = K.sum(K.square(y_true - K.mean(y_true))) \n",
    "    return ( 1 - SS_res/(SS_tot + K.epsilon()) )\n",
    "\n",
    "def r_square_loss(y_true, y_pred):\n",
    "    from keras import backend as K\n",
    "    SS_res =  K.sum(K.square(y_true - y_pred)) \n",
    "    SS_tot = K.sum(K.square(y_true - K.mean(y_true))) \n",
    "    return 1 - ( 1 - SS_res/(SS_tot + K.epsilon()))\n"
   ]
  },
  {
   "cell_type": "markdown",
   "metadata": {},
   "source": [
    "> [Metrics for Deep Learning with Keras in Python](https://machinelearningmastery.com/custom-metrics-deep-learning-keras-python/)\n",
    "\n",
    "> [Regression with Keras in Python](https://github.com/keras-team/keras/issues/7947)"
   ]
  },
  {
   "cell_type": "code",
   "execution_count": 31,
   "metadata": {},
   "outputs": [],
   "source": [
    "# compile model using accuracy to measure model performance\n",
    "model_s1.compile(optimizer='adam', loss=rmse, metrics=[r_square, rmse])\n",
    "# model_s1.compile(optimizer='adam', loss='mean_squared_error', metrics=[\"r_square\"]))\n",
    "\n",
    "# set early stopping monitor so the model stops training when it won't improve anymore\n",
    "early_stopping_monitor = EarlyStopping(patience=3)\n",
    "# "
   ]
  },
  {
   "cell_type": "code",
   "execution_count": 32,
   "metadata": {},
   "outputs": [
    {
     "name": "stdout",
     "output_type": "stream",
     "text": [
      "Train on 400 samples, validate on 134 samples\n",
      "Epoch 1/30\n",
      "400/400 [==============================] - 0s 407us/step - loss: 5.9996 - r_square: -1.4462 - rmse: 5.9996 - val_loss: 4.9772 - val_r_square: -0.8413 - val_rmse: 4.9772\n",
      "Epoch 2/30\n",
      "400/400 [==============================] - 0s 40us/step - loss: 4.3595 - r_square: -0.5389 - rmse: 4.3595 - val_loss: 4.3765 - val_r_square: -0.4098 - val_rmse: 4.3765\n",
      "Epoch 3/30\n",
      "400/400 [==============================] - 0s 37us/step - loss: 3.9031 - r_square: -0.2139 - rmse: 3.9031 - val_loss: 4.2961 - val_r_square: -0.3948 - val_rmse: 4.2961\n",
      "Epoch 4/30\n",
      "400/400 [==============================] - 0s 37us/step - loss: 3.8750 - r_square: -0.2320 - rmse: 3.8750 - val_loss: 4.2816 - val_r_square: -0.3927 - val_rmse: 4.2816\n",
      "Epoch 5/30\n",
      "400/400 [==============================] - 0s 40us/step - loss: 3.8516 - r_square: -0.1859 - rmse: 3.8516 - val_loss: 4.2578 - val_r_square: -0.3676 - val_rmse: 4.2578\n",
      "Epoch 6/30\n",
      "400/400 [==============================] - 0s 37us/step - loss: 3.8179 - r_square: -0.2089 - rmse: 3.8179 - val_loss: 4.2322 - val_r_square: -0.3441 - val_rmse: 4.2322\n",
      "Epoch 7/30\n",
      "400/400 [==============================] - 0s 40us/step - loss: 3.7970 - r_square: -0.1797 - rmse: 3.7970 - val_loss: 4.2125 - val_r_square: -0.3272 - val_rmse: 4.2125\n",
      "Epoch 8/30\n",
      "400/400 [==============================] - 0s 40us/step - loss: 3.7770 - r_square: -0.1885 - rmse: 3.7770 - val_loss: 4.1888 - val_r_square: -0.3136 - val_rmse: 4.1888\n",
      "Epoch 9/30\n",
      "400/400 [==============================] - 0s 37us/step - loss: 3.7516 - r_square: -0.1732 - rmse: 3.7516 - val_loss: 4.1660 - val_r_square: -0.2975 - val_rmse: 4.1660\n",
      "Epoch 10/30\n",
      "400/400 [==============================] - 0s 38us/step - loss: 3.7292 - r_square: -0.2076 - rmse: 3.7292 - val_loss: 4.1413 - val_r_square: -0.2818 - val_rmse: 4.1413\n",
      "Epoch 11/30\n",
      "400/400 [==============================] - 0s 37us/step - loss: 3.7075 - r_square: -0.1651 - rmse: 3.7075 - val_loss: 4.1220 - val_r_square: -0.2669 - val_rmse: 4.1220\n",
      "Epoch 12/30\n",
      "400/400 [==============================] - 0s 37us/step - loss: 3.6855 - r_square: -0.1792 - rmse: 3.6855 - val_loss: 4.0918 - val_r_square: -0.2508 - val_rmse: 4.0918\n",
      "Epoch 13/30\n",
      "400/400 [==============================] - 0s 37us/step - loss: 3.6580 - r_square: -0.1292 - rmse: 3.6580 - val_loss: 4.0684 - val_r_square: -0.2353 - val_rmse: 4.0684\n",
      "Epoch 14/30\n",
      "400/400 [==============================] - 0s 37us/step - loss: 3.6393 - r_square: -0.1285 - rmse: 3.6393 - val_loss: 4.0461 - val_r_square: -0.2201 - val_rmse: 4.0461\n",
      "Epoch 15/30\n",
      "400/400 [==============================] - 0s 37us/step - loss: 3.6171 - r_square: -0.1487 - rmse: 3.6171 - val_loss: 4.0216 - val_r_square: -0.2032 - val_rmse: 4.0216\n",
      "Epoch 16/30\n",
      "400/400 [==============================] - 0s 37us/step - loss: 3.5886 - r_square: -0.1029 - rmse: 3.5886 - val_loss: 3.9994 - val_r_square: -0.1876 - val_rmse: 3.9994\n",
      "Epoch 17/30\n",
      "400/400 [==============================] - 0s 37us/step - loss: 3.5648 - r_square: -0.0907 - rmse: 3.5648 - val_loss: 3.9749 - val_r_square: -0.1724 - val_rmse: 3.9749\n",
      "Epoch 18/30\n",
      "400/400 [==============================] - 0s 37us/step - loss: 3.5469 - r_square: -0.0607 - rmse: 3.5469 - val_loss: 3.9500 - val_r_square: -0.1561 - val_rmse: 3.9500\n",
      "Epoch 19/30\n",
      "400/400 [==============================] - 0s 37us/step - loss: 3.5318 - r_square: -0.1113 - rmse: 3.5318 - val_loss: 3.9341 - val_r_square: -0.1403 - val_rmse: 3.9341\n",
      "Epoch 20/30\n",
      "400/400 [==============================] - 0s 40us/step - loss: 3.5044 - r_square: -0.0463 - rmse: 3.5044 - val_loss: 3.9110 - val_r_square: -0.1244 - val_rmse: 3.9110\n",
      "Epoch 21/30\n",
      "400/400 [==============================] - 0s 40us/step - loss: 3.4818 - r_square: -0.0551 - rmse: 3.4818 - val_loss: 3.8842 - val_r_square: -0.1086 - val_rmse: 3.8842\n",
      "Epoch 22/30\n",
      "400/400 [==============================] - 0s 37us/step - loss: 3.4653 - r_square: -0.0076 - rmse: 3.4653 - val_loss: 3.8747 - val_r_square: -0.0946 - val_rmse: 3.8747\n",
      "Epoch 23/30\n",
      "400/400 [==============================] - 0s 37us/step - loss: 3.4553 - r_square: -0.0500 - rmse: 3.4553 - val_loss: 3.8496 - val_r_square: -0.0807 - val_rmse: 3.8496\n",
      "Epoch 24/30\n",
      "400/400 [==============================] - 0s 37us/step - loss: 3.4351 - r_square: 0.0095 - rmse: 3.4351 - val_loss: 3.8374 - val_r_square: -0.0678 - val_rmse: 3.8374\n",
      "Epoch 25/30\n",
      "400/400 [==============================] - 0s 37us/step - loss: 3.4178 - r_square: -0.0033 - rmse: 3.4178 - val_loss: 3.8111 - val_r_square: -0.0561 - val_rmse: 3.8111\n",
      "Epoch 26/30\n",
      "400/400 [==============================] - 0s 40us/step - loss: 3.4096 - r_square: 0.0250 - rmse: 3.4096 - val_loss: 3.8031 - val_r_square: -0.0449 - val_rmse: 3.8031\n",
      "Epoch 27/30\n",
      "400/400 [==============================] - 0s 37us/step - loss: 3.3946 - r_square: -0.0194 - rmse: 3.3946 - val_loss: 3.7776 - val_r_square: -0.0321 - val_rmse: 3.7776\n",
      "Epoch 28/30\n",
      "400/400 [==============================] - 0s 37us/step - loss: 3.3808 - r_square: -0.0034 - rmse: 3.3808 - val_loss: 3.7648 - val_r_square: -0.0218 - val_rmse: 3.7648\n",
      "Epoch 29/30\n",
      "400/400 [==============================] - 0s 37us/step - loss: 3.3631 - r_square: 0.0351 - rmse: 3.3631 - val_loss: 3.7548 - val_r_square: -0.0106 - val_rmse: 3.7548\n",
      "Epoch 30/30\n",
      "400/400 [==============================] - 0s 37us/step - loss: 3.3573 - r_square: 0.0364 - rmse: 3.3573 - val_loss: 3.7395 - val_r_square: -0.0017 - val_rmse: 3.7395\n"
     ]
    }
   ],
   "source": [
    "# train model\n",
    "hist = model_s1.fit(X_train, y_train, epochs=30, validation_data=(X_test, y_test), callbacks=[early_stopping_monitor])  # validation_split=0.2"
   ]
  },
  {
   "cell_type": "code",
   "execution_count": 33,
   "metadata": {},
   "outputs": [],
   "source": [
    "import matplotlib.pyplot as plt\n",
    "import matplotlib as mpl\n",
    "%matplotlib inline"
   ]
  },
  {
   "cell_type": "code",
   "execution_count": 34,
   "metadata": {},
   "outputs": [
    {
     "data": {
      "image/png": "[encoded data removed]",
      "text/plain": [
       "<Figure size 432x288 with 1 Axes>"
      ]
     },
     "metadata": {
      "needs_background": "light"
     },
     "output_type": "display_data"
    }
   ],
   "source": [
    "# Plot performance\n",
    "plt.plot(hist.history['loss'])\n",
    "plt.show()"
   ]
  },
  {
   "cell_type": "code",
   "execution_count": 35,
   "metadata": {
    "scrolled": true
   },
   "outputs": [
    {
     "data": {
      "image/png": "[encoded data removed]",
      "text/plain": [
       "<Figure size 432x288 with 1 Axes>"
      ]
     },
     "metadata": {
      "needs_background": "light"
     },
     "output_type": "display_data"
    }
   ],
   "source": [
    "# plot training curve for R^2 (beware of scale, starts very low negative)\n",
    "plt.plot(hist.history['val_r_square'])\n",
    "plt.plot(hist.history['r_square'])\n",
    "plt.title('model R^2')\n",
    "plt.ylabel('R^2')\n",
    "plt.xlabel('epoch')\n",
    "plt.legend(['train', 'test'], loc='upper left')\n",
    "plt.show()"
   ]
  },
  {
   "cell_type": "code",
   "execution_count": 36,
   "metadata": {},
   "outputs": [
    {
     "data": {
      "image/png": "[encoded data removed]",
      "text/plain": [
       "<Figure size 432x288 with 1 Axes>"
      ]
     },
     "metadata": {
      "needs_background": "light"
     },
     "output_type": "display_data"
    }
   ],
   "source": [
    "# plot training curve for R^2 (beware of scale, starts very low negative)\n",
    "plt.plot(hist.history['r_square'])\n",
    "plt.plot(hist.history['val_r_square'])\n",
    "plt.title('model R^2')\n",
    "plt.ylabel('R^2')\n",
    "plt.xlabel('epoch')\n",
    "plt.legend(['train', 'test'], loc='upper left')\n",
    "plt.show()"
   ]
  },
  {
   "cell_type": "code",
   "execution_count": 37,
   "metadata": {},
   "outputs": [
    {
     "data": {
      "image/png": "[encoded data removed]",
      "text/plain": [
       "<Figure size 432x288 with 1 Axes>"
      ]
     },
     "metadata": {
      "needs_background": "light"
     },
     "output_type": "display_data"
    }
   ],
   "source": [
    "# plot training curve for rmse\n",
    "plt.plot(hist.history['rmse'])\n",
    "plt.plot(hist.history['val_rmse'])\n",
    "plt.title('rmse')\n",
    "plt.ylabel('rmse')\n",
    "plt.xlabel('epoch')\n",
    "plt.legend(['train', 'test'], loc='upper left')\n",
    "plt.show()"
   ]
  },
  {
   "cell_type": "code",
   "execution_count": 58,
   "metadata": {},
   "outputs": [
    {
     "data": {
      "text/plain": [
       "array([[11.605385 ],\n",
       "       [ 5.7754498],\n",
       "       [ 6.66088  ],\n",
       "       [ 8.035663 ],\n",
       "       [ 6.9929256]], dtype=float32)"
      ]
     },
     "execution_count": 58,
     "metadata": {},
     "output_type": "execute_result"
    }
   ],
   "source": [
    "# get predictions\n",
    "y_pred = model_s1.predict(X_test)\n",
    "y_pred[:5]"
   ]
  },
  {
   "cell_type": "code",
   "execution_count": 39,
   "metadata": {},
   "outputs": [
    {
     "data": {
      "image/png": "[encoded data removed]",
      "text/plain": [
       "<Figure size 432x288 with 1 Axes>"
      ]
     },
     "metadata": {
      "needs_background": "light"
     },
     "output_type": "display_data"
    }
   ],
   "source": [
    "# print the linear regression and display datapoints\n",
    "from sklearn.linear_model import LinearRegression  \n",
    "regressor = LinearRegression()  \n",
    "true_y=y_test  # np.argmax(y_test, axis=1)  # decode one-hot encoding\n",
    "regressor.fit(true_y, y_pred)  \n",
    "y_fit = regressor.predict(y_pred) \n",
    "\n",
    "reg_intercept = round(regressor.intercept_[0],4)\n",
    "reg_coef = round(regressor.coef_.flatten()[0],4)\n",
    "reg_label = \"y = \" + str(reg_intercept) + \"*x +\" + str(reg_coef)\n",
    "\n",
    "plt.scatter(true_y, y_pred, color='blue', label= 'data')\n",
    "plt.plot(y_pred, y_fit, color='red', linewidth=2, label = 'Linear regression\\n'+reg_label) \n",
    "plt.title('Linear Regression')\n",
    "plt.legend()\n",
    "plt.xlabel('observed')\n",
    "plt.ylabel('predicted')\n",
    "plt.show()"
   ]
  },
  {
   "cell_type": "markdown",
   "metadata": {},
   "source": [
    "### Big model: model_b1"
   ]
  },
  {
   "cell_type": "code",
   "execution_count": 68,
   "metadata": {},
   "outputs": [],
   "source": [
    "#create model with larger capacity\n",
    "model_b1 = Sequential()\n",
    "\n",
    "#get number of columns in training data\n",
    "n_cols = X_train.shape[1]\n",
    "\n",
    "#add layers to model\n",
    "model_b1.add(Dense(200, activation='relu', input_shape=(n_cols,)))\n",
    "model_b1.add(Dense(100, activation='relu'))\n",
    "model_b1.add(Dense(20, activation='relu'))\n",
    "model_b1.add(Dense(1, activation='relu'))"
   ]
  },
  {
   "cell_type": "code",
   "execution_count": 69,
   "metadata": {},
   "outputs": [],
   "source": [
    "# compile model using accuracy to measure model performance\n",
    "model_b1.compile(optimizer='adam', loss=rmse, metrics=[r_square, rmse])\n",
    "# set early stopping monitor so the model stops training when it won't improve anymore\n",
    "early_stopping_monitor = EarlyStopping(patience=10)"
   ]
  },
  {
   "cell_type": "code",
   "execution_count": 70,
   "metadata": {},
   "outputs": [
    {
     "name": "stdout",
     "output_type": "stream",
     "text": [
      "Train on 400 samples, validate on 134 samples\n",
      "Epoch 1/30\n",
      "400/400 [==============================] - 0s 897us/step - loss: 4.0891 - r_square: -0.3185 - rmse: 4.0891 - val_loss: 3.8409 - val_r_square: -0.1565 - val_rmse: 3.8409\n",
      "Epoch 2/30\n",
      "400/400 [==============================] - 0s 52us/step - loss: 3.4396 - r_square: -0.0672 - rmse: 3.4396 - val_loss: 3.8084 - val_r_square: 0.0131 - val_rmse: 3.8084\n",
      "Epoch 3/30\n",
      "400/400 [==============================] - 0s 52us/step - loss: 3.3317 - r_square: 0.0722 - rmse: 3.3317 - val_loss: 3.5565 - val_r_square: 0.0353 - val_rmse: 3.5565\n",
      "Epoch 4/30\n",
      "400/400 [==============================] - 0s 52us/step - loss: 3.2798 - r_square: 0.1300 - rmse: 3.2798 - val_loss: 3.5476 - val_r_square: 0.1228 - val_rmse: 3.5476\n",
      "Epoch 5/30\n",
      "400/400 [==============================] - 0s 52us/step - loss: 3.2428 - r_square: 0.1182 - rmse: 3.2428 - val_loss: 3.5330 - val_r_square: 0.1396 - val_rmse: 3.5330\n",
      "Epoch 6/30\n",
      "400/400 [==============================] - 0s 52us/step - loss: 3.2186 - r_square: 0.1460 - rmse: 3.2186 - val_loss: 3.3818 - val_r_square: 0.1524 - val_rmse: 3.3818\n",
      "Epoch 7/30\n",
      "400/400 [==============================] - 0s 50us/step - loss: 3.2059 - r_square: 0.1282 - rmse: 3.2059 - val_loss: 3.3083 - val_r_square: 0.1271 - val_rmse: 3.3083\n",
      "Epoch 8/30\n",
      "400/400 [==============================] - 0s 52us/step - loss: 3.1596 - r_square: 0.1847 - rmse: 3.1596 - val_loss: 3.2859 - val_r_square: 0.1259 - val_rmse: 3.2859\n",
      "Epoch 9/30\n",
      "400/400 [==============================] - 0s 52us/step - loss: 3.1940 - r_square: 0.1366 - rmse: 3.1940 - val_loss: 3.3059 - val_r_square: 0.1522 - val_rmse: 3.3059\n",
      "Epoch 10/30\n",
      "400/400 [==============================] - 0s 50us/step - loss: 3.1973 - r_square: 0.1435 - rmse: 3.1973 - val_loss: 3.3871 - val_r_square: 0.1984 - val_rmse: 3.3871\n",
      "Epoch 11/30\n",
      "400/400 [==============================] - 0s 52us/step - loss: 3.1298 - r_square: 0.1579 - rmse: 3.1298 - val_loss: 3.5010 - val_r_square: 0.1595 - val_rmse: 3.5010\n",
      "Epoch 12/30\n",
      "400/400 [==============================] - 0s 52us/step - loss: 3.1016 - r_square: 0.1664 - rmse: 3.1016 - val_loss: 3.3229 - val_r_square: 0.1970 - val_rmse: 3.3229\n",
      "Epoch 13/30\n",
      "400/400 [==============================] - 0s 55us/step - loss: 3.0597 - r_square: 0.2103 - rmse: 3.0597 - val_loss: 3.2719 - val_r_square: 0.1953 - val_rmse: 3.2719\n",
      "Epoch 14/30\n",
      "400/400 [==============================] - 0s 55us/step - loss: 3.0475 - r_square: 0.1888 - rmse: 3.0475 - val_loss: 3.2377 - val_r_square: 0.1742 - val_rmse: 3.2377\n",
      "Epoch 15/30\n",
      "400/400 [==============================] - 0s 60us/step - loss: 3.0736 - r_square: 0.1801 - rmse: 3.0736 - val_loss: 3.2431 - val_r_square: 0.2242 - val_rmse: 3.2431\n",
      "Epoch 16/30\n",
      "400/400 [==============================] - 0s 52us/step - loss: 3.0196 - r_square: 0.2436 - rmse: 3.0196 - val_loss: 3.3159 - val_r_square: 0.2066 - val_rmse: 3.3159\n",
      "Epoch 17/30\n",
      "400/400 [==============================] - 0s 52us/step - loss: 3.0860 - r_square: 0.1770 - rmse: 3.0860 - val_loss: 3.1534 - val_r_square: 0.1842 - val_rmse: 3.1534\n",
      "Epoch 18/30\n",
      "400/400 [==============================] - 0s 52us/step - loss: 3.0263 - r_square: 0.1996 - rmse: 3.0263 - val_loss: 3.2645 - val_r_square: 0.2171 - val_rmse: 3.2645\n",
      "Epoch 19/30\n",
      "400/400 [==============================] - 0s 55us/step - loss: 2.9892 - r_square: 0.2429 - rmse: 2.9892 - val_loss: 3.1748 - val_r_square: 0.2128 - val_rmse: 3.1748\n",
      "Epoch 20/30\n",
      "400/400 [==============================] - 0s 55us/step - loss: 3.0027 - r_square: 0.2297 - rmse: 3.0027 - val_loss: 3.1515 - val_r_square: 0.2255 - val_rmse: 3.1515\n",
      "Epoch 21/30\n",
      "400/400 [==============================] - 0s 55us/step - loss: 3.0088 - r_square: 0.2354 - rmse: 3.0088 - val_loss: 3.3320 - val_r_square: 0.2160 - val_rmse: 3.3320\n",
      "Epoch 22/30\n",
      "400/400 [==============================] - 0s 55us/step - loss: 2.9876 - r_square: 0.2397 - rmse: 2.9876 - val_loss: 3.1882 - val_r_square: 0.2082 - val_rmse: 3.1882\n",
      "Epoch 23/30\n",
      "400/400 [==============================] - 0s 50us/step - loss: 2.9841 - r_square: 0.2283 - rmse: 2.9841 - val_loss: 3.0919 - val_r_square: 0.2057 - val_rmse: 3.0919\n",
      "Epoch 24/30\n",
      "400/400 [==============================] - 0s 52us/step - loss: 3.0015 - r_square: 0.2366 - rmse: 3.0015 - val_loss: 3.2506 - val_r_square: 0.2310 - val_rmse: 3.2506\n",
      "Epoch 25/30\n",
      "400/400 [==============================] - 0s 65us/step - loss: 3.0789 - r_square: 0.1746 - rmse: 3.0789 - val_loss: 3.7022 - val_r_square: 0.1173 - val_rmse: 3.7022\n",
      "Epoch 26/30\n",
      "400/400 [==============================] - 0s 52us/step - loss: 3.1083 - r_square: 0.1762 - rmse: 3.1083 - val_loss: 3.3314 - val_r_square: 0.1968 - val_rmse: 3.3314\n",
      "Epoch 27/30\n",
      "400/400 [==============================] - 0s 55us/step - loss: 3.0804 - r_square: 0.2005 - rmse: 3.0804 - val_loss: 3.1464 - val_r_square: 0.2203 - val_rmse: 3.1464\n",
      "Epoch 28/30\n",
      "400/400 [==============================] - 0s 55us/step - loss: 3.0193 - r_square: 0.2425 - rmse: 3.0193 - val_loss: 3.1101 - val_r_square: 0.2278 - val_rmse: 3.1101\n",
      "Epoch 29/30\n",
      "400/400 [==============================] - 0s 52us/step - loss: 2.9690 - r_square: 0.2296 - rmse: 2.9690 - val_loss: 3.0854 - val_r_square: 0.1264 - val_rmse: 3.0854\n",
      "Epoch 30/30\n",
      "400/400 [==============================] - 0s 55us/step - loss: 3.0062 - r_square: 0.1916 - rmse: 3.0062 - val_loss: 3.2183 - val_r_square: 0.2508 - val_rmse: 3.2183\n"
     ]
    }
   ],
   "source": [
    "# train model\n",
    "hist = model_b1.fit(X_train, y_train, epochs=30, validation_data=(X_test, y_test), callbacks=[early_stopping_monitor])  # validation_split=0.2"
   ]
  },
  {
   "cell_type": "markdown",
   "metadata": {},
   "source": [
    "***"
   ]
  },
  {
   "cell_type": "code",
   "execution_count": 71,
   "metadata": {},
   "outputs": [
    {
     "data": {
      "image/png": "[encoded data removed]",
      "text/plain": [
       "<Figure size 432x288 with 1 Axes>"
      ]
     },
     "metadata": {
      "needs_background": "light"
     },
     "output_type": "display_data"
    }
   ],
   "source": [
    "# Plot performance\n",
    "plt.plot(hist.history['loss'])\n",
    "plt.show()"
   ]
  },
  {
   "cell_type": "code",
   "execution_count": 72,
   "metadata": {},
   "outputs": [
    {
     "data": {
      "image/png": "[encoded data removed]",
      "text/plain": [
       "<Figure size 432x288 with 1 Axes>"
      ]
     },
     "metadata": {
      "needs_background": "light"
     },
     "output_type": "display_data"
    }
   ],
   "source": [
    "# plot training curve for R^2 (beware of scale, starts very low negative)\n",
    "plt.plot(hist.history['r_square'])\n",
    "plt.plot(hist.history['val_r_square'])\n",
    "plt.title('model R^2')\n",
    "plt.ylabel('R^2')\n",
    "plt.xlabel('epoch')\n",
    "plt.legend(['train', 'test'], loc='upper left')\n",
    "plt.show()"
   ]
  },
  {
   "cell_type": "code",
   "execution_count": 73,
   "metadata": {},
   "outputs": [
    {
     "data": {
      "image/png": "[encoded data removed]",
      "text/plain": [
       "<Figure size 432x288 with 1 Axes>"
      ]
     },
     "metadata": {
      "needs_background": "light"
     },
     "output_type": "display_data"
    }
   ],
   "source": [
    "# plot training curve for rmse\n",
    "plt.plot(hist.history['rmse'])\n",
    "plt.plot(hist.history['val_rmse'])\n",
    "plt.title('rmse')\n",
    "plt.ylabel('rmse')\n",
    "plt.xlabel('epoch')\n",
    "plt.legend(['train', 'test'], loc='upper left')\n",
    "plt.show()"
   ]
  },
  {
   "cell_type": "code",
   "execution_count": 74,
   "metadata": {},
   "outputs": [
    {
     "data": {
      "text/plain": [
       "array([[ 8.39978  ],\n",
       "       [ 7.2420254],\n",
       "       [ 9.028973 ],\n",
       "       [ 9.142657 ],\n",
       "       [10.685832 ]], dtype=float32)"
      ]
     },
     "execution_count": 74,
     "metadata": {},
     "output_type": "execute_result"
    }
   ],
   "source": [
    "# get predictions\n",
    "y_pred = model_b1.predict(X_test)\n",
    "y_pred[:5]"
   ]
  },
  {
   "cell_type": "code",
   "execution_count": 75,
   "metadata": {
    "scrolled": false
   },
   "outputs": [
    {
     "data": {
      "image/png": "[encoded data removed]",
      "text/plain": [
       "<Figure size 432x288 with 1 Axes>"
      ]
     },
     "metadata": {
      "needs_background": "light"
     },
     "output_type": "display_data"
    }
   ],
   "source": [
    "# print the linear regression and display datapoints\n",
    "from sklearn.linear_model import LinearRegression  \n",
    "regressor = LinearRegression()  \n",
    "true_y=y_test # np.argmax(y_test, axis=1)  # decode one-hot encoding\n",
    "regressor.fit(true_y, y_pred)  \n",
    "y_fit = regressor.predict(y_pred) \n",
    "\n",
    "reg_intercept = round(regressor.intercept_[0],4)\n",
    "reg_coef = round(regressor.coef_.flatten()[0],4)\n",
    "reg_label = \"y = \" + str(reg_intercept) + \"*x +\" + str(reg_coef)\n",
    "\n",
    "plt.scatter(true_y, y_pred, color='blue', label= 'data')\n",
    "plt.plot(y_pred, y_fit, color='red', linewidth=2, label = 'Linear regression\\n'+reg_label) \n",
    "plt.title('Linear Regression')\n",
    "plt.legend()\n",
    "plt.xlabel('observed')\n",
    "plt.ylabel('predicted')\n",
    "plt.show()"
   ]
  },
  {
   "cell_type": "code",
   "execution_count": 76,
   "metadata": {},
   "outputs": [
    {
     "data": {
      "text/html": [
       "<div>\n",
       "<style scoped>\n",
       "    .dataframe tbody tr th:only-of-type {\n",
       "        vertical-align: middle;\n",
       "    }\n",
       "\n",
       "    .dataframe tbody tr th {\n",
       "        vertical-align: top;\n",
       "    }\n",
       "\n",
       "    .dataframe thead th {\n",
       "        text-align: right;\n",
       "    }\n",
       "</style>\n",
       "<table border=\"1\" class=\"dataframe\">\n",
       "  <thead>\n",
       "    <tr style=\"text-align: right;\">\n",
       "      <th></th>\n",
       "      <th>wage_per_hour</th>\n",
       "    </tr>\n",
       "  </thead>\n",
       "  <tbody>\n",
       "    <tr>\n",
       "      <th>222</th>\n",
       "      <td>6.4</td>\n",
       "    </tr>\n",
       "    <tr>\n",
       "      <th>131</th>\n",
       "      <td>5.5</td>\n",
       "    </tr>\n",
       "    <tr>\n",
       "      <th>149</th>\n",
       "      <td>6.0</td>\n",
       "    </tr>\n",
       "    <tr>\n",
       "      <th>244</th>\n",
       "      <td>5.5</td>\n",
       "    </tr>\n",
       "    <tr>\n",
       "      <th>84</th>\n",
       "      <td>9.0</td>\n",
       "    </tr>\n",
       "  </tbody>\n",
       "</table>\n",
       "</div>"
      ],
      "text/plain": [
       "     wage_per_hour\n",
       "222            6.4\n",
       "131            5.5\n",
       "149            6.0\n",
       "244            5.5\n",
       "84             9.0"
      ]
     },
     "execution_count": 76,
     "metadata": {},
     "output_type": "execute_result"
    }
   ],
   "source": [
    "true_y[:5]"
   ]
  },
  {
   "cell_type": "code",
   "execution_count": 77,
   "metadata": {
    "scrolled": false
   },
   "outputs": [
    {
     "data": {
      "text/plain": [
       "(     wage_per_hour\n",
       " 222            6.4\n",
       " 131            5.5\n",
       " 149            6.0\n",
       " 244            5.5\n",
       " 84             9.0,      wage_per_hour\n",
       " 222            6.4\n",
       " 131            5.5\n",
       " 149            6.0\n",
       " 244            5.5\n",
       " 84             9.0)"
      ]
     },
     "execution_count": 77,
     "metadata": {},
     "output_type": "execute_result"
    }
   ],
   "source": [
    "true_y[:5],y_test[:5]"
   ]
  },
  {
   "cell_type": "markdown",
   "metadata": {},
   "source": [
    "### The validation loss becomes smaller with the increase of model capcity."
   ]
  },
  {
   "cell_type": "markdown",
   "metadata": {},
   "source": [
    "[Meaning of accuracy of regression in keras](https://github.com/keras-team/keras/issues/7947)"
   ]
  },
  {
   "cell_type": "code",
   "execution_count": null,
   "metadata": {},
   "outputs": [],
   "source": []
  }
 ],
 "metadata": {
  "kernelspec": {
   "display_name": "Python 3",
   "language": "python",
   "name": "python3"
  },
  "language_info": {
   "codemirror_mode": {
    "name": "ipython",
    "version": 3
   },
   "file_extension": ".py",
   "mimetype": "text/x-python",
   "name": "python",
   "nbconvert_exporter": "python",
   "pygments_lexer": "ipython3",
   "version": "3.6.6"
  }
 },
 "nbformat": 4,
 "nbformat_minor": 2
}
