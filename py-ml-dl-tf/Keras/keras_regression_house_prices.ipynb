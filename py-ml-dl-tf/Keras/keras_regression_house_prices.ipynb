{
 "cells": [
  {
   "cell_type": "markdown",
   "metadata": {},
   "source": [
    "## Kaggle kernel #10 about Boston housing price: \n",
    "- All numeric columns with encoding catogories\n",
    "- Adjusting skewed distribution\n",
    "- minmax scaling of all numeric features\"\n",
    "> https://www.kaggle.com/bturan19/a-basic-ann-implementation-with-lgbm-output/notebook"
   ]
  },
  {
   "cell_type": "markdown",
   "metadata": {},
   "source": [
    "This notebook goes along with the Deep Learning using Keras tutorial on Medium.\n",
    "\n",
    "- [Keras tutorial: regression](https://towardsdatascience.com/building-a-deep-learning-model-using-keras-1548ca149d37)\n",
    "\n",
    "- [Regression-Classification-Keras](https://github.com/Not-A-Builder/Regression-Classification-Keras)"
   ]
  },
  {
   "cell_type": "code",
   "execution_count": 19,
   "metadata": {},
   "outputs": [],
   "source": [
    "import pandas as pd\n",
    "import numpy as np\n",
    "import matplotlib.pyplot as plt\n",
    "import matplotlib as mpl\n",
    "%matplotlib inline\n",
    "from keras.models import Sequential\n",
    "from keras.layers import Dense\n",
    "from keras.callbacks import EarlyStopping\n",
    "from keras.utils import to_categorical"
   ]
  },
  {
   "cell_type": "markdown",
   "metadata": {},
   "source": [
    "### In this model, we are going to predict the price of houses in Boston using regression based on Keras."
   ]
  },
  {
   "cell_type": "markdown",
   "metadata": {},
   "source": [
    "### Data: imputed to be free of NaN & rescaled"
   ]
  },
  {
   "cell_type": "code",
   "execution_count": 2,
   "metadata": {},
   "outputs": [
    {
     "data": {
      "text/plain": [
       "((1456, 403), (1459, 403), (1456, 1))"
      ]
     },
     "execution_count": 2,
     "metadata": {},
     "output_type": "execute_result"
    }
   ],
   "source": [
    "train_df = pd.read_csv(\"data/train_df_munged.csv\")\n",
    "test_df = pd.read_csv(\"data/test_df_munged.csv\")\n",
    "label_df = pd.read_csv(\"data/label_df.csv\")\n",
    "train_df.shape,test_df.shape,label_df.shape"
   ]
  },
  {
   "cell_type": "code",
   "execution_count": 3,
   "metadata": {},
   "outputs": [
    {
     "data": {
      "text/plain": [
       "(1456, 403)"
      ]
     },
     "execution_count": 3,
     "metadata": {},
     "output_type": "execute_result"
    }
   ],
   "source": [
    "# Make test data using continuous values without categorical labels.\n",
    "train_df.select_dtypes(include=[np.number]).shape\n",
    "# All columns are numerical!"
   ]
  },
  {
   "cell_type": "code",
   "execution_count": 4,
   "metadata": {},
   "outputs": [
    {
     "data": {
      "text/html": [
       "<div>\n",
       "<style scoped>\n",
       "    .dataframe tbody tr th:only-of-type {\n",
       "        vertical-align: middle;\n",
       "    }\n",
       "\n",
       "    .dataframe tbody tr th {\n",
       "        vertical-align: top;\n",
       "    }\n",
       "\n",
       "    .dataframe thead th {\n",
       "        text-align: right;\n",
       "    }\n",
       "</style>\n",
       "<table border=\"1\" class=\"dataframe\">\n",
       "  <thead>\n",
       "    <tr style=\"text-align: right;\">\n",
       "      <th></th>\n",
       "      <th>LotFrontage</th>\n",
       "      <th>LotArea</th>\n",
       "      <th>MasVnrArea</th>\n",
       "      <th>BsmtFinSF1</th>\n",
       "      <th>BsmtFinSF2</th>\n",
       "      <th>BsmtUnfSF</th>\n",
       "      <th>TotalBsmtSF</th>\n",
       "      <th>1stFlrSF</th>\n",
       "      <th>2ndFlrSF</th>\n",
       "      <th>GrLivArea</th>\n",
       "      <th>...</th>\n",
       "      <th>_YearBuiltBin_YearBin7</th>\n",
       "      <th>_YearRemodAddBin_YearBin4</th>\n",
       "      <th>_YearRemodAddBin_YearBin5</th>\n",
       "      <th>_YearRemodAddBin_YearBin6</th>\n",
       "      <th>_YearRemodAddBin_YearBin7</th>\n",
       "      <th>_NeighborhoodBin_0</th>\n",
       "      <th>_NeighborhoodBin_1</th>\n",
       "      <th>_NeighborhoodBin_2</th>\n",
       "      <th>_NeighborhoodBin_3</th>\n",
       "      <th>_NeighborhoodBin_4</th>\n",
       "    </tr>\n",
       "  </thead>\n",
       "  <tbody>\n",
       "    <tr>\n",
       "      <th>0</th>\n",
       "      <td>-0.076848</td>\n",
       "      <td>-0.127817</td>\n",
       "      <td>1.209296</td>\n",
       "      <td>0.625446</td>\n",
       "      <td>-0.355892</td>\n",
       "      <td>-0.339062</td>\n",
       "      <td>-0.472456</td>\n",
       "      <td>-0.805990</td>\n",
       "      <td>1.185669</td>\n",
       "      <td>0.548227</td>\n",
       "      <td>...</td>\n",
       "      <td>1</td>\n",
       "      <td>0</td>\n",
       "      <td>0</td>\n",
       "      <td>0</td>\n",
       "      <td>1</td>\n",
       "      <td>0</td>\n",
       "      <td>0</td>\n",
       "      <td>1</td>\n",
       "      <td>0</td>\n",
       "      <td>0</td>\n",
       "    </tr>\n",
       "    <tr>\n",
       "      <th>1</th>\n",
       "      <td>0.562906</td>\n",
       "      <td>0.120797</td>\n",
       "      <td>-0.805439</td>\n",
       "      <td>1.257846</td>\n",
       "      <td>-0.355892</td>\n",
       "      <td>0.003303</td>\n",
       "      <td>0.512947</td>\n",
       "      <td>0.433256</td>\n",
       "      <td>-0.867410</td>\n",
       "      <td>-0.378408</td>\n",
       "      <td>...</td>\n",
       "      <td>0</td>\n",
       "      <td>0</td>\n",
       "      <td>0</td>\n",
       "      <td>1</td>\n",
       "      <td>0</td>\n",
       "      <td>0</td>\n",
       "      <td>0</td>\n",
       "      <td>0</td>\n",
       "      <td>1</td>\n",
       "      <td>0</td>\n",
       "    </tr>\n",
       "    <tr>\n",
       "      <th>2</th>\n",
       "      <td>0.062014</td>\n",
       "      <td>0.429834</td>\n",
       "      <td>1.137048</td>\n",
       "      <td>0.113946</td>\n",
       "      <td>-0.355892</td>\n",
       "      <td>0.231214</td>\n",
       "      <td>-0.317122</td>\n",
       "      <td>-0.575842</td>\n",
       "      <td>1.189908</td>\n",
       "      <td>0.680880</td>\n",
       "      <td>...</td>\n",
       "      <td>1</td>\n",
       "      <td>0</td>\n",
       "      <td>0</td>\n",
       "      <td>0</td>\n",
       "      <td>1</td>\n",
       "      <td>0</td>\n",
       "      <td>0</td>\n",
       "      <td>1</td>\n",
       "      <td>0</td>\n",
       "      <td>0</td>\n",
       "    </tr>\n",
       "    <tr>\n",
       "      <th>3</th>\n",
       "      <td>-0.322950</td>\n",
       "      <td>0.110623</td>\n",
       "      <td>-0.805439</td>\n",
       "      <td>-0.513805</td>\n",
       "      <td>-0.355892</td>\n",
       "      <td>0.348751</td>\n",
       "      <td>-0.715166</td>\n",
       "      <td>-0.436663</td>\n",
       "      <td>1.148647</td>\n",
       "      <td>0.560689</td>\n",
       "      <td>...</td>\n",
       "      <td>0</td>\n",
       "      <td>0</td>\n",
       "      <td>1</td>\n",
       "      <td>0</td>\n",
       "      <td>0</td>\n",
       "      <td>0</td>\n",
       "      <td>0</td>\n",
       "      <td>0</td>\n",
       "      <td>1</td>\n",
       "      <td>0</td>\n",
       "    </tr>\n",
       "    <tr>\n",
       "      <th>4</th>\n",
       "      <td>0.713484</td>\n",
       "      <td>0.891805</td>\n",
       "      <td>1.429555</td>\n",
       "      <td>0.506871</td>\n",
       "      <td>-0.355892</td>\n",
       "      <td>0.296484</td>\n",
       "      <td>0.228976</td>\n",
       "      <td>0.122612</td>\n",
       "      <td>1.249303</td>\n",
       "      <td>1.314119</td>\n",
       "      <td>...</td>\n",
       "      <td>1</td>\n",
       "      <td>0</td>\n",
       "      <td>0</td>\n",
       "      <td>0</td>\n",
       "      <td>1</td>\n",
       "      <td>0</td>\n",
       "      <td>0</td>\n",
       "      <td>0</td>\n",
       "      <td>0</td>\n",
       "      <td>1</td>\n",
       "    </tr>\n",
       "  </tbody>\n",
       "</table>\n",
       "<p>5 rows × 403 columns</p>\n",
       "</div>"
      ],
      "text/plain": [
       "   LotFrontage   LotArea  MasVnrArea  BsmtFinSF1  BsmtFinSF2  BsmtUnfSF  \\\n",
       "0    -0.076848 -0.127817    1.209296    0.625446   -0.355892  -0.339062   \n",
       "1     0.562906  0.120797   -0.805439    1.257846   -0.355892   0.003303   \n",
       "2     0.062014  0.429834    1.137048    0.113946   -0.355892   0.231214   \n",
       "3    -0.322950  0.110623   -0.805439   -0.513805   -0.355892   0.348751   \n",
       "4     0.713484  0.891805    1.429555    0.506871   -0.355892   0.296484   \n",
       "\n",
       "   TotalBsmtSF  1stFlrSF  2ndFlrSF  GrLivArea         ...          \\\n",
       "0    -0.472456 -0.805990  1.185669   0.548227         ...           \n",
       "1     0.512947  0.433256 -0.867410  -0.378408         ...           \n",
       "2    -0.317122 -0.575842  1.189908   0.680880         ...           \n",
       "3    -0.715166 -0.436663  1.148647   0.560689         ...           \n",
       "4     0.228976  0.122612  1.249303   1.314119         ...           \n",
       "\n",
       "   _YearBuiltBin_YearBin7  _YearRemodAddBin_YearBin4  \\\n",
       "0                       1                          0   \n",
       "1                       0                          0   \n",
       "2                       1                          0   \n",
       "3                       0                          0   \n",
       "4                       1                          0   \n",
       "\n",
       "   _YearRemodAddBin_YearBin5  _YearRemodAddBin_YearBin6  \\\n",
       "0                          0                          0   \n",
       "1                          0                          1   \n",
       "2                          0                          0   \n",
       "3                          1                          0   \n",
       "4                          0                          0   \n",
       "\n",
       "   _YearRemodAddBin_YearBin7  _NeighborhoodBin_0  _NeighborhoodBin_1  \\\n",
       "0                          1                   0                   0   \n",
       "1                          0                   0                   0   \n",
       "2                          1                   0                   0   \n",
       "3                          0                   0                   0   \n",
       "4                          1                   0                   0   \n",
       "\n",
       "   _NeighborhoodBin_2  _NeighborhoodBin_3  _NeighborhoodBin_4  \n",
       "0                   1                   0                   0  \n",
       "1                   0                   1                   0  \n",
       "2                   1                   0                   0  \n",
       "3                   0                   1                   0  \n",
       "4                   0                   0                   1  \n",
       "\n",
       "[5 rows x 403 columns]"
      ]
     },
     "execution_count": 4,
     "metadata": {},
     "output_type": "execute_result"
    }
   ],
   "source": [
    "train_df.head()"
   ]
  },
  {
   "cell_type": "code",
   "execution_count": 5,
   "metadata": {},
   "outputs": [
    {
     "data": {
      "text/html": [
       "<div>\n",
       "<style scoped>\n",
       "    .dataframe tbody tr th:only-of-type {\n",
       "        vertical-align: middle;\n",
       "    }\n",
       "\n",
       "    .dataframe tbody tr th {\n",
       "        vertical-align: top;\n",
       "    }\n",
       "\n",
       "    .dataframe thead th {\n",
       "        text-align: right;\n",
       "    }\n",
       "</style>\n",
       "<table border=\"1\" class=\"dataframe\">\n",
       "  <thead>\n",
       "    <tr style=\"text-align: right;\">\n",
       "      <th></th>\n",
       "      <th>SalePrice</th>\n",
       "    </tr>\n",
       "  </thead>\n",
       "  <tbody>\n",
       "    <tr>\n",
       "      <th>0</th>\n",
       "      <td>12.247694</td>\n",
       "    </tr>\n",
       "    <tr>\n",
       "      <th>1</th>\n",
       "      <td>12.109011</td>\n",
       "    </tr>\n",
       "    <tr>\n",
       "      <th>2</th>\n",
       "      <td>12.317167</td>\n",
       "    </tr>\n",
       "    <tr>\n",
       "      <th>3</th>\n",
       "      <td>11.849398</td>\n",
       "    </tr>\n",
       "    <tr>\n",
       "      <th>4</th>\n",
       "      <td>12.429216</td>\n",
       "    </tr>\n",
       "  </tbody>\n",
       "</table>\n",
       "</div>"
      ],
      "text/plain": [
       "   SalePrice\n",
       "0  12.247694\n",
       "1  12.109011\n",
       "2  12.317167\n",
       "3  11.849398\n",
       "4  12.429216"
      ]
     },
     "execution_count": 5,
     "metadata": {},
     "output_type": "execute_result"
    }
   ],
   "source": [
    "label_df.head()  # logarithmic value"
   ]
  },
  {
   "cell_type": "code",
   "execution_count": 137,
   "metadata": {},
   "outputs": [
    {
     "data": {
      "text/html": [
       "<div>\n",
       "<style scoped>\n",
       "    .dataframe tbody tr th:only-of-type {\n",
       "        vertical-align: middle;\n",
       "    }\n",
       "\n",
       "    .dataframe tbody tr th {\n",
       "        vertical-align: top;\n",
       "    }\n",
       "\n",
       "    .dataframe thead th {\n",
       "        text-align: right;\n",
       "    }\n",
       "</style>\n",
       "<table border=\"1\" class=\"dataframe\">\n",
       "  <thead>\n",
       "    <tr style=\"text-align: right;\">\n",
       "      <th></th>\n",
       "      <th>SalePrice</th>\n",
       "    </tr>\n",
       "  </thead>\n",
       "  <tbody>\n",
       "    <tr>\n",
       "      <th>0</th>\n",
       "      <td>208500.0</td>\n",
       "    </tr>\n",
       "    <tr>\n",
       "      <th>1</th>\n",
       "      <td>181500.0</td>\n",
       "    </tr>\n",
       "    <tr>\n",
       "      <th>2</th>\n",
       "      <td>223500.0</td>\n",
       "    </tr>\n",
       "    <tr>\n",
       "      <th>3</th>\n",
       "      <td>140000.0</td>\n",
       "    </tr>\n",
       "    <tr>\n",
       "      <th>4</th>\n",
       "      <td>250000.0</td>\n",
       "    </tr>\n",
       "  </tbody>\n",
       "</table>\n",
       "</div>"
      ],
      "text/plain": [
       "   SalePrice\n",
       "0   208500.0\n",
       "1   181500.0\n",
       "2   223500.0\n",
       "3   140000.0\n",
       "4   250000.0"
      ]
     },
     "execution_count": 137,
     "metadata": {},
     "output_type": "execute_result"
    }
   ],
   "source": [
    "np.exp(label_df).head()  # original value"
   ]
  },
  {
   "cell_type": "code",
   "execution_count": 138,
   "metadata": {},
   "outputs": [],
   "source": [
    "# Preprocession-1\n",
    "# # Additional processing: scale the data.   \n",
    "# from sklearn.preprocessing import StandardScaler\n",
    "# scaler = StandardScaler()\n",
    "# scaler.fit(train_df_munged[numeric_features])\n",
    "\n",
    "# scaled = scaler.transform(train_df_munged[numeric_features])\n",
    "# for i, col in enumerate(numeric_features):\n",
    "#     train_df_munged[col] = scaled[:, i]\n",
    "\n",
    "# scaled = scaler.transform(test_df_munged[numeric_features])\n",
    "# for i, col in enumerate(numeric_features):\n",
    "#     test_df_munged[col] = scaled[:, i]"
   ]
  },
  {
   "cell_type": "code",
   "execution_count": null,
   "metadata": {},
   "outputs": [],
   "source": [
    "# Preprocession-2\n",
    "# # # Normalization of input data\n",
    "# from sklearn.preprocessing import StandardScaler\n",
    "# sc_y = StandardScaler()\n",
    "# sc_X = StandardScaler()\n",
    "\n",
    "# input_X=sc_X.fit_transform(train_df.astype('float64'))\n",
    "# input_y=sc_y.fit_transform(label_df.astype('float64'))\n",
    "# test_X = sc_X.transform(test_df.astype('float64'))\n",
    "# input_X.shape, input_y.shape, test_X.shape"
   ]
  },
  {
   "cell_type": "code",
   "execution_count": 6,
   "metadata": {},
   "outputs": [
    {
     "name": "stderr",
     "output_type": "stream",
     "text": [
      "C:\\Anaconda3\\lib\\site-packages\\ipykernel_launcher.py:6: DataConversionWarning: Data with input dtype int64, float64 were all converted to float64.\n",
      "  \n",
      "C:\\Anaconda3\\lib\\site-packages\\ipykernel_launcher.py:8: DataConversionWarning: Data with input dtype int64, float64 were all converted to float64.\n",
      "  \n"
     ]
    },
    {
     "data": {
      "text/plain": [
       "((1456, 403), (1456, 1), (1459, 403))"
      ]
     },
     "execution_count": 6,
     "metadata": {},
     "output_type": "execute_result"
    }
   ],
   "source": [
    "# Preprocession-3\n",
    "# # Normalization of input data\n",
    "from sklearn.preprocessing import minmax_scale\n",
    "# scaling X to min~max '0~1' range\n",
    "\n",
    "input_X = minmax_scale(train_df, axis=0, copy=True)\n",
    "input_y = minmax_scale(label_df, axis=0, copy=True)\n",
    "test_X = minmax_scale(test_df, axis=0, copy=True)\n",
    "input_X.shape, input_y.shape, test_X.shape\n",
    "# 출처: http://rfriend.tistory.com/270 [R, Python 분석과 프로그래밍 (by R Friend)]\n",
    "\n",
    "# from sklearn.preprocessing import StandardScaler\n",
    "# sc_y = StandardScaler()\n",
    "# sc_X = StandardScaler()\n",
    "\n",
    "# input_X=sc_X.fit_transform(train_df.astype('float64'))\n",
    "# input_y=sc_y.fit_transform(label_df.astype('float64'))\n",
    "# test_X = sc_X.transform(test_df.astype('float64'))\n",
    "# input_X.shape, input_y.shape, test_X.shape"
   ]
  },
  {
   "cell_type": "code",
   "execution_count": 7,
   "metadata": {},
   "outputs": [
    {
     "data": {
      "text/plain": [
       "array([[0.41326841, 0.36627136, 0.71603808, 0.3226691 , 0.        ],\n",
       "       [0.49030656, 0.39124518, 0.        , 0.44698355, 0.        ],\n",
       "       [0.42998996, 0.42228857, 0.69036125, 0.22212066, 0.        ],\n",
       "       [0.38363316, 0.39022311, 0.        , 0.09872029, 0.        ],\n",
       "       [0.50843889, 0.46869449, 0.79431844, 0.29936015, 0.        ],\n",
       "       [0.51283863, 0.46669403, 0.        , 0.3345521 , 0.        ],\n",
       "       [0.46633838, 0.40087237, 0.70897758, 0.62568556, 0.        ],\n",
       "       [0.49030656, 0.40657264, 0.74336022, 0.39259598, 0.47920909],\n",
       "       [0.32358459, 0.30313151, 0.        , 0.        , 0.        ],\n",
       "       [0.31628003, 0.34083   , 0.        , 0.38893967, 0.        ]])"
      ]
     },
     "execution_count": 7,
     "metadata": {},
     "output_type": "execute_result"
    }
   ],
   "source": [
    "input_X[:10,:5]"
   ]
  },
  {
   "cell_type": "code",
   "execution_count": 8,
   "metadata": {},
   "outputs": [
    {
     "data": {
      "text/plain": [
       "(array([[0.61951062],\n",
       "        [0.57144454],\n",
       "        [0.64358896],\n",
       "        [0.48146554],\n",
       "        [0.68242404]]),    SalePrice\n",
       " 0  12.247694\n",
       " 1  12.109011\n",
       " 2  12.317167\n",
       " 3  11.849398\n",
       " 4  12.429216)"
      ]
     },
     "execution_count": 8,
     "metadata": {},
     "output_type": "execute_result"
    }
   ],
   "source": [
    "input_y[:5],label_df[:5]"
   ]
  },
  {
   "cell_type": "code",
   "execution_count": 15,
   "metadata": {},
   "outputs": [
    {
     "data": {
      "text/plain": [
       "[<matplotlib.lines.Line2D at 0x24bd34134e0>]"
      ]
     },
     "execution_count": 15,
     "metadata": {},
     "output_type": "execute_result"
    },
    {
     "data": {
      "image/png": "[encoded data removed]",
      "text/plain": [
       "<Figure size 720x360 with 1 Axes>"
      ]
     },
     "metadata": {
      "needs_background": "light"
     },
     "output_type": "display_data"
    }
   ],
   "source": [
    "plt.figure(figsize=(10,5))\n",
    "plt.plot(input_y,'ro')"
   ]
  },
  {
   "cell_type": "code",
   "execution_count": 16,
   "metadata": {},
   "outputs": [
    {
     "data": {
      "text/plain": [
       "[<matplotlib.lines.Line2D at 0x24bd34752e8>]"
      ]
     },
     "execution_count": 16,
     "metadata": {},
     "output_type": "execute_result"
    },
    {
     "data": {
      "image/png": "[encoded data removed]",
      "text/plain": [
       "<Figure size 720x360 with 1 Axes>"
      ]
     },
     "metadata": {
      "needs_background": "light"
     },
     "output_type": "display_data"
    }
   ],
   "source": [
    "plt.figure(figsize=(10,5))\n",
    "plt.plot(label_df,'ro')"
   ]
  },
  {
   "cell_type": "code",
   "execution_count": 17,
   "metadata": {},
   "outputs": [],
   "source": [
    "#-----------------------------------------------------------------_______------------\n",
    "# Define custom loss functions for regression in Keras \n",
    "#\n",
    "# The functions below are Keras backend tensor functions \n",
    "# and can be used for Keras loss functions, Keras metrics and Keras learning curves. \n",
    "#------------------------------------------------------------------_______-----------\n",
    "# https://github.com/keras-team/keras/issues/7947\n",
    "\n",
    "# root mean squared error (rmse) for regression (only for Keras tensors)\n",
    "def rmse(y_true, y_pred):\n",
    "    from keras import backend\n",
    "    return backend.sqrt(backend.mean(backend.square(y_pred - y_true), axis=-1))\n",
    "\n",
    "# mean squared error (mse) for regression  (only for Keras tensors)\n",
    "def mse(y_true, y_pred):\n",
    "    from keras import backend\n",
    "    return backend.mean(backend.square(y_pred - y_true), axis=-1)\n",
    "\n",
    "# coefficient of determination (R^2) for regression  (only for Keras tensors)\n",
    "def r_square(y_true, y_pred):\n",
    "    from keras import backend as K\n",
    "    SS_res =  K.sum(K.square(y_true - y_pred)) \n",
    "    SS_tot = K.sum(K.square(y_true - K.mean(y_true))) \n",
    "    return ( 1 - SS_res/(SS_tot + K.epsilon()) )\n",
    "\n",
    "def r_square_loss(y_true, y_pred):\n",
    "    from keras import backend as K\n",
    "    SS_res =  K.sum(K.square(y_true - y_pred)) \n",
    "    SS_tot = K.sum(K.square(y_true - K.mean(y_true))) \n",
    "    return 1 - ( 1 - SS_res/(SS_tot + K.epsilon()))\n"
   ]
  },
  {
   "cell_type": "markdown",
   "metadata": {},
   "source": [
    "# New try\n",
    "## Using the imputed data\n",
    "- All columns become numeric ones.\n",
    "- Skewed data were adjusted by taking logarithm.\n",
    "- All columns were normalized using StandardScaler;minmax."
   ]
  },
  {
   "cell_type": "markdown",
   "metadata": {},
   "source": [
    "### Performance of model_s and model_b\n",
    "\n",
    "> Split dataframe into the train and test set"
   ]
  },
  {
   "cell_type": "code",
   "execution_count": 20,
   "metadata": {},
   "outputs": [
    {
     "data": {
      "text/plain": [
       "((1456, 403), (1456, 1))"
      ]
     },
     "execution_count": 20,
     "metadata": {},
     "output_type": "execute_result"
    }
   ],
   "source": [
    "data_X=input_X\n",
    "data_y=label_df  #input_y or label_df   # input_y 와의 차이는???\n",
    "data_X.shape, data_y.shape"
   ]
  },
  {
   "cell_type": "code",
   "execution_count": 21,
   "metadata": {},
   "outputs": [
    {
     "data": {
      "text/plain": [
       "((1092, 403), (364, 403), (1092, 1), (364, 1))"
      ]
     },
     "execution_count": 21,
     "metadata": {},
     "output_type": "execute_result"
    }
   ],
   "source": [
    "from sklearn.model_selection import train_test_split\n",
    "X_train, X_test, y_train, y_test = train_test_split(data_X, data_y, test_size=0.25, random_state=42)\n",
    "X_train.shape, X_test.shape, y_train.shape, y_test.shape"
   ]
  },
  {
   "cell_type": "code",
   "execution_count": 22,
   "metadata": {},
   "outputs": [
    {
     "data": {
      "text/plain": [
       "(      SalePrice\n",
       " 846   12.388394\n",
       " 802   11.678440\n",
       " 1380  11.561716\n",
       " 1346  12.206073\n",
       " 485   11.898188,       SalePrice\n",
       " 497   12.122691\n",
       " 1261  12.106252\n",
       " 411   11.884489\n",
       " 1046  11.652687\n",
       " 1033  11.338572)"
      ]
     },
     "execution_count": 22,
     "metadata": {},
     "output_type": "execute_result"
    }
   ],
   "source": [
    "y_train[:5],y_test[:5]  # randomly selected!"
   ]
  },
  {
   "cell_type": "markdown",
   "metadata": {},
   "source": [
    "### small model: model_s1"
   ]
  },
  {
   "cell_type": "code",
   "execution_count": 24,
   "metadata": {},
   "outputs": [
    {
     "name": "stdout",
     "output_type": "stream",
     "text": [
      "403\n"
     ]
    }
   ],
   "source": [
    "# create simple model in Keras\n",
    "model_s1 = Sequential()  # simple model\n",
    "\n",
    "#get number of columns in training data\n",
    "n_cols = X_train.shape[1]\n",
    "print(n_cols)\n",
    "#add layers to model\n",
    "model_s1.add(Dense(10, activation='relu', input_shape=(n_cols,)))\n",
    "model_s1.add(Dense(10, activation='relu'))\n",
    "model_s1.add(Dense(1, activation='relu'))"
   ]
  },
  {
   "cell_type": "markdown",
   "metadata": {},
   "source": [
    "> [Metrics for Deep Learning with Keras in Python](https://machinelearningmastery.com/custom-metrics-deep-learning-keras-python/)\n",
    "\n",
    "> [Regression with Keras in Python](https://github.com/keras-team/keras/issues/7947)"
   ]
  },
  {
   "cell_type": "code",
   "execution_count": 25,
   "metadata": {},
   "outputs": [],
   "source": [
    "# compile model using accuracy to measure model performance\n",
    "model_s1.compile(optimizer='adam', loss=rmse, metrics=[r_square, rmse])\n",
    "# model_s1.compile(optimizer='adam', loss='mean_squared_error', metrics=[\"r_square\"]))\n",
    "\n",
    "# set early stopping monitor so the model stops training when it won't improve anymore\n",
    "early_stopping_monitor = EarlyStopping(patience=10)\n",
    "# "
   ]
  },
  {
   "cell_type": "code",
   "execution_count": 26,
   "metadata": {},
   "outputs": [
    {
     "name": "stdout",
     "output_type": "stream",
     "text": [
      "Train on 1092 samples, validate on 364 samples\n",
      "Epoch 1/30\n",
      "1092/1092 [==============================] - 0s 177us/step - loss: 8.9819 - r_square: -653.6167 - rmse: 8.9819 - val_loss: 3.4822 - val_r_square: -86.8552 - val_rmse: 3.4822\n",
      "Epoch 2/30\n",
      "1092/1092 [==============================] - 0s 38us/step - loss: 1.0585 - r_square: -12.4581 - rmse: 1.0585 - val_loss: 0.3736 - val_r_square: -0.5750 - val_rmse: 0.3736\n",
      "Epoch 3/30\n",
      "1092/1092 [==============================] - 0s 38us/step - loss: 0.3327 - r_square: -0.4012 - rmse: 0.3327 - val_loss: 0.2701 - val_r_square: 0.1494 - val_rmse: 0.2701\n",
      "Epoch 4/30\n",
      "1092/1092 [==============================] - 0s 38us/step - loss: 0.2245 - r_square: 0.3720 - rmse: 0.2245 - val_loss: 0.2091 - val_r_square: 0.4628 - val_rmse: 0.2091\n",
      "Epoch 5/30\n",
      "1092/1092 [==============================] - 0s 38us/step - loss: 0.1733 - r_square: 0.6076 - rmse: 0.1733 - val_loss: 0.1801 - val_r_square: 0.6015 - val_rmse: 0.1801\n",
      "Epoch 6/30\n",
      "1092/1092 [==============================] - 0s 38us/step - loss: 0.1437 - r_square: 0.7472 - rmse: 0.1437 - val_loss: 0.1503 - val_r_square: 0.7214 - val_rmse: 0.1503\n",
      "Epoch 7/30\n",
      "1092/1092 [==============================] - 0s 38us/step - loss: 0.1289 - r_square: 0.7917 - rmse: 0.1289 - val_loss: 0.1586 - val_r_square: 0.6963 - val_rmse: 0.1586\n",
      "Epoch 8/30\n",
      "1092/1092 [==============================] - 0s 38us/step - loss: 0.1179 - r_square: 0.8287 - rmse: 0.1179 - val_loss: 0.1439 - val_r_square: 0.7459 - val_rmse: 0.1439\n",
      "Epoch 9/30\n",
      "1092/1092 [==============================] - 0s 38us/step - loss: 0.1074 - r_square: 0.8522 - rmse: 0.1074 - val_loss: 0.1209 - val_r_square: 0.8200 - val_rmse: 0.1209\n",
      "Epoch 10/30\n",
      "1092/1092 [==============================] - 0s 38us/step - loss: 0.0961 - r_square: 0.8796 - rmse: 0.0961 - val_loss: 0.1164 - val_r_square: 0.8370 - val_rmse: 0.1164\n",
      "Epoch 11/30\n",
      "1092/1092 [==============================] - 0s 38us/step - loss: 0.1116 - r_square: 0.8439 - rmse: 0.1116 - val_loss: 0.1269 - val_r_square: 0.8189 - val_rmse: 0.1269\n",
      "Epoch 12/30\n",
      "1092/1092 [==============================] - 0s 38us/step - loss: 0.0962 - r_square: 0.8840 - rmse: 0.0962 - val_loss: 0.1164 - val_r_square: 0.8405 - val_rmse: 0.1164\n",
      "Epoch 13/30\n",
      "1092/1092 [==============================] - 0s 38us/step - loss: 0.0888 - r_square: 0.8927 - rmse: 0.0888 - val_loss: 0.1123 - val_r_square: 0.8501 - val_rmse: 0.1123\n",
      "Epoch 14/30\n",
      "1092/1092 [==============================] - 0s 38us/step - loss: 0.0862 - r_square: 0.8999 - rmse: 0.0862 - val_loss: 0.1157 - val_r_square: 0.8401 - val_rmse: 0.1157\n",
      "Epoch 15/30\n",
      "1092/1092 [==============================] - 0s 38us/step - loss: 0.0933 - r_square: 0.8889 - rmse: 0.0933 - val_loss: 0.1116 - val_r_square: 0.8484 - val_rmse: 0.1116\n",
      "Epoch 16/30\n",
      "1092/1092 [==============================] - 0s 38us/step - loss: 0.0910 - r_square: 0.8930 - rmse: 0.0910 - val_loss: 0.1089 - val_r_square: 0.8526 - val_rmse: 0.1089\n",
      "Epoch 17/30\n",
      "1092/1092 [==============================] - 0s 38us/step - loss: 0.0814 - r_square: 0.9078 - rmse: 0.0814 - val_loss: 0.1069 - val_r_square: 0.8555 - val_rmse: 0.1069\n",
      "Epoch 18/30\n",
      "1092/1092 [==============================] - 0s 39us/step - loss: 0.0816 - r_square: 0.9113 - rmse: 0.0816 - val_loss: 0.1086 - val_r_square: 0.8553 - val_rmse: 0.1086\n",
      "Epoch 19/30\n",
      "1092/1092 [==============================] - 0s 38us/step - loss: 0.0802 - r_square: 0.9124 - rmse: 0.0802 - val_loss: 0.1103 - val_r_square: 0.8492 - val_rmse: 0.1103\n",
      "Epoch 20/30\n",
      "1092/1092 [==============================] - 0s 38us/step - loss: 0.0772 - r_square: 0.9093 - rmse: 0.0772 - val_loss: 0.1109 - val_r_square: 0.8452 - val_rmse: 0.1109\n",
      "Epoch 21/30\n",
      "1092/1092 [==============================] - 0s 38us/step - loss: 0.0989 - r_square: 0.8815 - rmse: 0.0989 - val_loss: 0.1126 - val_r_square: 0.8478 - val_rmse: 0.1126\n",
      "Epoch 22/30\n",
      "1092/1092 [==============================] - 0s 39us/step - loss: 0.0767 - r_square: 0.9214 - rmse: 0.0767 - val_loss: 0.1119 - val_r_square: 0.8496 - val_rmse: 0.1119\n",
      "Epoch 23/30\n",
      "1092/1092 [==============================] - 0s 38us/step - loss: 0.0762 - r_square: 0.9004 - rmse: 0.0762 - val_loss: 0.1045 - val_r_square: 0.8601 - val_rmse: 0.1045\n",
      "Epoch 24/30\n",
      "1092/1092 [==============================] - 0s 38us/step - loss: 0.0801 - r_square: 0.9168 - rmse: 0.0801 - val_loss: 0.1030 - val_r_square: 0.8653 - val_rmse: 0.1030\n",
      "Epoch 25/30\n",
      "1092/1092 [==============================] - 0s 38us/step - loss: 0.0846 - r_square: 0.9065 - rmse: 0.0846 - val_loss: 0.1134 - val_r_square: 0.8484 - val_rmse: 0.1134\n",
      "Epoch 26/30\n",
      "1092/1092 [==============================] - 0s 38us/step - loss: 0.0809 - r_square: 0.9116 - rmse: 0.0809 - val_loss: 0.1111 - val_r_square: 0.8515 - val_rmse: 0.1111\n",
      "Epoch 27/30\n",
      "1092/1092 [==============================] - 0s 39us/step - loss: 0.0805 - r_square: 0.9160 - rmse: 0.0805 - val_loss: 0.0991 - val_r_square: 0.8737 - val_rmse: 0.0991\n",
      "Epoch 28/30\n",
      "1092/1092 [==============================] - 0s 38us/step - loss: 0.0913 - r_square: 0.9010 - rmse: 0.0913 - val_loss: 0.1004 - val_r_square: 0.8723 - val_rmse: 0.1004\n",
      "Epoch 29/30\n",
      "1092/1092 [==============================] - 0s 39us/step - loss: 0.0770 - r_square: 0.9191 - rmse: 0.0770 - val_loss: 0.1014 - val_r_square: 0.8687 - val_rmse: 0.1014\n",
      "Epoch 30/30\n",
      "1092/1092 [==============================] - 0s 38us/step - loss: 0.0738 - r_square: 0.9268 - rmse: 0.0738 - val_loss: 0.0989 - val_r_square: 0.8751 - val_rmse: 0.0989\n"
     ]
    }
   ],
   "source": [
    "# train model\n",
    "hist = model_s1.fit(X_train, y_train, epochs=30, validation_data=(X_test, y_test), callbacks=[early_stopping_monitor])  # validation_split=0.2"
   ]
  },
  {
   "cell_type": "code",
   "execution_count": 27,
   "metadata": {},
   "outputs": [
    {
     "data": {
      "image/png": "[encoded data removed]",
      "text/plain": [
       "<Figure size 432x288 with 1 Axes>"
      ]
     },
     "metadata": {
      "needs_background": "light"
     },
     "output_type": "display_data"
    }
   ],
   "source": [
    "# Plot performance\n",
    "plt.plot(hist.history['loss'])\n",
    "plt.show()"
   ]
  },
  {
   "cell_type": "code",
   "execution_count": 28,
   "metadata": {},
   "outputs": [
    {
     "data": {
      "image/png": "[encoded data removed]",
      "text/plain": [
       "<Figure size 432x288 with 1 Axes>"
      ]
     },
     "metadata": {
      "needs_background": "light"
     },
     "output_type": "display_data"
    }
   ],
   "source": [
    "# plot training curve for R^2 (beware of scale, starts very low negative)\n",
    "plt.plot(hist.history['r_square'])\n",
    "plt.plot(hist.history['val_r_square'])\n",
    "plt.title('model R^2')\n",
    "plt.ylabel('R^2')\n",
    "plt.xlabel('epoch')\n",
    "plt.legend(['train', 'test'], loc='upper left')\n",
    "plt.show()"
   ]
  },
  {
   "cell_type": "code",
   "execution_count": 29,
   "metadata": {},
   "outputs": [
    {
     "data": {
      "text/plain": [
       "0.9267946693486783"
      ]
     },
     "execution_count": 29,
     "metadata": {},
     "output_type": "execute_result"
    }
   ],
   "source": [
    "np.max(hist.history['r_square'])"
   ]
  },
  {
   "cell_type": "code",
   "execution_count": 30,
   "metadata": {},
   "outputs": [
    {
     "data": {
      "image/png": "[encoded data removed]",
      "text/plain": [
       "<Figure size 432x288 with 1 Axes>"
      ]
     },
     "metadata": {
      "needs_background": "light"
     },
     "output_type": "display_data"
    }
   ],
   "source": [
    "# plot training curve for rmse\n",
    "plt.plot(hist.history['rmse'])\n",
    "plt.plot(hist.history['val_rmse'])\n",
    "plt.title('rmse')\n",
    "plt.ylabel('rmse')\n",
    "plt.xlabel('epoch')\n",
    "plt.legend(['train', 'test'], loc='upper left')\n",
    "plt.show()"
   ]
  },
  {
   "cell_type": "code",
   "execution_count": 31,
   "metadata": {},
   "outputs": [
    {
     "data": {
      "text/plain": [
       "(array([[12.058907 ],\n",
       "        [11.939035 ],\n",
       "        [11.722951 ],\n",
       "        [11.785115 ],\n",
       "        [11.3377905]], dtype=float32),       SalePrice\n",
       " 497   12.122691\n",
       " 1261  12.106252\n",
       " 411   11.884489\n",
       " 1046  11.652687\n",
       " 1033  11.338572)"
      ]
     },
     "execution_count": 31,
     "metadata": {},
     "output_type": "execute_result"
    }
   ],
   "source": [
    "# get predictions\n",
    "y_pred = model_s1.predict(X_test)\n",
    "y_pred[:5],y_test[:5]"
   ]
  },
  {
   "cell_type": "code",
   "execution_count": 32,
   "metadata": {},
   "outputs": [
    {
     "data": {
      "image/png": "[encoded data removed]",
      "text/plain": [
       "<Figure size 432x288 with 1 Axes>"
      ]
     },
     "metadata": {
      "needs_background": "light"
     },
     "output_type": "display_data"
    }
   ],
   "source": [
    "# print the linear regression and display datapoints\n",
    "from sklearn.linear_model import LinearRegression  \n",
    "regressor = LinearRegression()  \n",
    "true_y=y_test  # np.argmax(y_test, axis=1)  # decode one-hot encoding\n",
    "regressor.fit(true_y, y_pred)  \n",
    "y_fit = regressor.predict(y_pred) \n",
    "\n",
    "reg_intercept = round(regressor.intercept_[0],4)\n",
    "reg_coef = round(regressor.coef_.flatten()[0],4)\n",
    "reg_label = \"y = \" + str(reg_intercept) + \"*x +\" + str(reg_coef)\n",
    "\n",
    "plt.scatter(true_y, y_pred, color='blue', label= 'data')\n",
    "plt.plot(y_pred, y_fit, color='red', linewidth=2, label = 'Linear regression\\n'+reg_label) \n",
    "plt.title('Linear Regression')\n",
    "plt.legend()\n",
    "plt.xlabel('observed')\n",
    "plt.ylabel('predicted')\n",
    "plt.show()"
   ]
  },
  {
   "cell_type": "markdown",
   "metadata": {},
   "source": [
    "***"
   ]
  },
  {
   "cell_type": "markdown",
   "metadata": {},
   "source": [
    "### Big model: model_x"
   ]
  },
  {
   "cell_type": "code",
   "execution_count": 33,
   "metadata": {},
   "outputs": [
    {
     "data": {
      "text/plain": [
       "((1456, 403), (1456, 1))"
      ]
     },
     "execution_count": 33,
     "metadata": {},
     "output_type": "execute_result"
    }
   ],
   "source": [
    "data_X=input_X\n",
    "data_y=label_df  #label_df   # input_y 와의 차이는???\n",
    "data_X.shape, data_y.shape"
   ]
  },
  {
   "cell_type": "code",
   "execution_count": 34,
   "metadata": {},
   "outputs": [
    {
     "data": {
      "text/plain": [
       "((1092, 403), (364, 403), (1092, 1), (364, 1))"
      ]
     },
     "execution_count": 34,
     "metadata": {},
     "output_type": "execute_result"
    }
   ],
   "source": [
    "from sklearn.model_selection import train_test_split\n",
    "X_train, X_test, y_train, y_test = train_test_split(data_X, data_y, test_size=0.25, random_state=42)\n",
    "X_train.shape, X_test.shape, y_train.shape, y_test.shape"
   ]
  },
  {
   "cell_type": "code",
   "execution_count": 35,
   "metadata": {},
   "outputs": [
    {
     "name": "stdout",
     "output_type": "stream",
     "text": [
      "403\n"
     ]
    }
   ],
   "source": [
    "#create model with larger capacity\n",
    "model_x = Sequential()\n",
    "\n",
    "#get number of columns in training data\n",
    "n_cols = X_train.shape[1]\n",
    "print(n_cols)\n",
    "#add layers to model\n",
    "model_x.add(Dense(200, activation='relu', input_shape=(n_cols,)))\n",
    "model_x.add(Dense(100, activation='relu'))\n",
    "model_x.add(Dense(20, activation='relu'))\n",
    "model_x.add(Dense(1, activation='relu'))"
   ]
  },
  {
   "cell_type": "code",
   "execution_count": 36,
   "metadata": {},
   "outputs": [
    {
     "name": "stdout",
     "output_type": "stream",
     "text": [
      "_________________________________________________________________\n",
      "Layer (type)                 Output Shape              Param #   \n",
      "=================================================================\n",
      "dense_7 (Dense)              (None, 200)               80800     \n",
      "_________________________________________________________________\n",
      "dense_8 (Dense)              (None, 100)               20100     \n",
      "_________________________________________________________________\n",
      "dense_9 (Dense)              (None, 20)                2020      \n",
      "_________________________________________________________________\n",
      "dense_10 (Dense)             (None, 1)                 21        \n",
      "=================================================================\n",
      "Total params: 102,941\n",
      "Trainable params: 102,941\n",
      "Non-trainable params: 0\n",
      "_________________________________________________________________\n"
     ]
    }
   ],
   "source": [
    "model_x.summary()"
   ]
  },
  {
   "cell_type": "code",
   "execution_count": 37,
   "metadata": {},
   "outputs": [],
   "source": [
    "import keras\n",
    "# from keras.models import Sequential\n",
    "# from keras.layers import Dense\n",
    "from keras.wrappers.scikit_learn import KerasRegressor\n",
    "from sklearn.model_selection import cross_val_score\n",
    "from sklearn.model_selection import KFold\n",
    "from sklearn.preprocessing import StandardScaler\n",
    "from sklearn.pipeline import Pipeline\n",
    "from keras.callbacks import ModelCheckpoint"
   ]
  },
  {
   "cell_type": "code",
   "execution_count": 38,
   "metadata": {},
   "outputs": [],
   "source": [
    "# compile model using accuracy to measure model performance\n",
    "opt = keras.optimizers.Adam(lr=0.0015, beta_1=0.9, beta_2=0.999, epsilon=None, decay=0.0, amsgrad=False)\n",
    "model_x.compile(optimizer=opt, loss='mse', metrics=['mae', 'mse', r_square])  # loss='mse' or mse\n",
    "# metrics=[r_square, rmse]"
   ]
  },
  {
   "cell_type": "code",
   "execution_count": 39,
   "metadata": {},
   "outputs": [],
   "source": [
    "#Fitting the ANN to the training set\n",
    "from keras.callbacks import EarlyStopping\n",
    "# set early stopping monitor so the model stops training when it won't improve anymore\n",
    "early_stopping_monitor = EarlyStopping(monitor = 'val_loss', patience=1000)\n",
    "\n",
    "class PrintDot(keras.callbacks.Callback):\n",
    "  def on_epoch_end(self, epoch, logs):\n",
    "    if epoch % 100 == 0: print('') # linefeed\n",
    "    print('.', end='')\n",
    "    \n",
    "model_filepath = 'min_vl_model_x403.h5'\n",
    "checkpoint = ModelCheckpoint(model_filepath, verbose=0, save_best_only = True, mode='min' )\n",
    "# model.fit(X_train,y_train, validation_split=0.07, batch_size=32, epochs=3000, callbacks=[checkpoint,early_stopping_monitor])\n",
    "# model.load_weights(model_filepath)"
   ]
  },
  {
   "cell_type": "code",
   "execution_count": 40,
   "metadata": {},
   "outputs": [
    {
     "name": "stdout",
     "output_type": "stream",
     "text": [
      "\n",
      "....................................................................................................\n",
      "....................................................................................................\n",
      "....................................................................................................\n",
      "....................................................................................................\n",
      "....................................................................................................\n",
      "....................................................................................................\n",
      "....................................................................................................\n",
      "....................................................................................................\n",
      "....................................................................................................\n",
      "....................................................................................................\n",
      "....................................................................................................\n",
      "....................................................................................................\n",
      "....................................................................................................\n",
      "....................................................................................................\n",
      "....................................................................................................\n",
      "....................................................................................................\n",
      "....................................................................................................\n",
      "....................................................................................................\n",
      "....................................................................................................\n",
      "....................................................................................................\n",
      "....................................................................................................\n",
      "....................................................................................................\n",
      "....................................................................................................\n",
      "....................................................................................................\n",
      "....................................................................................................\n",
      "....................................................................................................\n",
      "....................................................................................................\n",
      "....................................................................................................\n",
      "....................................................................................................\n",
      "...................................................................................................."
     ]
    }
   ],
   "source": [
    "# train model\n",
    "hist = model_x.fit(X_train, y_train, epochs=3000, verbose=0, \n",
    "                   validation_data=(X_test, y_test), \n",
    "                   callbacks=[checkpoint,early_stopping_monitor, PrintDot()])  # validation_split=0.2\n",
    "model_x.load_weights(model_filepath)"
   ]
  },
  {
   "cell_type": "code",
   "execution_count": 41,
   "metadata": {},
   "outputs": [],
   "source": [
    "# Epoch 01793: val_loss did not improve from 18274.00347\n",
    "# Epoch 02021: val_loss did not improve from 18670.11405\n",
    "# Epoch 02519: val_loss did not improve from 17046.44754 # model_b2\n",
    "# Epoch 02047: val_loss did not improve from 17102.42548 # model_b3\n",
    "# Epoch 01658: val_loss did not improve from 19424.92891 # model_b4\n",
    "# Epoch 01880: val_loss did not improve from 18291.09669 # model_b5\n",
    "# Epoch 01222: val_loss did not improve from 0.15854  # model_x81"
   ]
  },
  {
   "cell_type": "code",
   "execution_count": 42,
   "metadata": {},
   "outputs": [
    {
     "data": {
      "text/plain": [
       "'min_vl_model_x403.h5'"
      ]
     },
     "execution_count": 42,
     "metadata": {},
     "output_type": "execute_result"
    }
   ],
   "source": [
    "model_filepath"
   ]
  },
  {
   "cell_type": "markdown",
   "metadata": {},
   "source": [
    "***"
   ]
  },
  {
   "cell_type": "code",
   "execution_count": 43,
   "metadata": {},
   "outputs": [
    {
     "data": {
      "image/png": "[encoded data removed]",
      "text/plain": [
       "<Figure size 432x288 with 1 Axes>"
      ]
     },
     "metadata": {
      "needs_background": "light"
     },
     "output_type": "display_data"
    }
   ],
   "source": [
    "# Plot performance\n",
    "plt.plot(hist.history['loss'])\n",
    "plt.show()"
   ]
  },
  {
   "cell_type": "code",
   "execution_count": 44,
   "metadata": {},
   "outputs": [
    {
     "data": {
      "image/png": "[encoded data removed]",
      "text/plain": [
       "<Figure size 432x288 with 1 Axes>"
      ]
     },
     "metadata": {
      "needs_background": "light"
     },
     "output_type": "display_data"
    }
   ],
   "source": [
    "# plot training curve for MAE\n",
    "plt.plot(hist.history['mean_absolute_error'])\n",
    "plt.plot(hist.history['val_mean_absolute_error'])\n",
    "plt.title('model MAE')\n",
    "plt.ylabel('MAE')\n",
    "plt.xlabel('epoch')\n",
    "plt.legend(['train', 'test'], loc='lower right')\n",
    "plt.show()"
   ]
  },
  {
   "cell_type": "code",
   "execution_count": 45,
   "metadata": {},
   "outputs": [],
   "source": [
    "# # plot training curve for rmse\n",
    "# plt.plot(hist.history['rmse'])\n",
    "# plt.plot(hist.history['val_rmse'])\n",
    "# plt.title('rmse')\n",
    "# plt.ylabel('rmse')\n",
    "# plt.xlabel('epoch')\n",
    "# plt.legend(['train', 'test'], loc='upper left')\n",
    "# plt.show()"
   ]
  },
  {
   "cell_type": "code",
   "execution_count": 46,
   "metadata": {},
   "outputs": [
    {
     "data": {
      "image/png": "[encoded data removed]",
      "text/plain": [
       "<Figure size 432x288 with 1 Axes>"
      ]
     },
     "metadata": {
      "needs_background": "light"
     },
     "output_type": "display_data"
    }
   ],
   "source": [
    "# plot training curve for MSE\n",
    "plt.plot(hist.history['mean_squared_error'])\n",
    "plt.plot(hist.history['val_mean_squared_error'])\n",
    "plt.title('model MSE')\n",
    "plt.ylabel('MSE')\n",
    "plt.xlabel('epoch')\n",
    "plt.legend(['train', 'test'], loc='lower right')\n",
    "plt.show()"
   ]
  },
  {
   "cell_type": "code",
   "execution_count": 47,
   "metadata": {},
   "outputs": [
    {
     "data": {
      "image/png": "[encoded data removed]",
      "text/plain": [
       "<Figure size 432x288 with 1 Axes>"
      ]
     },
     "metadata": {
      "needs_background": "light"
     },
     "output_type": "display_data"
    }
   ],
   "source": [
    "# plot training curve for R^2 (beware of scale, starts very low negative)\n",
    "plt.plot(hist.history['r_square'])\n",
    "plt.plot(hist.history['val_r_square'])\n",
    "plt.title('model R^2')\n",
    "plt.ylabel('R^2')\n",
    "plt.xlabel('epoch')\n",
    "plt.legend(['train', 'test'], loc='upper left')\n",
    "plt.show()"
   ]
  },
  {
   "cell_type": "code",
   "execution_count": 48,
   "metadata": {},
   "outputs": [
    {
     "data": {
      "text/plain": [
       "0.9998932520111838"
      ]
     },
     "execution_count": 48,
     "metadata": {},
     "output_type": "execute_result"
    }
   ],
   "source": [
    "np.max(hist.history['r_square'])"
   ]
  },
  {
   "cell_type": "code",
   "execution_count": 49,
   "metadata": {},
   "outputs": [
    {
     "data": {
      "image/png": "[encoded data removed]",
      "text/plain": [
       "<Figure size 432x288 with 1 Axes>"
      ]
     },
     "metadata": {
      "needs_background": "light"
     },
     "output_type": "display_data"
    }
   ],
   "source": [
    "y_pred = model_x.predict(X_test)\n",
    "# print the linear regression and display datapoints\n",
    "from sklearn.linear_model import LinearRegression  \n",
    "regressor = LinearRegression()  \n",
    "true_y=y_test  # np.argmax(y_test, axis=1)  # decode one-hot encoding\n",
    "regressor.fit(true_y, y_pred)  \n",
    "y_fit = regressor.predict(y_pred) \n",
    "\n",
    "reg_intercept = round(regressor.intercept_[0],4)\n",
    "reg_coef = round(regressor.coef_.flatten()[0],4)\n",
    "reg_label = \"y = \" + str(reg_intercept) + \"*x +\" + str(reg_coef)\n",
    "\n",
    "plt.scatter(true_y, y_pred, color='blue', label= 'data')\n",
    "plt.plot(y_pred, y_fit, color='red', linewidth=2, label = 'Linear regression\\n'+reg_label) \n",
    "plt.title('Linear Regression')\n",
    "plt.legend()\n",
    "plt.xlabel('observed')\n",
    "plt.ylabel('predicted')\n",
    "plt.show()"
   ]
  },
  {
   "cell_type": "markdown",
   "metadata": {},
   "source": [
    "***"
   ]
  },
  {
   "cell_type": "markdown",
   "metadata": {
    "colab_type": "text",
    "id": "ft603OzXuEZC"
   },
   "source": [
    "### Make predictions on test_X\n",
    "\n",
    "Finally, predict SalePrice values using data in the testing set:"
   ]
  },
  {
   "cell_type": "code",
   "execution_count": 50,
   "metadata": {
    "colab": {},
    "colab_type": "code",
    "id": "Xe7RXH3N3CWU"
   },
   "outputs": [],
   "source": [
    "y_pred_s = np.exp(model_s1.predict(test_X))\n",
    "y_pred_x = np.exp(model_x.predict(test_X))"
   ]
  },
  {
   "cell_type": "code",
   "execution_count": 51,
   "metadata": {},
   "outputs": [
    {
     "data": {
      "text/plain": [
       "((1459, 1), (1459, 1))"
      ]
     },
     "execution_count": 51,
     "metadata": {},
     "output_type": "execute_result"
    }
   ],
   "source": [
    "y_pred_s.shape,y_pred_x.shape"
   ]
  },
  {
   "cell_type": "code",
   "execution_count": 52,
   "metadata": {},
   "outputs": [
    {
     "data": {
      "image/png": "[encoded data removed]",
      "text/plain": [
       "<Figure size 864x504 with 2 Axes>"
      ]
     },
     "metadata": {
      "needs_background": "light"
     },
     "output_type": "display_data"
    }
   ],
   "source": [
    "fig = plt.figure(figsize=(12,7))\n",
    "ax1 = fig.add_subplot(1, 2, 1)\n",
    "ax2 = fig.add_subplot(1, 2, 2)\n",
    "\n",
    "ax1.plot(y_pred_s)\n",
    "ax2.plot(y_pred_x)\n",
    "ax1.set_title('model_small')\n",
    "ax2.set_title('model_big')\n",
    "\n",
    "plt.show()"
   ]
  },
  {
   "cell_type": "code",
   "execution_count": 53,
   "metadata": {},
   "outputs": [
    {
     "data": {
      "text/plain": [
       "(array([[1461],\n",
       "        [1462],\n",
       "        [1463],\n",
       "        ...,\n",
       "        [2917],\n",
       "        [2918],\n",
       "        [2919]]), 1459)"
      ]
     },
     "execution_count": 53,
     "metadata": {},
     "output_type": "execute_result"
    }
   ],
   "source": [
    "ids=np.arange(1461,2920)[:,np.newaxis]\n",
    "ids, ids.size"
   ]
  },
  {
   "cell_type": "code",
   "execution_count": 54,
   "metadata": {},
   "outputs": [],
   "source": [
    "y_pred1 = pd.DataFrame(y_pred_s)\n",
    "y_pred1[\"Id\"] = ids"
   ]
  },
  {
   "cell_type": "code",
   "execution_count": 55,
   "metadata": {},
   "outputs": [],
   "source": [
    "y_pred1 = y_pred1.rename(columns={0: \"SalePrice\"})\n",
    "y_pred1 = y_pred1[[\"Id\",\"SalePrice\"]]\n",
    "y_pred1.to_csv(\"data/RD_submission_XLS_minmax_s.csv\", index=False)"
   ]
  },
  {
   "cell_type": "code",
   "execution_count": 56,
   "metadata": {},
   "outputs": [
    {
     "data": {
      "text/plain": [
       "[<matplotlib.lines.Line2D at 0x24bd62737b8>,\n",
       " <matplotlib.lines.Line2D at 0x24bd6273908>]"
      ]
     },
     "execution_count": 56,
     "metadata": {},
     "output_type": "execute_result"
    },
    {
     "data": {
      "image/png": "[encoded data removed]",
      "text/plain": [
       "<Figure size 432x288 with 1 Axes>"
      ]
     },
     "metadata": {
      "needs_background": "light"
     },
     "output_type": "display_data"
    }
   ],
   "source": [
    "plt.plot(y_pred1) # b4\n"
   ]
  },
  {
   "cell_type": "code",
   "execution_count": 57,
   "metadata": {},
   "outputs": [],
   "source": [
    "y_pred2 = pd.DataFrame(y_pred_x)\n",
    "y_pred2[\"Id\"] = ids"
   ]
  },
  {
   "cell_type": "code",
   "execution_count": 58,
   "metadata": {},
   "outputs": [],
   "source": [
    "y_pred2 = y_pred2.rename(columns={0: \"SalePrice\"})\n",
    "y_pred2 = y_pred2[[\"Id\",\"SalePrice\"]]\n",
    "y_pred2.to_csv(\"data/RD_submission_XLS_minmax_x.csv\", index=False)"
   ]
  },
  {
   "cell_type": "code",
   "execution_count": 59,
   "metadata": {},
   "outputs": [
    {
     "data": {
      "text/plain": [
       "[<matplotlib.lines.Line2D at 0x24bd7758dd8>,\n",
       " <matplotlib.lines.Line2D at 0x24bd7758f28>]"
      ]
     },
     "execution_count": 59,
     "metadata": {},
     "output_type": "execute_result"
    },
    {
     "data": {
      "image/png": "[encoded data removed]",
      "text/plain": [
       "<Figure size 432x288 with 1 Axes>"
      ]
     },
     "metadata": {
      "needs_background": "light"
     },
     "output_type": "display_data"
    }
   ],
   "source": [
    "plt.plot(y_pred2) # b4"
   ]
  },
  {
   "cell_type": "code",
   "execution_count": 60,
   "metadata": {},
   "outputs": [
    {
     "data": {
      "text/plain": [
       "[<matplotlib.lines.Line2D at 0x24bd77bc358>,\n",
       " <matplotlib.lines.Line2D at 0x24bd77bc4a8>]"
      ]
     },
     "execution_count": 60,
     "metadata": {},
     "output_type": "execute_result"
    },
    {
     "data": {
      "image/png": "[encoded data removed]",
      "text/plain": [
       "<Figure size 432x288 with 1 Axes>"
      ]
     },
     "metadata": {
      "needs_background": "light"
     },
     "output_type": "display_data"
    }
   ],
   "source": [
    "plt.plot(y_pred1)  # b3"
   ]
  },
  {
   "cell_type": "markdown",
   "metadata": {},
   "source": [
    "***"
   ]
  },
  {
   "cell_type": "code",
   "execution_count": null,
   "metadata": {},
   "outputs": [],
   "source": [
    "### result in Kaggle contest, 190108\n",
    "\n",
    "> s_model: Your submission scored 0.15395, which is not an improvement of your best score. Keep trying!\n",
    "\n",
    "> x_model: Your submission scored 0.16708, which is not an improvement of your best score. Keep trying!"
   ]
  }
 ],
 "metadata": {
  "kernelspec": {
   "display_name": "Python 3",
   "language": "python",
   "name": "python3"
  },
  "language_info": {
   "codemirror_mode": {
    "name": "ipython",
    "version": 3
   },
   "file_extension": ".py",
   "mimetype": "text/x-python",
   "name": "python",
   "nbconvert_exporter": "python",
   "pygments_lexer": "ipython3",
   "version": "3.6.6"
  }
 },
 "nbformat": 4,
 "nbformat_minor": 2
}
