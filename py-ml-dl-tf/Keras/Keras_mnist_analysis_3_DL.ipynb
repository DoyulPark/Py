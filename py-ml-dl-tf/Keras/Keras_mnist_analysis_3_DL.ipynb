{
 "cells": [
  {
   "cell_type": "markdown",
   "metadata": {},
   "source": [
    "## Keras example: mnist analysis by DL (CV2D)"
   ]
  },
  {
   "cell_type": "code",
   "execution_count": 1,
   "metadata": {},
   "outputs": [
    {
     "name": "stderr",
     "output_type": "stream",
     "text": [
      "Using TensorFlow backend.\n"
     ]
    },
    {
     "name": "stdout",
     "output_type": "stream",
     "text": [
      "CPU times: user 1.03 s, sys: 551 ms, total: 1.58 s\n",
      "Wall time: 1.04 s\n"
     ]
    }
   ],
   "source": [
    "%%time\n",
    "from keras.datasets import mnist\n",
    "(X_train0, y_train0), (X_test0, y_test0) = mnist.load_data()"
   ]
  },
  {
   "cell_type": "code",
   "execution_count": 2,
   "metadata": {},
   "outputs": [
    {
     "name": "stdout",
     "output_type": "stream",
     "text": [
      "(60000, 28, 28) uint8\n",
      "(60000,) uint8\n",
      "(10000, 28, 28) uint8\n",
      "(10000,) uint8\n"
     ]
    }
   ],
   "source": [
    "print(X_train0.shape, X_train0.dtype)\n",
    "print(y_train0.shape, y_train0.dtype)\n",
    "print(X_test0.shape, X_test0.dtype)\n",
    "print(y_test0.shape, y_test0.dtype)"
   ]
  },
  {
   "cell_type": "code",
   "execution_count": 3,
   "metadata": {},
   "outputs": [],
   "source": [
    "import matplotlib.pyplot as plt\n",
    "import matplotlib as mpl\n",
    "%matplotlib inline"
   ]
  },
  {
   "cell_type": "code",
   "execution_count": 4,
   "metadata": {},
   "outputs": [
    {
     "data": {
      "image/png": "[encoded data removed]",
      "text/plain": [
       "<matplotlib.figure.Figure at 0x7f6e6742f4a8>"
      ]
     },
     "metadata": {},
     "output_type": "display_data"
    }
   ],
   "source": [
    "plt.figure(figsize=(2, 2))\n",
    "plt.imshow(X_train0[0], cmap=mpl.cm.bone_r)\n",
    "plt.grid(False)\n",
    "plt.xticks([])\n",
    "plt.yticks([])\n",
    "plt.show()"
   ]
  },
  {
   "cell_type": "markdown",
   "metadata": {},
   "source": [
    "### Show images of numbers"
   ]
  },
  {
   "cell_type": "code",
   "execution_count": 5,
   "metadata": {},
   "outputs": [],
   "source": [
    "# 추가 사항\n",
    "import numpy as np\n",
    "# import matplotlib as mpl\n",
    "def plot_digits(instances, images_per_row=10, **options):\n",
    "    size = 28\n",
    "    images_per_row = min(len(instances), images_per_row)\n",
    "    images = [instance.reshape(size,size) for instance in instances]\n",
    "    n_rows = (len(instances) - 1) // images_per_row + 1\n",
    "    row_images = []\n",
    "    n_empty = n_rows * images_per_row - len(instances)\n",
    "    images.append(np.zeros((size, size * n_empty)))\n",
    "    for row in range(n_rows):\n",
    "        rimages = images[row * images_per_row : (row + 1) * images_per_row]\n",
    "        row_images.append(np.concatenate(rimages, axis=1))\n",
    "    image = np.concatenate(row_images, axis=0)\n",
    "    plt.imshow(image, cmap = mpl.cm.binary, **options)\n",
    "    plt.axis(\"off\")"
   ]
  },
  {
   "cell_type": "code",
   "execution_count": 6,
   "metadata": {},
   "outputs": [
    {
     "data": {
      "image/png": "[encoded data removed]",
      "text/plain": [
       "<matplotlib.figure.Figure at 0x7f6e6742f320>"
      ]
     },
     "metadata": {},
     "output_type": "display_data"
    }
   ],
   "source": [
    "plt.figure(figsize=(9,9))\n",
    "example_images = np.r_[X_train0[:50]]\n",
    "plot_digits(example_images, images_per_row=10)\n",
    "\n",
    "plt.show()"
   ]
  },
  {
   "cell_type": "markdown",
   "metadata": {},
   "source": [
    "### 데이터를 float 타입으로 바꾸고 스케일링한다."
   ]
  },
  {
   "cell_type": "code",
   "execution_count": 7,
   "metadata": {},
   "outputs": [
    {
     "name": "stdout",
     "output_type": "stream",
     "text": [
      "(60000, 28, 28, 1) float32\n"
     ]
    }
   ],
   "source": [
    "X_train = X_train0.reshape(60000, 28, 28, 1).astype('float32') / 255.0\n",
    "X_test = X_test0.reshape(10000, 28, 28, 1).astype('float32') / 255.0\n",
    "print(X_train.shape, X_train.dtype)"
   ]
  },
  {
   "cell_type": "markdown",
   "metadata": {},
   "source": [
    "### y 데이터는 One-Hot-Encoding 을 한다."
   ]
  },
  {
   "cell_type": "code",
   "execution_count": 8,
   "metadata": {},
   "outputs": [
    {
     "data": {
      "text/plain": [
       "array([5, 0, 4, 1, 9], dtype=uint8)"
      ]
     },
     "execution_count": 8,
     "metadata": {},
     "output_type": "execute_result"
    }
   ],
   "source": [
    "y_train0[:5]"
   ]
  },
  {
   "cell_type": "code",
   "execution_count": 9,
   "metadata": {},
   "outputs": [
    {
     "data": {
      "text/plain": [
       "array([[0., 0., 0., 0., 0., 1., 0., 0., 0., 0.],\n",
       "       [1., 0., 0., 0., 0., 0., 0., 0., 0., 0.],\n",
       "       [0., 0., 0., 0., 1., 0., 0., 0., 0., 0.],\n",
       "       [0., 1., 0., 0., 0., 0., 0., 0., 0., 0.],\n",
       "       [0., 0., 0., 0., 0., 0., 0., 0., 0., 1.]], dtype=float32)"
      ]
     },
     "execution_count": 9,
     "metadata": {},
     "output_type": "execute_result"
    }
   ],
   "source": [
    "from keras.utils import np_utils\n",
    "\n",
    "Y_train = np_utils.to_categorical(y_train0, 10)\n",
    "Y_test = np_utils.to_categorical(y_test0, 10)\n",
    "Y_train[:5]"
   ]
  },
  {
   "cell_type": "markdown",
   "metadata": {},
   "source": [
    "***"
   ]
  },
  {
   "cell_type": "markdown",
   "metadata": {},
   "source": [
    "## 신경망 구현 순서\n",
    "\n",
    "### Keras 를 사용하면 다음과 같은 순서로 신경망을 구성할 수 있다.\n",
    "\n",
    "1. Sequential 모형 클래스 객체 생성\n",
    "2. add 메서드로 layer 추가.\n",
    "    - Dense layer 가 가장 일반적인 신경망\n",
    "    - 입력단부터 순차적으로 추가한다.\n",
    "    - 레이어는 출력 뉴런 갯수를 첫번째 인수로 받는다.\n",
    "    - 최초의 레이어는 input_dim 인수로 입력 크기를 설정해야 한다.\n",
    "    - activation 인수로 activation 함수 설정\n",
    "3. compile 메서드로 모형 완성.\n",
    "    - loss인수로 Loss 함수 설정\n",
    "    - optimizer 인수로 최적화 알고리즘 설정\n",
    "    - metrics 인수로 트레이닝 단계에서 기록할 성능 기준 설정\n",
    "4. fit 메서드로 트레이닝\n",
    "    - nb_epoch 로 epoch 횟수 설정\n",
    "    - batch_size 로 mini batch size 설정\n",
    "    - metrics 인수로 설정한 성능 기준 기록을 출력으로 반환\n",
    "    - Jupyter Notebook을 사용할 때는 verbose=2로 설정하여 progress bar 가 나오지 않도록 설정한다."
   ]
  },
  {
   "cell_type": "code",
   "execution_count": 10,
   "metadata": {},
   "outputs": [],
   "source": [
    "from keras.optimizers import SGD\n",
    "import numpy as np\n",
    "from keras.datasets import mnist\n",
    "from keras.utils import np_utils\n",
    "from keras.models import Sequential\n",
    "from keras.layers import Dense, Dropout, Flatten, Conv2D, MaxPooling2D\n",
    "from keras.callbacks import ModelCheckpoint,EarlyStopping"
   ]
  },
  {
   "cell_type": "code",
   "execution_count": 11,
   "metadata": {},
   "outputs": [],
   "source": [
    "# Deep Learning model\n",
    "np.random.seed(0)\n",
    "\n",
    "# Simple NN\n",
    "# model = Sequential()\n",
    "# model.add(Dense(15, input_dim=784, activation=\"sigmoid\"))  # firsr layer\n",
    "# model.add(Dense(10, activation=\"sigmoid\")) # output layer\n",
    "# model.compile(optimizer=SGD(lr=0.2), loss='mean_squared_error', metrics=[\"accuracy\"])\n",
    "\n",
    "# 컨볼루션 신경망의 설정\n",
    "model = Sequential()\n",
    "# model.add(Conv2D(32, kernel_size=(3, 3), input_dim=784, activation='relu'))\n",
    "model.add(Conv2D(32, kernel_size=(3, 3), input_shape=(28, 28, 1), activation='relu'))\n",
    "model.add(Conv2D(64, (3, 3), activation='relu'))\n",
    "model.add(MaxPooling2D(pool_size=2))\n",
    "model.add(Dropout(0.25))\n",
    "model.add(Flatten())\n",
    "model.add(Dense(128,  activation='relu'))\n",
    "model.add(Dropout(0.5))\n",
    "model.add(Dense(10, activation='softmax'))"
   ]
  },
  {
   "cell_type": "markdown",
   "metadata": {},
   "source": [
    "> 만들어진 모형은 model_to_dot 명령이나 summary 명령으로 모델 내부의 layers 리스트를 살펴봄으로써 내부 구조를 확인할 수 있다."
   ]
  },
  {
   "cell_type": "code",
   "execution_count": 12,
   "metadata": {},
   "outputs": [],
   "source": [
    "# !pip install pydot"
   ]
  },
  {
   "cell_type": "code",
   "execution_count": 13,
   "metadata": {},
   "outputs": [],
   "source": [
    "# !pip install GraphViz"
   ]
  },
  {
   "cell_type": "code",
   "execution_count": 14,
   "metadata": {},
   "outputs": [],
   "source": [
    "import pydot\n",
    "import graphviz"
   ]
  },
  {
   "cell_type": "code",
   "execution_count": 15,
   "metadata": {},
   "outputs": [
    {
     "data": {
      "image/svg+xml": [
       "<svg height=\"709pt\" viewBox=\"0.00 0.00 388.00 709.00\" width=\"388pt\" xmlns=\"http://www.w3.org/2000/svg\" xmlns:xlink=\"http://www.w3.org/1999/xlink\">\n",
       "<g class=\"graph\" id=\"graph0\" transform=\"scale(1 1) rotate(0) translate(4 705)\">\n",
       "<title>G</title>\n",
       "<polygon fill=\"#ffffff\" points=\"-4,4 -4,-705 384,-705 384,4 -4,4\" stroke=\"transparent\"/>\n",
       "<!-- 140112062125840 -->\n",
       "<g class=\"node\" id=\"node1\">\n",
       "<title>140112062125840</title>\n",
       "<polygon fill=\"none\" points=\"42,-581.5 42,-627.5 338,-627.5 338,-581.5 42,-581.5\" stroke=\"#000000\"/>\n",
       "<text fill=\"#000000\" font-family=\"Times,serif\" font-size=\"14.00\" text-anchor=\"middle\" x=\"103.5\" y=\"-600.8\">conv2d_1: Conv2D</text>\n",
       "<polyline fill=\"none\" points=\"165,-581.5 165,-627.5 \" stroke=\"#000000\"/>\n",
       "<text fill=\"#000000\" font-family=\"Times,serif\" font-size=\"14.00\" text-anchor=\"middle\" x=\"192.5\" y=\"-612.3\">input:</text>\n",
       "<polyline fill=\"none\" points=\"165,-604.5 220,-604.5 \" stroke=\"#000000\"/>\n",
       "<text fill=\"#000000\" font-family=\"Times,serif\" font-size=\"14.00\" text-anchor=\"middle\" x=\"192.5\" y=\"-589.3\">output:</text>\n",
       "<polyline fill=\"none\" points=\"220,-581.5 220,-627.5 \" stroke=\"#000000\"/>\n",
       "<text fill=\"#000000\" font-family=\"Times,serif\" font-size=\"14.00\" text-anchor=\"middle\" x=\"279\" y=\"-612.3\">(None, 28, 28, 1)</text>\n",
       "<polyline fill=\"none\" points=\"220,-604.5 338,-604.5 \" stroke=\"#000000\"/>\n",
       "<text fill=\"#000000\" font-family=\"Times,serif\" font-size=\"14.00\" text-anchor=\"middle\" x=\"279\" y=\"-589.3\">(None, 26, 26, 32)</text>\n",
       "</g>\n",
       "<!-- 140112062127408 -->\n",
       "<g class=\"node\" id=\"node2\">\n",
       "<title>140112062127408</title>\n",
       "<polygon fill=\"none\" points=\"42,-498.5 42,-544.5 338,-544.5 338,-498.5 42,-498.5\" stroke=\"#000000\"/>\n",
       "<text fill=\"#000000\" font-family=\"Times,serif\" font-size=\"14.00\" text-anchor=\"middle\" x=\"103.5\" y=\"-517.8\">conv2d_2: Conv2D</text>\n",
       "<polyline fill=\"none\" points=\"165,-498.5 165,-544.5 \" stroke=\"#000000\"/>\n",
       "<text fill=\"#000000\" font-family=\"Times,serif\" font-size=\"14.00\" text-anchor=\"middle\" x=\"192.5\" y=\"-529.3\">input:</text>\n",
       "<polyline fill=\"none\" points=\"165,-521.5 220,-521.5 \" stroke=\"#000000\"/>\n",
       "<text fill=\"#000000\" font-family=\"Times,serif\" font-size=\"14.00\" text-anchor=\"middle\" x=\"192.5\" y=\"-506.3\">output:</text>\n",
       "<polyline fill=\"none\" points=\"220,-498.5 220,-544.5 \" stroke=\"#000000\"/>\n",
       "<text fill=\"#000000\" font-family=\"Times,serif\" font-size=\"14.00\" text-anchor=\"middle\" x=\"279\" y=\"-529.3\">(None, 26, 26, 32)</text>\n",
       "<polyline fill=\"none\" points=\"220,-521.5 338,-521.5 \" stroke=\"#000000\"/>\n",
       "<text fill=\"#000000\" font-family=\"Times,serif\" font-size=\"14.00\" text-anchor=\"middle\" x=\"279\" y=\"-506.3\">(None, 24, 24, 64)</text>\n",
       "</g>\n",
       "<!-- 140112062125840&#45;&gt;140112062127408 -->\n",
       "<g class=\"edge\" id=\"edge2\">\n",
       "<title>140112062125840-&gt;140112062127408</title>\n",
       "<path d=\"M190,-581.3799C190,-573.1745 190,-563.7679 190,-554.8786\" fill=\"none\" stroke=\"#000000\"/>\n",
       "<polygon fill=\"#000000\" points=\"193.5001,-554.784 190,-544.784 186.5001,-554.784 193.5001,-554.784\" stroke=\"#000000\"/>\n",
       "</g>\n",
       "<!-- 140112062124272 -->\n",
       "<g class=\"node\" id=\"node3\">\n",
       "<title>140112062124272</title>\n",
       "<polygon fill=\"none\" points=\"0,-415.5 0,-461.5 380,-461.5 380,-415.5 0,-415.5\" stroke=\"#000000\"/>\n",
       "<text fill=\"#000000\" font-family=\"Times,serif\" font-size=\"14.00\" text-anchor=\"middle\" x=\"103.5\" y=\"-434.8\">max_pooling2d_1: MaxPooling2D</text>\n",
       "<polyline fill=\"none\" points=\"207,-415.5 207,-461.5 \" stroke=\"#000000\"/>\n",
       "<text fill=\"#000000\" font-family=\"Times,serif\" font-size=\"14.00\" text-anchor=\"middle\" x=\"234.5\" y=\"-446.3\">input:</text>\n",
       "<polyline fill=\"none\" points=\"207,-438.5 262,-438.5 \" stroke=\"#000000\"/>\n",
       "<text fill=\"#000000\" font-family=\"Times,serif\" font-size=\"14.00\" text-anchor=\"middle\" x=\"234.5\" y=\"-423.3\">output:</text>\n",
       "<polyline fill=\"none\" points=\"262,-415.5 262,-461.5 \" stroke=\"#000000\"/>\n",
       "<text fill=\"#000000\" font-family=\"Times,serif\" font-size=\"14.00\" text-anchor=\"middle\" x=\"321\" y=\"-446.3\">(None, 24, 24, 64)</text>\n",
       "<polyline fill=\"none\" points=\"262,-438.5 380,-438.5 \" stroke=\"#000000\"/>\n",
       "<text fill=\"#000000\" font-family=\"Times,serif\" font-size=\"14.00\" text-anchor=\"middle\" x=\"321\" y=\"-423.3\">(None, 12, 12, 64)</text>\n",
       "</g>\n",
       "<!-- 140112062127408&#45;&gt;140112062124272 -->\n",
       "<g class=\"edge\" id=\"edge3\">\n",
       "<title>140112062127408-&gt;140112062124272</title>\n",
       "<path d=\"M190,-498.3799C190,-490.1745 190,-480.7679 190,-471.8786\" fill=\"none\" stroke=\"#000000\"/>\n",
       "<polygon fill=\"#000000\" points=\"193.5001,-471.784 190,-461.784 186.5001,-471.784 193.5001,-471.784\" stroke=\"#000000\"/>\n",
       "</g>\n",
       "<!-- 140111840526064 -->\n",
       "<g class=\"node\" id=\"node4\">\n",
       "<title>140111840526064</title>\n",
       "<polygon fill=\"none\" points=\"41,-332.5 41,-378.5 339,-378.5 339,-332.5 41,-332.5\" stroke=\"#000000\"/>\n",
       "<text fill=\"#000000\" font-family=\"Times,serif\" font-size=\"14.00\" text-anchor=\"middle\" x=\"103.5\" y=\"-351.8\">dropout_1: Dropout</text>\n",
       "<polyline fill=\"none\" points=\"166,-332.5 166,-378.5 \" stroke=\"#000000\"/>\n",
       "<text fill=\"#000000\" font-family=\"Times,serif\" font-size=\"14.00\" text-anchor=\"middle\" x=\"193.5\" y=\"-363.3\">input:</text>\n",
       "<polyline fill=\"none\" points=\"166,-355.5 221,-355.5 \" stroke=\"#000000\"/>\n",
       "<text fill=\"#000000\" font-family=\"Times,serif\" font-size=\"14.00\" text-anchor=\"middle\" x=\"193.5\" y=\"-340.3\">output:</text>\n",
       "<polyline fill=\"none\" points=\"221,-332.5 221,-378.5 \" stroke=\"#000000\"/>\n",
       "<text fill=\"#000000\" font-family=\"Times,serif\" font-size=\"14.00\" text-anchor=\"middle\" x=\"280\" y=\"-363.3\">(None, 12, 12, 64)</text>\n",
       "<polyline fill=\"none\" points=\"221,-355.5 339,-355.5 \" stroke=\"#000000\"/>\n",
       "<text fill=\"#000000\" font-family=\"Times,serif\" font-size=\"14.00\" text-anchor=\"middle\" x=\"280\" y=\"-340.3\">(None, 12, 12, 64)</text>\n",
       "</g>\n",
       "<!-- 140112062124272&#45;&gt;140111840526064 -->\n",
       "<g class=\"edge\" id=\"edge4\">\n",
       "<title>140112062124272-&gt;140111840526064</title>\n",
       "<path d=\"M190,-415.3799C190,-407.1745 190,-397.7679 190,-388.8786\" fill=\"none\" stroke=\"#000000\"/>\n",
       "<polygon fill=\"#000000\" points=\"193.5001,-388.784 190,-378.784 186.5001,-388.784 193.5001,-388.784\" stroke=\"#000000\"/>\n",
       "</g>\n",
       "<!-- 140111840668808 -->\n",
       "<g class=\"node\" id=\"node5\">\n",
       "<title>140111840668808</title>\n",
       "<polygon fill=\"none\" points=\"48.5,-249.5 48.5,-295.5 331.5,-295.5 331.5,-249.5 48.5,-249.5\" stroke=\"#000000\"/>\n",
       "<text fill=\"#000000\" font-family=\"Times,serif\" font-size=\"14.00\" text-anchor=\"middle\" x=\"103.5\" y=\"-268.8\">flatten_1: Flatten</text>\n",
       "<polyline fill=\"none\" points=\"158.5,-249.5 158.5,-295.5 \" stroke=\"#000000\"/>\n",
       "<text fill=\"#000000\" font-family=\"Times,serif\" font-size=\"14.00\" text-anchor=\"middle\" x=\"186\" y=\"-280.3\">input:</text>\n",
       "<polyline fill=\"none\" points=\"158.5,-272.5 213.5,-272.5 \" stroke=\"#000000\"/>\n",
       "<text fill=\"#000000\" font-family=\"Times,serif\" font-size=\"14.00\" text-anchor=\"middle\" x=\"186\" y=\"-257.3\">output:</text>\n",
       "<polyline fill=\"none\" points=\"213.5,-249.5 213.5,-295.5 \" stroke=\"#000000\"/>\n",
       "<text fill=\"#000000\" font-family=\"Times,serif\" font-size=\"14.00\" text-anchor=\"middle\" x=\"272.5\" y=\"-280.3\">(None, 12, 12, 64)</text>\n",
       "<polyline fill=\"none\" points=\"213.5,-272.5 331.5,-272.5 \" stroke=\"#000000\"/>\n",
       "<text fill=\"#000000\" font-family=\"Times,serif\" font-size=\"14.00\" text-anchor=\"middle\" x=\"272.5\" y=\"-257.3\">(None, 9216)</text>\n",
       "</g>\n",
       "<!-- 140111840526064&#45;&gt;140111840668808 -->\n",
       "<g class=\"edge\" id=\"edge5\">\n",
       "<title>140111840526064-&gt;140111840668808</title>\n",
       "<path d=\"M190,-332.3799C190,-324.1745 190,-314.7679 190,-305.8786\" fill=\"none\" stroke=\"#000000\"/>\n",
       "<polygon fill=\"#000000\" points=\"193.5001,-305.784 190,-295.784 186.5001,-305.784 193.5001,-305.784\" stroke=\"#000000\"/>\n",
       "</g>\n",
       "<!-- 140111840525224 -->\n",
       "<g class=\"node\" id=\"node6\">\n",
       "<title>140111840525224</title>\n",
       "<polygon fill=\"none\" points=\"67,-166.5 67,-212.5 313,-212.5 313,-166.5 67,-166.5\" stroke=\"#000000\"/>\n",
       "<text fill=\"#000000\" font-family=\"Times,serif\" font-size=\"14.00\" text-anchor=\"middle\" x=\"118\" y=\"-185.8\">dense_1: Dense</text>\n",
       "<polyline fill=\"none\" points=\"169,-166.5 169,-212.5 \" stroke=\"#000000\"/>\n",
       "<text fill=\"#000000\" font-family=\"Times,serif\" font-size=\"14.00\" text-anchor=\"middle\" x=\"196.5\" y=\"-197.3\">input:</text>\n",
       "<polyline fill=\"none\" points=\"169,-189.5 224,-189.5 \" stroke=\"#000000\"/>\n",
       "<text fill=\"#000000\" font-family=\"Times,serif\" font-size=\"14.00\" text-anchor=\"middle\" x=\"196.5\" y=\"-174.3\">output:</text>\n",
       "<polyline fill=\"none\" points=\"224,-166.5 224,-212.5 \" stroke=\"#000000\"/>\n",
       "<text fill=\"#000000\" font-family=\"Times,serif\" font-size=\"14.00\" text-anchor=\"middle\" x=\"268.5\" y=\"-197.3\">(None, 9216)</text>\n",
       "<polyline fill=\"none\" points=\"224,-189.5 313,-189.5 \" stroke=\"#000000\"/>\n",
       "<text fill=\"#000000\" font-family=\"Times,serif\" font-size=\"14.00\" text-anchor=\"middle\" x=\"268.5\" y=\"-174.3\">(None, 128)</text>\n",
       "</g>\n",
       "<!-- 140111840668808&#45;&gt;140111840525224 -->\n",
       "<g class=\"edge\" id=\"edge6\">\n",
       "<title>140111840668808-&gt;140111840525224</title>\n",
       "<path d=\"M190,-249.3799C190,-241.1745 190,-231.7679 190,-222.8786\" fill=\"none\" stroke=\"#000000\"/>\n",
       "<polygon fill=\"#000000\" points=\"193.5001,-222.784 190,-212.784 186.5001,-222.784 193.5001,-222.784\" stroke=\"#000000\"/>\n",
       "</g>\n",
       "<!-- 140111840276832 -->\n",
       "<g class=\"node\" id=\"node7\">\n",
       "<title>140111840276832</title>\n",
       "<polygon fill=\"none\" points=\"58.5,-83.5 58.5,-129.5 321.5,-129.5 321.5,-83.5 58.5,-83.5\" stroke=\"#000000\"/>\n",
       "<text fill=\"#000000\" font-family=\"Times,serif\" font-size=\"14.00\" text-anchor=\"middle\" x=\"121\" y=\"-102.8\">dropout_2: Dropout</text>\n",
       "<polyline fill=\"none\" points=\"183.5,-83.5 183.5,-129.5 \" stroke=\"#000000\"/>\n",
       "<text fill=\"#000000\" font-family=\"Times,serif\" font-size=\"14.00\" text-anchor=\"middle\" x=\"211\" y=\"-114.3\">input:</text>\n",
       "<polyline fill=\"none\" points=\"183.5,-106.5 238.5,-106.5 \" stroke=\"#000000\"/>\n",
       "<text fill=\"#000000\" font-family=\"Times,serif\" font-size=\"14.00\" text-anchor=\"middle\" x=\"211\" y=\"-91.3\">output:</text>\n",
       "<polyline fill=\"none\" points=\"238.5,-83.5 238.5,-129.5 \" stroke=\"#000000\"/>\n",
       "<text fill=\"#000000\" font-family=\"Times,serif\" font-size=\"14.00\" text-anchor=\"middle\" x=\"280\" y=\"-114.3\">(None, 128)</text>\n",
       "<polyline fill=\"none\" points=\"238.5,-106.5 321.5,-106.5 \" stroke=\"#000000\"/>\n",
       "<text fill=\"#000000\" font-family=\"Times,serif\" font-size=\"14.00\" text-anchor=\"middle\" x=\"280\" y=\"-91.3\">(None, 128)</text>\n",
       "</g>\n",
       "<!-- 140111840525224&#45;&gt;140111840276832 -->\n",
       "<g class=\"edge\" id=\"edge7\">\n",
       "<title>140111840525224-&gt;140111840276832</title>\n",
       "<path d=\"M190,-166.3799C190,-158.1745 190,-148.7679 190,-139.8786\" fill=\"none\" stroke=\"#000000\"/>\n",
       "<polygon fill=\"#000000\" points=\"193.5001,-139.784 190,-129.784 186.5001,-139.784 193.5001,-139.784\" stroke=\"#000000\"/>\n",
       "</g>\n",
       "<!-- 140111840024224 -->\n",
       "<g class=\"node\" id=\"node8\">\n",
       "<title>140111840024224</title>\n",
       "<polygon fill=\"none\" points=\"70,-.5 70,-46.5 310,-46.5 310,-.5 70,-.5\" stroke=\"#000000\"/>\n",
       "<text fill=\"#000000\" font-family=\"Times,serif\" font-size=\"14.00\" text-anchor=\"middle\" x=\"121\" y=\"-19.8\">dense_2: Dense</text>\n",
       "<polyline fill=\"none\" points=\"172,-.5 172,-46.5 \" stroke=\"#000000\"/>\n",
       "<text fill=\"#000000\" font-family=\"Times,serif\" font-size=\"14.00\" text-anchor=\"middle\" x=\"199.5\" y=\"-31.3\">input:</text>\n",
       "<polyline fill=\"none\" points=\"172,-23.5 227,-23.5 \" stroke=\"#000000\"/>\n",
       "<text fill=\"#000000\" font-family=\"Times,serif\" font-size=\"14.00\" text-anchor=\"middle\" x=\"199.5\" y=\"-8.3\">output:</text>\n",
       "<polyline fill=\"none\" points=\"227,-.5 227,-46.5 \" stroke=\"#000000\"/>\n",
       "<text fill=\"#000000\" font-family=\"Times,serif\" font-size=\"14.00\" text-anchor=\"middle\" x=\"268.5\" y=\"-31.3\">(None, 128)</text>\n",
       "<polyline fill=\"none\" points=\"227,-23.5 310,-23.5 \" stroke=\"#000000\"/>\n",
       "<text fill=\"#000000\" font-family=\"Times,serif\" font-size=\"14.00\" text-anchor=\"middle\" x=\"268.5\" y=\"-8.3\">(None, 10)</text>\n",
       "</g>\n",
       "<!-- 140111840276832&#45;&gt;140111840024224 -->\n",
       "<g class=\"edge\" id=\"edge8\">\n",
       "<title>140111840276832-&gt;140111840024224</title>\n",
       "<path d=\"M190,-83.3799C190,-75.1745 190,-65.7679 190,-56.8786\" fill=\"none\" stroke=\"#000000\"/>\n",
       "<polygon fill=\"#000000\" points=\"193.5001,-56.784 190,-46.784 186.5001,-56.784 193.5001,-56.784\" stroke=\"#000000\"/>\n",
       "</g>\n",
       "<!-- 140112062125672 -->\n",
       "<g class=\"node\" id=\"node9\">\n",
       "<title>140112062125672</title>\n",
       "<polygon fill=\"none\" points=\"131,-664.5 131,-700.5 249,-700.5 249,-664.5 131,-664.5\" stroke=\"#000000\"/>\n",
       "<text fill=\"#000000\" font-family=\"Times,serif\" font-size=\"14.00\" text-anchor=\"middle\" x=\"190\" y=\"-678.8\">140112062125672</text>\n",
       "</g>\n",
       "<!-- 140112062125672&#45;&gt;140112062125840 -->\n",
       "<g class=\"edge\" id=\"edge1\">\n",
       "<title>140112062125672-&gt;140112062125840</title>\n",
       "<path d=\"M190,-664.4092C190,-656.4308 190,-646.795 190,-637.606\" fill=\"none\" stroke=\"#000000\"/>\n",
       "<polygon fill=\"#000000\" points=\"193.5001,-637.5333 190,-627.5333 186.5001,-637.5334 193.5001,-637.5333\" stroke=\"#000000\"/>\n",
       "</g>\n",
       "</g>\n",
       "</svg>"
      ],
      "text/plain": [
       "<IPython.core.display.SVG object>"
      ]
     },
     "execution_count": 15,
     "metadata": {},
     "output_type": "execute_result"
    }
   ],
   "source": [
    "from IPython.display import SVG\n",
    "from keras.utils.vis_utils import model_to_dot\n",
    "\n",
    "SVG(model_to_dot(model, show_shapes=True).create(prog='dot', format='svg'))"
   ]
  },
  {
   "cell_type": "code",
   "execution_count": 16,
   "metadata": {},
   "outputs": [],
   "source": [
    "from keras.utils import plot_model\n",
    "plot_model(model, to_file='model_DL.png')"
   ]
  },
  {
   "cell_type": "code",
   "execution_count": 17,
   "metadata": {},
   "outputs": [
    {
     "name": "stdout",
     "output_type": "stream",
     "text": [
      "_________________________________________________________________\n",
      "Layer (type)                 Output Shape              Param #   \n",
      "=================================================================\n",
      "conv2d_1 (Conv2D)            (None, 26, 26, 32)        320       \n",
      "_________________________________________________________________\n",
      "conv2d_2 (Conv2D)            (None, 24, 24, 64)        18496     \n",
      "_________________________________________________________________\n",
      "max_pooling2d_1 (MaxPooling2 (None, 12, 12, 64)        0         \n",
      "_________________________________________________________________\n",
      "dropout_1 (Dropout)          (None, 12, 12, 64)        0         \n",
      "_________________________________________________________________\n",
      "flatten_1 (Flatten)          (None, 9216)              0         \n",
      "_________________________________________________________________\n",
      "dense_1 (Dense)              (None, 128)               1179776   \n",
      "_________________________________________________________________\n",
      "dropout_2 (Dropout)          (None, 128)               0         \n",
      "_________________________________________________________________\n",
      "dense_2 (Dense)              (None, 10)                1290      \n",
      "=================================================================\n",
      "Total params: 1,199,882\n",
      "Trainable params: 1,199,882\n",
      "Non-trainable params: 0\n",
      "_________________________________________________________________\n"
     ]
    }
   ],
   "source": [
    "model.summary()"
   ]
  },
  {
   "cell_type": "code",
   "execution_count": 18,
   "metadata": {},
   "outputs": [],
   "source": [
    "l1 = model.layers[0]\n",
    "l2 = model.layers[1]\n",
    "l6 = model.layers[5]"
   ]
  },
  {
   "cell_type": "code",
   "execution_count": 19,
   "metadata": {},
   "outputs": [
    {
     "data": {
      "text/plain": [
       "('conv2d_1',\n",
       " keras.layers.convolutional.Conv2D,\n",
       " (None, 26, 26, 32),\n",
       " 'relu',\n",
       " 320)"
      ]
     },
     "execution_count": 19,
     "metadata": {},
     "output_type": "execute_result"
    }
   ],
   "source": [
    "l1.name, type(l1), l1.output_shape, l1.activation.__name__, l1.count_params()"
   ]
  },
  {
   "cell_type": "code",
   "execution_count": 20,
   "metadata": {},
   "outputs": [
    {
     "data": {
      "text/plain": [
       "('conv2d_2',\n",
       " keras.layers.convolutional.Conv2D,\n",
       " (None, 24, 24, 64),\n",
       " 'relu',\n",
       " 18496)"
      ]
     },
     "execution_count": 20,
     "metadata": {},
     "output_type": "execute_result"
    }
   ],
   "source": [
    "l2.name, type(l2), l2.output_shape, l2.activation.__name__, l2.count_params()"
   ]
  },
  {
   "cell_type": "code",
   "execution_count": 21,
   "metadata": {},
   "outputs": [
    {
     "data": {
      "text/plain": [
       "('dense_1', keras.layers.core.Dense, (None, 128), 'relu', 1179776)"
      ]
     },
     "execution_count": 21,
     "metadata": {},
     "output_type": "execute_result"
    }
   ],
   "source": [
    "l6.name, type(l6), l6.output_shape, l6.activation.__name__, l6.count_params()"
   ]
  },
  {
   "cell_type": "markdown",
   "metadata": {},
   "source": [
    "## fit 메서드로 트레이닝"
   ]
  },
  {
   "cell_type": "code",
   "execution_count": 22,
   "metadata": {},
   "outputs": [],
   "source": [
    "model.compile(loss='categorical_crossentropy',\n",
    "              optimizer='adam',\n",
    "              metrics=['accuracy'])"
   ]
  },
  {
   "cell_type": "code",
   "execution_count": 23,
   "metadata": {},
   "outputs": [
    {
     "name": "stdout",
     "output_type": "stream",
     "text": [
      "Train on 60000 samples, validate on 10000 samples\n",
      "Epoch 1/30\n",
      "60000/60000 [==============================] - 5s 87us/step - loss: 0.2301 - acc: 0.9302 - val_loss: 0.0499 - val_acc: 0.9843\n",
      "Epoch 2/30\n",
      "60000/60000 [==============================] - 3s 57us/step - loss: 0.0838 - acc: 0.9749 - val_loss: 0.0355 - val_acc: 0.9880\n",
      "Epoch 3/30\n",
      "60000/60000 [==============================] - 3s 58us/step - loss: 0.0624 - acc: 0.9811 - val_loss: 0.0350 - val_acc: 0.9889\n",
      "Epoch 4/30\n",
      "60000/60000 [==============================] - 3s 58us/step - loss: 0.0512 - acc: 0.9842 - val_loss: 0.0310 - val_acc: 0.9901\n",
      "Epoch 5/30\n",
      "60000/60000 [==============================] - 3s 58us/step - loss: 0.0428 - acc: 0.9863 - val_loss: 0.0296 - val_acc: 0.9906\n",
      "Epoch 6/30\n",
      "60000/60000 [==============================] - 4s 59us/step - loss: 0.0390 - acc: 0.9877 - val_loss: 0.0300 - val_acc: 0.9904\n",
      "Epoch 7/30\n",
      "60000/60000 [==============================] - 4s 62us/step - loss: 0.0347 - acc: 0.9895 - val_loss: 0.0274 - val_acc: 0.9917\n",
      "Epoch 8/30\n",
      "60000/60000 [==============================] - 3s 57us/step - loss: 0.0315 - acc: 0.9901 - val_loss: 0.0261 - val_acc: 0.9926\n",
      "Epoch 9/30\n",
      "60000/60000 [==============================] - 4s 60us/step - loss: 0.0291 - acc: 0.9907 - val_loss: 0.0244 - val_acc: 0.9927\n",
      "Epoch 10/30\n",
      "60000/60000 [==============================] - 3s 57us/step - loss: 0.0245 - acc: 0.9924 - val_loss: 0.0289 - val_acc: 0.9909\n",
      "Epoch 11/30\n",
      "60000/60000 [==============================] - 3s 57us/step - loss: 0.0248 - acc: 0.9919 - val_loss: 0.0244 - val_acc: 0.9936\n",
      "Epoch 12/30\n",
      "60000/60000 [==============================] - 3s 56us/step - loss: 0.0230 - acc: 0.9925 - val_loss: 0.0275 - val_acc: 0.9919\n",
      "Epoch 13/30\n",
      "60000/60000 [==============================] - 3s 57us/step - loss: 0.0204 - acc: 0.9933 - val_loss: 0.0263 - val_acc: 0.9929\n",
      "Epoch 14/30\n",
      "60000/60000 [==============================] - 3s 55us/step - loss: 0.0210 - acc: 0.9932 - val_loss: 0.0283 - val_acc: 0.9934\n",
      "Epoch 15/30\n",
      "60000/60000 [==============================] - 3s 53us/step - loss: 0.0181 - acc: 0.9944 - val_loss: 0.0278 - val_acc: 0.9931\n",
      "Epoch 16/30\n",
      "60000/60000 [==============================] - 4s 61us/step - loss: 0.0177 - acc: 0.9943 - val_loss: 0.0272 - val_acc: 0.9932\n",
      "Epoch 17/30\n",
      "60000/60000 [==============================] - 3s 52us/step - loss: 0.0143 - acc: 0.9954 - val_loss: 0.0288 - val_acc: 0.9922\n",
      "Epoch 18/30\n",
      "60000/60000 [==============================] - 3s 54us/step - loss: 0.0159 - acc: 0.9945 - val_loss: 0.0287 - val_acc: 0.9920\n",
      "Epoch 19/30\n",
      "60000/60000 [==============================] - 3s 58us/step - loss: 0.0149 - acc: 0.9952 - val_loss: 0.0303 - val_acc: 0.9931\n",
      "Epoch 20/30\n",
      "60000/60000 [==============================] - 3s 56us/step - loss: 0.0140 - acc: 0.9953 - val_loss: 0.0305 - val_acc: 0.9927\n",
      "Epoch 21/30\n",
      "60000/60000 [==============================] - 3s 57us/step - loss: 0.0134 - acc: 0.9955 - val_loss: 0.0315 - val_acc: 0.9925\n",
      "Epoch 22/30\n",
      "60000/60000 [==============================] - 4s 62us/step - loss: 0.0128 - acc: 0.9955 - val_loss: 0.0317 - val_acc: 0.9931\n",
      "Epoch 23/30\n",
      "60000/60000 [==============================] - 3s 57us/step - loss: 0.0117 - acc: 0.9960 - val_loss: 0.0321 - val_acc: 0.9932\n",
      "Epoch 24/30\n",
      "60000/60000 [==============================] - 3s 57us/step - loss: 0.0119 - acc: 0.9962 - val_loss: 0.0294 - val_acc: 0.9940\n",
      "Epoch 25/30\n",
      "60000/60000 [==============================] - 4s 59us/step - loss: 0.0108 - acc: 0.9965 - val_loss: 0.0330 - val_acc: 0.9925\n",
      "Epoch 26/30\n",
      "60000/60000 [==============================] - 3s 56us/step - loss: 0.0116 - acc: 0.9962 - val_loss: 0.0283 - val_acc: 0.9941\n",
      "Epoch 27/30\n",
      "60000/60000 [==============================] - 4s 62us/step - loss: 0.0104 - acc: 0.9967 - val_loss: 0.0302 - val_acc: 0.9940\n",
      "Epoch 28/30\n",
      "60000/60000 [==============================] - 4s 61us/step - loss: 0.0110 - acc: 0.9965 - val_loss: 0.0333 - val_acc: 0.9932\n",
      "Epoch 29/30\n",
      "60000/60000 [==============================] - 3s 53us/step - loss: 0.0103 - acc: 0.9964 - val_loss: 0.0299 - val_acc: 0.9929\n",
      "Epoch 30/30\n",
      "60000/60000 [==============================] - 3s 57us/step - loss: 0.0107 - acc: 0.9966 - val_loss: 0.0270 - val_acc: 0.9940\n",
      "CPU times: user 2min 14s, sys: 19.7 s, total: 2min 33s\n",
      "Wall time: 1min 45s\n"
     ]
    }
   ],
   "source": [
    "%%time\n",
    "hist = model.fit(X_train, Y_train, \n",
    "                 epochs=30, batch_size=100, \n",
    "                 validation_data=(X_test, Y_test), \n",
    "                 verbose=1)"
   ]
  },
  {
   "cell_type": "code",
   "execution_count": 24,
   "metadata": {},
   "outputs": [
    {
     "data": {
      "image/png": "[encoded data removed]",
      "text/plain": [
       "<matplotlib.figure.Figure at 0x7f6ede1f1748>"
      ]
     },
     "metadata": {},
     "output_type": "display_data"
    }
   ],
   "source": [
    "# Plot performance\n",
    "plt.plot(hist.history['loss'])\n",
    "plt.show()"
   ]
  },
  {
   "cell_type": "code",
   "execution_count": 25,
   "metadata": {},
   "outputs": [
    {
     "data": {
      "image/png": "[encoded data removed]",
      "text/plain": [
       "<matplotlib.figure.Figure at 0x7f6ede0dc080>"
      ]
     },
     "metadata": {},
     "output_type": "display_data"
    }
   ],
   "source": [
    "plt.plot(hist.history['acc'], 'b-', label=\"training\")\n",
    "plt.plot(hist.history['val_acc'], 'r:', label=\"test\")\n",
    "plt.legend()\n",
    "plt.show()"
   ]
  },
  {
   "cell_type": "markdown",
   "metadata": {},
   "source": [
    "## 가중치 정보"
   ]
  },
  {
   "cell_type": "markdown",
   "metadata": {},
   "source": [
    "> 트레이닝이 끝난 모형의 가중치 정보는 get_weights 메서드로 구할 수 있다. 이 메서드는 w 값과 b 값을 출력한다."
   ]
  },
  {
   "cell_type": "code",
   "execution_count": 26,
   "metadata": {},
   "outputs": [
    {
     "data": {
      "text/plain": [
       "((3, 3, 1, 32), (32,))"
      ]
     },
     "execution_count": 26,
     "metadata": {},
     "output_type": "execute_result"
    }
   ],
   "source": [
    "w1 = l1.get_weights()\n",
    "w1[0].shape, w1[1].shape"
   ]
  },
  {
   "cell_type": "code",
   "execution_count": 27,
   "metadata": {},
   "outputs": [
    {
     "data": {
      "text/plain": [
       "((3, 3, 32, 64), (64,))"
      ]
     },
     "execution_count": 27,
     "metadata": {},
     "output_type": "execute_result"
    }
   ],
   "source": [
    "w2 = l2.get_weights()\n",
    "w2[0].shape, w2[1].shape"
   ]
  },
  {
   "cell_type": "markdown",
   "metadata": {},
   "source": [
    "## 모형의 사용\n",
    "\n",
    "> 트레이닝이 끝난 모형은 predict 메서드로 y 값을 출력하거나 출력된 y값을 각 클래스에 대한 판별함수로 가정하고 predict_classes 메서드로 classification을 할 수 있다."
   ]
  },
  {
   "cell_type": "code",
   "execution_count": 28,
   "metadata": {},
   "outputs": [
    {
     "data": {
      "image/png": "[encoded data removed]",
      "text/plain": [
       "<matplotlib.figure.Figure at 0x7f6e63b57470>"
      ]
     },
     "metadata": {},
     "output_type": "display_data"
    }
   ],
   "source": [
    "plt.figure(figsize=(2, 2))\n",
    "plt.imshow(X_test0[0], cmap=mpl.cm.bone_r)\n",
    "plt.grid(False)\n",
    "plt.xticks([])\n",
    "plt.yticks([])\n",
    "plt.show()"
   ]
  },
  {
   "cell_type": "code",
   "execution_count": 29,
   "metadata": {},
   "outputs": [
    {
     "data": {
      "text/plain": [
       "array([[3.4677843e-21, 6.1737367e-16, 1.6643286e-16, 8.9145983e-16,\n",
       "        7.5764206e-20, 2.7839409e-17, 7.8670017e-27, 1.0000000e+00,\n",
       "        5.5408079e-20, 3.8558308e-15]], dtype=float32)"
      ]
     },
     "execution_count": 29,
     "metadata": {},
     "output_type": "execute_result"
    }
   ],
   "source": [
    "model.predict(X_test[:1, :])"
   ]
  },
  {
   "cell_type": "code",
   "execution_count": 30,
   "metadata": {},
   "outputs": [
    {
     "data": {
      "text/plain": [
       "array([7])"
      ]
     },
     "execution_count": 30,
     "metadata": {},
     "output_type": "execute_result"
    }
   ],
   "source": [
    "model.predict_classes(X_test[:1, :], verbose=0)"
   ]
  },
  {
   "cell_type": "markdown",
   "metadata": {},
   "source": [
    "## DL 모형의 저장\n",
    "\n",
    ">  트레이닝이 끝난 모형은 save 메서드로 가중치와 함께 hdf5 형식으로 저장하였다가 나중에 load 명령으로 불러 사용할 수 있다."
   ]
  },
  {
   "cell_type": "code",
   "execution_count": 31,
   "metadata": {},
   "outputs": [],
   "source": [
    "model.save('my_model_dl.hdf5')\n",
    "# del model"
   ]
  },
  {
   "cell_type": "code",
   "execution_count": 32,
   "metadata": {},
   "outputs": [
    {
     "data": {
      "text/plain": [
       "array([7])"
      ]
     },
     "execution_count": 32,
     "metadata": {},
     "output_type": "execute_result"
    }
   ],
   "source": [
    "from keras.models import load_model\n",
    "\n",
    "model2 = load_model('my_model_dl.hdf5')\n",
    "model2.predict_classes(X_test[:1, :], verbose=0)"
   ]
  },
  {
   "cell_type": "code",
   "execution_count": 33,
   "metadata": {},
   "outputs": [
    {
     "data": {
      "text/plain": [
       "array([7, 2, 1, 0, 4, 1, 4, 9, 5, 9])"
      ]
     },
     "execution_count": 33,
     "metadata": {},
     "output_type": "execute_result"
    }
   ],
   "source": [
    "model2.predict_classes(X_test[:10, :], verbose=0)"
   ]
  },
  {
   "cell_type": "code",
   "execution_count": 34,
   "metadata": {},
   "outputs": [
    {
     "data": {
      "text/plain": [
       "array([7, 2, 1, 0, 4, 1, 4, 9, 5, 9], dtype=uint8)"
      ]
     },
     "execution_count": 34,
     "metadata": {},
     "output_type": "execute_result"
    }
   ],
   "source": [
    "y_test0[:10]"
   ]
  },
  {
   "cell_type": "markdown",
   "metadata": {},
   "source": [
    "### 테스트 데이터에 대한 예측 정확도 계산 "
   ]
  },
  {
   "cell_type": "code",
   "execution_count": 35,
   "metadata": {},
   "outputs": [
    {
     "name": "stdout",
     "output_type": "stream",
     "text": [
      "1/1 [==============================] - 0s 3ms/step\n"
     ]
    },
    {
     "data": {
      "text/plain": [
       "array([5])"
      ]
     },
     "execution_count": 35,
     "metadata": {},
     "output_type": "execute_result"
    }
   ],
   "source": [
    "# Correct prediction\n",
    "model2.predict_classes(X_test[8:9, :], verbose=1)"
   ]
  },
  {
   "cell_type": "code",
   "execution_count": 36,
   "metadata": {},
   "outputs": [
    {
     "data": {
      "text/plain": [
       "5"
      ]
     },
     "execution_count": 36,
     "metadata": {},
     "output_type": "execute_result"
    }
   ],
   "source": [
    "y_test0[8]"
   ]
  },
  {
   "cell_type": "code",
   "execution_count": 37,
   "metadata": {},
   "outputs": [
    {
     "name": "stdout",
     "output_type": "stream",
     "text": [
      "10000/10000 [==============================] - 0s 33us/step\n"
     ]
    }
   ],
   "source": [
    "x_pred = model2.predict_classes(X_test, verbose=1)"
   ]
  },
  {
   "cell_type": "code",
   "execution_count": 38,
   "metadata": {},
   "outputs": [
    {
     "data": {
      "text/plain": [
       "True"
      ]
     },
     "execution_count": 38,
     "metadata": {},
     "output_type": "execute_result"
    }
   ],
   "source": [
    "t_count = np.sum(x_pred==y_test0) # True positive\n",
    "f_count = np.sum(x_pred!=y_test0) # False positive\n",
    "f_count==10000-t_count"
   ]
  },
  {
   "cell_type": "code",
   "execution_count": 39,
   "metadata": {},
   "outputs": [
    {
     "data": {
      "text/plain": [
       "(9940, 60)"
      ]
     },
     "execution_count": 39,
     "metadata": {},
     "output_type": "execute_result"
    }
   ],
   "source": [
    "t_count,f_count"
   ]
  },
  {
   "cell_type": "code",
   "execution_count": 40,
   "metadata": {},
   "outputs": [
    {
     "data": {
      "text/plain": [
       "99.4"
      ]
     },
     "execution_count": 40,
     "metadata": {},
     "output_type": "execute_result"
    }
   ],
   "source": [
    "accuracy = t_count/10000*100\n",
    "accuracy"
   ]
  },
  {
   "cell_type": "markdown",
   "metadata": {},
   "source": [
    "## DL is great!!!"
   ]
  },
  {
   "cell_type": "code",
   "execution_count": null,
   "metadata": {},
   "outputs": [],
   "source": []
  }
 ],
 "metadata": {
  "kernelspec": {
   "display_name": "Python 3",
   "language": "python",
   "name": "python3"
  },
  "language_info": {
   "codemirror_mode": {
    "name": "ipython",
    "version": 3
   },
   "file_extension": ".py",
   "mimetype": "text/x-python",
   "name": "python",
   "nbconvert_exporter": "python",
   "pygments_lexer": "ipython3",
   "version": "3.6.5"
  }
 },
 "nbformat": 4,
 "nbformat_minor": 2
}
