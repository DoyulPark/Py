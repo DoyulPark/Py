{
  "nbformat": 4,
  "nbformat_minor": 0,
  "metadata": {
    "kernelspec": {
      "display_name": "Python 3",
      "language": "python",
      "name": "python3"
    },
    "language_info": {
      "codemirror_mode": {
        "name": "ipython",
        "version": 3
      },
      "file_extension": ".py",
      "mimetype": "text/x-python",
      "name": "python",
      "nbconvert_exporter": "python",
      "pygments_lexer": "ipython3",
      "version": "3.6.5"
    },
    "colab": {
      "name": "pandas_5_diabetes.ipynb",
      "provenance": [],
      "collapsed_sections": [],
      "include_colab_link": true
    }
  },
  "cells": [
    {
      "cell_type": "markdown",
      "metadata": {
        "id": "view-in-github",
        "colab_type": "text"
      },
      "source": [
        "<a href=\"https://colab.research.google.com/github/Redwoods/Py/blob/master/pdm2020/my-note/py-pandas/pandas_5_diabetes.ipynb\" target=\"_parent\"><img src=\"https://colab.research.google.com/assets/colab-badge.svg\" alt=\"Open In Colab\"/></a>"
      ]
    },
    {
      "cell_type": "markdown",
      "metadata": {
        "id": "nOvJjCFrkWDc"
      },
      "source": [
        "# **Analyzing Pima-Indians-Diabetes-Data** \n",
        "\n",
        "> https://medium.com/@soumen.atta/analyzing-pima-indians-diabetes-data-using-python-89a021b5f4eb"
      ]
    },
    {
      "cell_type": "code",
      "metadata": {
        "_cell_guid": "8e27055d-7b00-49f6-b0e8-f53ff433ddca",
        "_uuid": "1e1e2b84-2d40-497b-92bd-f238f939cfa8",
        "id": "WUOW3NKRkWDd"
      },
      "source": [
        "# Load the required packages \n",
        "import numpy as np \n",
        "import pandas as pd \n",
        "from pandas import read_csv\n",
        "import matplotlib.pyplot as plt"
      ],
      "execution_count": null,
      "outputs": []
    },
    {
      "cell_type": "markdown",
      "metadata": {
        "id": "TcfPniN2kWDg"
      },
      "source": [
        "**Load CSV file using Pandas**"
      ]
    },
    {
      "cell_type": "code",
      "metadata": {
        "id": "Ahd9x_NVkWDg"
      },
      "source": [
        "# Specify the file name \n",
        "url = \"https://github.com/Redwoods/Py/raw/master/pdm2020/my-note/py-pandas/data/diabetes.csv\"\n",
        "filename = url\n",
        "# filename = 'diabetes.csv'  # access to local file\n",
        "\n",
        "# Read the data \n",
        "data = read_csv(filename) \n",
        "\n",
        "# Print the shape \n",
        "data.shape"
      ],
      "execution_count": null,
      "outputs": []
    },
    {
      "cell_type": "code",
      "metadata": {
        "id": "q_g68MTvkWDi"
      },
      "source": [
        "# Print the first 5 rows \n",
        "data.head()"
      ],
      "execution_count": null,
      "outputs": []
    },
    {
      "cell_type": "markdown",
      "metadata": {
        "id": "Vqbwj7wcSY9D"
      },
      "source": [
        "> https://medium.com/@soumen.atta/analyzing-pima-indians-diabetes-data-using-python-89a021b5f4eb"
      ]
    },
    {
      "cell_type": "code",
      "metadata": {
        "id": "9qmPso5bkWDk"
      },
      "source": [
        "# Show the type of 'data'\n",
        "type(data) "
      ],
      "execution_count": null,
      "outputs": []
    },
    {
      "cell_type": "code",
      "metadata": {
        "id": "-9BU8QlOkWDm"
      },
      "source": [
        "# Get the column names \n",
        "col_idx = data.columns\n",
        "col_idx"
      ],
      "execution_count": null,
      "outputs": []
    },
    {
      "cell_type": "code",
      "metadata": {
        "id": "4C-uWWUGkWDo"
      },
      "source": [
        "# Get row indices \n",
        "row_idx = data.index\n",
        "print(row_idx)"
      ],
      "execution_count": null,
      "outputs": []
    },
    {
      "cell_type": "code",
      "metadata": {
        "id": "h_AQV2q6kWDp"
      },
      "source": [
        "# Find data type for each attribute \n",
        "print(\"Data type of each attribute:\")\n",
        "data.dtypes"
      ],
      "execution_count": null,
      "outputs": []
    },
    {
      "cell_type": "code",
      "metadata": {
        "id": "w3G3Jj0Al7UX"
      },
      "source": [
        "data.info()"
      ],
      "execution_count": null,
      "outputs": []
    },
    {
      "cell_type": "markdown",
      "metadata": {
        "id": "rWoRa2VqSkHI"
      },
      "source": [
        "## Check data\n",
        "- null\n",
        "- NaN"
      ]
    },
    {
      "cell_type": "code",
      "metadata": {
        "id": "whrqReP4mOhl"
      },
      "source": [
        "# Check NaN\n",
        "data.isna().sum()\n",
        "# data.isnull().sum()"
      ],
      "execution_count": null,
      "outputs": []
    },
    {
      "cell_type": "markdown",
      "metadata": {
        "id": "bwZrd7nlkWDr"
      },
      "source": [
        "**Descriptive Statistics using Pandas**  \n",
        "\n",
        "The *describe()* function on the Pandas DataFrame lists 8 statistical properties of each attribute. They are:\n",
        "\n",
        "Count,\n",
        "Mean,\n",
        "Standard Deviation,\n",
        "Minimum Value,\n",
        "25th Percentile,\n",
        "50th Percentile (Median),\n",
        "75th Percentile,\n",
        "Maximum Value. "
      ]
    },
    {
      "cell_type": "code",
      "metadata": {
        "id": "xL38eauKkWDs"
      },
      "source": [
        "# Generate statistical summary \n",
        "description = data.describe()\n",
        "print(\"Statistical summary of the data:\\n\")\n",
        "description"
      ],
      "execution_count": null,
      "outputs": []
    },
    {
      "cell_type": "markdown",
      "metadata": {
        "id": "66tzHOe3S1-1"
      },
      "source": [
        "# EDA (Exploratory Data Analysis)\n",
        "- 탐색적 데이터 분석\n",
        "- https://medium.com/mighty-data-science-bootcamp/eda-%EB%8D%B0%EC%9D%B4%ED%84%B0-%EC%84%A4%EB%AA%85%EC%84%9C%EC%97%90%EC%84%9C-%EC%8B%9C%EC%9E%91%ED%95%98%EA%B8%B0-230060b9fc17"
      ]
    },
    {
      "cell_type": "markdown",
      "metadata": {
        "id": "9dTenN_akWDt"
      },
      "source": [
        "**Distribution of the *Outcome* attribute**\n",
        "\n",
        "The data considered here is an example of a classification data. We can get an idea of the distribution of the *Outcome* attribute in Pandas. "
      ]
    },
    {
      "cell_type": "code",
      "metadata": {
        "id": "HSAFW8JBkWDu"
      },
      "source": [
        "class_counts = data.groupby('Outcome').size() \n",
        "print(\"Class breakdown of the data:\\n\")\n",
        "print(class_counts)"
      ],
      "execution_count": null,
      "outputs": []
    },
    {
      "cell_type": "code",
      "metadata": {
        "id": "xqxT4WIemf1h"
      },
      "source": [
        "v,c=np.unique(data['Outcome'], return_counts=True)\n",
        "v,c"
      ],
      "execution_count": null,
      "outputs": []
    },
    {
      "cell_type": "markdown",
      "metadata": {
        "id": "YM8hZzbBkWDv"
      },
      "source": [
        "Therefore, there are a total of 768 entries in the dataset. The outcome variable is set to 1 for 268 entries, and the rest are set to 0. "
      ]
    },
    {
      "cell_type": "markdown",
      "metadata": {
        "id": "lFnY03s7kWDw"
      },
      "source": [
        "**Correlation between all pairs of attributes:** \n",
        "\n",
        "We can use the *corr()* function on the Pandas DataFrame to calculate a correlation matrix. For calculating correlation, Pearson’s Correlation Coefficient is used here. *Pearson’s Correlation Coefficient* assumes a normal distribution of the attributes involved. A correlation of -1 or 1 shows a full negative or positive correlation respectively. On the other hand, a value of 0 shows no correlation at all. "
      ]
    },
    {
      "cell_type": "code",
      "metadata": {
        "id": "wrlxUaEokWDw"
      },
      "source": [
        "# Compute correlation matrix \n",
        "correlations = data.corr(method = 'pearson') \n",
        "print(\"Correlations of attributes in the data:\\n\") \n",
        "correlations"
      ],
      "execution_count": null,
      "outputs": []
    },
    {
      "cell_type": "code",
      "metadata": {
        "id": "eEmCodKcuJ1N"
      },
      "source": [
        "np.max(correlations),np.min(correlations)"
      ],
      "execution_count": null,
      "outputs": []
    },
    {
      "cell_type": "code",
      "metadata": {
        "id": "YLex1rdIuUoX"
      },
      "source": [
        "correlations.max(),correlations.min()"
      ],
      "execution_count": null,
      "outputs": []
    },
    {
      "cell_type": "code",
      "metadata": {
        "id": "jl_EvXHcqsBU"
      },
      "source": [
        "data.columns"
      ],
      "execution_count": null,
      "outputs": []
    },
    {
      "cell_type": "code",
      "metadata": {
        "id": "6e7yqYpJnbIN"
      },
      "source": [
        "fig, ax = plt.subplots(1,1,figsize=(10,8))\n",
        "img = ax.imshow(correlations,cmap='hot',interpolation='nearest')\n",
        "ax.set_xticklabels(data.columns)\n",
        "# plt.xticks(rotation=90)\n",
        "ax.set_yticklabels(data.columns)\n",
        "fig.colorbar(img)\n",
        "plt.show()"
      ],
      "execution_count": null,
      "outputs": []
    },
    {
      "cell_type": "markdown",
      "metadata": {
        "id": "5sNyiVOHkWDx"
      },
      "source": [
        "**Skew of attribute distributions** \n",
        "\n",
        "The skew of each attribute can be calculated using the *skew()* function on the Pandas DataFrame. "
      ]
    },
    {
      "cell_type": "code",
      "metadata": {
        "id": "3Fmb4-oAkWDy"
      },
      "source": [
        "skew = data.skew() \n",
        "print(\"Skew of attribute distributions in the data:\\n\") \n",
        "skew"
      ],
      "execution_count": null,
      "outputs": []
    },
    {
      "cell_type": "markdown",
      "metadata": {
        "id": "bDWaHK9SkWD0"
      },
      "source": [
        "A positive value represents a right-skewed distribution, and a negative value denotes a left-skewed distribution. Values closer to zero correspond to less skewed distribution. "
      ]
    },
    {
      "cell_type": "markdown",
      "metadata": {
        "id": "bjAayfnskWD0"
      },
      "source": [
        "# Visualizing data using Pandas\n",
        "\n",
        "Now, we visualize data using Python's Pandas library. We discuss both univariate plots and multivariate plots using Pandas. "
      ]
    },
    {
      "cell_type": "markdown",
      "metadata": {
        "id": "KNtJhQg_kWD0"
      },
      "source": [
        "**Univariate plots:** \n",
        "\n",
        "* Histograms.\n",
        "* Density Plots.\n",
        "* Box and Whisker Plots.  "
      ]
    },
    {
      "cell_type": "markdown",
      "metadata": {
        "id": "X_f-j3m2kWD1"
      },
      "source": [
        "**Histograms** \n",
        "\n",
        "The distribution of each attribute can easily be visualized by ploting histograms. "
      ]
    },
    {
      "cell_type": "code",
      "metadata": {
        "id": "zif_UhQdkWD1"
      },
      "source": [
        "plt.rcParams['figure.figsize'] = [12, 10]; # set the figure size \n",
        "\n",
        "# Draw histograms for all attributes \n",
        "data.hist()\n",
        "plt.show()"
      ],
      "execution_count": null,
      "outputs": []
    },
    {
      "cell_type": "markdown",
      "metadata": {
        "id": "1AjIHm6HkWD2"
      },
      "source": [
        "**Density Plots**\n",
        "\n",
        "Another way to visualize the distribution of each attribute is density plots. "
      ]
    },
    {
      "cell_type": "code",
      "metadata": {
        "id": "Hd6liRW9kWD3"
      },
      "source": [
        "# Density plots for all attributes\n",
        "data.plot(kind='density', subplots=True, layout=(3,3), sharex=False)\n",
        "plt.show()"
      ],
      "execution_count": null,
      "outputs": []
    },
    {
      "cell_type": "markdown",
      "metadata": {
        "id": "PoehbKsPkWD4"
      },
      "source": [
        "**Box and Whisker Plots** \n",
        "\n",
        "Box and Whisker Plots (or simply, boxplots) is used to visualize the distribution of each attribute, drawing a line for the median (middle value) and a box around the 25th and 75th percentiles (the middle 50% of the data). The whiskers give an idea of the spread of the data, and dots outside of the whiskers show candidate outlier values (values that are 1.5 times greater than the size of the spread of the middle 50% of the data)."
      ]
    },
    {
      "cell_type": "code",
      "metadata": {
        "id": "UJpnE4V7kWD4"
      },
      "source": [
        "# Draw box and whisker plots for all attributes \n",
        "data.plot(kind= 'box', subplots=True, layout=(3,3), sharex=False, sharey=False)\n",
        "plt.show()"
      ],
      "execution_count": null,
      "outputs": []
    },
    {
      "cell_type": "markdown",
      "metadata": {
        "id": "T-0xbqFokWD6"
      },
      "source": [
        "**Multivariate Plots:**\n",
        "\n",
        "* Correlation Matrix Plot\n",
        "* Scatter Plot Matrix "
      ]
    },
    {
      "cell_type": "markdown",
      "metadata": {
        "id": "AAoNS714kWD6"
      },
      "source": [
        "**Correlation Matrix Plot**\n",
        "\n",
        "We can use the *corr()* function on the Pandas DataFrame to calculate a correlation matrix. For calculating correlation, *Pearson’s Correlation Coefficient* is used here. Pearson’s Correlation Coefficient assumes a normal distribution of the attributes involved. A correlation of -1 or 1 shows a full negative or positive correlation respectively. On the other hand, a value of 0 shows no correlation at all."
      ]
    },
    {
      "cell_type": "code",
      "metadata": {
        "id": "T05arVk0kWD7"
      },
      "source": [
        "# Compute the correlation matrix \n",
        "correlations = data.corr(method = 'pearson') # Correlations between all pairs of attributes\n",
        "# Print the datatype \n",
        "type(correlations)\n",
        "# Show the correlation matrix \n",
        "correlations"
      ],
      "execution_count": null,
      "outputs": []
    },
    {
      "cell_type": "code",
      "metadata": {
        "id": "OUl9r0cUkWD8"
      },
      "source": [
        "# import required package \n",
        "# import numpy as np \n",
        "\n",
        "# plot correlation matrix\n",
        "fig = plt.figure()\n",
        "ax = fig.add_subplot(111)\n",
        "cax = ax.matshow(correlations, vmin=-1, vmax=1) #, cmap='coolwarm' )\n",
        "fig.colorbar(cax)\n",
        "ticks = np.arange(0,9,1)\n",
        "ax.set_xticks(ticks)\n",
        "ax.set_yticks(ticks)\n",
        "names = data.columns\n",
        "ax.set_xticklabels(names)#,rotation=90) # Rotate x-tick labels by 90 degrees \n",
        "ax.set_yticklabels(names)\n",
        "plt.show()"
      ],
      "execution_count": null,
      "outputs": []
    },
    {
      "cell_type": "markdown",
      "metadata": {
        "id": "kWrAWcLBkWD-"
      },
      "source": [
        "**Scatter Plot Matrix**\n",
        "\n",
        "A scatter plot shows the relationship between two variables as dots in two dimensions, one axis for each attribute. Drawing all these scatter plots together is called a scatter plot matrix. Scatter plots are useful for spotting structured relationships between variables. Attributes with structured relationships may also be correlated, and good candidates for removal from your dataset."
      ]
    },
    {
      "cell_type": "code",
      "metadata": {
        "id": "CsJxwQ9ukWD-"
      },
      "source": [
        "# Import required package \n",
        "from pandas.plotting import scatter_matrix\n",
        "plt.rcParams['figure.figsize'] = [12, 12]\n",
        "\n",
        "# Plotting Scatterplot Matrix\n",
        "scatter_matrix(data)\n",
        "plt.show()"
      ],
      "execution_count": null,
      "outputs": []
    },
    {
      "cell_type": "markdown",
      "metadata": {
        "id": "Zw4LFgA3uFyH"
      },
      "source": [
        "## seaborn\n",
        "> Good visualization module"
      ]
    },
    {
      "cell_type": "code",
      "metadata": {
        "id": "BYLyE9mbubBn"
      },
      "source": [
        "import seaborn as sns"
      ],
      "execution_count": null,
      "outputs": []
    },
    {
      "cell_type": "code",
      "metadata": {
        "id": "WU395d6Yt95S"
      },
      "source": [
        "# Correlation plot\n",
        "# plot the heatmap\n",
        "# plt.plot(figsize=(10,10))\n",
        "sns.heatmap(correlations, \n",
        "        xticklabels=data.columns,\n",
        "        yticklabels=data.columns,\n",
        "        vmin= -1, vmax=1.0)\n",
        "plt.show()"
      ],
      "execution_count": null,
      "outputs": []
    },
    {
      "cell_type": "code",
      "metadata": {
        "id": "YUnndHHquvgY"
      },
      "source": [
        "# Scatter plot\n",
        "# import seaborn as sns\n",
        "sns.pairplot(data)"
      ],
      "execution_count": null,
      "outputs": []
    },
    {
      "cell_type": "code",
      "metadata": {
        "id": "YDrUtW3HwUyf"
      },
      "source": [
        ""
      ],
      "execution_count": null,
      "outputs": []
    }
  ]
}