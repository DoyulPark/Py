{
  "nbformat": 4,
  "nbformat_minor": 0,
  "metadata": {
    "kernelspec": {
      "display_name": "Python 3",
      "language": "python",
      "name": "python3"
    },
    "language_info": {
      "codemirror_mode": {
        "name": "ipython",
        "version": 3
      },
      "file_extension": ".py",
      "mimetype": "text/x-python",
      "name": "python",
      "nbconvert_exporter": "python",
      "pygments_lexer": "ipython3",
      "version": "3.7.5"
    },
    "colab": {
      "name": "diabetes_EDA.ipynb",
      "provenance": [],
      "collapsed_sections": [],
      "include_colab_link": true
    }
  },
  "cells": [
    {
      "cell_type": "markdown",
      "metadata": {
        "id": "view-in-github",
        "colab_type": "text"
      },
      "source": [
        "<a href=\"https://colab.research.google.com/github/Redwoods/Py/blob/master/pdm2020/my-note/pz-project/diabetes_EDA.ipynb\" target=\"_parent\"><img src=\"https://colab.research.google.com/assets/colab-badge.svg\" alt=\"Open In Colab\"/></a>"
      ]
    },
    {
      "cell_type": "markdown",
      "metadata": {
        "id": "TizEKpAH5ot_"
      },
      "source": [
        "# EDA of Pima diabetes data\n",
        "- Exploratory Data Analysis\n",
        "- > https://medium.com/@soumen.atta/analyzing-pima-indians-diabetes-data-using-python-89a021b5f4eb"
      ]
    },
    {
      "cell_type": "markdown",
      "metadata": {
        "id": "hqNBWWoc5ouA"
      },
      "source": [
        "## 1. Importing Libraries"
      ]
    },
    {
      "cell_type": "code",
      "metadata": {
        "id": "z1bHD2kR5ouA"
      },
      "source": [
        "import numpy as np\n",
        "import matplotlib.pyplot as plt\n",
        "import pandas as pd\n",
        "import seaborn as sns"
      ],
      "execution_count": null,
      "outputs": []
    },
    {
      "cell_type": "markdown",
      "metadata": {
        "id": "jmm88g2K5ouD"
      },
      "source": [
        "## 2. Data Collection"
      ]
    },
    {
      "cell_type": "code",
      "metadata": {
        "id": "ssiB1u3u5ouD"
      },
      "source": [
        "# Get the data from github\n",
        "url = \"https://github.com/Redwoods/Py/raw/master/pdm2020/my-note/py-pandas/data/diabetes.csv\"\n",
        "df = pd.read_csv(url)"
      ],
      "execution_count": null,
      "outputs": []
    },
    {
      "cell_type": "code",
      "metadata": {
        "id": "7zS1dsHG5ouF"
      },
      "source": [
        "df.shape"
      ],
      "execution_count": null,
      "outputs": []
    },
    {
      "cell_type": "code",
      "metadata": {
        "id": "YCLb-g7Y5ouI"
      },
      "source": [
        "df.head()"
      ],
      "execution_count": null,
      "outputs": []
    },
    {
      "cell_type": "markdown",
      "metadata": {
        "id": "LqkFdwo-5ouK"
      },
      "source": [
        "### Ckeck & cleaning data\n",
        "- Check the NaN or missing values\n",
        "- Clean the null data"
      ]
    },
    {
      "cell_type": "code",
      "metadata": {
        "id": "DZ3GTdsx5ouK"
      },
      "source": [
        "#CHECK FOR NULL VALUES\n",
        "df.isnull().values.any(), df.isna().sum()"
      ],
      "execution_count": null,
      "outputs": []
    },
    {
      "cell_type": "code",
      "metadata": {
        "id": "QbeyHYm75ouM"
      },
      "source": [
        "# Drop unused columns, and drop rows with any missing values.\n",
        "print(df.shape)\n",
        "vars = df.columns\n",
        "print(vars)\n",
        "df = df[vars].dropna()\n",
        "df.shape"
      ],
      "execution_count": null,
      "outputs": []
    },
    {
      "cell_type": "markdown",
      "metadata": {
        "id": "oG1cRO9r5ouO"
      },
      "source": [
        "## 3. Explore Data"
      ]
    },
    {
      "cell_type": "code",
      "metadata": {
        "id": "QvbwA5yp5ouP"
      },
      "source": [
        "df.describe()"
      ],
      "execution_count": null,
      "outputs": []
    },
    {
      "cell_type": "code",
      "metadata": {
        "id": "2mS6Jlfk5ouR"
      },
      "source": [
        "df.head()"
      ],
      "execution_count": null,
      "outputs": []
    },
    {
      "cell_type": "code",
      "metadata": {
        "id": "oXks98WP5ouS"
      },
      "source": [
        "df.info()"
      ],
      "execution_count": null,
      "outputs": []
    },
    {
      "cell_type": "markdown",
      "metadata": {
        "id": "KgSI7Z7G5ouU"
      },
      "source": [
        "### Check the balance of classes in the data through plot"
      ]
    },
    {
      "cell_type": "code",
      "metadata": {
        "id": "SenReF5g5ouV"
      },
      "source": [
        "# Check the balance of the data through plot\n",
        "classes=df.Outcome\n",
        "ax=sns.countplot(classes, label='count')\n",
        "nDB,DB=classes.value_counts()\n",
        "print('False: non-diabetes',nDB)\n",
        "print('True: diabetes',DB)"
      ],
      "execution_count": null,
      "outputs": []
    },
    {
      "cell_type": "code",
      "metadata": {
        "id": "B_rRC1F45ouW"
      },
      "source": [
        "classes.value_counts(), type(classes)"
      ],
      "execution_count": null,
      "outputs": []
    },
    {
      "cell_type": "markdown",
      "metadata": {
        "id": "Iw1vi-a25ouY"
      },
      "source": [
        "***"
      ]
    },
    {
      "cell_type": "markdown",
      "metadata": {
        "id": "KNtJhQg_kWD0"
      },
      "source": [
        "### **Univariate plots:** \n",
        "\n",
        "* Histograms.\n",
        "* Density Plots.\n",
        "* Box and Whisker Plots.  "
      ]
    },
    {
      "cell_type": "markdown",
      "metadata": {
        "id": "X_f-j3m2kWD1"
      },
      "source": [
        "**Histograms** \n",
        "\n",
        "The distribution of each attribute can easily be visualized by ploting histograms. "
      ]
    },
    {
      "cell_type": "code",
      "metadata": {
        "id": "zif_UhQdkWD1"
      },
      "source": [
        "plt.rcParams['figure.figsize'] = [12, 10]; # set the figure size \n",
        "\n",
        "# Draw histograms for all attributes \n",
        "df.hist()\n",
        "plt.show()"
      ],
      "execution_count": null,
      "outputs": []
    },
    {
      "cell_type": "markdown",
      "metadata": {
        "id": "1AjIHm6HkWD2"
      },
      "source": [
        "**Density Plots**\n",
        "\n",
        "Another way to visualize the distribution of each attribute is density plots. "
      ]
    },
    {
      "cell_type": "code",
      "metadata": {
        "id": "Hd6liRW9kWD3"
      },
      "source": [
        "# Density plots for all attributes\n",
        "df.plot(kind='density', subplots=True, layout=(3,3), sharex=False)\n",
        "plt.show()"
      ],
      "execution_count": null,
      "outputs": []
    },
    {
      "cell_type": "markdown",
      "metadata": {
        "id": "PoehbKsPkWD4"
      },
      "source": [
        "**Box and Whisker Plots** \n",
        "\n",
        "Box and Whisker Plots (or simply, boxplots) is used to visualize the distribution of each attribute."
      ]
    },
    {
      "cell_type": "code",
      "metadata": {
        "id": "UJpnE4V7kWD4"
      },
      "source": [
        "# Draw box and whisker plots for all attributes \n",
        "df.plot(kind= 'box', subplots=True, layout=(3,3), sharex=False, sharey=False)\n",
        "plt.show()"
      ],
      "execution_count": null,
      "outputs": []
    },
    {
      "cell_type": "markdown",
      "metadata": {
        "id": "Wcjlm7Ek5oug"
      },
      "source": [
        "***"
      ]
    },
    {
      "cell_type": "markdown",
      "metadata": {
        "id": "T-0xbqFokWD6"
      },
      "source": [
        "## **Multivariate Plots:**\n",
        "\n",
        "* Correlation Matrix Plot\n",
        "* Scatter Plot Matrix "
      ]
    },
    {
      "cell_type": "markdown",
      "metadata": {
        "id": "qJ1NOSuO5oug"
      },
      "source": [
        "### correlation plot"
      ]
    },
    {
      "cell_type": "code",
      "metadata": {
        "id": "Lw-8hBci5oug"
      },
      "source": [
        "#correlation plot\n",
        "cormat=df.corr()\n",
        "plt.figure(figsize=(12,10))\n",
        "g=sns.heatmap(df.corr(),annot=True,cmap='coolwarm', #cmap= \"RdYlGn\",\n",
        "             vmin=-1, vmax=1)"
      ],
      "execution_count": null,
      "outputs": []
    },
    {
      "cell_type": "markdown",
      "metadata": {
        "id": "Dh47FcyL5oui"
      },
      "source": [
        "### 상관성 분석 결과\n",
        "* Age vs. Pregnancies : 0.54\n",
        "* Glucose vs. Outcome : 0.47\n",
        "* SkinThickness vs. Insulin : 0.44\n",
        "* SkinThickness vs. BMI : 0.39\n",
        "\n",
        "> ### **[DIY-1] 상관성이 높은 변수들에 대한 좀 더 자세한 시각화가 필요하다.**"
      ]
    },
    {
      "cell_type": "markdown",
      "metadata": {
        "id": "kWrAWcLBkWD-"
      },
      "source": [
        "**Scatter Plot Matrix**\n",
        "\n",
        "A scatter plot shows the relationship between two variables as dots in two dimensions, one axis for each attribute."
      ]
    },
    {
      "cell_type": "code",
      "metadata": {
        "id": "CsJxwQ9ukWD-"
      },
      "source": [
        "# Import required package \n",
        "from pandas.plotting import scatter_matrix\n",
        "plt.rcParams['figure.figsize'] = [12, 12]\n",
        "\n",
        "# Plotting Scatterplot Matrix\n",
        "scatter_matrix(df)\n",
        "plt.show()"
      ],
      "execution_count": null,
      "outputs": []
    },
    {
      "cell_type": "code",
      "metadata": {
        "id": "38a2uC8x5oul"
      },
      "source": [
        "df.columns"
      ],
      "execution_count": null,
      "outputs": []
    },
    {
      "cell_type": "code",
      "metadata": {
        "id": "fwpuJzrw5oum"
      },
      "source": [
        "df.info()"
      ],
      "execution_count": null,
      "outputs": []
    },
    {
      "cell_type": "code",
      "metadata": {
        "id": "YUnndHHquvgY"
      },
      "source": [
        "# Scatter plot\n",
        "# import seaborn as sns\n",
        "sns.pairplot(df) #, hue=\"Outcome\") #, markers=[\"o\", \"s\"]) #,palette=\"husl\")"
      ],
      "execution_count": null,
      "outputs": []
    },
    {
      "cell_type": "code",
      "metadata": {
        "id": "BIunzK8S5ouq"
      },
      "source": [
        "# Scatter plot\n",
        "# import seaborn as sns\n",
        "df_temp = df.copy()\n",
        "df_temp['Outcome'] = df_temp['Outcome'].replace([0, 1],['noDM', 'DM'])\n",
        "sns.pairplot(df_temp, hue='Outcome') #, hue=\"Outcome\") #, markers=[\"o\", \"s\"]) #,palette=\"husl\")"
      ],
      "execution_count": null,
      "outputs": []
    },
    {
      "cell_type": "code",
      "metadata": {
        "id": "Q_ER-tPS5ous"
      },
      "source": [
        "df_temp['Outcome'].value_counts()"
      ],
      "execution_count": null,
      "outputs": []
    },
    {
      "cell_type": "code",
      "metadata": {
        "id": "mD-9yM9N5ouu"
      },
      "source": [
        "df.columns"
      ],
      "execution_count": null,
      "outputs": []
    },
    {
      "cell_type": "markdown",
      "metadata": {
        "id": "GBFZ2hLp5ouw"
      },
      "source": [
        "### [DIY] 상관성이 높은 변수들에 대한 좀 더 자세한 시각화"
      ]
    },
    {
      "cell_type": "markdown",
      "metadata": {
        "id": "XnGkm-1s5ouw"
      },
      "source": [
        "#### 상관성이 높은 6개의 특성에 대한 산포도"
      ]
    },
    {
      "cell_type": "code",
      "metadata": {
        "id": "Bf8gOAZB5ouw"
      },
      "source": [
        "high_corr = ['Pregnancies', 'Glucose', 'SkinThickness', 'Insulin', 'BMI','Age', 'Outcome']"
      ],
      "execution_count": null,
      "outputs": []
    },
    {
      "cell_type": "code",
      "metadata": {
        "id": "IeanyKRv5ouy"
      },
      "source": [
        "# Scatter plot\n",
        "# import seaborn as sns\n",
        "df_temp = df.copy()\n",
        "df_temp['Outcome'] = df_temp['Outcome'].replace([0, 1],['noDM', 'DM'])\n",
        "sns.pairplot(df_temp[high_corr], hue='Outcome') "
      ],
      "execution_count": null,
      "outputs": []
    },
    {
      "cell_type": "code",
      "metadata": {
        "id": "mPusEdbo5ou0"
      },
      "source": [
        "highest_corr = ['Pregnancies', 'Age', 'Outcome']"
      ],
      "execution_count": null,
      "outputs": []
    },
    {
      "cell_type": "code",
      "metadata": {
        "id": "KevHHHyx5ou1"
      },
      "source": [
        "# Scatter plot\n",
        "# import seaborn as sns\n",
        "df_temp = df.copy()\n",
        "df_temp['Outcome'] = df_temp['Outcome'].replace([0, 1],['noDM', 'DM'])\n",
        "sns.pairplot(df_temp[highest_corr], hue='Outcome') "
      ],
      "execution_count": null,
      "outputs": []
    },
    {
      "cell_type": "markdown",
      "metadata": {
        "id": "2iHKjbOa5ou3"
      },
      "source": [
        "***"
      ]
    },
    {
      "cell_type": "markdown",
      "metadata": {
        "id": "ijKqTMBJ5ou3"
      },
      "source": [
        "## Advanced plots\n",
        "### voiline plot by grouping data of columns\n",
        "* Standarization of data (Normalization)"
      ]
    },
    {
      "cell_type": "code",
      "metadata": {
        "id": "5lAcabXv5ou3"
      },
      "source": [
        "df_n=(df-df.mean())/df.std()\n",
        "df_n"
      ],
      "execution_count": null,
      "outputs": []
    },
    {
      "cell_type": "code",
      "metadata": {
        "id": "1mhCb6475ou5"
      },
      "source": [
        "# voiline plot by grouping data of columns\n",
        "# Standarization of data (Normalization)\n",
        "df_n=(df-df.mean())/df.std()\n",
        "# data_std=(data-data.mean())/data.std()\n",
        "y=df.Outcome\n",
        "df2=pd.concat([y, df_n.iloc[:,0:8]], axis=1)\n",
        "y.shape,df2.shape"
      ],
      "execution_count": null,
      "outputs": []
    },
    {
      "cell_type": "code",
      "metadata": {
        "id": "sWI8OhXy5ou7"
      },
      "source": [
        "df3=pd.melt(df2,id_vars='Outcome', var_name='features',value_name='values')\n",
        "df3.head(), df3.shape"
      ],
      "execution_count": null,
      "outputs": []
    },
    {
      "cell_type": "markdown",
      "metadata": {
        "id": "WDCCaI0n5ou8"
      },
      "source": [
        "### pandas melt() \n",
        "- https://rfriend.tistory.com/278"
      ]
    },
    {
      "cell_type": "code",
      "metadata": {
        "id": "0riWGMb55ou-"
      },
      "source": [
        "plt.figure(figsize=(10,10))\n",
        "sns.violinplot(x='features', y='values', hue='Outcome', data=df3, split=True, inner='quart')\n",
        "plt.xticks(rotation=45);"
      ],
      "execution_count": null,
      "outputs": []
    },
    {
      "cell_type": "code",
      "metadata": {
        "id": "CGD0uaLf5ou_"
      },
      "source": [
        "#customizing seaborn plot\n",
        "sns.set(style='whitegrid', palette='muted')\n",
        "# use df3 dataframe\n",
        "# data=pd.concat([y, data_std.iloc[:,0:8]], axis=1)\n",
        "# data=pd.melt(data,id_vars='Outcome', var_name='features',value_name='values')\n",
        "plt.figure(figsize=(10,10))\n",
        "sns.swarmplot(x='features', y='values', hue='Outcome', data=df3)\n",
        "plt.xticks(rotation=45);"
      ],
      "execution_count": null,
      "outputs": []
    }
  ]
}