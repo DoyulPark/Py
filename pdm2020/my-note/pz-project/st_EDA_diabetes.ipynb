{
  "nbformat": 4,
  "nbformat_minor": 0,
  "metadata": {
    "colab": {
      "name": "st_EDA_diabetes.ipynb",
      "provenance": [],
      "collapsed_sections": [],
      "include_colab_link": true
    },
    "kernelspec": {
      "name": "python3",
      "display_name": "Python 3"
    }
  },
  "cells": [
    {
      "cell_type": "markdown",
      "metadata": {
        "id": "view-in-github",
        "colab_type": "text"
      },
      "source": [
        "<a href=\"https://colab.research.google.com/github/Redwoods/Py/blob/master/pdm2020/my-note/pz-project/st_EDA_diabetes.ipynb\" target=\"_parent\"><img src=\"https://colab.research.google.com/assets/colab-badge.svg\" alt=\"Open In Colab\"/></a>"
      ]
    },
    {
      "cell_type": "markdown",
      "metadata": {
        "id": "O5Gq5ZnKOKpX"
      },
      "source": [
        "\n",
        "\n",
        "# streamlit\n",
        "\n",
        "- WebApp generation module\n",
        "- !pip install -q stereamlit\n",
        "- !pip install pyngrok\n",
        "\n",
        "- Run webapp in Colab\n",
        "    * make streamlit python code\n",
        "    * !streamlit run *.py &>/dev/null&\n",
        "\n",
        "> [How to run streamlit app in colab?](https://mc.ai/how-to-run-and-share-your-deep-learning-web-app-on-colab-2/)"
      ]
    },
    {
      "cell_type": "code",
      "metadata": {
        "id": "R8l0okryNgBJ"
      },
      "source": [
        "!pip install streamlit"
      ],
      "execution_count": null,
      "outputs": []
    },
    {
      "cell_type": "code",
      "metadata": {
        "id": "7kz92O-cUf5v"
      },
      "source": [
        "!pip install pyngrok"
      ],
      "execution_count": null,
      "outputs": []
    },
    {
      "cell_type": "markdown",
      "metadata": {
        "id": "qGIbFpyabeYG"
      },
      "source": [
        "### st-project-1-diabetes\n",
        "- load diabetes data\n",
        "- show dataframe\n",
        "- EDA\n",
        "    - Histogram\n",
        "    - Boxplot\n",
        "    - Correlation\n",
        "    - Heatmap\n",
        "    \n",
        "\n"
      ]
    },
    {
      "cell_type": "markdown",
      "metadata": {
        "id": "RFQf7xGBoWTg"
      },
      "source": [
        "### streamlit code\n",
        "- st_EDA_diabetes.py\n",
        "\n",
        "```\n",
        "import streamlit as st\n",
        "import pandas as pd\n",
        "import matplotlib.pyplot as plt\n",
        "import seaborn as sns\n",
        "import plotly.express as px\n",
        "\n",
        "st.sidebar.header('EDA: Pima diabetes') \n",
        "st.sidebar.subheader('Visualization using seaborn and plotly')\n",
        "\n",
        "# Get the data\n",
        "df = pd.read_csv(\"https://github.com/Redwoods/Py/raw/master/pdm2020/my-note/py-pandas/data/diabetes.csv\")\n",
        "df['Outcome'] = df['Outcome'].apply(lambda x: 'DM' if x == 1 else 'noDM')\n",
        "\n",
        "classes=df.Outcome\n",
        "noDB,DB=classes.value_counts()\n",
        "st.sidebar.write('non-diabetes(noDM):',noDB)\n",
        "st.sidebar.write('diabetes(DM):',DB)\n",
        "# st.sidebar.write('***')\n",
        "fig0 = plt.figure(figsize=(4,3))\n",
        "sns.countplot(classes, label='count', palette=dict(noDM = 'g', DM = 'r'))\n",
        "st.sidebar.write(fig0)\n",
        "\n",
        "st.subheader(f'Data Information: shape = {df.shape}')\n",
        "st.write(f'##### features = {list(df.columns)[:-1]}')\n",
        "st.write(f'##### classes = {pd.unique(classes)}')\n",
        "st.write('***')\n",
        "# Show the data as a table (you can also use st.write(df))\n",
        "st.dataframe(df)\n",
        "# Get statistics on the data\n",
        "# st.write(df.describe())\n",
        "    \n",
        "# histogram with plotly\n",
        "st.header(\"Histogram\")\n",
        "## multi-column layput\n",
        "row0_1, row0_space2, row0_2 = st.beta_columns(\n",
        "    (1, .1, 1))\n",
        "\n",
        "with row0_1: \n",
        "    hist_x = st.selectbox(\"Select a feature\", options=df.columns, index=df.columns.get_loc(\"Pregnancies\"))\n",
        "        \n",
        "with row0_2: \n",
        "    bar_mode = st.selectbox(\"Select barmode\", [\"relative\", \"group\"], 0)\n",
        "\n",
        "hist_bins = st.slider(label=\"Histogram bins\", min_value=5, max_value=50, value=25, step=1, key='h1')\n",
        "# hist_cats = df['Outcome'].sort_values().unique()\n",
        "hist_cats = df[hist_x].sort_values().unique()\n",
        "hist_fig1 = px.histogram(df, x=hist_x, nbins=hist_bins, \n",
        "                         title=\"Histogram of \" + hist_x,\n",
        "                         template=\"plotly_white\", \n",
        "                         color='Outcome', \n",
        "                         barmode=bar_mode, \n",
        "                         color_discrete_map=dict(noDM = 'green', DM = 'red'),  \n",
        "                         category_orders={hist_x: hist_cats}) \n",
        "st.write(hist_fig1)\n",
        "\n",
        "\n",
        "# boxplots\n",
        "st.header(\"Boxplot\")\n",
        "st.subheader(\"With a categorical variable - Outcome [noDM, DM]\")\n",
        "## multi-column layout\n",
        "row1_1, row1_space2, row1_2 = st.beta_columns(\n",
        "    (1, .1, 1))\n",
        "\n",
        "with row1_1: \n",
        "    box_x = st.selectbox(\"Boxplot variable\", options=df.columns, index=df.columns.get_loc(\"Age\"))\n",
        "        \n",
        "with row1_2: \n",
        "    box_cat = st.selectbox(\"Categorical variable\", [\"Outcome\"], 0)\n",
        "\n",
        "st.write(\"Hint - try comparison w.r.t Catagories\")\n",
        "box_fig = px.box(df, x=box_cat, y=box_x, title=\"Box plot of \" + box_x, color='Outcome', \n",
        "                        color_discrete_map=dict(noDM = 'green', DM = 'red'), \n",
        "                        template=\"plotly_white\") \n",
        "st.write(box_fig)\n",
        "\n",
        "# Correlations\n",
        "## multi-column layput\n",
        "st.header(\"Correlations\")\n",
        "row2_1, row2_space2, row2_2 = st.beta_columns((1, .1, 1))\n",
        "\n",
        "with row2_1: \n",
        "    corr_x = st.selectbox(\"Correlation - X variable\", options=df.columns, index=df.columns.get_loc(\"Age\"))\n",
        "        \n",
        "with row2_2: \n",
        "    corr_y = st.selectbox(\"Correlation - Y variable\", options=df.columns, index=df.columns.get_loc(\"Pregnancies\"))\n",
        "\n",
        "corr2_fig = px.scatter(df, x=corr_x, y=corr_y, \n",
        "                            color='Outcome', \n",
        "                            color_discrete_map=dict(noDM = 'green', DM = 'red'), \n",
        "                            template=\"plotly_white\")\n",
        "st.write(corr2_fig)\n",
        "\n",
        "# heatmap\n",
        "st.subheader('Heatmap of correlation')\n",
        "fig4 = plt.figure(figsize=(6,5))\n",
        "sns.heatmap(df.corr(),annot=True, vmin=-1, vmax=1, cmap='coolwarm')\n",
        "st.pyplot(fig4)\n",
        "# st.write(fig4)\n",
        "\n",
        "# correlation heatmap\n",
        "st.subheader('Heatmap of selected parameters')\n",
        "fig5 = plt.figure(figsize=(5,4))\n",
        "hmap_params = st.multiselect(\"Select parameters to include on heatmap\", options=list(df.columns), default=[p for p in df.columns if \"Outcome\" not in p])\n",
        "sns.heatmap(df[hmap_params].corr(), annot=True, vmin=-1, vmax=1, cmap='coolwarm')\n",
        "st.pyplot(fig5)\n",
        "\n",
        "```"
      ]
    },
    {
      "cell_type": "markdown",
      "metadata": {
        "id": "h7biQEfHSq0p"
      },
      "source": [
        "### Run streamlit code\n",
        "- st_EDA_diabetes.py"
      ]
    },
    {
      "cell_type": "code",
      "metadata": {
        "id": "WLwyAK0xV_yu"
      },
      "source": [
        "!streamlit run st_EDA_diabetes.py &>/dev/null&\n",
        "# !nohub streamlit run st_EDA_diabetes.py &"
      ],
      "execution_count": null,
      "outputs": []
    },
    {
      "cell_type": "code",
      "metadata": {
        "id": "skY8LbNNV_wO"
      },
      "source": [
        "# from pyngrok import ngrok\n",
        "# !ngrok http 80"
      ],
      "execution_count": null,
      "outputs": []
    },
    {
      "cell_type": "code",
      "metadata": {
        "id": "SJRONSuiX4gJ"
      },
      "source": [
        "from pyngrok import ngrok\n",
        "# Setup a tunnel to the streamlit port 8501\n",
        "public_url = ngrok.connect(port='8501')\n",
        "public_url"
      ],
      "execution_count": null,
      "outputs": []
    },
    {
      "cell_type": "markdown",
      "metadata": {
        "id": "FC3swKJMr3OL"
      },
      "source": [
        "### [중요 공지 사항]  pyngrok이 제대로 동작하지 않는 문제가 발생하였습니다.\n",
        "\n",
        "* 다음과 같이 python cmd (명령입력창)에서 streamlit을 실행하는 방법을 안내합니다.\n",
        "\n",
        "1. anaconda를 파이썬 3 버전으로 설치한다.\n",
        "2. anaconda prompt(명령입력창)를 연다.\n",
        "3. anaconda prompt에서 streamlit, plotly 설치\n",
        "    - pip install streamlit\n",
        "    - pip install plotly\n",
        "4. seaborn, pandas, matplotlib도 설치가 필요하면 설치\n",
        "    - pip install seaborn\n",
        "    - pip install pandas\n",
        "    - pip install matplotlib\n",
        "\n",
        "5. 현재 폴더에 st_EDA_diabetes.py 를 복사\n",
        "    - 위에 준비된 코드를 복사해서 사용.\n",
        "6. st_EDA_diabetes.py 실행\n",
        "    - streamlit run st_EDA_diabetes.py\n",
        "\n",
        "> ### vscode를 설치하면, vscode에서 소스 편집과 실행을 동시에 할 수 있습니다.\n",
        "    - vscode에 파이썬 확장팩을 설치하여서 시용."
      ]
    },
    {
      "cell_type": "markdown",
      "metadata": {
        "id": "t7CpOdeFttzY"
      },
      "source": [
        "***"
      ]
    }
  ]
}