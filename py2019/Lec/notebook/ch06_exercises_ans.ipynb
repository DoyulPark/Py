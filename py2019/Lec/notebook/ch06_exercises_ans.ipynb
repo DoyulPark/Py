{
  "nbformat": 4,
  "nbformat_minor": 0,
  "metadata": {
    "colab": {
      "name": "ch06_exercises_ans.ipynb",
      "provenance": [],
      "collapsed_sections": [],
      "include_colab_link": true
    },
    "kernelspec": {
      "name": "python3",
      "display_name": "Python 3"
    }
  },
  "cells": [
    {
      "cell_type": "markdown",
      "metadata": {
        "id": "view-in-github",
        "colab_type": "text"
      },
      "source": [
        "<a href=\"https://colab.research.google.com/github/Redwoods/Py/blob/master/py2019/Lec/notebook/ch06_exercises_ans.ipynb\" target=\"_parent\"><img src=\"https://colab.research.google.com/assets/colab-badge.svg\" alt=\"Open In Colab\"/></a>"
      ]
    },
    {
      "cell_type": "markdown",
      "metadata": {
        "id": "5AgSzc_wyCRH",
        "colab_type": "text"
      },
      "source": [
        "## 6장. 파이썬 프로그래밍 연습과 도전"
      ]
    },
    {
      "cell_type": "markdown",
      "metadata": {
        "id": "UhMenc5sjvUW",
        "colab_type": "text"
      },
      "source": [
        "### **06-1 내가 프로그램을 만들 수 있을까?**"
      ]
    },
    {
      "cell_type": "code",
      "metadata": {
        "id": "e2Rs4vtYjs4a",
        "colab_type": "code",
        "outputId": "d9d3ecec-4844-4672-b240-155b219450b1",
        "colab": {
          "base_uri": "https://localhost:8080/",
          "height": 35
        }
      },
      "source": [
        "def GuGu(n):\n",
        "    result = []\n",
        "    i = 1\n",
        "    while i < 10:\n",
        "        result.append(n * i)\n",
        "        i = i + 1\n",
        "    return result\n",
        "\n",
        "print(GuGu(2))"
      ],
      "execution_count": 0,
      "outputs": [
        {
          "output_type": "stream",
          "text": [
            "[2, 4, 6, 8, 10, 12, 14, 16, 18]\n"
          ],
          "name": "stdout"
        }
      ]
    },
    {
      "cell_type": "code",
      "metadata": {
        "id": "3AMTSzsMkDPU",
        "colab_type": "code",
        "outputId": "71a50ea5-293b-4e86-9dd5-cf41e4a7c9bc",
        "colab": {
          "base_uri": "https://localhost:8080/",
          "height": 35
        }
      },
      "source": [
        "def GuGu(n):\n",
        "  result =[]\n",
        "  i= 1\n",
        "  for i in range(1,10):\n",
        "    result.append(n*i)\n",
        "  return result\n",
        "\n",
        "print(GuGu(2))"
      ],
      "execution_count": 0,
      "outputs": [
        {
          "output_type": "stream",
          "text": [
            "[2, 4, 6, 8, 10, 12, 14, 16, 18]\n"
          ],
          "name": "stdout"
        }
      ]
    },
    {
      "cell_type": "code",
      "metadata": {
        "id": "EiXUZpRQkZiT",
        "colab_type": "code",
        "outputId": "eb3f8e24-34f5-4e1d-b311-f80113516823",
        "colab": {
          "base_uri": "https://localhost:8080/",
          "height": 35
        }
      },
      "source": [
        "  # 리스트 내포를 이용\n",
        "  def GuGu(n):\n",
        "    return [i*n for i in range(1,10)]\n",
        "  \n",
        "print(GuGu(2))"
      ],
      "execution_count": 0,
      "outputs": [
        {
          "output_type": "stream",
          "text": [
            "[2, 4, 6, 8, 10, 12, 14, 16, 18]\n"
          ],
          "name": "stdout"
        }
      ]
    },
    {
      "cell_type": "code",
      "metadata": {
        "id": "iTp4qXrwlFWb",
        "colab_type": "code",
        "outputId": "76e59968-24a8-4c46-e476-1856747674d5",
        "colab": {
          "base_uri": "https://localhost:8080/",
          "height": 35
        }
      },
      "source": [
        "# map()과 lambda를 이용\n",
        "def GuGu(n):\n",
        "  return list(map(lambda a:a*n,range(1,10)))\n",
        "\n",
        "print(GuGu(2))"
      ],
      "execution_count": 0,
      "outputs": [
        {
          "output_type": "stream",
          "text": [
            "[2, 4, 6, 8, 10, 12, 14, 16, 18]\n"
          ],
          "name": "stdout"
        }
      ]
    },
    {
      "cell_type": "markdown",
      "metadata": {
        "id": "sdpmKwhmof1P",
        "colab_type": "text"
      },
      "source": [
        "### **06-2 3과 5의 배수 합하기**"
      ]
    },
    {
      "cell_type": "code",
      "metadata": {
        "id": "iSVPI9nwnsDk",
        "colab_type": "code",
        "outputId": "62ef403a-74e0-4567-f7ce-cc9e199c27f1",
        "colab": {
          "base_uri": "https://localhost:8080/",
          "height": 35
        }
      },
      "source": [
        "result = 0\n",
        "for n in range(1, 1000):\n",
        "    if n % 3 == 0 or n % 5 == 0: \n",
        "        result += n\n",
        "print(result)"
      ],
      "execution_count": 0,
      "outputs": [
        {
          "output_type": "stream",
          "text": [
            "233168\n"
          ],
          "name": "stdout"
        }
      ]
    },
    {
      "cell_type": "code",
      "metadata": {
        "id": "btOxHmtIpXC-",
        "colab_type": "code",
        "outputId": "799d49b7-0daa-43c1-d8f4-0ad991b41401",
        "colab": {
          "base_uri": "https://localhost:8080/",
          "height": 35
        }
      },
      "source": [
        "i=1\n",
        "result=0\n",
        "while i < 1000:\n",
        "  if i%3==0 or i %5 ==0:\n",
        "    result += i\n",
        "  i=i+1\n",
        "\n",
        "print(result)"
      ],
      "execution_count": 0,
      "outputs": [
        {
          "output_type": "stream",
          "text": [
            "233168\n"
          ],
          "name": "stdout"
        }
      ]
    },
    {
      "cell_type": "code",
      "metadata": {
        "id": "Fn7WE3_Zp41l",
        "colab_type": "code",
        "outputId": "ff2cd900-d763-4283-d76c-c5b81d8b73c6",
        "colab": {
          "base_uri": "https://localhost:8080/",
          "height": 35
        }
      },
      "source": [
        "# 리스트 내포를 이용\n",
        "sum([num for num in range(1,1000) if num % 3== 0 or num % 5 ==0])"
      ],
      "execution_count": 0,
      "outputs": [
        {
          "output_type": "execute_result",
          "data": {
            "text/plain": [
              "233168"
            ]
          },
          "metadata": {
            "tags": []
          },
          "execution_count": 45
        }
      ]
    },
    {
      "cell_type": "code",
      "metadata": {
        "id": "OqOBVFG0rDvn",
        "colab_type": "code",
        "outputId": "48ce1648-6859-40e9-e9de-8bcc1550596f",
        "colab": {
          "base_uri": "https://localhost:8080/",
          "height": 35
        }
      },
      "source": [
        "# filter()와 lambda를 이용\n",
        "sum(list(filter(lambda num: num % 3 ==0 or num % 5==0 ,range(1,1000))))"
      ],
      "execution_count": 1,
      "outputs": [
        {
          "output_type": "execute_result",
          "data": {
            "text/plain": [
              "233168"
            ]
          },
          "metadata": {
            "tags": []
          },
          "execution_count": 1
        }
      ]
    },
    {
      "cell_type": "markdown",
      "metadata": {
        "id": "N2G8oDBRsroj",
        "colab_type": "text"
      },
      "source": [
        "### **06-3 게시판 페이징하기**"
      ]
    },
    {
      "cell_type": "code",
      "metadata": {
        "id": "dKsUoJuMrqxM",
        "colab_type": "code",
        "outputId": "ad0e6a98-429a-4a68-b247-afa60212c330",
        "colab": {
          "base_uri": "https://localhost:8080/",
          "height": 90
        }
      },
      "source": [
        "def getTotalPage(m, n):\n",
        "    if m % n == 0:\n",
        "        return m // n\n",
        "    else:\n",
        "        return m // n + 1\n",
        "\n",
        "print(getTotalPage(5, 10))\n",
        "print(getTotalPage(15, 10))\n",
        "print(getTotalPage(25, 10))\n",
        "print(getTotalPage(30, 10))"
      ],
      "execution_count": 0,
      "outputs": [
        {
          "output_type": "stream",
          "text": [
            "1\n",
            "2\n",
            "3\n",
            "3\n"
          ],
          "name": "stdout"
        }
      ]
    },
    {
      "cell_type": "code",
      "metadata": {
        "id": "C-ojpw6RsxZD",
        "colab_type": "code",
        "outputId": "7960b74c-40ce-4e8e-cf13-541e28a7bad4",
        "colab": {
          "base_uri": "https://localhost:8080/",
          "height": 90
        }
      },
      "source": [
        "def getTotalPage1(m,n):\n",
        "  if m<= n:return 1\n",
        "  elif m%n==0 :return m//n\n",
        "  else:  return m//n + 1\n",
        "\n",
        "print(getTotalPage1(5,10))\n",
        "print(getTotalPage1(15,10))\n",
        "print(getTotalPage1(25,10))\n",
        "print(getTotalPage1(30,10))"
      ],
      "execution_count": 0,
      "outputs": [
        {
          "output_type": "stream",
          "text": [
            "1\n",
            "2\n",
            "3\n",
            "3\n"
          ],
          "name": "stdout"
        }
      ]
    },
    {
      "cell_type": "code",
      "metadata": {
        "id": "4Jh2FZOCt-nP",
        "colab_type": "code",
        "outputId": "e4114631-5393-49a7-c52e-167cd87c2d41",
        "colab": {
          "base_uri": "https://localhost:8080/",
          "height": 90
        }
      },
      "source": [
        "def getTotalPage2(m,n):\n",
        "  if m%n >0 and m%n < n: return m//n+1\n",
        "  else: return m//n\n",
        "\n",
        "print(getTotalPage2(5,10))\n",
        "print(getTotalPage2(15,10))\n",
        "print(getTotalPage2(25,10))\n",
        "print(getTotalPage2(30,10))"
      ],
      "execution_count": 0,
      "outputs": [
        {
          "output_type": "stream",
          "text": [
            "1\n",
            "2\n",
            "3\n",
            "3\n"
          ],
          "name": "stdout"
        }
      ]
    },
    {
      "cell_type": "code",
      "metadata": {
        "id": "QeBTeS6mzfGj",
        "colab_type": "code",
        "colab": {
          "base_uri": "https://localhost:8080/",
          "height": 89
        },
        "outputId": "f0a81096-324b-4d0a-e672-61aecf1129ca"
      },
      "source": [
        "def getTotalPage3(m,n):\n",
        "  return (m - 1) // n + 1\n",
        "\n",
        "print(getTotalPage3(5,10))\n",
        "print(getTotalPage3(15,10))\n",
        "print(getTotalPage3(25,10))\n",
        "print(getTotalPage3(30,10))"
      ],
      "execution_count": 2,
      "outputs": [
        {
          "output_type": "stream",
          "text": [
            "1\n",
            "2\n",
            "3\n",
            "3\n"
          ],
          "name": "stdout"
        }
      ]
    },
    {
      "cell_type": "markdown",
      "metadata": {
        "id": "14p4pk5Jydt3",
        "colab_type": "text"
      },
      "source": [
        "### **06-4 간단한 메모장 만들기**\n",
        "- 메모 추가는 –a 옵션을 사용하고 메모 출력은 –v 옵션을 사용\n",
        "---\n",
        "#### 왼쪽 파일 탭을 이용한다.\n",
        "- 파일탭을 열고 빈곳에서 오른 마우스를 클릭하여 \"새파일\"로 파일을 연다.\n",
        "- 아래 memo.py를 입력하고 저장한다.\n",
        "\n",
        "#### 실행\n",
        "- run memo.py -a \"Life is too short\"\n",
        "- run memo.py -v\n"
      ]
    },
    {
      "cell_type": "markdown",
      "metadata": {
        "id": "9dCA2_8W4eic",
        "colab_type": "text"
      },
      "source": [
        "```\n",
        "#memo.py\n",
        "import sys\n",
        "\n",
        "option = sys.argv[1]\n",
        "\n",
        "if option == '-a':\n",
        "    memo = sys.argv[2]\n",
        "    f = open('memo.txt', 'a')\n",
        "    f.write(memo)\n",
        "    f.write('\\n')\n",
        "    f.close()\n",
        "elif option == '-v':\n",
        "    f = open('memo.txt')\n",
        "    memo = f.read()\n",
        "    f.close()\n",
        "    print(memo)\n",
        "```"
      ]
    },
    {
      "cell_type": "code",
      "metadata": {
        "id": "8yX8HBNMzsOR",
        "colab_type": "code",
        "colab": {}
      },
      "source": [
        "run memo.py -a \"Life is too short\""
      ],
      "execution_count": 0,
      "outputs": []
    },
    {
      "cell_type": "code",
      "metadata": {
        "id": "shXyCgYHzzzQ",
        "colab_type": "code",
        "colab": {}
      },
      "source": [
        "run memo.py -a \"You need python\""
      ],
      "execution_count": 0,
      "outputs": []
    },
    {
      "cell_type": "code",
      "metadata": {
        "id": "VNnBDbj5z22I",
        "colab_type": "code",
        "outputId": "965cba50-53c2-4b1e-d025-15e5df13ecc3",
        "colab": {
          "base_uri": "https://localhost:8080/",
          "height": 71
        }
      },
      "source": [
        "run memo.py -v "
      ],
      "execution_count": 5,
      "outputs": [
        {
          "output_type": "stream",
          "text": [
            "Life is too short\n",
            "You need python\n",
            "\n"
          ],
          "name": "stdout"
        }
      ]
    },
    {
      "cell_type": "markdown",
      "metadata": {
        "id": "rjy3GM0U2yY0",
        "colab_type": "text"
      },
      "source": [
        "### **06-5 탭을 4개의 공백으로 바꾸기**\n",
        "- 문서 파일을 읽어서 그 문서 파일 안에 있는 탭(tab)을 공백(space) 4개로 바꾸어 새 파일로 저장하는 스크립트를 작성\n",
        "---\n",
        "#### 왼쪽 파일 탭을 이용한다.\n",
        "- 파일탭을 열고 빈곳에서 오른 마우스를 클릭하여 \"새파일\"로 파일을 연다.\n",
        "- a.txt를 탭을 이용하여 작성하고 저장한다.\n",
        "\n",
        "```\n",
        "Life    is  too short\n",
        "You need    python\n",
        "```\n",
        "\n",
        "- 아래 tabto4.py를 입력하고 저장한다.\n",
        "\n",
        "#### 실행\n",
        "- run tabto4.py a.txt b.txt"
      ]
    },
    {
      "cell_type": "markdown",
      "metadata": {
        "id": "txO8UfNq4Ygq",
        "colab_type": "text"
      },
      "source": [
        "```\n",
        "\n",
        "# tabto4.py\n",
        "import sys\n",
        "\n",
        "src = sys.argv[1]\n",
        "dst = sys.argv[2]\n",
        "\n",
        "f = open(src)\n",
        "tab_content = f.read()\n",
        "f.close()\n",
        "\n",
        "space_content = tab_content.replace(\"\\t\", \" \"*4) #\\t 가 안되서 /t로 돌림\n",
        "\n",
        "f = open(dst, 'w')\n",
        "f.write(space_content)\n",
        "f.close()\n",
        "\n",
        "```"
      ]
    },
    {
      "cell_type": "code",
      "metadata": {
        "id": "ThHFv2HB3csQ",
        "colab_type": "code",
        "colab": {}
      },
      "source": [
        "run tabto4.py a.txt b.txt"
      ],
      "execution_count": 0,
      "outputs": []
    },
    {
      "cell_type": "code",
      "metadata": {
        "id": "wYMULSXJ9OLL",
        "colab_type": "code",
        "outputId": "cd0a799d-6e39-466b-e266-7feb75d4481e",
        "colab": {
          "base_uri": "https://localhost:8080/",
          "height": 53
        }
      },
      "source": [
        "f= open(\"a.txt\",\"r\")\n",
        "print(f.read())\n",
        "f.close()"
      ],
      "execution_count": 9,
      "outputs": [
        {
          "output_type": "stream",
          "text": [
            "Life    is  too short.\n",
            "You need    Python.\n"
          ],
          "name": "stdout"
        }
      ]
    },
    {
      "cell_type": "code",
      "metadata": {
        "id": "FXkhCSrA3heT",
        "colab_type": "code",
        "outputId": "621c1430-4fa1-427f-c894-796eec276a3b",
        "colab": {
          "base_uri": "https://localhost:8080/",
          "height": 53
        }
      },
      "source": [
        "f= open(\"b.txt\",\"r\")\n",
        "print(f.read())\n",
        "f.close()"
      ],
      "execution_count": 10,
      "outputs": [
        {
          "output_type": "stream",
          "text": [
            "Life    is  too short.\n",
            "You need    Python.\n"
          ],
          "name": "stdout"
        }
      ]
    },
    {
      "cell_type": "markdown",
      "metadata": {
        "id": "G1deu6-xXK2j",
        "colab_type": "text"
      },
      "source": [
        "### **06-6 하위 디렉터리 검색하기**\n",
        "- 특정 디렉터리부터 시작해서 그 하위 모든 파일 중 파이썬 파일(*.py)만 출력해 주는 프로그램을 만들려면 어떻게 해야 할까?\n",
        "---\n",
        "#### 왼쪽 파일 탭을 이용한다.\n",
        "- 파일탭을 열고 빈곳에서 오른 마우스를 클릭하여 \"새파일\"로 파일을 연다.\n",
        "- 아래 search.py를 입력하고 저장한다.\n",
        "\n",
        "#### 실행\n",
        "- run search.py"
      ]
    },
    {
      "cell_type": "markdown",
      "metadata": {
        "id": "bfouOEoX5rrN",
        "colab_type": "text"
      },
      "source": [
        "```\n",
        "# search.py\n",
        "import os\n",
        "\n",
        "def search(dirname):\n",
        "    try:\n",
        "        filenames = os.listdir(dirname)\n",
        "        for filename in filenames:\n",
        "            full_filename = os.path.join(dirname, filename)\n",
        "            if os.path.isdir(full_filename):\n",
        "                search(full_filename)\n",
        "            else:\n",
        "                ext = os.path.splitext(full_filename)[-1]\n",
        "                if ext == '.py': \n",
        "                    print(full_filename)\n",
        "    except PermissionError:\n",
        "        pass\n",
        "\n",
        "search(\"./\")\n",
        "```"
      ]
    },
    {
      "cell_type": "code",
      "metadata": {
        "id": "PQYnNaQv9cNf",
        "colab_type": "code",
        "outputId": "1ba22d90-109b-45b2-ba1c-4e3eced11553",
        "colab": {
          "base_uri": "https://localhost:8080/",
          "height": 71
        }
      },
      "source": [
        "run search.py"
      ],
      "execution_count": 12,
      "outputs": [
        {
          "output_type": "stream",
          "text": [
            "./memo.py\n",
            "./tabto4.py\n",
            "./search.py\n"
          ],
          "name": "stdout"
        }
      ]
    },
    {
      "cell_type": "markdown",
      "metadata": {
        "id": "jfa9QT316Tl6",
        "colab_type": "text"
      },
      "source": [
        "#### 추가 코드 [참고]"
      ]
    },
    {
      "cell_type": "code",
      "metadata": {
        "id": "2js1evjX-tN9",
        "colab_type": "code",
        "outputId": "decb41f1-3bcc-4cd0-d3fa-37f05da973f4",
        "colab": {
          "base_uri": "https://localhost:8080/",
          "height": 71
        }
      },
      "source": [
        "import os\n",
        "\n",
        "def search(dirname):\n",
        "    try:\n",
        "        filenames = os.listdir(dirname)\n",
        "        for filename in filenames:\n",
        "            full_filename = os.path.join(dirname, filename)\n",
        "            if os.path.isdir(full_filename):\n",
        "                search(full_filename)\n",
        "            else:\n",
        "                ext = os.path.splitext(full_filename)[-1]\n",
        "                if ext == '.txt': \n",
        "                    print(full_filename)\n",
        "    except PermissionError:\n",
        "        pass\n",
        "\n",
        "search(\"/content\")"
      ],
      "execution_count": 13,
      "outputs": [
        {
          "output_type": "stream",
          "text": [
            "/content/b.txt\n",
            "/content/a.txt\n",
            "/content/memo.txt\n"
          ],
          "name": "stdout"
        }
      ]
    },
    {
      "cell_type": "code",
      "metadata": {
        "id": "M8jRixDw5NqM",
        "colab_type": "code",
        "outputId": "8d6a09be-1f0e-4954-a613-406cc85e855a",
        "colab": {
          "base_uri": "https://localhost:8080/",
          "height": 71
        }
      },
      "source": [
        "import os\n",
        "\n",
        "for (path, dir, files) in os.walk(\"/content\"):\n",
        "    for filename in files:\n",
        "        ext = os.path.splitext(filename)[-1]\n",
        "        if ext == '.py':\n",
        "            print(\"%s/%s\" % (path, filename))"
      ],
      "execution_count": 15,
      "outputs": [
        {
          "output_type": "stream",
          "text": [
            "/content/memo.py\n",
            "/content/tabto4.py\n",
            "/content/search.py\n"
          ],
          "name": "stdout"
        }
      ]
    },
    {
      "cell_type": "code",
      "metadata": {
        "id": "RIFGSTKs-xfo",
        "colab_type": "code",
        "outputId": "09cc0b6e-ed80-426b-ffc1-953d15c45657",
        "colab": {
          "base_uri": "https://localhost:8080/",
          "height": 71
        }
      },
      "source": [
        "import os\n",
        "\n",
        "for (path, dir, files) in os.walk(\"/content\"):\n",
        "    for filename in files:\n",
        "        ext = os.path.splitext(filename)[-1]\n",
        "        if ext == '.txt':\n",
        "            print(\"%s/%s\" % (path, filename))"
      ],
      "execution_count": 16,
      "outputs": [
        {
          "output_type": "stream",
          "text": [
            "/content/b.txt\n",
            "/content/a.txt\n",
            "/content/memo.txt\n"
          ],
          "name": "stdout"
        }
      ]
    },
    {
      "cell_type": "markdown",
      "metadata": {
        "id": "L8c8LhHX-11B",
        "colab_type": "text"
      },
      "source": [
        "**================= 통합 =====================**"
      ]
    },
    {
      "cell_type": "code",
      "metadata": {
        "id": "4O1IGkn7-57K",
        "colab_type": "code",
        "outputId": "aab12276-b981-4d64-e22e-161528e9fbdb",
        "colab": {
          "base_uri": "https://localhost:8080/",
          "height": 126
        }
      },
      "source": [
        "import os\n",
        "\n",
        "def search(dirname):\n",
        "    try:\n",
        "        filenames = os.listdir(dirname)\n",
        "        for filename in filenames:\n",
        "            full_filename = os.path.join(dirname, filename)\n",
        "            if os.path.isdir(full_filename):\n",
        "                search(full_filename)\n",
        "            else:\n",
        "                ext = os.path.splitext(full_filename)[-1]\n",
        "                if ext == '.py': \n",
        "                    print(full_filename)\n",
        "                if ext == '.txt':\n",
        "                    print(full_filename)\n",
        "    except PermissionError:\n",
        "        pass\n",
        "\n",
        "search(\"/content\")"
      ],
      "execution_count": 17,
      "outputs": [
        {
          "output_type": "stream",
          "text": [
            "/content/memo.py\n",
            "/content/b.txt\n",
            "/content/tabto4.py\n",
            "/content/a.txt\n",
            "/content/memo.txt\n",
            "/content/search.py\n"
          ],
          "name": "stdout"
        }
      ]
    },
    {
      "cell_type": "code",
      "metadata": {
        "id": "gHXeKnLU-_-m",
        "colab_type": "code",
        "outputId": "f853e9a2-2e67-4387-d74b-a1152c11c202",
        "colab": {
          "base_uri": "https://localhost:8080/",
          "height": 126
        }
      },
      "source": [
        "import os\n",
        "\n",
        "for (path, dir, files) in os.walk(\"/content\"):\n",
        "    for filename in files:\n",
        "        ext = os.path.splitext(filename)[-1]\n",
        "        if ext == '.py':\n",
        "            print(\"%s/%s\" % (path, filename))\n",
        "        if ext == '.txt':\n",
        "            print(\"%s/%s\" % (path, filename))"
      ],
      "execution_count": 18,
      "outputs": [
        {
          "output_type": "stream",
          "text": [
            "/content/memo.py\n",
            "/content/b.txt\n",
            "/content/tabto4.py\n",
            "/content/a.txt\n",
            "/content/memo.txt\n",
            "/content/search.py\n"
          ],
          "name": "stdout"
        }
      ]
    },
    {
      "cell_type": "code",
      "metadata": {
        "id": "s6-pJCqP_iZ0",
        "colab_type": "code",
        "colab": {}
      },
      "source": [
        ""
      ],
      "execution_count": 0,
      "outputs": []
    }
  ]
}