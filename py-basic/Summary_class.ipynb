{
  "nbformat": 4,
  "nbformat_minor": 0,
  "metadata": {
    "colab": {
      "name": "Summary_class",
      "version": "0.3.2",
      "provenance": [],
      "collapsed_sections": [],
      "include_colab_link": true
    },
    "kernelspec": {
      "name": "python3",
      "display_name": "Python 3"
    }
  },
  "cells": [
    {
      "cell_type": "markdown",
      "metadata": {
        "id": "view-in-github",
        "colab_type": "text"
      },
      "source": [
        "<a href=\"https://colab.research.google.com/github/Redwoods/Py/blob/master/py-basic/Summary_class.ipynb\" target=\"_parent\"><img src=\"https://colab.research.google.com/assets/colab-badge.svg\" alt=\"Open In Colab\"/></a>"
      ]
    },
    {
      "metadata": {
        "id": "WrXOvxHLFomh",
        "colab_type": "text"
      },
      "cell_type": "markdown",
      "source": [
        "## 클래스, 예외처리, with\n",
        "\n",
        "> https://www.youtube.com/watch?v=5Xy5Ju7hYo4  (youtube 강의를 jupyter note로 요약함.)\n",
        "\n",
        "> https://github.com/joohayoung/py-15/blob/master/Summary_class_py15.ipynb (참고 노트)\n",
        "\n",
        "> https://github.com/hellokena/py-02/blob/master/Summary_class.ipynb (참고 노트)\n"
      ]
    },
    {
      "metadata": {
        "id": "W9AsS-_DXA2J",
        "colab_type": "text"
      },
      "cell_type": "markdown",
      "source": [
        "### [youtube 강의 원본 (class, exception, with)](https://www.youtube.com/watch?v=5Xy5Ju7hYo4)"
      ]
    },
    {
      "metadata": {
        "id": "yiBG8RUJW_sb",
        "colab_type": "code",
        "colab": {}
      },
      "cell_type": "code",
      "source": [
        "from IPython.lib.display import YouTubeVideo\n",
        "YouTubeVideo('5Xy5Ju7hYo4')  # 파이썬 클래스, 예외처리, with"
      ],
      "execution_count": 0,
      "outputs": []
    },
    {
      "metadata": {
        "id": "rdLSBRtLc-rS",
        "colab_type": "text"
      },
      "cell_type": "markdown",
      "source": [
        "\n",
        "\n",
        "---\n",
        "\n"
      ]
    },
    {
      "metadata": {
        "id": "uoOXxQtRcv2g",
        "colab_type": "toc"
      },
      "cell_type": "markdown",
      "source": [
        ">>[클래스, 예외처리, with](#scrollTo=WrXOvxHLFomh)\n",
        "\n",
        ">>>[youtube 강의 원본 (class, exception, with)](#scrollTo=W9AsS-_DXA2J)\n",
        "\n",
        ">>>[클래스 (class)](#scrollTo=ODk8EYexYvDv)\n",
        "\n",
        ">>>>[클래스 변수와 클래스 메소드](#scrollTo=q6ja-ixjZ0BU)\n",
        "\n",
        ">>>>[변수/메소드 은닉 (private property and private method)](#scrollTo=2XSHy7NNbUNs)\n",
        "\n",
        ">>>>[전역 메소드 (global method)](#scrollTo=cEaSg3BDcYKW)\n",
        "\n",
        ">>>[예외처리 (exception)](#scrollTo=LFpuZUG7Lpy-)\n",
        "\n",
        ">>>[with 구문](#scrollTo=jRbjQeyvMvLV)\n",
        "\n",
        ">>>>[일반적인 파일 처리 (읽기)](#scrollTo=r5lNjrssfRK7)\n",
        "\n",
        ">>>>[with로 파일 처리 (읽기)](#scrollTo=p_Gg3QdaflUh)\n",
        "\n"
      ]
    },
    {
      "metadata": {
        "id": "ODk8EYexYvDv",
        "colab_type": "text"
      },
      "cell_type": "markdown",
      "source": [
        "### 클래스 (class)\n",
        "\n",
        "*   파이썬 클래스에서는 init 메서드가 생성자(constructor) 역할을 수행하며, 인스턴스가 만들어 질 때 한번만 호출됨\n",
        "\n",
        "*   파이썬에서는 클래스 메서드의 첫번째 인수로 '자신의 인스턴스'를 나태내는 self를 반드시 기술해야 함\n",
        "\n",
        "*   기본적으로 파이썬에서는 메서드와 속성 모두 public"
      ]
    },
    {
      "metadata": {
        "id": "qgopQIgGFRxP",
        "colab_type": "code",
        "colab": {}
      },
      "cell_type": "code",
      "source": [
        "class Person:\n",
        "  def __init__(self, name):           # 생성자- 인스턴스가 만들어 질때 한번만 호출\n",
        "    self.name=name\n",
        "    print(self.name+\" is initialized\")\n",
        "    \n",
        "  def work(self, company):           # 메서드- 인스턴스에 지원되는 함수\n",
        "    print(self.name+\" is working in\" + company)\n",
        "    \n",
        "  def sleep(self):\n",
        "    print(self.name+ \" is sleeping\")\n"
      ],
      "execution_count": 0,
      "outputs": []
    },
    {
      "metadata": {
        "id": "5NnD8U_ZGZId",
        "colab_type": "code",
        "colab": {}
      },
      "cell_type": "code",
      "source": [
        "# Person instance 생성\n",
        "obj=Person(\"PARK\")"
      ],
      "execution_count": 0,
      "outputs": []
    },
    {
      "metadata": {
        "id": "OZ9u4ETnGhVA",
        "colab_type": "code",
        "colab": {}
      },
      "cell_type": "code",
      "source": [
        "# call methods\n",
        "obj.work(\"ABCDEF\")\n",
        "obj.sleep()"
      ],
      "execution_count": 0,
      "outputs": []
    },
    {
      "metadata": {
        "id": "aQKcN_0sGnTh",
        "colab_type": "code",
        "colab": {}
      },
      "cell_type": "code",
      "source": [
        "# 속성에 직접 접근, 기본적으로 파이썬에서는 모두 public\n",
        "print(\"Current person object is\", obj.name)"
      ],
      "execution_count": 0,
      "outputs": []
    },
    {
      "metadata": {
        "id": "q6ja-ixjZ0BU",
        "colab_type": "text"
      },
      "cell_type": "markdown",
      "source": [
        "#### 클래스 변수와 클래스 메소드\n",
        "\n",
        "*   클래스 변수(class variable)는 해당 클래스로 생성된 모든 인스턴스가 공통으로 사용하는 변수임.\n",
        "\n",
        "   => 클래스 변수는 클래스 내외부에서 \"클래스명.클래스 변수명\"으로 접근 할 수 있음\n",
        "   \n",
        "*   클래스 메서드(class method)는 메서드 앞에 @classmethod를 반드시 표시하여 해당 메서드가 클래스 메서드임을 표시함.\n",
        "\n",
        "   => 클래스 메서드는 객체 인스턴스를 의미하는 self 대신 **cls** 라는 클래스를 의미하는 파라미터를 인수로 전달받음"
      ]
    },
    {
      "metadata": {
        "id": "ASaXn0EUGs7Q",
        "colab_type": "code",
        "colab": {}
      },
      "cell_type": "code",
      "source": [
        "class Person:\n",
        "  count =0              # class variable(클래스 변수)- 인스턴스가 사용하는 공통변수\n",
        "  \n",
        "  def __init__(self, name):\n",
        "    self.name=name\n",
        "    Person.count+=1                 # class 변수 count 증가\n",
        "    print(self.name + \" is initialized\")\n",
        "    \n",
        "  def work(self,company):\n",
        "    print(self.name + \" is working in\"+ company)\n",
        "    \n",
        "  def sleep(self):\n",
        "    print(self.name+ \" is sleeping\")\n",
        "    \n",
        "  @classmethod         # @classmethod는 해당 메서드가 클래스 메서드임을 표시\n",
        "  def getCount(cls):   # class method, 매개변수가 cls\n",
        "    return cls.count\n",
        "  "
      ],
      "execution_count": 0,
      "outputs": []
    },
    {
      "metadata": {
        "id": "qPz2xcxKH5bP",
        "colab_type": "code",
        "colab": {}
      },
      "cell_type": "code",
      "source": [
        "# Person instance 2개 생성\n",
        "obj1=Person(\"PARK\")\n",
        "obj2=Person(\"KIM\")"
      ],
      "execution_count": 0,
      "outputs": []
    },
    {
      "metadata": {
        "id": "KI2c3lXaINU1",
        "colab_type": "code",
        "colab": {}
      },
      "cell_type": "code",
      "source": [
        "# call method: work()\n",
        "obj1.work(\"ABCDEF\")"
      ],
      "execution_count": 0,
      "outputs": []
    },
    {
      "metadata": {
        "id": "Q0h43b6AINou",
        "colab_type": "code",
        "colab": {}
      },
      "cell_type": "code",
      "source": [
        "# call method: sleep()\n",
        "obj2.sleep()"
      ],
      "execution_count": 0,
      "outputs": []
    },
    {
      "metadata": {
        "id": "91DfMMN7IYOn",
        "colab_type": "code",
        "colab": {}
      },
      "cell_type": "code",
      "source": [
        "# 속성에 직접 접근(기본적으로 파이썬에는 모두 public)\n",
        "print(\" current person object are \" + obj1.name, \", \", obj2.name)"
      ],
      "execution_count": 0,
      "outputs": []
    },
    {
      "metadata": {
        "id": "myIxj9XaInk-",
        "colab_type": "code",
        "colab": {}
      },
      "cell_type": "code",
      "source": [
        "# class method호출\n",
        "print(\"Person count ==\", Person.getCount())"
      ],
      "execution_count": 0,
      "outputs": []
    },
    {
      "metadata": {
        "id": "MFOizwoHIxpG",
        "colab_type": "code",
        "colab": {}
      },
      "cell_type": "code",
      "source": [
        "# class variable direct access (by using class name)\n",
        "print(Person.count)"
      ],
      "execution_count": 0,
      "outputs": []
    },
    {
      "metadata": {
        "id": "2XSHy7NNbUNs",
        "colab_type": "text"
      },
      "cell_type": "markdown",
      "source": [
        "#### 변수/메소드 은닉 (private property and private method)\n",
        "\n",
        "*   파이썬은 기본적으로 모든 멤버(property)가 public 이기 때문에, 외부에서 직접 접근 가능함\n",
        "\n",
        "*   멤버변수(variable, property), 멤버메서드(method)를 \"\\__멤버변수\", \"\\__멤버메서드\"  형태로 선언한다면 private으로 설정 할 수 있음"
      ]
    },
    {
      "metadata": {
        "id": "6RejTzKXI4yI",
        "colab_type": "code",
        "colab": {}
      },
      "cell_type": "code",
      "source": [
        "class PrivateMemberTest:            # 기본적으로 멤버는 public이나 __varName 으로 변수 은닉.\n",
        "  def __init__(self, name1, name2):\n",
        "    self.name1=name1\n",
        "    self.__name2=name2  # private member variable -\n",
        "    print(\"initialized with \"+ name1 + \", \"+name2)\n",
        "    \n",
        "  def getNames(self):\n",
        "      self.__printNames()   # 클래스 내에서는 은닉 메소드 호출 가능\n",
        "      return self.name1, self.__name2\n",
        "    \n",
        "  def __printNames(self):   # 은닉 메소드\n",
        "    print(self.name1, self.__name2)\n",
        "    "
      ],
      "execution_count": 0,
      "outputs": []
    },
    {
      "metadata": {
        "id": "A4Tsg_HiJwE-",
        "colab_type": "code",
        "colab": {}
      },
      "cell_type": "code",
      "source": [
        "# 인스턴스 생성\n",
        "obj=PrivateMemberTest(\"PARK\", \"KIM\")\n",
        "\n",
        "print(obj.name1)\n",
        "print(obj.getNames())  # 이름 출력과 이름 반환이 동시에 실행됨.\n",
        "print(obj.__printNames())  # error 발생\n",
        "print(obj.__name2)         # error 발생"
      ],
      "execution_count": 0,
      "outputs": []
    },
    {
      "metadata": {
        "id": "cEaSg3BDcYKW",
        "colab_type": "text"
      },
      "cell_type": "markdown",
      "source": [
        "#### 전역 메소드 (global method)\n",
        "\n",
        "*   외부함수(전역메소드)와 클래스 method name이 같은 경우\n",
        "   \n",
        "   => C++, Java 언어의 this 처럼 self 를 통해 method 호출\n",
        " \n",
        "   => self 를 붙이지 않으면 동일한 이름의 외부 함수 호출됨"
      ]
    },
    {
      "metadata": {
        "id": "xKV01uGgKK3S",
        "colab_type": "code",
        "colab": {}
      },
      "cell_type": "code",
      "source": [
        "def print_name(name):    # 전역 메소드\n",
        "  print(\"[def] \", name)\n",
        "  \n",
        "class SameTest:\n",
        "  def __init__(self):\n",
        "    pass                         # 아무것도 않하기 때문에\n",
        "   \n",
        "  def print_name(self,name):     # 외부 함수와 동일한 이름으로 method 정의\n",
        "    print(\"[SameTest] \",name)\n",
        "    \n",
        "  def call_test(self):\n",
        "    print_name(\"KIM\")             # 외부 함수 호출\n",
        "    \n",
        "    self.print_name(\"KIM\")        # 클래스 내부 method 호출"
      ],
      "execution_count": 0,
      "outputs": []
    },
    {
      "metadata": {
        "id": "_5i03o_xLH9x",
        "colab_type": "code",
        "colab": {}
      },
      "cell_type": "code",
      "source": [
        "# oreate SameTest object\n",
        "obj=SameTest()"
      ],
      "execution_count": 0,
      "outputs": []
    },
    {
      "metadata": {
        "id": "4RKw4jsSLPBK",
        "colab_type": "code",
        "colab": {}
      },
      "cell_type": "code",
      "source": [
        "# call the global function print_name\n",
        "print_name(\"LEE\")"
      ],
      "execution_count": 0,
      "outputs": []
    },
    {
      "metadata": {
        "id": "OsaA2pTfLbf1",
        "colab_type": "code",
        "colab": {}
      },
      "cell_type": "code",
      "source": [
        "# call the instance method print_name\n",
        "obj.print_name(\"LEE\")"
      ],
      "execution_count": 0,
      "outputs": []
    },
    {
      "metadata": {
        "id": "dkSTBLrELjH8",
        "colab_type": "code",
        "outputId": "3713ea0c-f784-47cd-be24-39afecafac5c",
        "colab": {
          "base_uri": "https://localhost:8080/",
          "height": 53
        }
      },
      "cell_type": "code",
      "source": [
        "# call method call_test\n",
        "obj.call_test()"
      ],
      "execution_count": 4,
      "outputs": [
        {
          "output_type": "stream",
          "text": [
            "[def]  KIM\n",
            "[SameTest]  KIM\n"
          ],
          "name": "stdout"
        }
      ]
    },
    {
      "metadata": {
        "id": "LFpuZUG7Lpy-",
        "colab_type": "text"
      },
      "cell_type": "markdown",
      "source": [
        "### 예외처리 (exception)\n",
        "\n",
        "*   파이썬 excemtpion은 **try...except...finally**문을 사용함.  \n",
        "try 블록에서 에러가 발생 시 except 문으로 이동하여 예외 처리 수행\n",
        "\n",
        "*   발생된 exception을 그냥 무시하기 위해서는 보통 pass문을 사용하며, 또한 개발자가 **에러를 던지기 위해서는 raise문을 사용함**\n",
        "\n",
        "*   try 문은 또한 finally 문을 가질 수도 있는데, finally 블럭은 try 블럭이 정상적으로 실행되는 경우와  에러가 발생하여 except이 실행되는 경우에도  항상 마지막에 실행됨"
      ]
    },
    {
      "metadata": {
        "id": "YK0K6QASLneR",
        "colab_type": "code",
        "colab": {}
      },
      "cell_type": "code",
      "source": [
        "def calc(list_data):\n",
        "  sum=0\n",
        "  try:\n",
        "    sum=list_data[0]+list_data[1]+list_data[2]\n",
        "    \n",
        "    if sum<0:\n",
        "      raise Exception(\"Sum is minus! 예외 발생...\")  # exception 무시-pass\n",
        "                                       # 개발자가 에러를 던기기위해서는 raise사용 (사용자 발생 예외)\n",
        "  except IndexError as err:\n",
        "    print(str(err))\n",
        "  except Exception as err:\n",
        "    print(str(err))\n",
        "    \n",
        "  finally:             # 항상 마지막에 실행\n",
        "    print(sum)"
      ],
      "execution_count": 0,
      "outputs": []
    },
    {
      "metadata": {
        "id": "iYh5s4KMMVxo",
        "colab_type": "code",
        "colab": {}
      },
      "cell_type": "code",
      "source": [
        "calc([1,2]) # index error 발생"
      ],
      "execution_count": 0,
      "outputs": []
    },
    {
      "metadata": {
        "id": "JYR8P1MkMl4d",
        "colab_type": "code",
        "colab": {}
      },
      "cell_type": "code",
      "source": [
        "calc([1,2,-100]) # 인위적인 exception 발생"
      ],
      "execution_count": 0,
      "outputs": []
    },
    {
      "metadata": {
        "id": "jRbjQeyvMvLV",
        "colab_type": "text"
      },
      "cell_type": "markdown",
      "source": [
        "### with 구문"
      ]
    },
    {
      "metadata": {
        "id": "bLHObTo-PpXI",
        "colab_type": "text"
      },
      "cell_type": "markdown",
      "source": [
        "파일(file) 또는 세션(session)을 사용하는 순서\n",
        "open()=>read() 또는 write()=>close()"
      ]
    },
    {
      "metadata": {
        "id": "rH4UaZZmQXA3",
        "colab_type": "text"
      },
      "cell_type": "markdown",
      "source": [
        "> 파이썬에서는 with 구문을 사용하면 명시적으로 리소스를 close()를 해주지 않아도 자동으로 close() 해주는 기능 지원.\n",
        "> with블록을 벗어나는 순간 파일이나 세션 등의 리소스를 자동으로 close시킴"
      ]
    },
    {
      "metadata": {
        "id": "9XQKxJceMrhl",
        "colab_type": "code",
        "colab": {}
      },
      "cell_type": "code",
      "source": [
        "# 일반적인 방법 \n",
        "\n",
        "f = open(\"./file_test\", \"w\")\n",
        "f.write(\"using 'with' in python.\")\n",
        "f.close()\n",
        "# 연 파일은 반드시 닫아야 된다."
      ],
      "execution_count": 0,
      "outputs": []
    },
    {
      "metadata": {
        "id": "JTYMtek7e5-5",
        "colab_type": "code",
        "colab": {}
      },
      "cell_type": "code",
      "source": [
        "ls"
      ],
      "execution_count": 0,
      "outputs": []
    },
    {
      "metadata": {
        "id": "r5pLhM86e8hC",
        "colab_type": "code",
        "colab": {}
      },
      "cell_type": "code",
      "source": [
        "# with 구문을 사용한 방법\n",
        "# with 블록을 벗어나는 순간 파일 객체 f가 자동으로 close 됨.\n",
        "with open(\"./with_test\", \"w\") as f:\n",
        "          f.write(\"using 'with' in python.\")"
      ],
      "execution_count": 0,
      "outputs": []
    },
    {
      "metadata": {
        "id": "85_N75pjfITa",
        "colab_type": "code",
        "colab": {}
      },
      "cell_type": "code",
      "source": [
        "ls"
      ],
      "execution_count": 0,
      "outputs": []
    },
    {
      "metadata": {
        "id": "r5lNjrssfRK7",
        "colab_type": "text"
      },
      "cell_type": "markdown",
      "source": [
        "#### 일반적인 파일 처리 (읽기)"
      ]
    },
    {
      "metadata": {
        "id": "HwXl8gAUNTIj",
        "colab_type": "code",
        "colab": {}
      },
      "cell_type": "code",
      "source": [
        "f = open(\"with_test\", \"r\", encoding=\"utf-8\")  # 파일 열기\n",
        "s = f.read()           # 파일의 내용을 문자열형 변수로 읽음\n",
        "print(s)               # 파일의 내용을 표시\n",
        "f.close()              # 파일 닫기"
      ],
      "execution_count": 0,
      "outputs": []
    },
    {
      "metadata": {
        "id": "p_Gg3QdaflUh",
        "colab_type": "text"
      },
      "cell_type": "markdown",
      "source": [
        "#### with로 파일 처리 (읽기)"
      ]
    },
    {
      "metadata": {
        "id": "gYyErrAcfZ-n",
        "colab_type": "code",
        "colab": {}
      },
      "cell_type": "code",
      "source": [
        "with open(\"./with_test\", \"r\", encoding=\"utf-8\") as f:\n",
        "    print(f.read())  #readlines()"
      ],
      "execution_count": 0,
      "outputs": []
    },
    {
      "metadata": {
        "id": "6ceY4x-Fhc7F",
        "colab_type": "text"
      },
      "cell_type": "markdown",
      "source": [
        "- with 문을 사용하면 열린 파일이 자동으로 닫힌다.\n",
        "\n",
        "- with 는 딥러닝 프레임워크인 Tensorflow에서 session 관리에 자주 사용된다."
      ]
    },
    {
      "metadata": {
        "id": "2gM6EElKiINb",
        "colab_type": "text"
      },
      "cell_type": "markdown",
      "source": [
        "\n",
        "\n",
        "---\n",
        "\n"
      ]
    },
    {
      "metadata": {
        "id": "bfLGj2knKbys",
        "colab_type": "text"
      },
      "cell_type": "markdown",
      "source": [
        "> 열심히 노트를 만든 학생들! **아자 Python!!!**"
      ]
    },
    {
      "metadata": {
        "id": "A8ZX_E_WM_Ac",
        "colab_type": "code",
        "colab": {}
      },
      "cell_type": "code",
      "source": [
        ""
      ],
      "execution_count": 0,
      "outputs": []
    }
  ]
}