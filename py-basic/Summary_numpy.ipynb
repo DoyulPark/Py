{
  "nbformat": 4,
  "nbformat_minor": 0,
  "metadata": {
    "colab": {
      "name": "Summary_numpy",
      "version": "0.3.2",
      "provenance": [],
      "collapsed_sections": [],
      "include_colab_link": true
    },
    "kernelspec": {
      "name": "python2",
      "display_name": "Python 2"
    }
  },
  "cells": [
    {
      "cell_type": "markdown",
      "metadata": {
        "id": "view-in-github",
        "colab_type": "text"
      },
      "source": [
        "<a href=\"https://colab.research.google.com/github/Redwoods/Py/blob/master/py-basic/Summary_numpy.ipynb\" target=\"_parent\"><img src=\"https://colab.research.google.com/assets/colab-badge.svg\" alt=\"Open In Colab\"/></a>"
      ]
    },
    {
      "metadata": {
        "id": "MjREVol-v9eH",
        "colab_type": "text"
      },
      "cell_type": "markdown",
      "source": [
        "## [wk10] homework\n",
        "\n",
        "> 다음 Youtube 강의 2편를 들으면서 파이썬 노트북을 하나 만들어서 각자의 github에 올리시오.(마감: 2018.11.4(일). 24:00)\n",
        "\n",
        "#### 제출 파일명: Summary_numpy.ipynb\n",
        "\n",
        "> [참고 문서](https://github.com/HIT-YL/py-03/blob/master/Summary_numpy.ipynb)"
      ]
    },
    {
      "metadata": {
        "id": "0L59Hnn_vrIj",
        "colab_type": "code",
        "colab": {}
      },
      "cell_type": "code",
      "source": [
        "from IPython.lib.display import YouTubeVideo\n",
        "YouTubeVideo('ku9-AxaznSA')  # numpy 기초 I"
      ],
      "execution_count": 0,
      "outputs": []
    },
    {
      "metadata": {
        "id": "pis1kWObhsys",
        "colab_type": "text"
      },
      "cell_type": "markdown",
      "source": [
        "> numpy(l) 동영상에서는 파이썬 코드에서 라이브러리를 import 시키는 방식을 먼저 알아보고, numpy의 개념과 numpy가 필요한 이유 그리고 numpy를 이용하여 벡터와 matrix 즉, 행렬을 만들고 이를 상호변환 시킬 수 있는 API를 사용하는 방법에 대해 알아본다."
      ]
    },
    {
      "metadata": {
        "id": "k4FDAIAvv5l3",
        "colab_type": "code",
        "colab": {}
      },
      "cell_type": "code",
      "source": [
        "YouTubeVideo('dnJ3JESmBkE')  # numpy 기초 II"
      ],
      "execution_count": 0,
      "outputs": []
    },
    {
      "metadata": {
        "id": "GuqI2BkDhX0w",
        "colab_type": "text"
      },
      "cell_type": "markdown",
      "source": [
        "> numpy(ll) 동영상에서는 numpy의 행렬 곱인 dot product와 broadcast 그리고 행렬 각 요소의 값과 범위를 지정하는 index, slice, iterator에 대하여 알아본다.\n",
        "\n"
      ]
    },
    {
      "metadata": {
        "id": "f4PLi2cy8RSU",
        "colab_type": "text"
      },
      "cell_type": "markdown",
      "source": [
        "\n",
        "\n",
        "---\n",
        "\n"
      ]
    },
    {
      "metadata": {
        "id": "fQVK0pxCRSbN",
        "colab_type": "toc"
      },
      "cell_type": "markdown",
      "source": [
        ">>[[wk10] homework](#scrollTo=MjREVol-v9eH)\n",
        "\n",
        ">>>>[제출 파일명: Summary_numpy.ipynb](#scrollTo=MjREVol-v9eH)\n",
        "\n",
        ">>[라이브러리](#scrollTo=0Rd4EgDswXK3)\n",
        "\n",
        ">>>[overview](#scrollTo=ZD7-dFURwbSf)\n",
        "\n",
        ">>>>[라이브러리를 import 시키는 방법 4가지](#scrollTo=pnSEXS8pVrtT)\n",
        "\n",
        ">>>>>[첫 번째 방식 - 라이브러리의 이름을 바로 import하는 방식](#scrollTo=poXE4qONVaCz)\n",
        "\n",
        ">>>>>[두 번째 방식 - 라이브러리의 별명을 지정하는 방식](#scrollTo=XH5TDHTTVe5z)\n",
        "\n",
        ">>>>>[세 번째 방식 - from을 이용하는 방식](#scrollTo=31zpv6jgWUGG)\n",
        "\n",
        ">>>>>[네 번째 방식 - 필요한 라이브러리에 모든 API를 사용](#scrollTo=B-UinoSIWrq0)\n",
        "\n",
        ">>>[numpy](#scrollTo=1agDc8fFYb7_)\n",
        "\n",
        ">>>>[numpy의 개념 & numpy를 사용하는 이유](#scrollTo=2zaiDbcJbjYL)\n",
        "\n",
        ">>>[numpy vector(1차원 배열)](#scrollTo=x4pUC7NEcDvF)\n",
        "\n",
        ">>>>[벡터 생성](#scrollTo=8IbhCw-_59zV)\n",
        "\n",
        ">>>>>[A, B는 (3X1) 열벡터임.](#scrollTo=HQrzOFJgQCu_)\n",
        "\n",
        ">>>>[벡터 산술연산](#scrollTo=hJdNazCX6BJW)\n",
        "\n",
        ">>>[numpy matrix (2차원 행렬)](#scrollTo=yuwVL3pheF5O)\n",
        "\n",
        ">>>>[행렬 생성](#scrollTo=TAnvHnEJ6FEJ)\n",
        "\n",
        ">>>>[형 변환 (reshape)](#scrollTo=qSW-t71a6HBY)\n",
        "\n",
        ">>>[numpy 행렬 곱 (dot product)](#scrollTo=MiYCqlid6NET)\n",
        "\n",
        ">>>>[행렬 곱 (dot product)](#scrollTo=I0B2LxuFiHzU)\n",
        "\n",
        ">>>>[행렬 곱 (dot product) (ll)](#scrollTo=LoveJgTEjy4-)\n",
        "\n",
        ">>>[numpy broadcast](#scrollTo=pi5OgP-GlYQ2)\n",
        "\n",
        ">>>[numpy 전치행렬 (transpose)](#scrollTo=nvPzR19RnVDD)\n",
        "\n",
        ">>>[numpy 행렬 원소 접근](#scrollTo=kn8VF_T2oxbf)\n",
        "\n",
        ">>>>[indexing & slicing](#scrollTo=_oIbfkwCrIIQ)\n",
        "\n",
        ">>>>[iterator](#scrollTo=RnMm5JvJrKKW)\n",
        "\n"
      ]
    },
    {
      "metadata": {
        "id": "bzRppus88UpA",
        "colab_type": "text"
      },
      "cell_type": "markdown",
      "source": [
        "\n",
        "\n",
        "---\n",
        "\n"
      ]
    },
    {
      "metadata": {
        "id": "0Rd4EgDswXK3",
        "colab_type": "text"
      },
      "cell_type": "markdown",
      "source": [
        "## 라이브러리"
      ]
    },
    {
      "metadata": {
        "id": "I1Lv9GrX8W0F",
        "colab_type": "text"
      },
      "cell_type": "markdown",
      "source": [
        "\n",
        "\n",
        "---\n",
        "\n"
      ]
    },
    {
      "metadata": {
        "id": "ZD7-dFURwbSf",
        "colab_type": "text"
      },
      "cell_type": "markdown",
      "source": [
        "### overview"
      ]
    },
    {
      "metadata": {
        "id": "pnSEXS8pVrtT",
        "colab_type": "text"
      },
      "cell_type": "markdown",
      "source": [
        "#### 라이브러리를 import 시키는 방법 4가지"
      ]
    },
    {
      "metadata": {
        "id": "afsJHUKdS3Ua",
        "colab_type": "text"
      },
      "cell_type": "markdown",
      "source": [
        "**파이썬 코드에서 라이브러리를 import 시키는 방식**은 아래와 같이 4가지로 나눌 수 있다.\n",
        "\n",
        "\n",
        "\n",
        "1.   라이브러리의 이름을 바로 import하는 방식\n",
        "         예) import numpy\n",
        "         이렇게 import를 하면 해당 라이브러리의 풀네임을 이용하여 필요한 API를 호출할 수 있음\n",
        "         \n",
        "2.   라이브러리의 별명을 지정하는 방식\n",
        "         예) import numpy as np\n",
        "         가장 일반적인 방식임\n",
        "3.   from을 이용하는 방식\n",
        "\n",
        "         from을 이용하면 해당 API의 이름을 쓰지 않고 API를 바로 쓸 수 있다는 장점이 있음\n",
        "         \n",
        "4.   필요한 라이브러리에 모든 API를 사용\n",
        "         예) from numpy import *\n",
        "          이 경우에도 from을 사용하여 직접 필요한 API를 기술함\n",
        "\n",
        "\n",
        "\n"
      ]
    },
    {
      "metadata": {
        "id": "poXE4qONVaCz",
        "colab_type": "text"
      },
      "cell_type": "markdown",
      "source": [
        "##### 첫 번째 방식 - 라이브러리의 이름을 바로 import하는 방식"
      ]
    },
    {
      "metadata": {
        "id": "XAuMP_ztUqet",
        "colab_type": "code",
        "colab": {}
      },
      "cell_type": "code",
      "source": [
        "# 1. 라이브러리의 이름을 바로 import하는 방식\n",
        "\n",
        "import numpy\n",
        "\n",
        "A = numpy.array([1,2])\n",
        "\n",
        "print(\"A ==\", A, \", type ==\", type(A))"
      ],
      "execution_count": 0,
      "outputs": []
    },
    {
      "metadata": {
        "id": "XH5TDHTTVe5z",
        "colab_type": "text"
      },
      "cell_type": "markdown",
      "source": [
        "##### 두 번째 방식 - 라이브러리의 별명을 지정하는 방식"
      ]
    },
    {
      "metadata": {
        "id": "ppA7TLLqVXvT",
        "colab_type": "code",
        "colab": {}
      },
      "cell_type": "code",
      "source": [
        "# 2. 라이브러리의 별명을 지정하는 방식\n",
        "\n",
        "import numpy as np\n",
        "\n",
        "A = np.array([1,2])\n",
        "\n",
        "print(\"A ==\", A, \", type ==\", type(A))"
      ],
      "execution_count": 0,
      "outputs": []
    },
    {
      "metadata": {
        "id": "RLb-GTgxXIBq",
        "colab_type": "text"
      },
      "cell_type": "markdown",
      "source": [
        "예) numpy라는 라이브러리를 as 다음에 나오는 np로 지정"
      ]
    },
    {
      "metadata": {
        "id": "31zpv6jgWUGG",
        "colab_type": "text"
      },
      "cell_type": "markdown",
      "source": [
        "##### 세 번째 방식 - from을 이용하는 방식"
      ]
    },
    {
      "metadata": {
        "id": "BBnlJGfjWNrT",
        "colab_type": "code",
        "colab": {}
      },
      "cell_type": "code",
      "source": [
        "# 3. from을 이용하는 방식\n",
        "\n",
        "from numpy import exp\n",
        "\n",
        "result = exp(1)\n",
        "\n",
        "print(\"result ==\", result, \", type ==\", type(result))"
      ],
      "execution_count": 0,
      "outputs": []
    },
    {
      "metadata": {
        "id": "wFkr6WU7XZav",
        "colab_type": "text"
      },
      "cell_type": "markdown",
      "source": [
        "numpy 라이브러리에 속해있는 exp API를 위의 첫 번째 및 두 번째 예에서처럼 numpy.exp 라고 하지 않고, 바로 exp로 사용\n",
        "\n",
        "> => 즉, numpy.exp가 아닌 exp로 바로 사용 가능\n",
        "\n"
      ]
    },
    {
      "metadata": {
        "id": "B-UinoSIWrq0",
        "colab_type": "text"
      },
      "cell_type": "markdown",
      "source": [
        "##### 네 번째 방식 - 필요한 라이브러리에 모든 API를 사용"
      ]
    },
    {
      "metadata": {
        "id": "SuOkm37nWmwC",
        "colab_type": "code",
        "colab": {}
      },
      "cell_type": "code",
      "source": [
        "# 4. 필요한 라이브러리에 모든 API를 사용\n",
        "\n",
        "from numpy import *\n",
        "\n",
        "result = exp(1) + log(1.7) + sqrt(2)\n",
        "\n",
        "print(\"result ==\", result, \", type ==\", type(result))"
      ],
      "execution_count": 0,
      "outputs": []
    },
    {
      "metadata": {
        "id": "1agDc8fFYb7_",
        "colab_type": "text"
      },
      "cell_type": "markdown",
      "source": [
        "### numpy\n",
        "\n",
        "numpy의 개념과 numpy가 필요한 이유, numpy를 이용하여 벡터와 matrix 즉, 행렬을 만들고 이를 상호변환 시킬 수 있는 API를 사용하는 방법에 대해 알아본다."
      ]
    },
    {
      "metadata": {
        "id": "2zaiDbcJbjYL",
        "colab_type": "text"
      },
      "cell_type": "markdown",
      "source": [
        "#### numpy의 개념 & numpy를 사용하는 이유"
      ]
    },
    {
      "metadata": {
        "id": "XmsULOHVY3JT",
        "colab_type": "text"
      },
      "cell_type": "markdown",
      "source": [
        "- **numpy**\n",
        "\n",
        "    * numpy는 머신러닝 코드 개발을 할 경우 자주 사용되는 벡터, 행렬 등을 표현하고 연산할 때 반드시 필요한 라이브러리다.  \n",
        "    * 벡터와 행렬을 이용하면 수치계산이 매우 빨리 수행된다.\n",
        "\n"
      ]
    },
    {
      "metadata": {
        "id": "pNylcuDzZDWT",
        "colab_type": "text"
      },
      "cell_type": "markdown",
      "source": [
        "- ** numpy vs. list**\n",
        "\n",
        "    *  머신러닝에서 숫자, 사람, 동물 등의 인식을 하기 위해서는 이미지 데이터를 행렬(matrix)로 변환하는 것이 중요하다.\n",
        "    *  행렬을 나타내기 위해서는 list를 사용할 수도 있지만, 행렬 연산이 직관적이지 않고 오류 가능성이 높기 때문에 **행렬 연산을 위해서는 numpy 사용이 필수적**이다.\n",
        "\n"
      ]
    },
    {
      "metadata": {
        "id": "lYblhTyAW-3s",
        "colab_type": "code",
        "colab": {}
      },
      "cell_type": "code",
      "source": [
        "# 행렬연산\n",
        "\n",
        "\n",
        "# A = (1 0)    B = (1 1)\n",
        "#     (0 1)        (1 1)\n",
        "\n",
        "# 각 요소의 인덱스에 맞춰서, 즉 원소별로  연산이 수행된다.\n",
        "# A + B = (2 1)\n",
        "#         (1 2)"
      ],
      "execution_count": 0,
      "outputs": []
    },
    {
      "metadata": {
        "id": "r-qJzSmeachg",
        "colab_type": "code",
        "colab": {}
      },
      "cell_type": "code",
      "source": [
        "import numpy as np # 라이브러리의 별명을 지정하는 방식을 사용"
      ],
      "execution_count": 0,
      "outputs": []
    },
    {
      "metadata": {
        "id": "3EsPu5EqaoJw",
        "colab_type": "code",
        "outputId": "91304dc4-29b4-439f-856d-72dacb38f5be",
        "colab": {
          "base_uri": "https://localhost:8080/",
          "height": 36
        }
      },
      "cell_type": "code",
      "source": [
        "# 리스트로 행렬 표현\n",
        "\n",
        "A = [ [1,0], [0,1] ]\n",
        "B = [ [1,1], [1,1] ]\n",
        "\n",
        "A + B   # 행렬 연산이 아닌 리스트 연산으로 리스트가 확장된다."
      ],
      "execution_count": 0,
      "outputs": [
        {
          "output_type": "execute_result",
          "data": {
            "text/plain": [
              "[[1, 0], [0, 1], [1, 1], [1, 1]]"
            ]
          },
          "metadata": {
            "tags": []
          },
          "execution_count": 14
        }
      ]
    },
    {
      "metadata": {
        "id": "7Egx9RhcbS74",
        "colab_type": "text"
      },
      "cell_type": "markdown",
      "source": [
        "=> 리스트 연산이 됨"
      ]
    },
    {
      "metadata": {
        "id": "TDew_4EYaxup",
        "colab_type": "code",
        "outputId": "8df7e80d-1dba-4267-fcda-98044658ee99",
        "colab": {
          "base_uri": "https://localhost:8080/",
          "height": 55
        }
      },
      "cell_type": "code",
      "source": [
        "# numpy matrix, 직관적임\n",
        "\n",
        "A = np.array([ [1,0], [0,1] ])\n",
        "B = np.array([ [1,1], [1,1] ])\n",
        "\n",
        "A + B  # 행렬 연산"
      ],
      "execution_count": 0,
      "outputs": [
        {
          "output_type": "execute_result",
          "data": {
            "text/plain": [
              "array([[2, 1],\n",
              "       [1, 2]])"
            ]
          },
          "metadata": {
            "tags": []
          },
          "execution_count": 15
        }
      ]
    },
    {
      "metadata": {
        "id": "AQG_PbYhbJxC",
        "colab_type": "text"
      },
      "cell_type": "markdown",
      "source": [
        "=>  numpy로 행렬 선언 및 연산을 하였기 때문에 행렬 연산의 결과가 나옴"
      ]
    },
    {
      "metadata": {
        "id": "x4pUC7NEcDvF",
        "colab_type": "text"
      },
      "cell_type": "markdown",
      "source": [
        "### numpy vector(1차원 배열)"
      ]
    },
    {
      "metadata": {
        "id": "8IbhCw-_59zV",
        "colab_type": "text"
      },
      "cell_type": "markdown",
      "source": [
        "#### 벡터 생성"
      ]
    },
    {
      "metadata": {
        "id": "VjXJCVd5cI77",
        "colab_type": "text"
      },
      "cell_type": "markdown",
      "source": [
        "- **벡터(vector) 생성**\n",
        "\n",
        "\n",
        "> 벡터는 np.array([...])를 사용하여 생성한다.\n",
        "\n",
        "        예) import numpy as np\n",
        "\n",
        "> 머신러닝 코드 구현 시, 연산을 위해서 벡터, matrix 등의 구조(shape), 차원(dimension)을 확인하는 것이 필요하다.\n",
        "\n",
        "\n"
      ]
    },
    {
      "metadata": {
        "id": "cC9XMICddoXD",
        "colab_type": "code",
        "outputId": "f04607c1-f5c3-41e2-b89e-c5057aeaf94c",
        "colab": {
          "base_uri": "https://localhost:8080/",
          "height": 73
        }
      },
      "cell_type": "code",
      "source": [
        "A = np.array([1,2,3])\n",
        "B = np.array([4,5,6])\n",
        "\n",
        "# vector A, B 출력\n",
        "print(\"A ==\", A, \", B == \", B)\n",
        "\n",
        "# vector A, B 구조 출력 => shape\n",
        "print(\"A.shape ==\", A.shape, \", B.shape ==\", B.shape)\n",
        "\n",
        "# vector A, B 차원 출력 => ndim\n",
        "print(\"A.ndim ==\", A.ndim, \", B.ndim ==\", B.ndim)"
      ],
      "execution_count": 4,
      "outputs": [
        {
          "output_type": "stream",
          "text": [
            "('A ==', array([1, 2, 3]), ', B == ', array([4, 5, 6]))\n",
            "('A.shape ==', (3,), ', B.shape ==', (3,))\n",
            "('A.ndim ==', 1, ', B.ndim ==', 1)\n"
          ],
          "name": "stdout"
        }
      ]
    },
    {
      "metadata": {
        "id": "HQrzOFJgQCu_",
        "colab_type": "text"
      },
      "cell_type": "markdown",
      "source": [
        "##### A, B는 (3X1) 열벡터임.\n",
        "\n",
        "> [행벡터, 열벡터](https://terms.naver.com/entry.nhn?docId=3338356&cid=47324&categoryId=47324)"
      ]
    },
    {
      "metadata": {
        "id": "hJdNazCX6BJW",
        "colab_type": "text"
      },
      "cell_type": "markdown",
      "source": [
        "#### 벡터 산술연산"
      ]
    },
    {
      "metadata": {
        "id": "gaL6T8Bycxiz",
        "colab_type": "text"
      },
      "cell_type": "markdown",
      "source": [
        "- **벡터 산술연산**\n",
        "\n",
        "\n",
        "> 벡터 간 산술연산 (+, -, x, /)는 벡터의 각각의 원소에 대해서 행해진다.\n",
        "\n"
      ]
    },
    {
      "metadata": {
        "id": "ehOzznnYa-0H",
        "colab_type": "code",
        "colab": {
          "base_uri": "https://localhost:8080/",
          "height": 92
        },
        "outputId": "f630b4db-1ecc-4784-d581-c7112e8a29e3"
      },
      "cell_type": "code",
      "source": [
        "# vector 산술 연산\n",
        "\n",
        "print(\"A+B==\", A+B)\n",
        "print(\"A-B==\", A-B)\n",
        "print(\"A*B==\", A*B)\n",
        "print(\"A/B==\", A/B)"
      ],
      "execution_count": 5,
      "outputs": [
        {
          "output_type": "stream",
          "text": [
            "('A+B==', array([5, 7, 9]))\n",
            "('A-B==', array([-3, -3, -3]))\n",
            "('A*B==', array([ 4, 10, 18]))\n",
            "('A/B==', array([0, 0, 0]))\n"
          ],
          "name": "stdout"
        }
      ]
    },
    {
      "metadata": {
        "id": "yuwVL3pheF5O",
        "colab_type": "text"
      },
      "cell_type": "markdown",
      "source": [
        "### numpy matrix (2차원 행렬)"
      ]
    },
    {
      "metadata": {
        "id": "TAnvHnEJ6FEJ",
        "colab_type": "text"
      },
      "cell_type": "markdown",
      "source": [
        "#### 행렬 생성"
      ]
    },
    {
      "metadata": {
        "id": "tCo3bfQ1eJbj",
        "colab_type": "text"
      },
      "cell_type": "markdown",
      "source": [
        "- **행렬 생성**\n",
        "\n",
        "\n",
        "> matrix는 벡터와 마찬가지로 np.array([ [...], [...], ... ])를 사용하여 생성한다.\n",
        "\n",
        "\n",
        ">     예)  import numpy as np\n",
        "\n",
        "\n",
        "          A = (1 2 3)       B = (-1 -2 -3)\n",
        "              (4 5 6)           (-4 -5 -6)\n",
        "            shape 2x3       shape 2x3\n",
        "\n",
        "\n"
      ]
    },
    {
      "metadata": {
        "id": "wcx7fbWGdc9D",
        "colab_type": "code",
        "colab": {
          "base_uri": "https://localhost:8080/",
          "height": 55
        },
        "outputId": "1c12ff61-b8b1-41a0-e45c-f7ef07dd1c82"
      },
      "cell_type": "code",
      "source": [
        "A = np.array([ [1,2,3], [4,5,6] ])\n",
        "B = np.array([ [-1,-2,-3], [-4,-5,-6] ])\n",
        "\n",
        "# matrix A, B 구조 출력 => shape\n",
        "print(\"A.shape ==\", A.shape, \", B.shape ==\", B.shape)\n",
        "\n",
        "# matrix A, B 차원 출력 => ndim\n",
        "print(\"A.ndim ==\", A.ndim, \", B.ndim ==\", B.ndim)"
      ],
      "execution_count": 8,
      "outputs": [
        {
          "output_type": "stream",
          "text": [
            "('A.shape ==', (2, 3), ', B.shape ==', (2, 3))\n",
            "('A.ndim ==', 2, ', B.ndim ==', 2)\n"
          ],
          "name": "stdout"
        }
      ]
    },
    {
      "metadata": {
        "id": "qSW-t71a6HBY",
        "colab_type": "text"
      },
      "cell_type": "markdown",
      "source": [
        "#### 형 변환 (reshape)"
      ]
    },
    {
      "metadata": {
        "id": "KwTsdW9rfXj8",
        "colab_type": "text"
      },
      "cell_type": "markdown",
      "source": [
        "- **형 변환 (reshape)**\n",
        "\n",
        "\n",
        "> 벡터를 matrix로 변경하거나 matrix를 다른 구조의 matrix로 변경하기 위해서는 reshape() 사용하여 행렬의 shape를 변경하여야 한다.\n",
        "\n",
        "           예) D = (1 2 3)   D.reshape(3,2) = (1 2)\n",
        "                   (4 5 6)                    (3 4)\n",
        "                                              (5 6)\n",
        "                shape 2x3             shape 3x2"
      ]
    },
    {
      "metadata": {
        "id": "HWgzy1zqfTSb",
        "colab_type": "code",
        "colab": {
          "base_uri": "https://localhost:8080/",
          "height": 55
        },
        "outputId": "d97edda5-d73a-46b1-92e6-a0324b76c407"
      },
      "cell_type": "code",
      "source": [
        "# 열벡터 생성\n",
        "\n",
        "C = np.array([1,2,3])  # 기본이 열벡터\n",
        "\n",
        "# 벡터 C의 구조 출력 => shape\n",
        "print(\"C.shape ==\", C.shape)\n",
        "\n",
        "# 벡터를 (1,3) 행렬로 형 변환 => 행벡터로 변환\n",
        "C = C.reshape(1,3)\n",
        "\n",
        "print(\"C.shape ==\", C.shape)"
      ],
      "execution_count": 11,
      "outputs": [
        {
          "output_type": "stream",
          "text": [
            "('C.shape ==', (3,))\n",
            "('C.shape ==', (1, 3))\n"
          ],
          "name": "stdout"
        }
      ]
    },
    {
      "metadata": {
        "id": "MiYCqlid6NET",
        "colab_type": "text"
      },
      "cell_type": "markdown",
      "source": [
        "### numpy 행렬 곱 (dot product)"
      ]
    },
    {
      "metadata": {
        "id": "I0B2LxuFiHzU",
        "colab_type": "text"
      },
      "cell_type": "markdown",
      "source": [
        "#### 행렬 곱 (dot product)"
      ]
    },
    {
      "metadata": {
        "id": "8FPDBzTliLDT",
        "colab_type": "text"
      },
      "cell_type": "markdown",
      "source": [
        "- **행렬 곱 (dot product)**\n",
        "\n",
        "\n",
        "> A 행렬과 B 행렬의 행렬 곱 (dot product)는 np.dot(A,B)로 나타내며, 행렬 A의 열벡터와 B 행렬의 행벡터가 같아야 한다.\n",
        "\n",
        "\n",
        "> 만약 같지 않으면 **reshape 또는 전치행렬(transpose) 등을 사용하여 형 변환을 한 후에 행렬 곱을 실행**해야 한다.\n",
        "\n",
        "\n",
        "\n"
      ]
    },
    {
      "metadata": {
        "id": "jX9CRfnGgiGI",
        "colab_type": "code",
        "colab": {
          "base_uri": "https://localhost:8080/",
          "height": 92
        },
        "outputId": "a7b2a71e-654a-4ff0-c589-62f0f5ee7fda"
      },
      "cell_type": "code",
      "source": [
        "A = np.array([ [1,2,3], [4,5,6] ]) # 2x3 행렬\n",
        "B = np.array([ [-1,-2], [-3,-4], [-5,-6] ]) # 3x2 행렬\n",
        "\n",
        "# (2x3) dot product (3x2) == (2x2) 행렬\n",
        "C = np.dot(A, B) # 행렬 곱 수행\n",
        "\n",
        "# matrix A, B 형상 출력 => shape\n",
        "print(\"A.shape ==\", A.shape, \", B.shape ==\", B.shape)\n",
        "print(\"C.shape ==\", C.shape)\n",
        "print(C)"
      ],
      "execution_count": 12,
      "outputs": [
        {
          "output_type": "stream",
          "text": [
            "('A.shape ==', (2, 3), ', B.shape ==', (3, 2))\n",
            "('C.shape ==', (2, 2))\n",
            "[[-22 -28]\n",
            " [-49 -64]]\n"
          ],
          "name": "stdout"
        }
      ]
    },
    {
      "metadata": {
        "id": "kc2e0WGsjMbr",
        "colab_type": "text"
      },
      "cell_type": "markdown",
      "source": [
        "** 주의\n",
        "\n",
        "\n",
        "> (2x**3) x (3**x2) = (2x2)\n",
        "\n",
        "\n",
        "\n",
        "=> 이렇듯 행렬 A의 열의 수와  B의 행의 수가 같아야 한다!"
      ]
    },
    {
      "metadata": {
        "id": "LoveJgTEjy4-",
        "colab_type": "text"
      },
      "cell_type": "markdown",
      "source": [
        "#### 행렬 곱 (dot product) (ll)"
      ]
    },
    {
      "metadata": {
        "id": "seOr48Wjj-E1",
        "colab_type": "text"
      },
      "cell_type": "markdown",
      "source": [
        "행렬 곱은 사칙연산과는 다른 특징을 가진다."
      ]
    },
    {
      "metadata": {
        "id": "BWoY3pE_j3ye",
        "colab_type": "text"
      },
      "cell_type": "markdown",
      "source": [
        "- 행렬 곱은 행렬의 원소 개수가 같아야만 계산할 수 있는 사칙연산의 한계를 벗어나\n",
        "\n",
        "\n",
        "> 1.   행렬 곱 조건을 만족하는 다양한 크기의 행렬을 연속으로 만들고\n",
        "2.   행렬 곱을 연속으로 계산하면서\n",
        "3. 결과 값을 만들 수 있기 때문에 머신러닝과 이미지 프로세싱 분야에서 자주 사용된다.\n",
        "\n",
        "        예) 입력 행렬 형상이 64X64이고, 결과 행렬 형상이 64X10이라면, 중간에 dot product 를 만족시키는 어떤 형상의 행렬이라도 가질 수 있다.\n",
        "        \n",
        "> 행렬 곱을 사용하지 않고 산술 연산만 가능하다면, 입력 행렬의 64X64 크기를 가지는 특성 값만을 사용해야 하기 때문에 다양한 특성을 갖는 필터 개발이 불가능하다."
      ]
    },
    {
      "metadata": {
        "id": "pi5OgP-GlYQ2",
        "colab_type": "text"
      },
      "cell_type": "markdown",
      "source": [
        "### numpy broadcast"
      ]
    },
    {
      "metadata": {
        "id": "b6EWWaQPlf_P",
        "colab_type": "text"
      },
      "cell_type": "markdown",
      "source": [
        "- 행렬의 사칙연산은 기본적으로 두 개의 행렬 크기가 같은 경우에만 수행할 수 있다.\n",
        "- 그러나 numpy에서는 **크기가 다른 두 행렬간에도 사칙연산(+,-,x,/)를 사용할 수 있는데 이를 브로드캐스트(broadcast)**라고 지칭한다.\n",
        "- 브로드캐스트는 차원이 작은 쪽이 큰 쪽의 행 단위로 반복적으로 크기를 맞춘 후에 계산된다."
      ]
    },
    {
      "metadata": {
        "id": "XE99UiBajJWb",
        "colab_type": "code",
        "colab": {
          "base_uri": "https://localhost:8080/",
          "height": 55
        },
        "outputId": "943ce80c-24e6-49d7-f08a-f874748241a1"
      },
      "cell_type": "code",
      "source": [
        "A = np.array([ [1,2], [3,4] ])\n",
        "b = 5\n",
        "\n",
        "print(A+b)"
      ],
      "execution_count": 13,
      "outputs": [
        {
          "output_type": "stream",
          "text": [
            "[[6 7]\n",
            " [8 9]]\n"
          ],
          "name": "stdout"
        }
      ]
    },
    {
      "metadata": {
        "id": "sBtbTlJgmJ4O",
        "colab_type": "text"
      },
      "cell_type": "markdown",
      "source": [
        "=> b가 2x2 행렬로 바뀐다.\n",
        "\n",
        "\n",
        ">      b = 5   =>   (5 5)\n",
        "                  (5 5)"
      ]
    },
    {
      "metadata": {
        "id": "7z0AHcARmBaE",
        "colab_type": "code",
        "colab": {
          "base_uri": "https://localhost:8080/",
          "height": 55
        },
        "outputId": "d856074b-9f68-405e-8910-376a8016cf2e"
      },
      "cell_type": "code",
      "source": [
        "C = np.array([ [1,2], [3,4] ])\n",
        "D = np.array([4,5])\n",
        "\n",
        "print(C+D)"
      ],
      "execution_count": 14,
      "outputs": [
        {
          "output_type": "stream",
          "text": [
            "[[5 7]\n",
            " [7 9]]\n"
          ],
          "name": "stdout"
        }
      ]
    },
    {
      "metadata": {
        "id": "AfNtr1bHmup-",
        "colab_type": "text"
      },
      "cell_type": "markdown",
      "source": [
        "=> D가 2x2 행렬로 바뀐다.\n",
        "\n",
        "\n",
        ">      D = (4 5)  =>  (4 5)\n",
        "                    (4 5)\n",
        "\n"
      ]
    },
    {
      "metadata": {
        "id": "z1VJ6D65nHBY",
        "colab_type": "text"
      },
      "cell_type": "markdown",
      "source": [
        "- **브로드캐스트는 사칙연산에만 사용된다**는 것을 반드시 기억할 것! **행렬 곱에는 적용안됨!!!**"
      ]
    },
    {
      "metadata": {
        "id": "nvPzR19RnVDD",
        "colab_type": "text"
      },
      "cell_type": "markdown",
      "source": [
        "### numpy 전치행렬 (transpose)"
      ]
    },
    {
      "metadata": {
        "id": "sd9iRsaMnZRv",
        "colab_type": "text"
      },
      "cell_type": "markdown",
      "source": [
        "- 어떤 행렬의 전치행렬은 원본 행렬의 열은 행으로, 행은 열로 바꾼 것이다.\n",
        "- 원본 행렬을 A라고 하면 전치행렬은 A.T 로 나타낸다.\n",
        "- 즉, 1행은 1열로 바꾸고 2행은 2열로, 3행은 3열로 바꾼 행렬을 의미한다.\n",
        "\n"
      ]
    },
    {
      "metadata": {
        "id": "4KJ9lslEmHlu",
        "colab_type": "code",
        "colab": {
          "base_uri": "https://localhost:8080/",
          "height": 129
        },
        "outputId": "e836a108-7941-40a0-ff81-77ad90925d71"
      },
      "cell_type": "code",
      "source": [
        "A = np.array([ [1,2],[3,4],[5,6] ]) # 3x2행렬\n",
        "B = A.T  # A의 전치행렬, 2x3행렬\n",
        "\n",
        "print(\"A.shape ==\", A.shape, \", B.shape ==\", B.shape)\n",
        "print(A)\n",
        "print(B)"
      ],
      "execution_count": 16,
      "outputs": [
        {
          "output_type": "stream",
          "text": [
            "('A.shape ==', (3, 2), ', B.shape ==', (2, 3))\n",
            "[[1 2]\n",
            " [3 4]\n",
            " [5 6]]\n",
            "[[1 3 5]\n",
            " [2 4 6]]\n"
          ],
          "name": "stdout"
        }
      ]
    },
    {
      "metadata": {
        "id": "cRf-Z8zJoNKv",
        "colab_type": "code",
        "colab": {
          "base_uri": "https://localhost:8080/",
          "height": 148
        },
        "outputId": "23c4544e-074c-4f03-86e7-3e12c83c96d1"
      },
      "cell_type": "code",
      "source": [
        "# vector 전치행렬\n",
        "\n",
        "C = np.array([1,2,3,4,5]) # vector, matrix 아님\n",
        "D = C.T  # C는 벡터이므로 transpose 안됨\n",
        "\n",
        "E = C.reshape(1,5) # 1x5 matrix\n",
        "F = E.T  # E의 전치행렬\n",
        "\n",
        "print(\"C.shape ==\", C.shape, \", D.shape ==\", D.shape)\n",
        "print(\"E.shape ==\", E.shape, \", F.shape ==\", F.shape)\n",
        "print(F)"
      ],
      "execution_count": 17,
      "outputs": [
        {
          "output_type": "stream",
          "text": [
            "('C.shape ==', (5,), ', D.shape ==', (5,))\n",
            "('E.shape ==', (1, 5), ', F.shape ==', (5, 1))\n",
            "[[1]\n",
            " [2]\n",
            " [3]\n",
            " [4]\n",
            " [5]]\n"
          ],
          "name": "stdout"
        }
      ]
    },
    {
      "metadata": {
        "id": "kn8VF_T2oxbf",
        "colab_type": "text"
      },
      "cell_type": "markdown",
      "source": [
        "### numpy 행렬 원소 접근"
      ]
    },
    {
      "metadata": {
        "id": "_oIbfkwCrIIQ",
        "colab_type": "text"
      },
      "cell_type": "markdown",
      "source": [
        "####  indexing & slicing"
      ]
    },
    {
      "metadata": {
        "id": "i70ADsUWpFNu",
        "colab_type": "text"
      },
      "cell_type": "markdown",
      "source": [
        "- **행렬 원소 접근(l)**\n",
        "\n",
        "\n",
        "> 행렬 원소를 명시적(explicit)으로 접근하기 위해서는 리스트에서처럼, 인덱싱 & 슬라이싱 모두 사용이 가능하다.\n",
        "\n",
        "          예1) A[0,0] 또는 A[0][0]은 1행 1열, A[2,1] 또는 A[2][1]은 3행 2열임\n",
        "          예2) A[ : , 0] 은 모든 행 1열을 나타냄\n",
        "          예3) A[0:-1, 1:2] 인덱스 0인 1행부터 인덱스 -1-1=-2인 2행까지의 모든 데이터,\n",
        "                            그리고 인덱스 1인 2열부터 인덱스 2-1=1인 2열까지의 모든 데이터\n",
        "          예4) A[ :, : ] 은 모든 행, 모든 열\n",
        "\n"
      ]
    },
    {
      "metadata": {
        "id": "1BKmHSjxopyB",
        "colab_type": "code",
        "colab": {
          "base_uri": "https://localhost:8080/",
          "height": 92
        },
        "outputId": "b6abdde6-fc70-444b-851c-a32c64247020"
      },
      "cell_type": "code",
      "source": [
        "# 예제1\n",
        "\n",
        "\n",
        "A = np.array([10,20,30,40,50,60]).reshape(3,2)\n",
        "\n",
        "print(\"A.shape ==\", A.shape)\n",
        "print(A)"
      ],
      "execution_count": 18,
      "outputs": [
        {
          "output_type": "stream",
          "text": [
            "('A.shape ==', (3, 2))\n",
            "[[10 20]\n",
            " [30 40]\n",
            " [50 60]]\n"
          ],
          "name": "stdout"
        }
      ]
    },
    {
      "metadata": {
        "id": "CWL4qtyjqKsA",
        "colab_type": "code",
        "colab": {
          "base_uri": "https://localhost:8080/",
          "height": 55
        },
        "outputId": "46f0f4ec-329d-46b7-a495-c1b6e36d1986"
      },
      "cell_type": "code",
      "source": [
        "# 예제2\n",
        "\n",
        "\n",
        "print(\"A[0,0] ==\", A[0,0], \", A[0][0] ==\", A[0][0])\n",
        "print(\"A[2,1] ==\", A[2,1], \", A[2][1] ==\", A[2][1])"
      ],
      "execution_count": 19,
      "outputs": [
        {
          "output_type": "stream",
          "text": [
            "('A[0,0] ==', 10, ', A[0][0] ==', 10)\n",
            "('A[2,1] ==', 60, ', A[2][1] ==', 60)\n"
          ],
          "name": "stdout"
        }
      ]
    },
    {
      "metadata": {
        "id": "Wn8_1uuYqam2",
        "colab_type": "code",
        "colab": {
          "base_uri": "https://localhost:8080/",
          "height": 55
        },
        "outputId": "a3cd5bf0-9df1-4371-eec1-0f25aaa5ca04"
      },
      "cell_type": "code",
      "source": [
        "# 예제3\n",
        "\n",
        "\n",
        "print(\"A[0:-1, 1:2] ==\", A[0:-1, 1:2])  # == A[0:2, 1:2]"
      ],
      "execution_count": 21,
      "outputs": [
        {
          "output_type": "stream",
          "text": [
            "('A[0:-1, 1:2] ==', array([[20],\n",
            "       [40]]))\n"
          ],
          "name": "stdout"
        }
      ]
    },
    {
      "metadata": {
        "id": "YY80y8L1WOtm",
        "colab_type": "code",
        "colab": {
          "base_uri": "https://localhost:8080/",
          "height": 55
        },
        "outputId": "b216a436-7454-4c69-ce4b-cdee31c617e1"
      },
      "cell_type": "code",
      "source": [
        "A[0:2, 1:2]"
      ],
      "execution_count": 22,
      "outputs": [
        {
          "output_type": "execute_result",
          "data": {
            "text/plain": [
              "array([[20],\n",
              "       [40]])"
            ]
          },
          "metadata": {
            "tags": []
          },
          "execution_count": 22
        }
      ]
    },
    {
      "metadata": {
        "id": "ToMWigEjqqaK",
        "colab_type": "code",
        "colab": {
          "base_uri": "https://localhost:8080/",
          "height": 92
        },
        "outputId": "7c6376ff-a467-44f1-b82e-2d6f1346c09e"
      },
      "cell_type": "code",
      "source": [
        "# 예제4\n",
        "\n",
        "\n",
        "print(\"A[ :, 0] ==\", A[:, 0])\n",
        "print(\"A[ :, :] ==\", A[:, :])"
      ],
      "execution_count": 23,
      "outputs": [
        {
          "output_type": "stream",
          "text": [
            "('A[ :, 0] ==', array([10, 30, 50]))\n",
            "('A[ :, :] ==', array([[10, 20],\n",
            "       [30, 40],\n",
            "       [50, 60]]))\n"
          ],
          "name": "stdout"
        }
      ]
    },
    {
      "metadata": {
        "id": "RnMm5JvJrKKW",
        "colab_type": "text"
      },
      "cell_type": "markdown",
      "source": [
        "#### iterator"
      ]
    },
    {
      "metadata": {
        "id": "M-KiSswzrOtX",
        "colab_type": "text"
      },
      "cell_type": "markdown",
      "source": [
        "- **행렬 원소 접근(ll)**\n",
        "\n",
        "\n",
        "> 명시적(explicit) 인덱싱 & 슬라이싱 이외에 **행렬 모든 원소를 access하는 경우에는 iterator** 사용이 가능하다.\n",
        "\n",
        "\n",
        "> numpy iterator는 C++, Java iterator처럼 next() 메서드를 통해,                     \n",
        "                데이터값을 처음부터 끝까지 순차적으로 읽어들이는 방법을 제공한다.\n",
        "\n",
        "\n",
        "\n"
      ]
    },
    {
      "metadata": {
        "id": "FxU6cxHQq0uc",
        "colab_type": "code",
        "colab": {
          "base_uri": "https://localhost:8080/",
          "height": 223
        },
        "outputId": "12a5e71f-a311-48eb-bcbe-19a84338886e"
      },
      "cell_type": "code",
      "source": [
        "import numpy as np\n",
        "\n",
        "A = np.array([ [10,20,30,40], [50,60,70,80] ])\n",
        "\n",
        "print(A, \"\\n\")\n",
        "print(\"A.shape ==\", A.shape, \"\\n\")\n",
        "\n",
        "# 행렬 A의 iterator 생성\n",
        "\n",
        "it = np.nditer(A, flags=['multi_index'], op_flags=['readwrite'])\n",
        "\n",
        "while not it.finished:\n",
        "  \n",
        "  idx = it.multi_index\n",
        "  \n",
        "  print(\"current value => \", A[idx])\n",
        "  \n",
        "  it.iternext()"
      ],
      "execution_count": 24,
      "outputs": [
        {
          "output_type": "stream",
          "text": [
            "(array([[10, 20, 30, 40],\n",
            "       [50, 60, 70, 80]]), '\\n')\n",
            "('A.shape ==', (2, 4), '\\n')\n",
            "('current value => ', 10)\n",
            "('current value => ', 20)\n",
            "('current value => ', 30)\n",
            "('current value => ', 40)\n",
            "('current value => ', 50)\n",
            "('current value => ', 60)\n",
            "('current value => ', 70)\n",
            "('current value => ', 80)\n"
          ],
          "name": "stdout"
        }
      ]
    },
    {
      "metadata": {
        "id": "s9RsfZAYsc7p",
        "colab_type": "text"
      },
      "cell_type": "markdown",
      "source": [
        "2x4 행렬인 경우,\n",
        "\n",
        "> (0,0) => (0,1) => (0,2) => (0,3) => (1,0) => (1,1) => (1,2) => (1,3)   순서대로 access\n",
        " \n"
      ]
    },
    {
      "metadata": {
        "id": "BzkgLZWvdQbe",
        "colab_type": "text"
      },
      "cell_type": "markdown",
      "source": [
        "\n",
        "\n",
        "---\n",
        "\n"
      ]
    },
    {
      "metadata": {
        "id": "omB98w4MdRA9",
        "colab_type": "code",
        "colab": {}
      },
      "cell_type": "code",
      "source": [
        ""
      ],
      "execution_count": 0,
      "outputs": []
    }
  ]
}