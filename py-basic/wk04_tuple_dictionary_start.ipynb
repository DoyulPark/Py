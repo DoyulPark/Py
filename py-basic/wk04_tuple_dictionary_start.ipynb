{
 "cells": [
  {
   "cell_type": "markdown",
   "metadata": {
    "colab_type": "text",
    "id": "wxfL9kc6zoxt"
   },
   "source": [
    "# 데이터형 (Date types)\n",
    "\n",
    "- String\n",
    "- Number\n",
    "- Boolean\n",
    "- List\n",
    "- Tuple\n",
    "- Dictionary"
   ]
  },
  {
   "cell_type": "markdown",
   "metadata": {
    "colab_type": "toc",
    "id": "2Y5P8_pYz5qf"
   },
   "source": [
    ">[데이터형 (Date types)](#scrollTo=wxfL9kc6zoxt)\n",
    "\n",
    ">>[딕셔너리를 사용 (Ch.03-01)](#scrollTo=FH6m6bhMzoxu)\n",
    "\n",
    ">>>[딕셔너리(Dictionary)란](#scrollTo=DCzeacPezoxy)\n",
    "\n",
    ">>>[키를 사용하여 요소를 추출하기](#scrollTo=oOlquktszox1)\n",
    "\n",
    ">>>[키를 사용하여 요소를 치환하기](#scrollTo=LNSucE5tzox6)\n",
    "\n",
    ">>>[새로운 키와 값을 추가하기](#scrollTo=GhHvHImAzox8)\n",
    "\n",
    ">>>[키를 사용하여 요소를 삭제](#scrollTo=ntpYt9-bzox_)\n",
    "\n",
    ">>>[키의 존재 확인](#scrollTo=hrLmfPMezoyH)\n",
    "\n",
    ">>>[키를 사용한 루프](#scrollTo=YQQOnsQPzoyP)\n",
    "\n",
    ">>[딕셔너리형 구사 (Ch.4-6)](#scrollTo=ZKSl1ZSYzoyU)\n",
    "\n",
    ">>>[시퀀스 등으로부터 딕셔너리를 작성](#scrollTo=uqoL-__BzoyV)\n",
    "\n",
    ">>>[두 개의 딕셔너리를 조합](#scrollTo=Tbm5Xaxlzoyd)\n",
    "\n",
    ">>>[딕셔너리의 키를 스마트하게 다루기](#scrollTo=DUWT1Mauzoyj)\n",
    "\n",
    ">>[set(집합)을 사용 (Ch.3-2)](#scrollTo=yUFj7fc3zoys)\n",
    "\n",
    ">>>[set의 정의](#scrollTo=-OxbUwvxzoyu)\n",
    "\n",
    ">>>[set의 합집합 구하기](#scrollTo=vI2XdDfAzoyx)\n",
    "\n",
    ">>>[set의 차집합 구하기](#scrollTo=M8kCqilxzoy2)\n",
    "\n",
    ">>>[set의 교집합 구하기](#scrollTo=DKtCi36izoy6)\n",
    "\n",
    ">>>>[set의 대상차집합 구하기](#scrollTo=nMKzkkvjzoy9)\n",
    "\n",
    ">>>[set과 리스트](#scrollTo=Jg18yRCyzozB)\n",
    "\n",
    ">>>[set과 비교](#scrollTo=kCh9wTFuzozI)\n",
    "\n",
    ">>[set형 구사 (Ch.4-5)](#scrollTo=UIR9TlY1zozP)\n",
    "\n",
    ">>>[set형 메쏘드를 활용](#scrollTo=U-g1ZMb7zozQ)\n",
    "\n",
    ">>[튜플(tuple)을 사용 (Ch.03-03)](#scrollTo=EQm7wtwbzozb)\n",
    "\n",
    ">>>[튜플의 이점](#scrollTo=fb0ppf9Szozq)\n",
    "\n",
    ">>[리스트형, 튜플형 구사하기 (Ch.4-4)](#scrollTo=jk3S8pIMzoz2)\n",
    "\n",
    ">>>[리스트를 정렬](#scrollTo=BpGbXDdmzoz2)\n",
    "\n",
    ">>>[정렬 순서 커스터마이징(Customizing)](#scrollTo=pq-GZg_tzoz-)\n",
    "\n",
    ">>>[언팩 대입](#scrollTo=VQ72ppVizo0J)\n",
    "\n",
    ">>>[슬라이스의 스텝 수](#scrollTo=J6ANWY8Gzo0M)\n",
    "\n",
    ">>>[슬라이스를 사용한 요소의 대입과 삭제](#scrollTo=w3uPaJAWzo0W)\n",
    "\n",
    ">>[if문의 응용 (Ch.03-04)](#scrollTo=RPKXNI3Kzo0Z)\n",
    "\n",
    ">>>[비교 연산자와 True(참), False(거짓)](#scrollTo=4CnoeCdGzo0a)\n",
    "\n",
    ">>>[비교에 관한 메모](#scrollTo=UwvrO5E1zo0j)\n",
    "\n",
    ">>>[복잡한 비교 – 논리연산](#scrollTo=3NsrAamRzo00)\n",
    "\n",
    ">>[루프의 응용 (Ch.3-5)](#scrollTo=U_ayC-iOzo02)\n",
    "\n",
    ">>>[while문으로 루프를 작성](#scrollTo=Ro2yPszzzo02)\n",
    "\n",
    ">>>[break문과 continue문을 사용한 루프의 제어](#scrollTo=svfFQDvlzo04)\n",
    "\n",
    ">>[함수의 응용 (Ch.3-6)](#scrollTo=juUpfBNqzo0_)\n",
    "\n",
    ">>>[함수에 디폴트 인수를 정의](#scrollTo=QYhdLpK4zo1E)\n",
    "\n",
    ">>>[인수의 키워드 지정](#scrollTo=6CKM0MaKzo1K)\n",
    "\n",
    ">>>[함수와 지역 변수](#scrollTo=BmeQ017wzo1N)\n",
    "\n",
    ">>[if문과 내장형 (Ch.4-7)](#scrollTo=w_9mrjK8zo1Y)\n",
    "\n",
    ">>>[내장형과 True(참), False(거짓)](#scrollTo=yL8yOwOYzo1Z)\n",
    "\n",
    ">>[for문과 내장형 (Ch.4-8)](#scrollTo=aWLbEyTZzo1r)\n",
    "\n",
    ">>>[range( ) 함수 구사하기](#scrollTo=chvWFG8Zzo1s)\n",
    "\n",
    ">>>[시퀀스와 루프 카운터](#scrollTo=hRQx-qQEzo1y)\n",
    "\n",
    ">>>[두개의 시퀀스를 사용한 루프](#scrollTo=oi35DraXzo12)\n",
    "\n",
    ">>[함수와 내장형 (Ch.4-9)](#scrollTo=Bk3tPJv0zo13)\n",
    "\n",
    ">>>[반환값과 언팩 대입](#scrollTo=BhdEga6Jzo17)\n",
    "\n",
    ">>>>[위의 digest() 함수가 variance도 추가로 반환하게 변경해보시오!](#scrollTo=lknhUkNdDzzm)\n",
    "\n",
    ">>>[함수로 인수 리스트를 받기](#scrollTo=ZnHLqHIWzo1_)\n",
    "\n",
    ">>>[함수로 키워드 인수 받기](#scrollTo=gTIF5d1Hzo2C)\n",
    "\n",
    ">>>[기본 인수 및 갱신 가능한 내장형](#scrollTo=vbtlwiPozo2D)\n",
    "\n",
    ">[Chapter 04-01](#scrollTo=9UkYeaiwzo2I)\n",
    "\n",
    ">>[객체로서의 내장형](#scrollTo=9UkYeaiwzo2I)\n",
    "\n",
    ">>>[메쏘드란?](#scrollTo=6hCU7Ndjzo2K)\n",
    "\n"
   ]
  },
  {
   "cell_type": "markdown",
   "metadata": {
    "colab_type": "text",
    "id": "FH6m6bhMzoxu"
   },
   "source": [
    "## 딕셔너리를 사용 (Ch.03-01)"
   ]
  },
  {
   "cell_type": "code",
   "execution_count": null,
   "metadata": {
    "colab": {
     "base_uri": "https://localhost:8080/",
     "height": 34
    },
    "colab_type": "code",
    "id": "S-_DXgHAzoxw",
    "outputId": "9a5ec76c-bd22-4b1f-8f13-e31123c163d3"
   },
   "outputs": [],
   "source": [
    "# 별명, 출생지, 이름을 리스트에 저장\n",
    "purple = [\"도깨비\", \"서울\", \"김영수\"]\n",
    "\n",
    "# 인덱스를 사용하면 요소를 꺼낼 수 있지만\n",
    "# 인덱스를 기억해야 하기 때문에 조금 복잡하다\n",
    "purple[1]"
   ]
  },
  {
   "cell_type": "markdown",
   "metadata": {
    "colab_type": "text",
    "id": "DCzeacPezoxy"
   },
   "source": [
    "### 딕셔너리(Dictionary)란"
   ]
  },
  {
   "cell_type": "code",
   "execution_count": null,
   "metadata": {
    "colab": {},
    "colab_type": "code",
    "id": "nWO_OSKWzoxz"
   },
   "outputs": [],
   "source": [
    "# 딕셔너리의 정의\n",
    "purple = {\"별명\": \"도깨비\",\n",
    "          \"출신지\": \"서울\",\n",
    "          \"이름\": \"김영수\"}\n",
    "# javascript의 객체와 유사"
   ]
  },
  {
   "cell_type": "markdown",
   "metadata": {
    "colab_type": "text",
    "id": "oOlquktszox1"
   },
   "source": [
    "### 키를 사용하여 요소를 추출하기"
   ]
  },
  {
   "cell_type": "code",
   "execution_count": null,
   "metadata": {
    "colab": {
     "base_uri": "https://localhost:8080/",
     "height": 34
    },
    "colab_type": "code",
    "id": "80nTTQ4Gzox2",
    "outputId": "95cc9bd8-689d-41af-a0e3-4ab8455462d4"
   },
   "outputs": [],
   "source": [
    "# 딕셔너리로부터 값을 추출\n",
    "print(purple[\"출신지\"])"
   ]
  },
  {
   "cell_type": "code",
   "execution_count": null,
   "metadata": {
    "colab": {
     "base_uri": "https://localhost:8080/",
     "height": 34
    },
    "colab_type": "code",
    "id": "v-Ga_6Qizox3",
    "outputId": "384e5199-0b80-4e52-acff-6ca022efa5e3"
   },
   "outputs": [],
   "source": [
    "# 딕셔너리 purple의 내용을 확인\n",
    "# 딕셔너리의 내용을 보면\n",
    "# 순서가 정의했을 때와 달라지고 있다\n",
    "# (그러나 Python 3.5까지, 3.6부터는 순서가 보존된다)\n",
    "purple"
   ]
  },
  {
   "cell_type": "code",
   "execution_count": null,
   "metadata": {
    "colab": {
     "base_uri": "https://localhost:8080/",
     "height": 34
    },
    "colab_type": "code",
    "id": "3HKkDhL20PaP",
    "outputId": "86aaac79-7ce0-4fab-c47b-7fa2716c65f0"
   },
   "outputs": [],
   "source": [
    "!python --version"
   ]
  },
  {
   "cell_type": "markdown",
   "metadata": {
    "colab_type": "text",
    "id": "LNSucE5tzox6"
   },
   "source": [
    "### 키를 사용하여 요소를 치환하기"
   ]
  },
  {
   "cell_type": "code",
   "execution_count": null,
   "metadata": {
    "colab": {
     "base_uri": "https://localhost:8080/",
     "height": 34
    },
    "colab_type": "code",
    "id": "RUMWopJ6zox6",
    "outputId": "9cbd7fe6-0924-426d-b218-72034123964f"
   },
   "outputs": [],
   "source": [
    "# 값의 변경\n",
    "purple[\"이름\"] = \"홍길동\"\n",
    "purple            # 딕셔너리 내용을 확인"
   ]
  },
  {
   "cell_type": "markdown",
   "metadata": {
    "colab_type": "text",
    "id": "GhHvHImAzox8"
   },
   "source": [
    "### 새로운 키와 값을 추가하기"
   ]
  },
  {
   "cell_type": "code",
   "execution_count": null,
   "metadata": {
    "colab": {
     "base_uri": "https://localhost:8080/",
     "height": 34
    },
    "colab_type": "code",
    "id": "ST09Mfjkzox9",
    "outputId": "ae8fe649-5304-41cc-b6d3-d9846b9a4594"
   },
   "outputs": [],
   "source": [
    "# 요소의 추가\n",
    "purple[\"생년월일\"] = \"1993년 6월 21일\"\n",
    "purple            # 딕셔너리 내용을 확인"
   ]
  },
  {
   "cell_type": "markdown",
   "metadata": {
    "colab_type": "text",
    "id": "ntpYt9-bzox_"
   },
   "source": [
    "### 키를 사용하여 요소를 삭제"
   ]
  },
  {
   "cell_type": "code",
   "execution_count": null,
   "metadata": {
    "colab": {
     "base_uri": "https://localhost:8080/",
     "height": 34
    },
    "colab_type": "code",
    "id": "ik504Xhyzox_",
    "outputId": "3d229ff8-cb9a-405a-ba6f-6430e7f902af"
   },
   "outputs": [],
   "source": [
    "# 요소의 삭제\n",
    "del purple[\"별명\"]\n",
    "purple            # 딕셔너리 내용을 확인"
   ]
  },
  {
   "cell_type": "code",
   "execution_count": null,
   "metadata": {
    "colab": {
     "base_uri": "https://localhost:8080/",
     "height": 168
    },
    "colab_type": "code",
    "id": "Kw9jSQkXzoyD",
    "outputId": "2d30928d-c3f1-4640-f98d-e848de6d2de5"
   },
   "outputs": [],
   "source": [
    "# 존재하지 않는 키를 지정한 경우\n",
    "purple[\"별명\"]"
   ]
  },
  {
   "cell_type": "code",
   "execution_count": null,
   "metadata": {
    "colab": {
     "base_uri": "https://localhost:8080/",
     "height": 34
    },
    "colab_type": "code",
    "id": "htgdzMBD04AZ",
    "outputId": "8b02f890-33a1-42ca-c1ea-602a7184d2c0"
   },
   "outputs": [],
   "source": [
    "purple.keys()"
   ]
  },
  {
   "cell_type": "code",
   "execution_count": null,
   "metadata": {
    "colab": {
     "base_uri": "https://localhost:8080/",
     "height": 34
    },
    "colab_type": "code",
    "id": "KPAEt4bZ099s",
    "outputId": "95fdc67f-2b63-4092-b0f5-dfe1cc7fac3a"
   },
   "outputs": [],
   "source": [
    "purple.values()"
   ]
  },
  {
   "cell_type": "markdown",
   "metadata": {
    "colab_type": "text",
    "id": "hrLmfPMezoyH"
   },
   "source": [
    "### 키의 존재 확인"
   ]
  },
  {
   "cell_type": "code",
   "execution_count": null,
   "metadata": {
    "colab": {},
    "colab_type": "code",
    "id": "nNhTY7JkzoyI"
   },
   "outputs": [],
   "source": [
    "# convert_number() 함수의 정의\n",
    "# in을 사용한 키의 존재 확인 샘플\n",
    "def convert_number(num):\n",
    "    # 아라비아 숫자와 로마 숫자의 대응표를 딕셔너리에 정의\n",
    "    roman_nums = {1:\"I\", 2:\"II\", 3:\"III\", 4:\"IV\", 5:\"V\",\n",
    "                  6:\"VI\", 7:\"VII\", 8:\"VIII\", 9:\"IX\"}\n",
    "    if num in roman_nums:\n",
    "        # 딕셔너리의 키로 인수의 정수가 존재하고 있으면\n",
    "        # 키에 대응하는 값을 리턴값으로 한다\n",
    "        return roman_nums[num]\n",
    "    else:\n",
    "        return \"[변환 불가]\""
   ]
  },
  {
   "cell_type": "code",
   "execution_count": null,
   "metadata": {
    "colab": {
     "base_uri": "https://localhost:8080/",
     "height": 34
    },
    "colab_type": "code",
    "id": "DjK2x410zoyM",
    "outputId": "f53bba5a-bbd0-4776-a165-363aef3b2d94"
   },
   "outputs": [],
   "source": [
    "convert_number(3)   # 함수 호출"
   ]
  },
  {
   "cell_type": "code",
   "execution_count": null,
   "metadata": {
    "colab": {
     "base_uri": "https://localhost:8080/",
     "height": 34
    },
    "colab_type": "code",
    "id": "6fxZdy2o1Rkq",
    "outputId": "8cd62467-1371-4e99-b8b3-fca0e48b5448"
   },
   "outputs": [],
   "source": [
    "convert_number(10)"
   ]
  },
  {
   "cell_type": "markdown",
   "metadata": {
    "colab_type": "text",
    "id": "YQQOnsQPzoyP"
   },
   "source": [
    "### 키를 사용한 루프"
   ]
  },
  {
   "cell_type": "code",
   "execution_count": null,
   "metadata": {
    "colab": {},
    "colab_type": "code",
    "id": "_XKcJbTJzoyQ"
   },
   "outputs": [],
   "source": [
    "# 딕셔너리의 키를 사용한 루프\n",
    "purple = {\"별명\": \"도깨비\",\n",
    "          \"출신지\": \"서울\",\n",
    "          \"이름\": \"홍길동\",\n",
    "          \"생년월일\": \"1993년 6월 21일\"}"
   ]
  },
  {
   "cell_type": "code",
   "execution_count": null,
   "metadata": {
    "colab": {
     "base_uri": "https://localhost:8080/",
     "height": 86
    },
    "colab_type": "code",
    "id": "2hSxXPhm1j0m",
    "outputId": "9bc8a481-75a8-44ab-a9e7-dae50d2fc9b6"
   },
   "outputs": [],
   "source": [
    "for key in purple:           # 키를 전부 추출\n",
    "    print(key, purple[key])  # 키와 요소를 표시"
   ]
  },
  {
   "cell_type": "markdown",
   "metadata": {
    "colab_type": "text",
    "id": "ZKSl1ZSYzoyU"
   },
   "source": [
    "## 딕셔너리형 구사 (Ch.4-6)"
   ]
  },
  {
   "cell_type": "markdown",
   "metadata": {
    "colab_type": "text",
    "id": "uqoL-__BzoyV"
   },
   "source": [
    "### 시퀀스 등으로부터 딕셔너리를 작성"
   ]
  },
  {
   "cell_type": "code",
   "execution_count": null,
   "metadata": {
    "colab": {
     "base_uri": "https://localhost:8080/",
     "height": 34
    },
    "colab_type": "code",
    "id": "v62Laqs5zoyW",
    "outputId": "87177882-2732-46a8-a4cc-c9b29f47474b"
   },
   "outputs": [],
   "source": [
    "# {'one':1, 'two':2}라는 딕셔너리를 만든다\n",
    "\n",
    "# 딕셔너리에서 딕셔너리를 만듦(복사)\n",
    "dict({'one':1, 'two':2})"
   ]
  },
  {
   "cell_type": "code",
   "execution_count": null,
   "metadata": {
    "colab": {
     "base_uri": "https://localhost:8080/",
     "height": 34
    },
    "colab_type": "code",
    "id": "bCDp485qzoyY",
    "outputId": "e31cba8f-caa2-4672-a32b-50cd6c4b0d22"
   },
   "outputs": [],
   "source": [
    "# 키와 값의 시퀀스로 딕셔너리를 만듦\n",
    "dict([['one', 1], ['two', 2]])"
   ]
  },
  {
   "cell_type": "code",
   "execution_count": null,
   "metadata": {
    "colab": {
     "base_uri": "https://localhost:8080/",
     "height": 34
    },
    "colab_type": "code",
    "id": "rsZcACMLzoya",
    "outputId": "0a17465d-4952-4fa0-a5be-b6a665f6cb39"
   },
   "outputs": [],
   "source": [
    "# 키워드 인수로 딕셔너리를 만듦\n",
    "dict(one=1, two=2)"
   ]
  },
  {
   "cell_type": "markdown",
   "metadata": {
    "colab_type": "text",
    "id": "Tbm5Xaxlzoyd"
   },
   "source": [
    "### 두 개의 딕셔너리를 조합"
   ]
  },
  {
   "cell_type": "code",
   "execution_count": null,
   "metadata": {
    "colab": {
     "base_uri": "https://localhost:8080/",
     "height": 34
    },
    "colab_type": "code",
    "id": "RKBnHhLOzoye",
    "outputId": "6451a0f7-9e00-47f0-ffef-7e2f67b9773d"
   },
   "outputs": [],
   "source": [
    "# update() 메쏘드에 의한 딕셔너리의 연결\n",
    "rssitem = {\"title\"  :\"파이썬의 공부 전\",\n",
    "           \"link\"   :\"http://host.to/blog/entry\",\n",
    "           \"dc_date\":\"2016-07-12T13:24:04Z\"}\n",
    "# 딕셔너리 변경\n",
    "rssitem.update({\"title\"     :\"파이썬을 공부 중\",\n",
    "                \"dc:creator\":\"someone\"})\n",
    "rssitem.keys()   # 키의 요약을 표시"
   ]
  },
  {
   "cell_type": "code",
   "execution_count": null,
   "metadata": {
    "colab": {
     "base_uri": "https://localhost:8080/",
     "height": 86
    },
    "colab_type": "code",
    "id": "iPeyXl2Pzoyi",
    "outputId": "c5a00c2e-a7df-4fd0-920f-4129794f8c8e"
   },
   "outputs": [],
   "source": [
    "rssitem          # 딕셔너리를 표시, 키는 유일!"
   ]
  },
  {
   "cell_type": "markdown",
   "metadata": {
    "colab_type": "text",
    "id": "DUWT1Mauzoyj"
   },
   "source": [
    "### 딕셔너리의 키를 스마트하게 다루기"
   ]
  },
  {
   "cell_type": "code",
   "execution_count": null,
   "metadata": {
    "colab": {
     "base_uri": "https://localhost:8080/",
     "height": 34
    },
    "colab_type": "code",
    "id": "EVlU59aZzoyk",
    "outputId": "8e59c231-4dfc-4789-bc71-24f71804e876"
   },
   "outputs": [],
   "source": [
    "# 영어 단어의 출현 수를 딕셔너리에서 계산\n",
    "#\n",
    "# 책에서는 지면의 사정 등으로 추상적인 샘플 코드를 게재하고 있지만\n",
    "# 여기에 코드를 보충하여 다시 작성했다\n",
    "\n",
    "line = \"\"\"If you can dream it, you can do it. \n",
    "- Walt Disney\"\"\"\n",
    "wordcnt = {}              # 딕셔너리를 초기화\n",
    "for word in line.split():\n",
    "    if word in wordcnt:\n",
    "        wordcnt[word] = wordcnt[word]+1\n",
    "    else:\n",
    "        wordcnt[word] = 1\n",
    "print(wordcnt)            # 결과 표시"
   ]
  },
  {
   "cell_type": "code",
   "execution_count": null,
   "metadata": {
    "colab": {
     "base_uri": "https://localhost:8080/",
     "height": 34
    },
    "colab_type": "code",
    "id": "HziI8aY2zoym",
    "outputId": "0ba5e579-622b-40bf-de5d-fd8d87afdb5e"
   },
   "outputs": [],
   "source": [
    "# 딕셔너리의 get 메쏘드를 사용하여 다시 작성\n",
    "wordcnt = {}              # 딕셔너리를 초기화\n",
    "for word in line.split():\n",
    "    wordcnt[word] = wordcnt.get(word, 0)+1\n",
    "print(wordcnt)            # 결과 표시"
   ]
  },
  {
   "cell_type": "code",
   "execution_count": null,
   "metadata": {},
   "outputs": [],
   "source": [
    "wordcnt"
   ]
  },
  {
   "cell_type": "markdown",
   "metadata": {
    "colab_type": "text",
    "id": "l-ta-d1w7J-s"
   },
   "source": [
    "[get() method of dictionary](https://www.programiz.com/python-programming/methods/dictionary/get)"
   ]
  },
  {
   "cell_type": "code",
   "execution_count": null,
   "metadata": {
    "colab": {
     "base_uri": "https://localhost:8080/",
     "height": 34
    },
    "colab_type": "code",
    "id": "zmOm0cvZzoyo",
    "outputId": "8f59e05d-5b44-49f3-a1f0-098c2c7801fd"
   },
   "outputs": [],
   "source": [
    "# 더미 setdefault()를 사용한 샘플\n",
    "wordcnt = {}              # 딕셔너리를 초기화\n",
    "for word in line.split():\n",
    "    wordcnt[word] = wordcnt.setdefault(word, 0) + 1\n",
    "print(wordcnt)            # 결과 표시"
   ]
  },
  {
   "cell_type": "code",
   "execution_count": null,
   "metadata": {
    "colab": {},
    "colab_type": "code",
    "id": "TYSjJO99zoyq"
   },
   "outputs": [],
   "source": [
    "# "
   ]
  },
  {
   "cell_type": "markdown",
   "metadata": {
    "colab_type": "text",
    "id": "yUFj7fc3zoys"
   },
   "source": [
    "## set(집합)을 사용 (Ch.3-2)"
   ]
  },
  {
   "cell_type": "markdown",
   "metadata": {
    "colab_type": "text",
    "id": "-OxbUwvxzoyu"
   },
   "source": [
    "### set의 정의"
   ]
  },
  {
   "cell_type": "code",
   "execution_count": null,
   "metadata": {
    "colab": {},
    "colab_type": "code",
    "id": "WGxZpAqdzoyu"
   },
   "outputs": [],
   "source": [
    "# set의 정의: key 없이 항목으로만 정의\n",
    "dice = {1, 2, 3, 4, 5, 6}\n",
    "coin = {\"앞면\", \"뒷면\"}"
   ]
  },
  {
   "cell_type": "markdown",
   "metadata": {
    "colab_type": "text",
    "id": "vI2XdDfAzoyx"
   },
   "source": [
    "### set의 합집합 구하기"
   ]
  },
  {
   "cell_type": "code",
   "execution_count": null,
   "metadata": {
    "colab": {
     "base_uri": "https://localhost:8080/",
     "height": 34
    },
    "colab_type": "code",
    "id": "EU6piRfSzoyy",
    "outputId": "255ece8e-a01d-4ebb-bb91-ee2ae05fa749"
   },
   "outputs": [],
   "source": [
    "# 합집합의 연산\n",
    "prime = {2, 3, 5, 7, 13, 17}  # 소수의 set을 정의\n",
    "fib = {1, 1, 2, 3, 5, 8, 13}  # 피보나치수의 set을 정의\n",
    "\n",
    "prime_fib = prime | fib       # 2개의 합집합\n",
    "prime_fib                     # 얻어진 합집합을 표시"
   ]
  },
  {
   "cell_type": "code",
   "execution_count": null,
   "metadata": {},
   "outputs": [],
   "source": [
    "# 중복 불허\n",
    "fib,prime"
   ]
  },
  {
   "cell_type": "markdown",
   "metadata": {
    "colab_type": "text",
    "id": "M8kCqilxzoy2"
   },
   "source": [
    "### set의 차집합 구하기"
   ]
  },
  {
   "cell_type": "code",
   "execution_count": null,
   "metadata": {
    "colab": {
     "base_uri": "https://localhost:8080/",
     "height": 34
    },
    "colab_type": "code",
    "id": "LqqPKA9Lzoy3",
    "outputId": "439334c8-210d-4d3f-cd24-8d3b5f5a64d4"
   },
   "outputs": [],
   "source": [
    "# 차집합의 작성\n",
    "dice = {1, 2, 3, 4, 5, 6}      # 주사위 눈의 set을 정의\n",
    "even = {2, 4, 6, 8, 10}        # 짝수의 set을 정의\n",
    "\n",
    "odd_dice = dice - even         # 주사위의 눈과 짝수의 차집합\n",
    "odd_dice                       # 홀수만 표시"
   ]
  },
  {
   "cell_type": "code",
   "execution_count": null,
   "metadata": {},
   "outputs": [],
   "source": [
    "even-dice"
   ]
  },
  {
   "cell_type": "markdown",
   "metadata": {
    "colab_type": "text",
    "id": "DKtCi36izoy6"
   },
   "source": [
    "### set의 교집합 구하기"
   ]
  },
  {
   "cell_type": "code",
   "execution_count": null,
   "metadata": {
    "colab": {
     "base_uri": "https://localhost:8080/",
     "height": 34
    },
    "colab_type": "code",
    "id": "vr5TOTSPzoy6",
    "outputId": "187047f9-94b8-4140-c41e-475fca95d525"
   },
   "outputs": [],
   "source": [
    "# 교집합 구하기\n",
    "prefs = {\"부산\", \"충청남도\", \"전라남도\", \"경상남도\"}  # 지방명의 set을 정의\n",
    "capitals = {\"부산\", \"천안\", \"나주\", \"창원\"}        # 도청소재지의 set을 정의\n",
    "\n",
    "pref_cap = prefs & capitals       # 2개의 교집합\n",
    "pref_cap                          # 교집합의 표시"
   ]
  },
  {
   "cell_type": "markdown",
   "metadata": {
    "colab_type": "text",
    "id": "nMKzkkvjzoy9"
   },
   "source": [
    "#### set의 대상차집합 구하기"
   ]
  },
  {
   "cell_type": "code",
   "execution_count": null,
   "metadata": {
    "colab": {
     "base_uri": "https://localhost:8080/",
     "height": 34
    },
    "colab_type": "code",
    "id": "GADjO9u9zoy-",
    "outputId": "d0ce56d3-4684-4892-879e-1863cf7db243"
   },
   "outputs": [],
   "source": [
    "# 대상차집합의 작성\n",
    "prefs = {\"부산\", \"충청남도\", \"전라남도\", \"경상남도\"}  # 지방명의 set을 정의\n",
    "capitals = {\"부산\", \"천안\", \"나주\", \"창원\"}        # 도청소재지의 set을 정의\n",
    "\n",
    "pref_cap2 = prefs ^ capitals       # 2개의 대상차집합을 구함\n",
    "pref_cap2                          # 대상차집합을 표시"
   ]
  },
  {
   "cell_type": "markdown",
   "metadata": {
    "colab_type": "text",
    "id": "Jg18yRCyzozB"
   },
   "source": [
    "### set과 리스트"
   ]
  },
  {
   "cell_type": "code",
   "execution_count": null,
   "metadata": {
    "colab": {
     "base_uri": "https://localhost:8080/",
     "height": 34
    },
    "colab_type": "code",
    "id": "rpA7zRfzzozE",
    "outputId": "e1d02222-ee19-4983-92b6-31fa89c1f60d"
   },
   "outputs": [],
   "source": [
    "# 리스트를 set에 변환하기\n",
    "# set을 사용하여 문자열 리스트의 중복을 제거하는\n",
    "# 문자열 리스트를 정의\n",
    "codon = ['ATG', 'GGC', 'TCC', 'AAG', 'TTC', 'TGG',\n",
    "         'GAC', 'TCC']\n",
    "s_codon = set(codon)      # 리스트를 set으로 변환\n",
    "print(len(codon), len(s_codon))    # 리스트와 set의 길이를 표시"
   ]
  },
  {
   "cell_type": "code",
   "execution_count": null,
   "metadata": {
    "colab": {
     "base_uri": "https://localhost:8080/",
     "height": 34
    },
    "colab_type": "code",
    "id": "4G4v81jdzozG",
    "outputId": "4d48e6ca-5546-435e-83d6-3491318a95a4"
   },
   "outputs": [],
   "source": [
    "s_codon  # 코돈(codon)이란 특정 아미노산을 결정짓는 mRNA 상의 3개의 염기서열"
   ]
  },
  {
   "cell_type": "markdown",
   "metadata": {
    "colab_type": "text",
    "id": "kCh9wTFuzozI"
   },
   "source": [
    "### set과 비교"
   ]
  },
  {
   "cell_type": "code",
   "execution_count": null,
   "metadata": {
    "colab": {
     "base_uri": "https://localhost:8080/",
     "height": 52
    },
    "colab_type": "code",
    "id": "8qb1Xm6UzozI",
    "outputId": "1acf9d4c-7896-48e0-dbac-62601f96b6a9"
   },
   "outputs": [],
   "source": [
    "# 요소의 검색과 set의 비교\n",
    "prime = {2, 3, 5, 7, 13, 17}  # 소수의 set을 정의\n",
    "fib = {1, 1, 2, 3, 5, 8, 13}  # 피보나치수의 set을 정의\n",
    "\n",
    "prime_fib = prime & fib       # 2개의 교집합을 연산\n",
    "if 13 in prime_fib:\n",
    "    print(\"13은 소수이고, 피보나치 수이기도 하다\")\n",
    "if {2, 3} <= prime_fib:\n",
    "    print(\"2, 3은 소수이고, 피보나치 수이기도 하다\")"
   ]
  },
  {
   "cell_type": "code",
   "execution_count": null,
   "metadata": {
    "colab": {
     "base_uri": "https://localhost:8080/",
     "height": 34
    },
    "colab_type": "code",
    "id": "ChoJFGQDzozK",
    "outputId": "1bc736a0-60d1-4f13-fb72-bc9e865caa4c"
   },
   "outputs": [],
   "source": [
    "prime_fib"
   ]
  },
  {
   "cell_type": "code",
   "execution_count": null,
   "metadata": {
    "colab": {},
    "colab_type": "code",
    "id": "slGZiHaAzozM"
   },
   "outputs": [],
   "source": [
    "if {1, 2, 3} <= prime_fib:\n",
    "    print(\"2, 3은 소수이고, 피보나치 수이기도 하다\")\n",
    "# else 추가 \"1은 소수가 아니다.\""
   ]
  },
  {
   "cell_type": "code",
   "execution_count": null,
   "metadata": {
    "colab": {},
    "colab_type": "code",
    "id": "vj4LNv7GzozN"
   },
   "outputs": [],
   "source": []
  },
  {
   "cell_type": "markdown",
   "metadata": {
    "colab_type": "text",
    "id": "UIR9TlY1zozP"
   },
   "source": [
    "## set형 구사 (Ch.4-5)"
   ]
  },
  {
   "cell_type": "markdown",
   "metadata": {
    "colab_type": "text",
    "id": "U-g1ZMb7zozQ"
   },
   "source": [
    "### set형 메쏘드를 활용"
   ]
  },
  {
   "cell_type": "code",
   "execution_count": null,
   "metadata": {
    "colab": {
     "base_uri": "https://localhost:8080/",
     "height": 34
    },
    "colab_type": "code",
    "id": "GXnO9RYLzozQ",
    "outputId": "acf5ef3a-dbf3-485c-dd92-5fba506b115c"
   },
   "outputs": [],
   "source": [
    "# set형 메쏘드에는 두가지 방법이 있다\n",
    "# 하나는 결과 set의 복사본을 반환 객체를 변경하는 메쏘드이다\n",
    "prime = set([2, 3, 5, 7, 11])\n",
    "fib = set([0, 1, 2, 3, 5, 8])\n",
    "new_set = prime.union(fib)     # 메소드가 돌려주는 결과를 변수로 받음\n",
    "new_set                        # 변수를 표시"
   ]
  },
  {
   "cell_type": "code",
   "execution_count": null,
   "metadata": {
    "colab": {
     "base_uri": "https://localhost:8080/",
     "height": 34
    },
    "colab_type": "code",
    "id": "qc13SoaazozS",
    "outputId": "5ff40db9-e3b2-4afa-dadc-a0c8d2c4699b"
   },
   "outputs": [],
   "source": [
    "prime                          # 메쏘드를 호출한 원래의 변수는 변하지 않는다"
   ]
  },
  {
   "cell_type": "code",
   "execution_count": null,
   "metadata": {
    "colab": {
     "base_uri": "https://localhost:8080/",
     "height": 34
    },
    "colab_type": "code",
    "id": "NTkwxhojzozT",
    "outputId": "95a01e8d-59a2-4f4a-d2ac-33610b657559"
   },
   "outputs": [],
   "source": [
    "# 다른 하나는 개체 자체를 변경하는 메쏘드입니다\n",
    "\n",
    "prefs = set(['서울시', '경기도', '강원도'])   # set 정의\n",
    "prefs.add('제주도')                        # 요수를 추가\n",
    "prefs                                     # 요소를 표시"
   ]
  },
  {
   "cell_type": "code",
   "execution_count": null,
   "metadata": {
    "colab": {},
    "colab_type": "code",
    "id": "fywh4GF4zoza"
   },
   "outputs": [],
   "source": []
  },
  {
   "cell_type": "markdown",
   "metadata": {
    "colab_type": "text",
    "id": "EQm7wtwbzozb"
   },
   "source": [
    "## 튜플(tuple) (Ch.03-03)"
   ]
  },
  {
   "cell_type": "code",
   "execution_count": null,
   "metadata": {
    "colab": {},
    "colab_type": "code",
    "id": "j6u_rGsbzozc"
   },
   "outputs": [],
   "source": [
    "# 튜플의 정의\n",
    "month_names = (\"January\", \"February\", \"March\", \"April\",\n",
    "               \"May\", \"June\", \"July\")"
   ]
  },
  {
   "cell_type": "code",
   "execution_count": null,
   "metadata": {
    "colab": {
     "base_uri": "https://localhost:8080/",
     "height": 34
    },
    "colab_type": "code",
    "id": "sLAAiNWnzozg",
    "outputId": "ef5d8597-b5ef-42b4-e5ef-bf9a0d482982"
   },
   "outputs": [],
   "source": [
    "# 튜플에서 요소를 추출\n",
    "month_names[1]   # 2월의 이름을 표시"
   ]
  },
  {
   "cell_type": "code",
   "execution_count": null,
   "metadata": {
    "colab": {
     "base_uri": "https://localhost:8080/",
     "height": 168
    },
    "colab_type": "code",
    "id": "93-NRaP-zozj",
    "outputId": "fe5239c5-ba13-404e-d5f7-f649fda28854"
   },
   "outputs": [],
   "source": [
    "# 튜플은 요소의 변경이 불가능!!!\n",
    "month_names[0] = \"오월\""
   ]
  },
  {
   "cell_type": "code",
   "execution_count": null,
   "metadata": {
    "colab": {
     "base_uri": "https://localhost:8080/",
     "height": 34
    },
    "colab_type": "code",
    "id": "alg-v8Unzozn",
    "outputId": "13c77442-84a7-417a-f45d-c44738100b10"
   },
   "outputs": [],
   "source": [
    "# 튜플의 연결\n",
    "month_names = month_names + (\"August\", \"September\", \"October\", \n",
    "                           \"November\", \"December\")\n",
    "month_names[11]   # 12월의 이름을 표시"
   ]
  },
  {
   "cell_type": "markdown",
   "metadata": {
    "colab_type": "text",
    "id": "fb0ppf9Szozq"
   },
   "source": [
    "### 튜플의 이점"
   ]
  },
  {
   "cell_type": "code",
   "execution_count": null,
   "metadata": {
    "colab": {
     "base_uri": "https://localhost:8080/",
     "height": 133
    },
    "colab_type": "code",
    "id": "OE59r8-Rzozs",
    "outputId": "8ac24e3f-5f1f-4b8d-85c5-7c59101a0048"
   },
   "outputs": [],
   "source": [
    "# 튜플을 키로 사용한 딕셔너리의 작성\n",
    "# 시/도청 소재지와 위도, 경도를 딕셔너리에 등록\n",
    "pref_capitals = {(37.27479, 127.00962):\"경기도(수원시)\",\n",
    "                 (37.88565, 127.73):\"강원도(춘천시)\",\n",
    "                 (36.48008, 127.28921):\"세종특별자치시(보람동)\""
   ]
  },
  {
   "cell_type": "code",
   "execution_count": null,
   "metadata": {
    "colab": {
     "base_uri": "https://localhost:8080/",
     "height": 34
    },
    "colab_type": "code",
    "id": "TeH5a101zozt",
    "outputId": "8ed5d64a-2490-4c4e-fa81-d75c00b1ab4c"
   },
   "outputs": [],
   "source": [
    "# 지정한 위도, 경도에 맞는 시/도청 소재지를 조사\n",
    "loc = (36.48008, 127.28921)    # 조사하고 싶은 지점의 위도, 경도\n",
    "for key in pref_capitals:      # 키로 루프\n",
    "    if loc == key:\n",
    "        # 조사하고 싶은 지점과 딕셔너리의 키가 같은가\n",
    "        print(pref_capitals[key])\n",
    "        break                 # 루프를 빠져나옴"
   ]
  },
  {
   "cell_type": "code",
   "execution_count": null,
   "metadata": {
    "colab": {
     "base_uri": "https://localhost:8080/",
     "height": 34
    },
    "colab_type": "code",
    "id": "JDCmbBebzozx",
    "outputId": "d1929d42-e187-4d29-984d-b08681d29071"
   },
   "outputs": [],
   "source": [
    "# 지정한 위도, 경도에 가장 가까운 시/도청 소재지를 조사\n",
    "loc = (36.35016, 127.38571)   # 조사하고 싶은 지점의 위도, 경도\n",
    "nearest_cap = ''              # 가장 가까운 시/도청 소재지명을 보존하는 변수\n",
    "nearest_dist = 10000          # 가장 가까운 지점까지의 거리를 보존하는 변수\n",
    "for key in pref_capitals:     # 키로 루프\n",
    "    # 위도, 경도의 차를 제곱하여 거리를 계산\n",
    "    dist = (loc[0]-key[0])**2+(loc[1]-key[1])**2  # distance between locations\n",
    "    if nearest_dist > dist:\n",
    "        # 보다 가까운 지점을 발견했으므로 변수에 대입\n",
    "        nearest_dist = dist\n",
    "        nearest_cap = pref_capitals[key]\n",
    "\n",
    "print(nearest_cap)"
   ]
  },
  {
   "cell_type": "code",
   "execution_count": null,
   "metadata": {
    "colab": {},
    "colab_type": "code",
    "id": "_V4maJYZzozz"
   },
   "outputs": [],
   "source": [
    "# break\n",
    "# break\n",
    "# break"
   ]
  },
  {
   "cell_type": "markdown",
   "metadata": {
    "colab_type": "text",
    "id": "jk3S8pIMzoz2"
   },
   "source": [
    "## 리스트형, 튜플형 구사하기 (Ch.4-4)"
   ]
  },
  {
   "cell_type": "markdown",
   "metadata": {
    "colab_type": "text",
    "id": "BpGbXDdmzoz2"
   },
   "source": [
    "### 리스트를 정렬"
   ]
  },
  {
   "cell_type": "code",
   "execution_count": null,
   "metadata": {
    "colab": {
     "base_uri": "https://localhost:8080/",
     "height": 34
    },
    "colab_type": "code",
    "id": "OWFkcSbbzoz3",
    "outputId": "d0d6eb36-82fe-4d71-947f-1923cf35bf32"
   },
   "outputs": [],
   "source": [
    "# 오름차순으로 정렬\n",
    "monk_fish_team = [158, 157, 163, 157, 145]\n",
    "monk_fish_team.sort()          # 정렬하기\n",
    "monk_fish_team                 # 리스트 내용 확인"
   ]
  },
  {
   "cell_type": "code",
   "execution_count": null,
   "metadata": {
    "colab": {
     "base_uri": "https://localhost:8080/",
     "height": 34
    },
    "colab_type": "code",
    "id": "AR3jmEKFzoz5",
    "outputId": "03333938-4781-4d0b-b991-a830341e0613"
   },
   "outputs": [],
   "source": [
    "# 내림차순으로 정렬\n",
    "monk_fish_team.sort(reverse=True)  # 정렬하기\n",
    "monk_fish_team                     # 리스트 내용 확인"
   ]
  },
  {
   "cell_type": "markdown",
   "metadata": {
    "colab_type": "text",
    "id": "pq-GZg_tzoz-"
   },
   "source": [
    "### 정렬 순서 커스터마이징(Customizing)"
   ]
  },
  {
   "cell_type": "code",
   "execution_count": null,
   "metadata": {
    "colab": {},
    "colab_type": "code",
    "id": "R8Wr4i2Mzoz_"
   },
   "outputs": [],
   "source": [
    "# 튜플의 리스트를 작성\n",
    "tank_data = [(\"A형 전차\", 38, 80, 75), (\"B형 전차\", 42, 50, 37),\n",
    "             (\"X형 전차\", 20, 17, 57), (\"Y형 전차\", 40, 50, 75),\n",
    "             (\"Z형 전차\", 39, 51, 75)]"
   ]
  },
  {
   "cell_type": "code",
   "execution_count": null,
   "metadata": {
    "colab": {},
    "colab_type": "code",
    "id": "a1_cwOiIzo0A"
   },
   "outputs": [],
   "source": [
    "# 전차의 제원을 더해 반환하는 함수\n",
    "# 정렬에 사용할 함수를 정의\n",
    "def evaluate_tankdata(tup):\n",
    "    return tup[1]+tup[2]+tup[3]"
   ]
  },
  {
   "cell_type": "code",
   "execution_count": null,
   "metadata": {
    "colab": {
     "base_uri": "https://localhost:8080/",
     "height": 52
    },
    "colab_type": "code",
    "id": "KCrgLoTizo0D",
    "outputId": "6731e15d-bf24-4767-e62d-a8e3f175d0cc"
   },
   "outputs": [],
   "source": [
    "# 각 전차의 강함을 표시\n",
    "print(evaluate_tankdata(tank_data[0]))\n",
    "print(evaluate_tankdata(tank_data[4]))"
   ]
  },
  {
   "cell_type": "code",
   "execution_count": null,
   "metadata": {
    "colab": {
     "base_uri": "https://localhost:8080/",
     "height": 34
    },
    "colab_type": "code",
    "id": "Ljsf79LD7oM3",
    "outputId": "30c0c9da-2cfb-49aa-eaa8-614ba8625fb8"
   },
   "outputs": [],
   "source": [
    "# 다음 계산 결과는?\n",
    "evaluate_tankdata(tank_data)"
   ]
  },
  {
   "cell_type": "code",
   "execution_count": null,
   "metadata": {
    "colab": {
     "base_uri": "https://localhost:8080/",
     "height": 34
    },
    "colab_type": "code",
    "id": "hvXkKRDlzo0F",
    "outputId": "51be9edf-9819-480b-b31a-3c3c81eca5bb"
   },
   "outputs": [],
   "source": [
    "# 전차의 강함으로 정렬하기\n",
    "tank_data.sort(key=evaluate_tankdata, reverse=True)\n",
    "print(tank_data)"
   ]
  },
  {
   "cell_type": "markdown",
   "metadata": {
    "colab_type": "text",
    "id": "VQ72ppVizo0J"
   },
   "source": [
    "### 언팩 대입"
   ]
  },
  {
   "cell_type": "code",
   "execution_count": null,
   "metadata": {
    "colab": {
     "base_uri": "https://localhost:8080/",
     "height": 34
    },
    "colab_type": "code",
    "id": "EQX6-MzIzo0J",
    "outputId": "3f4fb660-c4eb-4e33-dbe8-f324a0256799"
   },
   "outputs": [],
   "source": [
    "# 언팩 대입 사용\n",
    "a = 1\n",
    "b = 2\n",
    "b, a = a, b   # 여러 개의 요소를 동시에 대입\n",
    "print(a, b)"
   ]
  },
  {
   "cell_type": "markdown",
   "metadata": {
    "colab_type": "text",
    "id": "J6ANWY8Gzo0M"
   },
   "source": [
    "### 슬라이스의 스텝 수"
   ]
  },
  {
   "cell_type": "code",
   "execution_count": null,
   "metadata": {
    "colab": {
     "base_uri": "https://localhost:8080/",
     "height": 34
    },
    "colab_type": "code",
    "id": "ubNfuvlgzo0M",
    "outputId": "a0a5d45e-f0eb-4a9e-8919-e4daf1457e93"
   },
   "outputs": [],
   "source": [
    "# 리스트에서 슬라이스로 요소를 추출\n",
    "a = [1, 2, 3, 4, 5]   # 리스트 정의\n",
    "a                     # 리스트 보기"
   ]
  },
  {
   "cell_type": "code",
   "execution_count": null,
   "metadata": {
    "colab": {
     "base_uri": "https://localhost:8080/",
     "height": 34
    },
    "colab_type": "code",
    "id": "HX-sfGoIzo0Q",
    "outputId": "8647147a-20e5-4ebc-8f1c-2e1760e63a5c"
   },
   "outputs": [],
   "source": [
    "# 슬라이스의 범위를 지정\n",
    "a[1:4]                # 인덱스 1부터 3까지 추출, [1:3]이 아닌 것에 주의"
   ]
  },
  {
   "cell_type": "code",
   "execution_count": null,
   "metadata": {
    "colab": {
     "base_uri": "https://localhost:8080/",
     "height": 34
    },
    "colab_type": "code",
    "id": "p8gCXgvmzo0T",
    "outputId": "54bb49e9-05b0-4b69-9a48-3f230395c2a6"
   },
   "outputs": [],
   "source": [
    "# 인덱스 이상의 요소 수를 지정\n",
    "a[2:100]              # 오류가 나지 않음"
   ]
  },
  {
   "cell_type": "code",
   "execution_count": null,
   "metadata": {
    "colab": {
     "base_uri": "https://localhost:8080/",
     "height": 34
    },
    "colab_type": "code",
    "id": "2tGzrzdN87Yp",
    "outputId": "7b9e8940-a50e-4cd6-9a29-5e51cac6f0b1"
   },
   "outputs": [],
   "source": [
    "a[:]"
   ]
  },
  {
   "cell_type": "code",
   "execution_count": null,
   "metadata": {},
   "outputs": [],
   "source": [
    "a[-1]"
   ]
  },
  {
   "cell_type": "code",
   "execution_count": null,
   "metadata": {},
   "outputs": [],
   "source": [
    "a[:-1]"
   ]
  },
  {
   "cell_type": "code",
   "execution_count": null,
   "metadata": {
    "colab": {
     "base_uri": "https://localhost:8080/",
     "height": 34
    },
    "colab_type": "code",
    "id": "HqU4soyE8_GI",
    "outputId": "5445c1f8-4c14-4e50-9e74-c241901927e4"
   },
   "outputs": [],
   "source": [
    "a[:-2]"
   ]
  },
  {
   "cell_type": "code",
   "execution_count": null,
   "metadata": {
    "colab": {
     "base_uri": "https://localhost:8080/",
     "height": 34
    },
    "colab_type": "code",
    "id": "A_Rry6BHzo0V",
    "outputId": "7d4c89aa-e58e-4204-f980-ad76b4a7c7de"
   },
   "outputs": [],
   "source": [
    "a[::2]                # 리스트에서 짝수번째의 요소를 추출"
   ]
  },
  {
   "cell_type": "markdown",
   "metadata": {
    "colab_type": "text",
    "id": "w3uPaJAWzo0W"
   },
   "source": [
    "### 슬라이스를 사용한 요소의 대입과 삭제"
   ]
  },
  {
   "cell_type": "code",
   "execution_count": null,
   "metadata": {
    "colab": {
     "base_uri": "https://localhost:8080/",
     "height": 34
    },
    "colab_type": "code",
    "id": "EgeV1IGVzo0X",
    "outputId": "0f07c3b4-1339-4413-c99e-f07487540265"
   },
   "outputs": [],
   "source": [
    "# 요소의 추가\n",
    "a = [1, 2, 3, 4, 5]   # 리스트를 작성\n",
    "# 리스트의 3번째 부터 다섯번째 요소를 치환\n",
    "a[2:4] = ['Three', 'Four', 'five']\n",
    "a                     # 결과의 표시 ? Understand???"
   ]
  },
  {
   "cell_type": "code",
   "execution_count": null,
   "metadata": {
    "colab": {
     "base_uri": "https://localhost:8080/",
     "height": 34
    },
    "colab_type": "code",
    "id": "welUHuS8zo0Y",
    "outputId": "11f07c0c-4b7e-451e-cd1b-b533e228e585"
   },
   "outputs": [],
   "source": [
    "# 요소의 삭제\n",
    "a = [1, 2, 3, 4, 5]   # 리스트를 작성\n",
    "del a[2:]             # 3번째부터 마지막까지 삭제\n",
    "a                     # 결과 확인"
   ]
  },
  {
   "cell_type": "markdown",
   "metadata": {
    "colab_type": "text",
    "id": "RPKXNI3Kzo0Z"
   },
   "source": [
    "## if문의 응용 (Ch.03-04)"
   ]
  },
  {
   "cell_type": "markdown",
   "metadata": {
    "colab_type": "text",
    "id": "4CnoeCdGzo0a"
   },
   "source": [
    "### 비교 연산자와 True(참), False(거짓)"
   ]
  },
  {
   "cell_type": "code",
   "execution_count": null,
   "metadata": {
    "colab": {
     "base_uri": "https://localhost:8080/",
     "height": 34
    },
    "colab_type": "code",
    "id": "M0bLbx7bzo0a",
    "outputId": "995e88e8-a080-441b-c137-3d532964ff27"
   },
   "outputs": [],
   "source": [
    "# 비교식에서는 결과에 따라 True(참), False(거짓)가 돌아온다\n",
    "1+1 == 2          # 수식과 수치 비교 1"
   ]
  },
  {
   "cell_type": "code",
   "execution_count": null,
   "metadata": {
    "colab": {
     "base_uri": "https://localhost:8080/",
     "height": 34
    },
    "colab_type": "code",
    "id": "5REJULxbzo0b",
    "outputId": "122c2a01-bb6f-47e4-9a73-bd95e0c2474e"
   },
   "outputs": [],
   "source": [
    "5**(4-4)+9 == 10  # 수식과 수치 비교 1"
   ]
  },
  {
   "cell_type": "code",
   "execution_count": null,
   "metadata": {
    "colab": {
     "base_uri": "https://localhost:8080/",
     "height": 34
    },
    "colab_type": "code",
    "id": "17e-cxJwzo0c",
    "outputId": "48106871-9e37-471e-972c-3f33a2f30661"
   },
   "outputs": [],
   "source": [
    "5 > 2             # 수치의 크고 작음 비교"
   ]
  },
  {
   "cell_type": "code",
   "execution_count": null,
   "metadata": {
    "colab": {
     "base_uri": "https://localhost:8080/",
     "height": 34
    },
    "colab_type": "code",
    "id": "JxmP6ugKzo0e",
    "outputId": "f7b11e05-add5-427b-bb9a-65bb0292fd7a"
   },
   "outputs": [],
   "source": [
    "100 == 100.0      # 정수와 부동 소수점 비교"
   ]
  },
  {
   "cell_type": "code",
   "execution_count": null,
   "metadata": {
    "colab": {
     "base_uri": "https://localhost:8080/",
     "height": 133
    },
    "colab_type": "code",
    "id": "7IyXU1dB96Gx",
    "outputId": "4d6ac2db-f047-4782-d187-a978a2382e47"
   },
   "outputs": [],
   "source": [
    "100 === 100.0"
   ]
  },
  {
   "cell_type": "code",
   "execution_count": null,
   "metadata": {
    "colab": {
     "base_uri": "https://localhost:8080/",
     "height": 34
    },
    "colab_type": "code",
    "id": "OluBRvslzo0g",
    "outputId": "a919afbc-051d-4b48-c7cd-db9b6abbc755"
   },
   "outputs": [],
   "source": [
    "\"길동\" != \"홍길동\"   # 문자열 비교"
   ]
  },
  {
   "cell_type": "code",
   "execution_count": null,
   "metadata": {
    "colab": {
     "base_uri": "https://localhost:8080/",
     "height": 34
    },
    "colab_type": "code",
    "id": "_J82vkO2zo0i",
    "outputId": "e866ceda-5ace-41fa-be77-daddc340339f"
   },
   "outputs": [],
   "source": [
    "[1, 2, 3] == [1, 2, 3]  # 리스트와 리스트의 비교"
   ]
  },
  {
   "cell_type": "markdown",
   "metadata": {
    "colab_type": "text",
    "id": "UwvrO5E1zo0j"
   },
   "source": [
    "### 비교에 관한 메모"
   ]
  },
  {
   "cell_type": "code",
   "execution_count": null,
   "metadata": {
    "colab": {
     "base_uri": "https://localhost:8080/",
     "height": 168
    },
    "colab_type": "code",
    "id": "RNRkxl16zo0k",
    "outputId": "d0bd02e0-eda5-4eba-f67a-4f04e3c96322"
   },
   "outputs": [],
   "source": [
    "# Python(3)는 다른 형태의 비교를 실행 할 수 없다\n",
    "1 < \"2\"    # 오류가 발생"
   ]
  },
  {
   "cell_type": "code",
   "execution_count": null,
   "metadata": {
    "colab": {
     "base_uri": "https://localhost:8080/",
     "height": 34
    },
    "colab_type": "code",
    "id": "oCfXDH7lzo0m",
    "outputId": "1b785a59-003d-4b9f-faa1-cffff9503a22"
   },
   "outputs": [],
   "source": [
    "# 문자열을 명시적으로 숫자로 변환하여 비교하는 것이 파이썬의 방법\n",
    "1 < int(\"2\")"
   ]
  },
  {
   "cell_type": "code",
   "execution_count": null,
   "metadata": {
    "colab": {
     "base_uri": "https://localhost:8080/",
     "height": 34
    },
    "colab_type": "code",
    "id": "aDrYIeT3zo0n",
    "outputId": "9c483369-e202-4e7d-a3e6-32b1aadd907c"
   },
   "outputs": [],
   "source": [
    "# 문자열끼리의 비교 (대소)\n",
    "\"100\" < \"200\"    # 보기 원하는 결과가 돌아오고 있는 것 같지만"
   ]
  },
  {
   "cell_type": "code",
   "execution_count": null,
   "metadata": {
    "colab": {
     "base_uri": "https://localhost:8080/",
     "height": 34
    },
    "colab_type": "code",
    "id": "sqUAr1sXzo0q",
    "outputId": "cb61aa06-0f98-41d9-d42a-cc4e6dfa25fd"
   },
   "outputs": [],
   "source": [
    "\"100\" < \"2\"      # (내부적으로) 문자열을 숫자로 비교하는 것은 아니다"
   ]
  },
  {
   "cell_type": "code",
   "execution_count": null,
   "metadata": {
    "colab": {
     "base_uri": "https://localhost:8080/",
     "height": 34
    },
    "colab_type": "code",
    "id": "D0BUolGXzo0u",
    "outputId": "313f7138-8fe0-48b7-a358-5a04ac51f7c1"
   },
   "outputs": [],
   "source": [
    "\"100\" > \"2\""
   ]
  },
  {
   "cell_type": "markdown",
   "metadata": {
    "colab_type": "text",
    "id": "3NsrAamRzo00"
   },
   "source": [
    "### 복잡한 비교 – 논리연산"
   ]
  },
  {
   "cell_type": "code",
   "execution_count": null,
   "metadata": {
    "colab": {
     "base_uri": "https://localhost:8080/",
     "height": 34
    },
    "colab_type": "code",
    "id": "u9SSTPaAzo00",
    "outputId": "8f911e3b-734e-4dcd-9c50-617ad61f15f8"
   },
   "outputs": [],
   "source": [
    "# 조건식에 논리 연산자를 사용한 예\n",
    "# 지구상에서 수평으로 쏘아올린 물체가 속도(v)에 의해\n",
    "# 어떤 행동을 하는지를 조사\n",
    "v = 30000                   # 쏘아 올리는 속도(km/h)\n",
    "if v < 28400:               # 제1 우주속도 이하\n",
    "    print(\"지구에 낙하합니다\")\n",
    "if v >= 28400 and v < 40300: # 제1 우주속도 이상이며 제2 우주속도 미만\n",
    "    print(\"달과 친구입니다\")\n",
    "if v >= 40300 and v < 60100: # 제2 우주속도 이상이며 제3 우주속도 미만\n",
    "    print(\"혹성과 같은 부류입니다\")\n",
    "if v >= 60100:               # 제3 우주속도 이상\n",
    "    print(\"알파 센타우리를 노려라\")"
   ]
  },
  {
   "cell_type": "code",
   "execution_count": null,
   "metadata": {
    "colab": {},
    "colab_type": "code",
    "id": "EI5cK2kkzo02"
   },
   "outputs": [],
   "source": []
  },
  {
   "cell_type": "markdown",
   "metadata": {
    "colab_type": "text",
    "id": "U_ayC-iOzo02"
   },
   "source": [
    "## 루프의 응용 (Ch.3-5)"
   ]
  },
  {
   "cell_type": "markdown",
   "metadata": {
    "colab_type": "text",
    "id": "Ro2yPszzzo02"
   },
   "source": [
    "### while문으로 루프를 작성"
   ]
  },
  {
   "cell_type": "code",
   "execution_count": null,
   "metadata": {
    "colab": {
     "base_uri": "https://localhost:8080/",
     "height": 1762
    },
    "colab_type": "code",
    "id": "HTX05Iwczo03",
    "outputId": "fc07fe36-f240-42fd-bffe-f32b7795dbd8"
   },
   "outputs": [],
   "source": [
    "# Fizz Buzz 문제를 푸는 프로그램\n",
    "cnt = 1                   # 루프 카운터를 초기화\n",
    "while cnt <= 100:         # 1부터 100까지 반복\n",
    "    if cnt%3 == 0 and cnt%5 == 0:\n",
    "        print(\"FizzBuzz\") # 3으로도 나누어지고 5로도 나누어 지는 것\n",
    "    elif cnt%3 == 0:\n",
    "        print(\"Fizz\")     # 3으로 나누어지는 것\n",
    "    elif cnt%5 == 0:\n",
    "        print(\"Buzz\")     # 5로 나누어지는 것\n",
    "    else:\n",
    "        print(cnt)        # 값의 표시\n",
    "    cnt = cnt+1           # 카운터를 1씩 증가"
   ]
  },
  {
   "cell_type": "markdown",
   "metadata": {
    "colab_type": "text",
    "id": "svfFQDvlzo04"
   },
   "source": [
    "### break문과 continue문을 사용한 루프의 제어"
   ]
  },
  {
   "cell_type": "code",
   "execution_count": null,
   "metadata": {
    "colab": {
     "base_uri": "https://localhost:8080/",
     "height": 35
    },
    "colab_type": "code",
    "id": "of_2xeQXzo04",
    "outputId": "b92bcb61-0632-401b-edbb-efeb8ecf8197"
   },
   "outputs": [],
   "source": [
    "# 가위, 바위, 보 프로그램\n",
    "from random import randint              # 난수를 발생하는 함수를 import 함\n",
    "hands = {0:\"가위\", 1:\"바위\", 2:\"보\"}       # 가위, 바위, 보의 수\n",
    "# 승패의 규칙\n",
    "rules = {(0, 0):\"비김\", (0, 1):\"컴승\", (0, 2):\"컴패\",   \n",
    "         (1, 0):\"패\", (1, 1):\"비김\", (1, 2):\"승\",\n",
    "         (2, 0):\"승\", (2, 1):\"패\", (2, 2):\"비김\"}\n",
    "\n",
    "while True:\n",
    "    # 가위, 바위, 보의 루프\n",
    "    pc_hand = randint(0, 2)             # 난수로 수를 결정\n",
    "    user_hand_str = input(\"0:가위 1:바위 2:보 3:종료\")\n",
    "    if user_hand_str == \"3\":\n",
    "        # 종료값이 입력되면 루프를 빠져나감\n",
    "#         print(\"Game over!\")\n",
    "        break\n",
    "    if user_hand_str not in (\"0\", \"1\", \"2\"):\n",
    "        # 부정한 입력의 경우 루프의 앞으로 되돌아감\n",
    "        continue\n",
    "    user_hand = int(user_hand_str)     # 사용자의 수를 값으로 변환\n",
    "    # 수의 표시\n",
    "    print(\"당신:\"+hands[user_hand]+\", 컴퓨터:\"+hands[pc_hand])\n",
    "    # 승패의 표시\n",
    "    print(rules[(user_hand, pc_hand)])"
   ]
  },
  {
   "cell_type": "code",
   "execution_count": null,
   "metadata": {
    "colab": {},
    "colab_type": "code",
    "id": "K3qiHoWvzo0-"
   },
   "outputs": [],
   "source": []
  },
  {
   "cell_type": "markdown",
   "metadata": {
    "colab_type": "text",
    "id": "juUpfBNqzo0_"
   },
   "source": [
    "## 함수의 응용 (Ch.3-6)"
   ]
  },
  {
   "cell_type": "code",
   "execution_count": null,
   "metadata": {
    "colab": {
     "base_uri": "https://localhost:8080/",
     "height": 34
    },
    "colab_type": "code",
    "id": "-2WQ8tj8zo0_",
    "outputId": "40ee037a-f619-4973-a58d-bd065ff61be5"
   },
   "outputs": [],
   "source": [
    "# int() 함수의 예\n",
    "# 함수 호출, 인수, 반환 복습\n",
    "int(\"101010\", 2)       # 이진수 해당 문자열을 숫자로 변환"
   ]
  },
  {
   "cell_type": "code",
   "execution_count": null,
   "metadata": {
    "colab": {
     "base_uri": "https://localhost:8080/",
     "height": 34
    },
    "colab_type": "code",
    "id": "WSMysogLzo1C",
    "outputId": "6c848fb3-3968-4e7b-ec92-84bc68b3e097"
   },
   "outputs": [],
   "source": [
    "# 두 번째 인수를 지정하지 않을 경우 묵시적으로 10으로 간주\n",
    "int(\"101010\")"
   ]
  },
  {
   "cell_type": "markdown",
   "metadata": {
    "colab_type": "text",
    "id": "QYhdLpK4zo1E"
   },
   "source": [
    "### 함수에 디폴트 인수를 정의"
   ]
  },
  {
   "cell_type": "code",
   "execution_count": null,
   "metadata": {
    "colab": {},
    "colab_type": "code",
    "id": "RV63edR8zo1E"
   },
   "outputs": [],
   "source": [
    "def fizzbuzz(count=100, fizzmod=3, buzzmod=5):\n",
    "    \"\"\"\n",
    "    FizzBuzz 문제를 푸는 함수\n",
    "    반복 횟수, Fizz/Buzz를 표시하는 조건을 변경할 수 있다\n",
    "    (이것은 docstring 문자열입니다)\n",
    "    \"\"\"\n",
    "    for cnt in range(1, count+1):             # 카운트 반복\n",
    "        if cnt%fizzmod == 0 and cnt%buzzmod == 0:\n",
    "            # fizzmod와 buzzmod도 딱 나누어 떨어짐\n",
    "            print(\"FizzBuzz\")\n",
    "        elif cnt%fizzmod == 0:\n",
    "            # fizzmod로 딱 나누어 떨어짐\n",
    "            print(\"Fizz\")\n",
    "        elif cnt%buzzmod == 0:\n",
    "            # buzzmod로 딱 나누어 떨어짐\n",
    "            print(\"Buzz\")\n",
    "        else:\n",
    "            # 값을 표시\n",
    "            print(cnt)"
   ]
  },
  {
   "cell_type": "code",
   "execution_count": null,
   "metadata": {
    "colab": {
     "base_uri": "https://localhost:8080/",
     "height": 889
    },
    "colab_type": "code",
    "id": "KMewwG0Tzo1I",
    "outputId": "36993fe9-3812-4202-ec06-36b640eddd7e"
   },
   "outputs": [],
   "source": [
    "# 함수를 호출 (인수, 즉 매개변수를 다르게 지정하여 함수 실행)\n",
    "fizzbuzz(50, 2, 7)"
   ]
  },
  {
   "cell_type": "markdown",
   "metadata": {
    "colab_type": "text",
    "id": "6CKM0MaKzo1K"
   },
   "source": [
    "### 인수의 키워드 지정"
   ]
  },
  {
   "cell_type": "code",
   "execution_count": null,
   "metadata": {
    "colab": {
     "base_uri": "https://localhost:8080/",
     "height": 34
    },
    "colab_type": "code",
    "id": "j4cZtTcizo1L",
    "outputId": "7e366f4e-a2fe-4176-d38a-118168d2770c"
   },
   "outputs": [],
   "source": [
    "# 인수의 키워드 지정\n",
    "# 키워드를 지정하여 인수의 순서를 바꿔 본다\n",
    "int(base=2, x=\"1010\")  # int(\"1010\", 2)와 같다"
   ]
  },
  {
   "cell_type": "markdown",
   "metadata": {
    "colab_type": "text",
    "id": "BmeQ017wzo1N"
   },
   "source": [
    "### 함수와 지역 변수"
   ]
  },
  {
   "cell_type": "code",
   "execution_count": null,
   "metadata": {
    "colab": {
     "base_uri": "https://localhost:8080/",
     "height": 52
    },
    "colab_type": "code",
    "id": "5F5sLuWQzo1O",
    "outputId": "0b7eb390-5ec3-47ec-a5f5-6eaf7d24b5d8"
   },
   "outputs": [],
   "source": [
    "# 함수의 밖에서 정의한 변수를 함수 내에서 사용\n",
    "local_var = 1           # 함수의 외부에서 변수를 정의\n",
    "\n",
    "def test_func(an_arg):\n",
    "    local_var = an_arg  # 함수 내부에서 같은 이름의 변수를 정의\n",
    "    print(\"test_func()의 내부 =\", local_var)\n",
    "\n",
    "test_func(200)\n",
    "print(\"test_func()의 외부 =\", local_var)"
   ]
  },
  {
   "cell_type": "code",
   "execution_count": null,
   "metadata": {
    "colab": {},
    "colab_type": "code",
    "id": "doqJgqAuzo1U"
   },
   "outputs": [],
   "source": []
  },
  {
   "cell_type": "markdown",
   "metadata": {
    "colab_type": "text",
    "id": "9UkYeaiwzo2I"
   },
   "source": [
    "## 객체로서의 내장형 (Ch.4-1)"
   ]
  },
  {
   "cell_type": "markdown",
   "metadata": {
    "colab_type": "text",
    "id": "6hCU7Ndjzo2K"
   },
   "source": [
    "### 메쏘드란?"
   ]
  },
  {
   "cell_type": "code",
   "execution_count": null,
   "metadata": {
    "colab": {},
    "colab_type": "code",
    "id": "yzYCAR6bzo2M"
   },
   "outputs": [],
   "source": [
    "# 리스트의 인덱스를 반환하는 함수 find_index의 정의\n",
    "def find_index(the_list, target):\n",
    "    # the_list에서 target의 인덱스를 조사하는 함수\n",
    "    idx = 0                 # 인덱스용의 카운터를 초기화\n",
    "    for item in the_list:   # 리스트의 요소를 1개씩 조사\n",
    "        if target == the_list[idx]:\n",
    "            # 조사하고 싶은 요소가 발견되면 인덱스를 반환\n",
    "            return idx\n",
    "        idx = idx+1    # 인덱스를 1 증가"
   ]
  },
  {
   "cell_type": "code",
   "execution_count": null,
   "metadata": {
    "colab": {
     "base_uri": "https://localhost:8080/",
     "height": 34
    },
    "colab_type": "code",
    "id": "xMQTdaP8zo2N",
    "outputId": "d63d844d-e520-4579-f30b-8cfdf4b2737e"
   },
   "outputs": [],
   "source": [
    "# find_index( )를 사용한 예\n",
    "# 리스트를 정의\n",
    "mcz=[\"영희\", \"길동\", \"순철\", \"철희\", \"지영\"]\n",
    "find_index(mcz, \"순철\")"
   ]
  },
  {
   "cell_type": "code",
   "execution_count": null,
   "metadata": {
    "colab": {
     "base_uri": "https://localhost:8080/",
     "height": 34
    },
    "colab_type": "code",
    "id": "UZ4w8fVAzo2O",
    "outputId": "7bdb2679-264a-4097-a248-61b6c5235687"
   },
   "outputs": [],
   "source": [
    "# index( ) 메쏘드를 사용한 예\n",
    "# 메쏘드를 사용하여 동일한 작업을 하는 것이 더 쉽다\n",
    "mcz.index(\"순철\")"
   ]
  },
  {
   "cell_type": "markdown",
   "metadata": {
    "colab_type": "text",
    "id": "w_9mrjK8zo1Y"
   },
   "source": [
    "## if문과 내장형 (Ch.4-7)"
   ]
  },
  {
   "cell_type": "markdown",
   "metadata": {
    "colab_type": "text",
    "id": "yL8yOwOYzo1Z"
   },
   "source": [
    "### 내장형과 True(참), False(거짓)"
   ]
  },
  {
   "cell_type": "code",
   "execution_count": null,
   "metadata": {
    "colab": {
     "base_uri": "https://localhost:8080/",
     "height": 34
    },
    "colab_type": "code",
    "id": "XtEhi5nLzo1Z",
    "outputId": "8df174c1-caa9-4d3a-9ca2-8305f2659606"
   },
   "outputs": [],
   "source": [
    "# True로 판별되는 객체\n",
    "s = \"SPAM\"  # 문자열 정의\n",
    "if len(s) != 0:\n",
    "    print(\"s는 비어 있지 않다.\")"
   ]
  },
  {
   "cell_type": "code",
   "execution_count": null,
   "metadata": {
    "colab": {
     "base_uri": "https://localhost:8080/",
     "height": 34
    },
    "colab_type": "code",
    "id": "bGX7bp9Azo1a",
    "outputId": "8dc4d9ac-c3e2-4ada-8af6-878dbfd2b8da"
   },
   "outputs": [],
   "source": [
    "# 같은 처리를 다음과 같이도 쓸 수도 있다\n",
    "if s:\n",
    "    print(\"s는 비어 있지 않다.\")"
   ]
  },
  {
   "cell_type": "code",
   "execution_count": null,
   "metadata": {
    "colab": {
     "base_uri": "https://localhost:8080/",
     "height": 34
    },
    "colab_type": "code",
    "id": "SxpouRvwzo1c",
    "outputId": "c50ee8da-8e42-4173-8a30-10cfb25da616"
   },
   "outputs": [],
   "source": [
    "# 기타 True(참)가 되는 객체\n",
    "if 1:               # 0이 아닌 숫자\n",
    "    print(True)"
   ]
  },
  {
   "cell_type": "code",
   "execution_count": null,
   "metadata": {
    "colab": {
     "base_uri": "https://localhost:8080/",
     "height": 34
    },
    "colab_type": "code",
    "id": "kXwSkKZHzo1g",
    "outputId": "73ced930-f028-4cca-d085-b2a5c679f79e"
   },
   "outputs": [],
   "source": [
    "if \"KILLERRABBIT\":  # 길이가 있는(비어 있지 않은) 문자열\n",
    "    print(True)"
   ]
  },
  {
   "cell_type": "code",
   "execution_count": null,
   "metadata": {
    "colab": {
     "base_uri": "https://localhost:8080/",
     "height": 34
    },
    "colab_type": "code",
    "id": "Rg1HDZQdzo1i",
    "outputId": "f9d604fb-f122-451e-ee1e-1771bd9b3625"
   },
   "outputs": [],
   "source": [
    "if [1, 2, 3]:       # 요소를 가진 리스트, 튜플 등\n",
    "    print(True)"
   ]
  },
  {
   "cell_type": "code",
   "execution_count": null,
   "metadata": {
    "colab": {
     "base_uri": "https://localhost:8080/",
     "height": 34
    },
    "colab_type": "code",
    "id": "nVHYhO1Fzo1i",
    "outputId": "37584b4a-304c-407f-fcf9-dd2663a3f423"
   },
   "outputs": [],
   "source": [
    "if {1:'One', 2:'Two'}: # 요소를 가진 딕셔너리\n",
    "    print(True)"
   ]
  },
  {
   "cell_type": "code",
   "execution_count": null,
   "metadata": {
    "colab": {},
    "colab_type": "code",
    "id": "Pir98GKTzo1m"
   },
   "outputs": [],
   "source": [
    "# False(거짓)가 되는 객체\n",
    "# print()가 있는 블록이 실행되지 않는다\n",
    "if 0:               # 숫자 0\n",
    "    print(True)"
   ]
  },
  {
   "cell_type": "code",
   "execution_count": null,
   "metadata": {
    "colab": {},
    "colab_type": "code",
    "id": "mzlQYbYHzo1n"
   },
   "outputs": [],
   "source": [
    "if \"\":              # 빈 문자열\n",
    "    print(True)"
   ]
  },
  {
   "cell_type": "code",
   "execution_count": null,
   "metadata": {
    "colab": {},
    "colab_type": "code",
    "id": "UimWsGH9zo1o"
   },
   "outputs": [],
   "source": [
    "if []:              # 빈 리시트나 튜플 등\n",
    "    print(True)"
   ]
  },
  {
   "cell_type": "code",
   "execution_count": null,
   "metadata": {
    "colab": {},
    "colab_type": "code",
    "id": "wXbszQqrzo1q"
   },
   "outputs": [],
   "source": [
    "if {}:              # 빈 딕셔너리\n",
    "    print(True)"
   ]
  },
  {
   "cell_type": "code",
   "execution_count": null,
   "metadata": {
    "colab": {},
    "colab_type": "code",
    "id": "m0eR7TKMzo1q"
   },
   "outputs": [],
   "source": []
  },
  {
   "cell_type": "markdown",
   "metadata": {
    "colab_type": "text",
    "id": "aWLbEyTZzo1r"
   },
   "source": [
    "## for문과 내장형 (Ch.4-8)"
   ]
  },
  {
   "cell_type": "markdown",
   "metadata": {
    "colab_type": "text",
    "id": "chvWFG8Zzo1s"
   },
   "source": [
    "### range( ) 함수 구사하기"
   ]
  },
  {
   "cell_type": "code",
   "execution_count": null,
   "metadata": {
    "colab": {
     "base_uri": "https://localhost:8080/",
     "height": 34
    },
    "colab_type": "code",
    "id": "-QlCXtq6zo1s",
    "outputId": "090a5b10-f7f5-44fa-f3a9-85e10259f9d7"
   },
   "outputs": [],
   "source": [
    "# 10～20의 리스트를 작성\n",
    "for i in range(10, 21):\n",
    "    print(i, end=' ')   # 줄바꿈하지 않고 공백을 추가하여 반복하는 변수를 표시"
   ]
  },
  {
   "cell_type": "code",
   "execution_count": null,
   "metadata": {
    "colab": {
     "base_uri": "https://localhost:8080/",
     "height": 34
    },
    "colab_type": "code",
    "id": "mc84sOGnzo1u",
    "outputId": "e1591520-53d6-4c3e-fd70-bfde290107d3"
   },
   "outputs": [],
   "source": [
    "# range() 함수에 스텝 수 부여\n",
    "for i in range(10, 21, 2):  # 10부터 20까지, 2씩 증가\n",
    "    print(i, end=' ')"
   ]
  },
  {
   "cell_type": "code",
   "execution_count": null,
   "metadata": {
    "colab": {
     "base_uri": "https://localhost:8080/",
     "height": 34
    },
    "colab_type": "code",
    "id": "5rtzo-Ewzo1w",
    "outputId": "e418347b-ddee-4fd1-d938-aaff0c94cf6c"
   },
   "outputs": [],
   "source": [
    "for i in range(10, 21, 3):  # 10부터 19까지, 3씩 증가\n",
    "    print(i, end=' ')"
   ]
  },
  {
   "cell_type": "code",
   "execution_count": null,
   "metadata": {
    "colab": {
     "base_uri": "https://localhost:8080/",
     "height": 34
    },
    "colab_type": "code",
    "id": "1MYveMFpzo1x",
    "outputId": "5b0bd56f-f496-49b2-eadb-4d388b41c697"
   },
   "outputs": [],
   "source": [
    "for i in range(20, 9, -1):  # 20부터 10까지, 1씩 감소\n",
    "    print(i, end=' ')"
   ]
  },
  {
   "cell_type": "markdown",
   "metadata": {
    "colab_type": "text",
    "id": "hRQx-qQEzo1y"
   },
   "source": [
    "### 시퀀스와 루프 카운터"
   ]
  },
  {
   "cell_type": "code",
   "execution_count": null,
   "metadata": {
    "colab": {
     "base_uri": "https://localhost:8080/",
     "height": 34
    },
    "colab_type": "code",
    "id": "DcPj9siCzo1y",
    "outputId": "6ce7abe6-8498-4ee6-da5e-b8e63fad12ae"
   },
   "outputs": [],
   "source": [
    "# 카운터 변수를 사용한 루프 카운터\n",
    "\n",
    "# 책의 코드를 보충하였다\n",
    "\n",
    "# 순서를 정의\n",
    "seq = [\"야구\", \"축구\", \"농구\", \"배구\", \"탁구\"]\n",
    "counter = 0        # 루프 카운터를 초기화\n",
    "for item in seq:\n",
    "    print(counter, item, end=' ')\n",
    "    counter += 1"
   ]
  },
  {
   "cell_type": "code",
   "execution_count": null,
   "metadata": {
    "colab": {
     "base_uri": "https://localhost:8080/",
     "height": 34
    },
    "colab_type": "code",
    "id": "egwfukfhzo10",
    "outputId": "0d351f72-f15a-4109-9378-ec20321708cb"
   },
   "outputs": [],
   "source": [
    "# range()를 사용한 루프 카운터\n",
    "for cnt in range(len(seq)):\n",
    "    print(cnt, seq[cnt], end=' ')"
   ]
  },
  {
   "cell_type": "code",
   "execution_count": null,
   "metadata": {
    "colab": {
     "base_uri": "https://localhost:8080/",
     "height": 34
    },
    "colab_type": "code",
    "id": "Nm1WpmTxzo11",
    "outputId": "d506f957-7040-4ae3-8a52-84050ad96de7"
   },
   "outputs": [],
   "source": [
    "# enumerate ()를 사용한 예\n",
    "for cnt, item in enumerate(seq):\n",
    "    print(cnt, item, end=' ')"
   ]
  },
  {
   "cell_type": "markdown",
   "metadata": {
    "colab_type": "text",
    "id": "oi35DraXzo12"
   },
   "source": [
    "### 두개의 시퀀스를 사용한 루프"
   ]
  },
  {
   "cell_type": "code",
   "execution_count": null,
   "metadata": {
    "colab": {
     "base_uri": "https://localhost:8080/",
     "height": 86
    },
    "colab_type": "code",
    "id": "IdBQHrMfzo13",
    "outputId": "2bbc9520-7281-4028-fd63-16bcac3d700d"
   },
   "outputs": [],
   "source": [
    "# zip() 함수의 사용\n",
    "for n, w in zip([1, 2, 3, 4], ['a', 'b', 'c', 'd']):\n",
    "    print(n, w)"
   ]
  },
  {
   "cell_type": "markdown",
   "metadata": {
    "colab_type": "text",
    "id": "Bk3tPJv0zo13"
   },
   "source": [
    "## 함수와 내장형 (Ch.4-9)"
   ]
  },
  {
   "cell_type": "code",
   "execution_count": null,
   "metadata": {
    "colab": {},
    "colab_type": "code",
    "id": "yNBIJFHlzo14"
   },
   "outputs": [],
   "source": [
    "# 여러 반환 값을 반환하는 함수\n",
    "\n",
    "# 책의 코드를 보충하여 수정함\n",
    "\n",
    "def foo():\n",
    "    return [1, 2]  # 반환값이 list"
   ]
  },
  {
   "cell_type": "code",
   "execution_count": null,
   "metadata": {
    "colab": {
     "base_uri": "https://localhost:8080/",
     "height": 35
    },
    "colab_type": "code",
    "id": "n8vgyP35zo14",
    "outputId": "a06fda78-5aed-4422-a59a-85a48f3f8071"
   },
   "outputs": [],
   "source": [
    "# 함수의 반환값을 리스트로 받음\n",
    "alist = foo()\n",
    "alist           # 반환값으로 받은 리스트 보기"
   ]
  },
  {
   "cell_type": "markdown",
   "metadata": {
    "colab_type": "text",
    "id": "BhdEga6Jzo17"
   },
   "source": [
    "### 반환값과 언팩 대입"
   ]
  },
  {
   "cell_type": "code",
   "execution_count": null,
   "metadata": {
    "colab": {},
    "colab_type": "code",
    "id": "zIsokqg6zo17"
   },
   "outputs": [],
   "source": [
    "# 목록의 최솟값, 최댓값, 평균값을 반환하는 함수\n",
    "def digest(in_list):\n",
    "    minvalue = min(in_list)\n",
    "    maxvalue = max(in_list)\n",
    "    average = sum(in_list)/len(in_list)\n",
    "\n",
    "    return [minvalue, maxvalue, average]"
   ]
  },
  {
   "cell_type": "code",
   "execution_count": null,
   "metadata": {
    "colab": {
     "base_uri": "https://localhost:8080/",
     "height": 35
    },
    "colab_type": "code",
    "id": "5D0IUTnnzo1-",
    "outputId": "6c2b51f5-9738-4862-ba67-87fd8e411b7c"
   },
   "outputs": [],
   "source": [
    "# 함수를 사용\n",
    "monk_fish_team = [158, 157, 163, 157, 145]\n",
    "minvalue, maxvalue, average = digest(monk_fish_team)\n",
    "print(minvalue, maxvalue, average)"
   ]
  },
  {
   "cell_type": "markdown",
   "metadata": {
    "colab_type": "text",
    "id": "lknhUkNdDzzm"
   },
   "source": [
    "#### [도전] 위의 digest() 함수가 variance도 추가로 반환하게 변경해보시오!"
   ]
  },
  {
   "cell_type": "markdown",
   "metadata": {
    "colab_type": "text",
    "id": "ZnHLqHIWzo1_"
   },
   "source": [
    "### 함수로 인수 리스트를 받기"
   ]
  },
  {
   "cell_type": "code",
   "execution_count": null,
   "metadata": {
    "colab": {
     "base_uri": "https://localhost:8080/",
     "height": 35
    },
    "colab_type": "code",
    "id": "QOBrXdIkzo1_",
    "outputId": "dfcd4487-7f77-4bcd-f14d-0df29dea097d"
   },
   "outputs": [],
   "source": [
    "# 함수로 인수 리스트를 받기\n",
    "def foo(a, b, *vals):   # *인수를 갖는 함수를 정의\n",
    "    print(a, b, vals)\n",
    "foo(1, 2, 3, 4, 5)      # 5개의 값을 인수로 지정하여 호출"
   ]
  },
  {
   "cell_type": "code",
   "execution_count": null,
   "metadata": {
    "colab": {
     "base_uri": "https://localhost:8080/",
     "height": 172
    },
    "colab_type": "code",
    "id": "dCsxICNgzo2B",
    "outputId": "e1196301-7a82-4432-80a0-a9aba4c31915"
   },
   "outputs": [],
   "source": [
    "foo(1, 2, c=3)          # c라고 하는 미정의 키워드 인수를 지정"
   ]
  },
  {
   "cell_type": "markdown",
   "metadata": {
    "colab_type": "text",
    "id": "gTIF5d1Hzo2C"
   },
   "source": [
    "### 함수로 키워드 인수 받기"
   ]
  },
  {
   "cell_type": "code",
   "execution_count": null,
   "metadata": {
    "colab": {
     "base_uri": "https://localhost:8080/",
     "height": 35
    },
    "colab_type": "code",
    "id": "LyPvlT28zo2C",
    "outputId": "e72e30ba-0d54-4929-99ab-13fa829f997c"
   },
   "outputs": [],
   "source": [
    "# 정의되지 않은 키워드 인수\n",
    "def bar(a, b, **args):    # **인수를 갖는 함수를 정의\n",
    "    print(a, b, args)\n",
    "\n",
    "bar(1, 2, c=3, d=4)       # 정의하지 않은 키워드 인수를 정의"
   ]
  },
  {
   "cell_type": "markdown",
   "metadata": {
    "colab_type": "text",
    "id": "vbtlwiPozo2D"
   },
   "source": [
    "### 기본 인수 및 갱신 가능한 내장형 (사용 주의!)"
   ]
  },
  {
   "cell_type": "markdown",
   "metadata": {
    "colab_type": "text",
    "id": "lkRQ6EcCzo2E"
   },
   "source": [
    "변경 가능한 내장형을 기본 인수로 설정하면 곤란한 일이 생기기 때문에 주의가 필요하다.\n",
    "\n",
    "구체적으로 예를 보는 것이 알기 쉽다고 생각하기 때문에 그런 함수를 만들어 호출한다."
   ]
  },
  {
   "cell_type": "code",
   "execution_count": null,
   "metadata": {
    "colab": {},
    "colab_type": "code",
    "id": "lgj5pyqxzo2E"
   },
   "outputs": [],
   "source": [
    "def append_to(a_list, b_list=[]):\n",
    "    # 변경 가능한 객체(목록)를 기본 인수로 가지는 함수를 정의\n",
    "    b_list.append(0)\n",
    "    return a_list+b_list"
   ]
  },
  {
   "cell_type": "code",
   "execution_count": null,
   "metadata": {
    "colab": {
     "base_uri": "https://localhost:8080/",
     "height": 35
    },
    "colab_type": "code",
    "id": "4kyFAdvEzo2F",
    "outputId": "1d826ad1-b0ad-4978-fa77-73d259adfca9"
   },
   "outputs": [],
   "source": [
    "list_1 = [1, 2, 3, 4]        # 리스트 정의\n",
    "# 두 번째 인수를 생략하고 함수를 호출\n",
    "list_2 = append_to(list_1)\n",
    "list_2                       # 결과 표시"
   ]
  },
  {
   "cell_type": "code",
   "execution_count": null,
   "metadata": {
    "colab": {
     "base_uri": "https://localhost:8080/",
     "height": 35
    },
    "colab_type": "code",
    "id": "0T1oJazaR9y7",
    "outputId": "0f2ed69a-a734-460c-ee20-010e8c492d13"
   },
   "outputs": [],
   "source": [
    "list_1"
   ]
  },
  {
   "cell_type": "code",
   "execution_count": null,
   "metadata": {
    "colab": {
     "base_uri": "https://localhost:8080/",
     "height": 35
    },
    "colab_type": "code",
    "id": "hNYTnCuMzo2F",
    "outputId": "893f1448-eb84-472b-db5d-f16507195ee0"
   },
   "outputs": [],
   "source": [
    "list_3 = append_to(list_1)   # 함수를 다시 호출\n",
    "# 함수의 인수 b_list에 추가, 0이 추가되므로\n",
    "# 결과의 끝은 [0, 0]이 된다\n",
    "list_3"
   ]
  },
  {
   "cell_type": "code",
   "execution_count": null,
   "metadata": {
    "colab": {
     "base_uri": "https://localhost:8080/",
     "height": 35
    },
    "colab_type": "code",
    "id": "QXqd8W_Qzo2G",
    "outputId": "bf643e5d-6b3a-41e1-e3bb-b70e1b73b39c"
   },
   "outputs": [],
   "source": [
    "list_3 = append_to(list_1)\n",
    "# 인수 b_list에 추가, 0이 추가되기 때문에 결과가 달라진다\n",
    "list_3"
   ]
  },
  {
   "cell_type": "markdown",
   "metadata": {
    "colab_type": "text",
    "id": "CWwJ0TIbzo2I"
   },
   "source": [
    "- 따라서, 기본 인수로 변경 가능한 객체를 설정하면 함수 내에서 한 파괴적인 조작이 그대로 유지된다. \n",
    "- 이것은 기본 인수의 객체가 인터프리터 실행에 저장되어 있기 때문이다.\n",
    "- 기본 인수로 변경 가능한 객체를 설정하면 예상대로 처리되지 않을 수 있으므로 주의가 필요하다."
   ]
  },
  {
   "cell_type": "code",
   "execution_count": null,
   "metadata": {
    "colab": {},
    "colab_type": "code",
    "id": "vL9iZREpzo2P"
   },
   "outputs": [],
   "source": [
    "# break"
   ]
  }
 ],
 "metadata": {
  "colab": {
   "collapsed_sections": [
    "LNSucE5tzox6",
    "GhHvHImAzox8",
    "ntpYt9-bzox_",
    "hrLmfPMezoyH"
   ],
   "name": "wk04_tuple_dictionary_function.ipynb",
   "provenance": [],
   "toc_visible": true,
   "version": "0.3.2"
  },
  "kernelspec": {
   "display_name": "Python 3",
   "language": "python",
   "name": "python3"
  },
  "language_info": {
   "codemirror_mode": {
    "name": "ipython",
    "version": 3
   },
   "file_extension": ".py",
   "mimetype": "text/x-python",
   "name": "python",
   "nbconvert_exporter": "python",
   "pygments_lexer": "ipython3",
   "version": "3.6.6"
  }
 },
 "nbformat": 4,
 "nbformat_minor": 2
}
