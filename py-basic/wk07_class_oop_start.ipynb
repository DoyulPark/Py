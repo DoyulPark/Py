{
 "cells": [
  {
   "cell_type": "markdown",
   "metadata": {},
   "source": [
    "# Chapter 06-01\n",
    "## 클래스와 객체 지향 개발"
   ]
  },
  {
   "cell_type": "markdown",
   "metadata": {},
   "source": [
    "## 파이썬에서 클래스 사용하기"
   ]
  },
  {
   "cell_type": "markdown",
   "metadata": {},
   "source": [
    "### 클래스로 객체(인스턴스) 만들기"
   ]
  },
  {
   "cell_type": "code",
   "execution_count": null,
   "metadata": {},
   "outputs": [],
   "source": [
    "# Decimal 클래스를 사용할 준비\n",
    "from decimal import Decimal"
   ]
  },
  {
   "cell_type": "code",
   "execution_count": null,
   "metadata": {},
   "outputs": [],
   "source": [
    "# Deciaml 클래스 사용하기\n",
    "d = Decimal(10)    # Deciaml 클래스의 인스턴스 만들기\n",
    "print(d)"
   ]
  },
  {
   "cell_type": "markdown",
   "metadata": {},
   "source": [
    "### 인스턴스 이용하기"
   ]
  },
  {
   "cell_type": "code",
   "execution_count": null,
   "metadata": {},
   "outputs": [],
   "source": [
    "# 인스턴스를 사용한 연산\n",
    "print(d+20)        # Decimal 클래스 인스턴스에 수치 20 더하기"
   ]
  },
  {
   "cell_type": "code",
   "execution_count": null,
   "metadata": {},
   "outputs": [],
   "source": [
    "# Decimal형을 사용한 비교\n",
    "0.1*3 == 0.3    # 0.1에 3을 곱해서 0.3과 비교 (실수 연산이 파이썬의 기본 연산 방법)"
   ]
  },
  {
   "cell_type": "code",
   "execution_count": null,
   "metadata": {},
   "outputs": [],
   "source": [
    "0.1*3 #,Decimal(\"0.1\")*3"
   ]
  },
  {
   "cell_type": "code",
   "execution_count": null,
   "metadata": {},
   "outputs": [],
   "source": [
    "# Decimal형을 사용해야 예상대로 비교\n",
    "Decimal(\"0.1\")*3 == Decimal(\"0.3\") #, Decimal(\"0.1\")*3 == 0.3"
   ]
  },
  {
   "cell_type": "code",
   "execution_count": null,
   "metadata": {},
   "outputs": [],
   "source": [
    "# 제곱근 계산하기 d(10)\n",
    "print(d.sqrt())    # 인스턴스 d에 sqrt() 메쏘드를 사용함 (Decimal class에 내장된 sqrt() 사용)"
   ]
  },
  {
   "cell_type": "code",
   "execution_count": null,
   "metadata": {},
   "outputs": [],
   "source": [
    "sqrt(10)"
   ]
  },
  {
   "cell_type": "markdown",
   "metadata": {},
   "source": [
    "# Chapter06-02\n",
    "## 클래스 만들기"
   ]
  },
  {
   "cell_type": "markdown",
   "metadata": {},
   "source": [
    "### 클래스 정의하기"
   ]
  },
  {
   "cell_type": "code",
   "execution_count": null,
   "metadata": {},
   "outputs": [],
   "source": [
    "# MyClass 클래스를 정의한다\n",
    "class MyClass:     # 클래스 정의\n",
    "    pass           # 처리 내용을 기술함"
   ]
  },
  {
   "cell_type": "markdown",
   "metadata": {},
   "source": [
    "> pass 문은 아무것도 하지 않습니다. 최소한의 클래스를 만들 때 흔히 사용된다:"
   ]
  },
  {
   "cell_type": "markdown",
   "metadata": {},
   "source": [
    "### 인스턴스의 속성"
   ]
  },
  {
   "cell_type": "code",
   "execution_count": null,
   "metadata": {},
   "outputs": [],
   "source": [
    "# MyClass 인스턴스 만들기\n",
    "i = MyClass()   # 변수에 인스턴스를 대입함"
   ]
  },
  {
   "cell_type": "code",
   "execution_count": null,
   "metadata": {},
   "outputs": [],
   "source": [
    "# 속성을 이용한다\n",
    "i.value = 5     # value라는 이름의 속성에 수치를 대입\n",
    "i.value         # 속성 값을 표시"
   ]
  },
  {
   "cell_type": "code",
   "execution_count": null,
   "metadata": {},
   "outputs": [],
   "source": [
    "# 미정의(정의되지 않은) 속성 참조\n",
    "i.undefined"
   ]
  },
  {
   "cell_type": "code",
   "execution_count": null,
   "metadata": {},
   "outputs": [],
   "source": [
    "# 속성은 인스턴스마다 존재한다\n",
    "i2 = MyClass()   # MyClass의 인스턴스를 별도로 정의\n",
    "i2.value         # value 속성을 참조하려고 하면\n",
    "　　　　　　　　　    # 정의되지 않았으므로 오류가 발생"
   ]
  },
  {
   "cell_type": "code",
   "execution_count": null,
   "metadata": {},
   "outputs": [],
   "source": [
    "i.value"
   ]
  },
  {
   "cell_type": "code",
   "execution_count": null,
   "metadata": {},
   "outputs": [],
   "source": [
    "type(i)"
   ]
  },
  {
   "cell_type": "code",
   "execution_count": null,
   "metadata": {},
   "outputs": [],
   "source": [
    "dir(MyClass),dir(i)"
   ]
  },
  {
   "cell_type": "markdown",
   "metadata": {},
   "source": [
    "### 메쏘드의 정의와 초기화 메쏘드 ‘__init__( )’"
   ]
  },
  {
   "cell_type": "code",
   "execution_count": null,
   "metadata": {},
   "outputs": [],
   "source": [
    "# 초기화 메쏘드를 가진 클래스 정의\n",
    "class MyClass2:\n",
    "    def __init__(self):   # 초기화 메쏘드를 정의\n",
    "        self.value = 0    # 인스턴스에 속성을 추가\n",
    "        print(\"This is __init__() method !\")"
   ]
  },
  {
   "cell_type": "code",
   "execution_count": null,
   "metadata": {},
   "outputs": [],
   "source": [
    "# MyClass2 클래스 사용하기\n",
    "i3 = MyClass2()           # 인스턴스를 만듦"
   ]
  },
  {
   "cell_type": "code",
   "execution_count": null,
   "metadata": {},
   "outputs": [],
   "source": [
    "i3.value                  # 인스턴스의 속성을 표시함"
   ]
  },
  {
   "cell_type": "code",
   "execution_count": null,
   "metadata": {},
   "outputs": [],
   "source": [
    "# dir(i3)"
   ]
  },
  {
   "cell_type": "markdown",
   "metadata": {},
   "source": [
    "### 메쏘드와 제1인수 ‘self’"
   ]
  },
  {
   "cell_type": "code",
   "execution_count": null,
   "metadata": {},
   "outputs": [],
   "source": [
    "# Prism클래스의 정의\n",
    "class Prism:\n",
    "    def __init__(self, width, height, depth):\n",
    "        # 초기화 메쏘드를 정의\n",
    "        self.width = width    # 인수를 속성에 할당\n",
    "        self.height = height\n",
    "        self.depth = depth\n",
    "\n",
    "    def content(self):\n",
    "        # 부피를 계산함\n",
    "        return self.width*self.height*self.depth"
   ]
  },
  {
   "cell_type": "code",
   "execution_count": null,
   "metadata": {},
   "outputs": [],
   "source": [
    "# Prism 클래스 사용하기\n",
    "p1 = Prism(10, 20, 30)\n",
    "print(p1.content())"
   ]
  },
  {
   "cell_type": "code",
   "execution_count": null,
   "metadata": {},
   "outputs": [],
   "source": [
    "# 다른 수치를 지정해서 인스턴스 만들기\n",
    "p2 = Prism(50, 60, 70)   # 인수를 바꿈\n",
    "print(p2.content())      # 변경한 인수로 부피를 계산함"
   ]
  },
  {
   "cell_type": "code",
   "execution_count": null,
   "metadata": {},
   "outputs": [],
   "source": [
    "# 인스턴스로부터 속성을 읽어 내기\n",
    "p1.height"
   ]
  },
  {
   "cell_type": "code",
   "execution_count": null,
   "metadata": {},
   "outputs": [],
   "source": [
    "# 다른 인스턴스의 속성에는 다른 값이 들어있음\n",
    "p2.height"
   ]
  },
  {
   "cell_type": "code",
   "execution_count": null,
   "metadata": {},
   "outputs": [],
   "source": [
    "# 속성 바꾸기\n",
    "p1.height = 50\n",
    "print(p1.content())    # 부피를 계산함"
   ]
  },
  {
   "cell_type": "code",
   "execution_count": null,
   "metadata": {},
   "outputs": [],
   "source": [
    "# dir(p1)"
   ]
  },
  {
   "cell_type": "markdown",
   "metadata": {},
   "source": [
    "### 속성의 은폐"
   ]
  },
  {
   "cell_type": "code",
   "execution_count": null,
   "metadata": {},
   "outputs": [],
   "source": [
    "# 다른 자료형을 대입해 본다\n",
    "p = Prism(10, 20, 30)\n",
    "p.width               # 가로폭을 표시"
   ]
  },
  {
   "cell_type": "code",
   "execution_count": null,
   "metadata": {},
   "outputs": [],
   "source": [
    "p.depth = \"30\"        # 속성으로 수치가 아니라 문자열을 대입\n",
    "p.content()           # 부피를 계산함"
   ]
  },
  {
   "cell_type": "code",
   "execution_count": null,
   "metadata": {},
   "outputs": [],
   "source": [
    "print(5*'A')#,print(5*A)"
   ]
  },
  {
   "cell_type": "code",
   "execution_count": null,
   "metadata": {},
   "outputs": [],
   "source": [
    "p.depth = \"A\"        # 속성으로 수치가 아니라 문자열을 대입\n",
    "p.content()  "
   ]
  },
  {
   "cell_type": "code",
   "execution_count": null,
   "metadata": {},
   "outputs": [],
   "source": [
    "# \"__\"으로 속성을 은폐한 Prism 클래스를 정의 (width -> _width, or __width)\n",
    "class PrismC:\n",
    "    def __init__(self, width, height, depth):\n",
    "        # 초기화 메쏘드를 정의\n",
    "        self.__width = width    # 인수를 속성에 할당\n",
    "        self.__height = height\n",
    "        self.__depth = depth\n",
    "\n",
    "    def content(self):\n",
    "        # 부피를 계산함\n",
    "        return self.__width*self.__height*self.__depth"
   ]
  },
  {
   "cell_type": "code",
   "execution_count": null,
   "metadata": {},
   "outputs": [],
   "source": [
    "p4 = PrismC(10, 20, 30)\n",
    "print(p4.content())"
   ]
  },
  {
   "cell_type": "code",
   "execution_count": null,
   "metadata": {},
   "outputs": [],
   "source": [
    "p4.__width = 200    # 속성을 외부에서 다시 대입\n",
    "p4.content()        # 결과는 변하지 않는다 --> 무엇을 의미하는가?"
   ]
  },
  {
   "cell_type": "code",
   "execution_count": null,
   "metadata": {},
   "outputs": [],
   "source": [
    "# 그러나 이름을 바꾸는 규칙을 알고 있다면 변경된다\n",
    "p4._PrismC__width = 300\n",
    "# p4._PrismC__depth = 500\n",
    "p4.content()"
   ]
  },
  {
   "cell_type": "code",
   "execution_count": null,
   "metadata": {},
   "outputs": [],
   "source": [
    "p4.__width#, p4.__height, p4.__depth # ?????"
   ]
  },
  {
   "cell_type": "code",
   "execution_count": null,
   "metadata": {},
   "outputs": [],
   "source": [
    "p4.__height"
   ]
  },
  {
   "cell_type": "code",
   "execution_count": null,
   "metadata": {},
   "outputs": [],
   "source": [
    "p4._height=1"
   ]
  },
  {
   "cell_type": "code",
   "execution_count": null,
   "metadata": {},
   "outputs": [],
   "source": [
    "p4._height"
   ]
  },
  {
   "cell_type": "code",
   "execution_count": null,
   "metadata": {},
   "outputs": [],
   "source": [
    "dir(p4)"
   ]
  },
  {
   "cell_type": "markdown",
   "metadata": {},
   "source": [
    "### 다음 변수들의 차이점을 이해!\n",
    "\n",
    "<pre> _PrismC__depth,  _PrismC__height, _PrismC__width   vs.   __width, _height </pre>\n",
    "\n",
    "> <pre> _PrismC__depth,  _PrismC__height, _PrismC__width 는 class 에 은닉된 변수,\n",
    "         __width, _height 는 클래스의 인스턴스에 추가된 변수</pre>"
   ]
  },
  {
   "cell_type": "markdown",
   "metadata": {},
   "source": [
    "***"
   ]
  },
  {
   "cell_type": "markdown",
   "metadata": {},
   "source": [
    "# Chapter07-01\n",
    "## 클래스 상속과 고급 객체 지향 기능"
   ]
  },
  {
   "cell_type": "markdown",
   "metadata": {},
   "source": [
    "## 클래스를 상속한다"
   ]
  },
  {
   "cell_type": "code",
   "execution_count": null,
   "metadata": {},
   "outputs": [],
   "source": [
    "# Prism 클래스를 다시 정의\n",
    "class Prism:\n",
    "    def __init__(self, width, height, depth):\n",
    "        # 초기화 메쏘드를 정의\n",
    "        self.width = width    # 인수를 속성에 할당\n",
    "        self.height = height\n",
    "        self.depth = depth\n",
    "\n",
    "    def content(self):\n",
    "        # 부피를 계산\n",
    "        return self.width*self.height*self.depth"
   ]
  },
  {
   "cell_type": "code",
   "execution_count": null,
   "metadata": {},
   "outputs": [],
   "source": [
    "# Cube 클래스의 정의\n",
    "# 슈퍼클래스 Prism을 상속한 Cube 클래스를 정의\n",
    "class Cube(Prism):    # Prism 클래스를 상속함\n",
    "    def __init__(self, length):    # __init__() 메쏘드를 오버라이드\n",
    "        # 초기화 메쏘드를 오버라이드(override)\n",
    "        self.width = self.height = self.depth = length    # 속성을 length로 초기화"
   ]
  },
  {
   "cell_type": "code",
   "execution_count": null,
   "metadata": {},
   "outputs": [],
   "source": [
    "# Cube 클래스를 사용한다\n",
    "c = Cube(20)     # length로 ‘20’을 넘김\n",
    "c.content()      # Prism 클래스의 메쏘드를 호출함"
   ]
  },
  {
   "cell_type": "markdown",
   "metadata": {},
   "source": [
    "### 초기화 메쏘드의 오버라이드"
   ]
  },
  {
   "cell_type": "code",
   "execution_count": null,
   "metadata": {},
   "outputs": [],
   "source": [
    "# Prism 클래스의 새로운 정의\n",
    "# 초기화 메소드에 인수(단위)를 추가하여 Prism 클래스를 재정의\n",
    "class Prism:\n",
    "    def __init__(self, width, height, depth, unit=\"cm\"):    # 인수를 추가\n",
    "        self.width = width\n",
    "        self.height = height\n",
    "        self.depth = depth\n",
    "        self.unit = unit             # 속성을 추가\n",
    "        print(\"Unit: \", unit)\n",
    "\n",
    "    def content(self):\n",
    "        # 부피 계산\n",
    "        return self.width*self.height*self.depth        \n",
    "\n",
    "    def unit_content(self):         # 메쏘드를 추가\n",
    "        # 체적을 구하고, 단위를 연결하여 문자열을 반환\n",
    "        return str(self.content())+ \" \" +3*self.unit  # 계산 결과에 단위를 더함          "
   ]
  },
  {
   "cell_type": "code",
   "execution_count": null,
   "metadata": {},
   "outputs": [],
   "source": [
    "Prism(10,20,30)"
   ]
  },
  {
   "cell_type": "code",
   "execution_count": null,
   "metadata": {},
   "outputs": [],
   "source": [
    "Prism(10,20,30).content()"
   ]
  },
  {
   "cell_type": "code",
   "execution_count": null,
   "metadata": {},
   "outputs": [],
   "source": [
    "Prism(10,20,30).unit_content()"
   ]
  },
  {
   "cell_type": "code",
   "execution_count": null,
   "metadata": {},
   "outputs": [],
   "source": [
    "# Prism을 상속한 Cube 클래스를 정의하고 초기화 메소드 __init__() 를 재정의\n",
    "class Cube(Prism):\n",
    "    def __init__(self, length):\n",
    "        # 초기화 메쏘드를 오버라이드(override)\n",
    "        self.width = self.height = self.depth = length"
   ]
  },
  {
   "cell_type": "code",
   "execution_count": null,
   "metadata": {},
   "outputs": [],
   "source": [
    "Cube(10)"
   ]
  },
  {
   "cell_type": "code",
   "execution_count": null,
   "metadata": {
    "scrolled": true
   },
   "outputs": [],
   "source": [
    "# 추가한 속성을 호출한다\n",
    "# Prism 클래스를 상속한 Cube 클래스에 추가한 메쏘드를 호출\n",
    "c = Cube(10)\n",
    "c"
   ]
  },
  {
   "cell_type": "code",
   "execution_count": null,
   "metadata": {},
   "outputs": [],
   "source": [
    "c.content()"
   ]
  },
  {
   "cell_type": "code",
   "execution_count": null,
   "metadata": {
    "scrolled": true
   },
   "outputs": [],
   "source": [
    "c.unit_content()"
   ]
  },
  {
   "cell_type": "markdown",
   "metadata": {},
   "source": [
    "### Solution to the above error"
   ]
  },
  {
   "cell_type": "markdown",
   "metadata": {},
   "source": [
    "### super( )를 사용한 슈퍼클래스의 취득"
   ]
  },
  {
   "cell_type": "code",
   "execution_count": null,
   "metadata": {},
   "outputs": [],
   "source": [
    "# Cube 클래스에서 super()함수를 사용한다.\n",
    "# super()를 사용하여 Cube 클래스를 재정의\n",
    "class Cube(Prism):\n",
    "    def __init__(self, length):\n",
    "        super().__init__(length, length, length) # Cube는 세 모서리 길이가 동일. unit는 default로 지정됨.\n"
   ]
  },
  {
   "cell_type": "code",
   "execution_count": null,
   "metadata": {},
   "outputs": [],
   "source": [
    "# 추가한 속성을 호출한다\n",
    "c2 = Cube(20)\n",
    "c2.unit_content()"
   ]
  },
  {
   "cell_type": "markdown",
   "metadata": {},
   "source": [
    "***"
   ]
  },
  {
   "cell_type": "markdown",
   "metadata": {},
   "source": [
    "### 슬롯(Slot)"
   ]
  },
  {
   "cell_type": "code",
   "execution_count": null,
   "metadata": {},
   "outputs": [],
   "source": [
    "# 슬롯에 의한 속성 제한\n",
    "# 슬롯을 가지는 클래스를 정의한다\n",
    "class Klass:                # 클래스를 정의\n",
    "    __slots__ = ['a', 'b']  # 속성을 제한\n",
    "    def __init__(self):\n",
    "        self.a = 1          # a라는 속성을 작성\n",
    "\n",
    "i = Klass()      # 인스턴스를 만듦\n",
    "i.a              # a라는 속성을 확인"
   ]
  },
  {
   "cell_type": "code",
   "execution_count": null,
   "metadata": {},
   "outputs": [],
   "source": [
    "i.b = 2          # b라는 속성을 추가\n",
    "i.b              # b라는 속성을 확인"
   ]
  },
  {
   "cell_type": "code",
   "execution_count": null,
   "metadata": {},
   "outputs": [],
   "source": [
    "i.c = 3          # c라는 속성은 추가할 수 없음"
   ]
  },
  {
   "cell_type": "code",
   "execution_count": null,
   "metadata": {},
   "outputs": [],
   "source": [
    "# dir(i)"
   ]
  },
  {
   "cell_type": "markdown",
   "metadata": {},
   "source": [
    "### 프로퍼티(property)"
   ]
  },
  {
   "cell_type": "code",
   "execution_count": null,
   "metadata": {},
   "outputs": [],
   "source": [
    "# 프로퍼티의 정의\n",
    "# 프로퍼티를 정의하는 클래스를 정의한다\n",
    "class Prop:\n",
    "    def __init__(self):\n",
    "        self.__x = 0    # 속성을 만듦\n",
    "\n",
    "    def getx(self):     # 게터\n",
    "        return self.__x # 속성을 돌려줌\n",
    "\n",
    "    def setx(self, x):  # 세터\n",
    "        self.__x = x    # 속성으로 값을 넣음\n",
    "    \n",
    "    x = property(getx, setx) # 프로퍼티를 설정함\n",
    "    "
   ]
  },
  {
   "cell_type": "code",
   "execution_count": null,
   "metadata": {},
   "outputs": [],
   "source": [
    "# 프로퍼티를 사용한다\n",
    "i = Prop()     # 인스턴스를 만듦\n",
    "i.x            # 속성을 참조"
   ]
  },
  {
   "cell_type": "code",
   "execution_count": null,
   "metadata": {},
   "outputs": [],
   "source": [
    "i.x = 10       # x에 대입\n",
    "i.x            # 속성 x를 참조"
   ]
  },
  {
   "cell_type": "code",
   "execution_count": null,
   "metadata": {},
   "outputs": [],
   "source": [
    "i._Prop__x     # __x에 억지로 접근"
   ]
  },
  {
   "cell_type": "code",
   "execution_count": null,
   "metadata": {},
   "outputs": [],
   "source": [
    "# dir(i)"
   ]
  },
  {
   "cell_type": "code",
   "execution_count": null,
   "metadata": {},
   "outputs": [],
   "source": [
    "i.getx()"
   ]
  },
  {
   "cell_type": "code",
   "execution_count": null,
   "metadata": {},
   "outputs": [],
   "source": [
    "i.setx(100)\n",
    "i.x"
   ]
  },
  {
   "cell_type": "markdown",
   "metadata": {},
   "source": [
    "### 더미 데코레이터를 사용하면 보다 간편하게 속성을 정의 할 수 있다"
   ]
  },
  {
   "cell_type": "code",
   "execution_count": null,
   "metadata": {},
   "outputs": [],
   "source": [
    "# 데코레이터를 사용하여 프로퍼티를 정의하는 클래스를 정의\n",
    "\n",
    "class DecoProp:\n",
    "    def __init__(self):\n",
    "        self.__x = 0\n",
    "\n",
    "    @property\n",
    "    def x(self):\n",
    "        # x = property(x.getter(x), x.setter(x)) \n",
    "        return None\n",
    "    \n",
    "    # getter 정의\n",
    "    @x.getter\n",
    "    def x(self):\n",
    "        print('this is getter, value is', self.__x)\n",
    "        return(self.__x)\n",
    "\n",
    "    # setter 정의\n",
    "    @x.setter\n",
    "    def x(self, value):\n",
    "        print('this is setter, value is', value)\n",
    "        self.__x = value\n"
   ]
  },
  {
   "cell_type": "code",
   "execution_count": null,
   "metadata": {},
   "outputs": [],
   "source": [
    "dp = DecoProp()   # 데코레이터를 사용한 속성을 가진 인스턴스를 생성\n",
    "dp.x             # __init __ ()에 정의된 초기값을 표시, getter가 호출됨"
   ]
  },
  {
   "cell_type": "code",
   "execution_count": null,
   "metadata": {},
   "outputs": [],
   "source": [
    "dp.x = 1          # setter를 호출하여 값을 변경"
   ]
  },
  {
   "cell_type": "code",
   "execution_count": null,
   "metadata": {},
   "outputs": [],
   "source": [
    "dp.x              # 값이 변경되어 있는지 확인"
   ]
  },
  {
   "cell_type": "code",
   "execution_count": null,
   "metadata": {},
   "outputs": [],
   "source": []
  },
  {
   "cell_type": "markdown",
   "metadata": {},
   "source": [
    "# Chapter 07-03\n",
    "## 내장형을 상속하다"
   ]
  },
  {
   "cell_type": "markdown",
   "metadata": {},
   "source": [
    "## 딕셔너리형을 상속한다"
   ]
  },
  {
   "cell_type": "code",
   "execution_count": null,
   "metadata": {},
   "outputs": [],
   "source": [
    "class StrDict(dict):\n",
    "    \"\"\" 딕셔너리형을 상속해서 클래스를 만든다\n",
    "    \"\"\"\n",
    "    def __init__(self):\n",
    "        pass\n",
    "\n",
    "    def __setitem__(self, key, value):\n",
    "        \"\"\" 특수 메쏘드를 재정의(오버라이드)\n",
    "            key가 문자열이 아니면 예외를 발생\n",
    "        \"\"\"\n",
    "        if not isinstance(key, str):\n",
    "            # 키가 문자열이 아닌 경우에는 예외를 발생\n",
    "            raise ValueError(\"Key must be string.\")\n",
    "            # 슈퍼클래스의 특수 메쏘드를 호출해서 키와 값을 설정\n",
    "        dict.__setitem__(self, key, value)"
   ]
  },
  {
   "cell_type": "markdown",
   "metadata": {},
   "source": [
    "> 딕셔너리형(dict)을 상속했으므로 딕셔너리의 모든 속성과 메소드가 사용 가능하다."
   ]
  },
  {
   "cell_type": "code",
   "execution_count": null,
   "metadata": {},
   "outputs": [],
   "source": [
    "# 딕셔너리형을 상속한 클래스를 사용한다\n",
    "d = StrDict()   # 인스턴스를 작성\n",
    "d[\"spam\"] = 1   # 딕셔너리와 같이 키를 사용해서 요소를 추가\n",
    "d[\"spam\"]       # 추가된 요소 확인"
   ]
  },
  {
   "cell_type": "code",
   "execution_count": null,
   "metadata": {},
   "outputs": [],
   "source": [
    "d[1] = 1        # 수치 키로 요소를 추가하면 오류"
   ]
  },
  {
   "cell_type": "code",
   "execution_count": null,
   "metadata": {},
   "outputs": [],
   "source": [
    "d.keys()       # 딕셔너리 메쏘드도 이용할 수 있음"
   ]
  },
  {
   "cell_type": "code",
   "execution_count": null,
   "metadata": {},
   "outputs": [],
   "source": [
    "d[\"normal\"]=30\n",
    "d[\"normal\"]"
   ]
  },
  {
   "cell_type": "code",
   "execution_count": null,
   "metadata": {},
   "outputs": [],
   "source": [
    "d.keys()"
   ]
  },
  {
   "cell_type": "code",
   "execution_count": null,
   "metadata": {},
   "outputs": [],
   "source": [
    "d.items()"
   ]
  },
  {
   "cell_type": "markdown",
   "metadata": {},
   "source": [
    "# Chapter08-01\n",
    "## 모듈 파일 만들기"
   ]
  },
  {
   "cell_type": "markdown",
   "metadata": {},
   "source": [
    "### 모듈을 import하는 과정"
   ]
  },
  {
   "cell_type": "code",
   "execution_count": null,
   "metadata": {},
   "outputs": [],
   "source": [
    "# 모듈을 import해서 사용한다\n",
    "import testmodule    # testmodule 모듈을 임포트"
   ]
  },
  {
   "cell_type": "markdown",
   "metadata": {},
   "source": [
    "<pre>\n",
    "# testmodule.py\n",
    "    \n",
    "import sys                # 표준 라이브러리를 임포트\n",
    "\n",
    "a = 1                     # 변수를 정의함\n",
    "b = \"some string\"\n",
    "\n",
    "def foo():                # 함수를 정의함\n",
    "    print(\"This is the function 'foo'\")\n",
    "\n",
    "print(\"this is the top level\") # 문자열을 표시함\n",
    "\n",
    "if __name__ == '__main__':\n",
    "    print(\"this is the code block\")\n",
    "\n",
    "</pre>"
   ]
  },
  {
   "cell_type": "code",
   "execution_count": null,
   "metadata": {},
   "outputs": [],
   "source": [
    "testmodule.a         # 변수를 표시함"
   ]
  },
  {
   "cell_type": "code",
   "execution_count": null,
   "metadata": {},
   "outputs": [],
   "source": [
    "testmodule.b"
   ]
  },
  {
   "cell_type": "code",
   "execution_count": null,
   "metadata": {},
   "outputs": [],
   "source": [
    "testmodule.foo()     # 함수를 호출함"
   ]
  },
  {
   "cell_type": "code",
   "execution_count": null,
   "metadata": {},
   "outputs": [],
   "source": [
    "testmodule.sys.argv  # 모듈 속에서 import한 모듈을 사용함"
   ]
  },
  {
   "cell_type": "markdown",
   "metadata": {},
   "source": [
    "### 파일을 실행할 때만 실행하는 블록"
   ]
  },
  {
   "cell_type": "code",
   "execution_count": null,
   "metadata": {},
   "outputs": [],
   "source": [
    "%run testmodule.py  # %run을 사용하여 모듈을 실행"
   ]
  },
  {
   "cell_type": "markdown",
   "metadata": {},
   "source": [
    "### 클래스와 모듈"
   ]
  },
  {
   "cell_type": "code",
   "execution_count": null,
   "metadata": {},
   "outputs": [],
   "source": [
    "# bookmark 모듈을 임포트 함\n",
    "import bookmark     # bookmark 모듈을 임포트 함\n",
    "# Bookmark 클래스에서 인스턴스를 만듦\n",
    "b = bookmark.Bookmark(\"타이틀\", \"http://path.to/site\")"
   ]
  },
  {
   "cell_type": "code",
   "execution_count": null,
   "metadata": {},
   "outputs": [],
   "source": [
    "b"
   ]
  },
  {
   "cell_type": "code",
   "execution_count": null,
   "metadata": {},
   "outputs": [],
   "source": [
    "# from문을 사용하여 Bookmark 클래스를 임포트 함\n",
    "from bookmark import Bookmark # bookmark 모듈을 임포트 함\n",
    "b2 = Bookmark(\"타이틀\", \"http://path.to/site\")"
   ]
  },
  {
   "cell_type": "code",
   "execution_count": null,
   "metadata": {},
   "outputs": [],
   "source": [
    "b2"
   ]
  },
  {
   "cell_type": "code",
   "execution_count": null,
   "metadata": {},
   "outputs": [],
   "source": [
    "dir(b2)"
   ]
  },
  {
   "cell_type": "code",
   "execution_count": null,
   "metadata": {},
   "outputs": [],
   "source": [
    "b2.title, b2.url"
   ]
  },
  {
   "cell_type": "code",
   "execution_count": null,
   "metadata": {},
   "outputs": [],
   "source": [
    "# bookmark.Bookmark 클래스의 상속\n",
    "import bookmark # bookmark 모듈을 임포트 함\n",
    "\n",
    "class Blogmark(bookmark.Bookmark):\n",
    "    pass"
   ]
  },
  {
   "cell_type": "code",
   "execution_count": null,
   "metadata": {},
   "outputs": [],
   "source": [
    "# from 문장을 사용하여 Bookmark 클래스를 임포트해서 상속함\n",
    "from bookmark import Bookmark # bookmark 모듈을 임포트 함\n",
    "class Blogmark(Bookmark):\n",
    "    pass"
   ]
  },
  {
   "cell_type": "markdown",
   "metadata": {},
   "source": [
    "***"
   ]
  },
  {
   "cell_type": "markdown",
   "metadata": {},
   "source": [
    "## [wk09] homework\n",
    "\n",
    "> 다음 Youtube 강의를 들으면서 파이썬 노트북을 만들어서 각자의 github에 올리시오.(마감: 2018.10.28. 24:00)\n",
    "\n",
    "#### 제출 파일명: Summary_class.ipynb\n"
   ]
  },
  {
   "cell_type": "code",
   "execution_count": 2,
   "metadata": {},
   "outputs": [
    {
     "data": {
      "image/jpeg": "[encoded data removed]",
      "text/html": [
       "\n",
       "        <iframe\n",
       "            width=\"400\"\n",
       "            height=\"300\"\n",
       "            src=\"https://www.youtube.com/embed/5Xy5Ju7hYo4\"\n",
       "            frameborder=\"0\"\n",
       "            allowfullscreen\n",
       "        ></iframe>\n",
       "        "
      ],
      "text/plain": [
       "<IPython.lib.display.YouTubeVideo at 0x26501a13710>"
      ]
     },
     "execution_count": 2,
     "metadata": {},
     "output_type": "execute_result"
    }
   ],
   "source": [
    "from IPython.lib.display import YouTubeVideo\n",
    "YouTubeVideo('5Xy5Ju7hYo4')  # 파이썬 클래스, 예외처리, with"
   ]
  },
  {
   "cell_type": "markdown",
   "metadata": {},
   "source": [
    "***"
   ]
  },
  {
   "cell_type": "code",
   "execution_count": null,
   "metadata": {},
   "outputs": [],
   "source": []
  }
 ],
 "metadata": {
  "kernelspec": {
   "display_name": "Python 3",
   "language": "python",
   "name": "python3"
  },
  "language_info": {
   "codemirror_mode": {
    "name": "ipython",
    "version": 3
   },
   "file_extension": ".py",
   "mimetype": "text/x-python",
   "name": "python",
   "nbconvert_exporter": "python",
   "pygments_lexer": "ipython3",
   "version": "3.6.6"
  }
 },
 "nbformat": 4,
 "nbformat_minor": 2
}
