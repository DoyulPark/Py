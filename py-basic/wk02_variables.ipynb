{
  "nbformat": 4,
  "nbformat_minor": 0,
  "metadata": {
    "colab": {
      "name": "wk02_variables의 사본",
      "version": "0.3.2",
      "provenance": [],
      "private_outputs": true,
      "collapsed_sections": [
        "Bo4CppjdkSTw",
        "7aD9wAOc4c2f"
      ],
      "include_colab_link": true
    },
    "kernelspec": {
      "name": "python3",
      "display_name": "Python 3"
    }
  },
  "cells": [
    {
      "cell_type": "markdown",
      "metadata": {
        "id": "view-in-github",
        "colab_type": "text"
      },
      "source": [
        "[View in Colaboratory](https://colab.research.google.com/github/Redwoods/Py/blob/master/py-basic/wk02_variables.ipynb)"
      ]
    },
    {
      "metadata": {
        "id": "zafPwBj07RQJ",
        "colab_type": "toc"
      },
      "cell_type": "markdown",
      "source": [
        ">>[기본 연산](#scrollTo=Bo4CppjdkSTw)\n",
        "\n",
        ">>[변수](#scrollTo=ipzipiC34J93)\n",
        "\n",
        ">>>[동적 변수 (dynamic typing)](#scrollTo=7aD9wAOc4c2f)\n",
        "\n",
        ">>>[문자열](#scrollTo=hiSHhfCB5brI)\n",
        "\n",
        ">>>[여러 행 문자열 (\"\"\" ~~ \"\"\")](#scrollTo=_dyJYSMW55l4)\n",
        "\n",
        ">>>[여러 행 수식](#scrollTo=wpvvMSkUaBC9)\n",
        "\n",
        ">>>[숫자와 문자열 처리](#scrollTo=KJyNt0RAkegg)\n",
        "\n",
        ">>>>[변수 type](#scrollTo=TbgZ47uQbCN9)\n",
        "\n",
        ">>>[문자열을 숫자로 변환 : int(), float()](#scrollTo=HZZmAFs3JCk-)\n",
        "\n",
        ">>[예약어 (keywords)](#scrollTo=CAcc8NJDhHvv)\n",
        "\n",
        ">>>[예약어는 변수 이름으로 사용할 수 없다 (오류가 발생함)](#scrollTo=xAkK9SdEmglx)\n",
        "\n",
        ">>[User input](#scrollTo=51aocqAhiiJL)\n",
        "\n",
        ">>[Code block & Indentation](#scrollTo=ZUr2bQdXj2Va)\n",
        "\n",
        ">>>[Indentation error](#scrollTo=UHAvMwsGkcyy)\n",
        "\n",
        ">>[도전 코딩 1. BMI](#scrollTo=6sCZqBK6ntoQ)\n",
        "\n",
        ">>>[BMI](#scrollTo=HJm_LYsDoKT0)\n",
        "\n",
        ">>[도전 코딩 2. Fat burning](#scrollTo=r_yyrXkZuNJC)\n",
        "\n"
      ]
    },
    {
      "metadata": {
        "id": "Bo4CppjdkSTw",
        "colab_type": "text"
      },
      "cell_type": "markdown",
      "source": [
        "## 기본 연산"
      ]
    },
    {
      "metadata": {
        "id": "GIAweZL3kaJ_",
        "colab_type": "code",
        "colab": {}
      },
      "cell_type": "code",
      "source": [
        "5-5+1+9"
      ],
      "execution_count": 0,
      "outputs": []
    },
    {
      "metadata": {
        "id": "Boixfj3Dky04",
        "colab_type": "code",
        "colab": {}
      },
      "cell_type": "code",
      "source": [
        "5/5/3+9"
      ],
      "execution_count": 0,
      "outputs": []
    },
    {
      "metadata": {
        "id": "6pK2FuGzlABY",
        "colab_type": "code",
        "colab": {}
      },
      "cell_type": "code",
      "source": [
        "5/(5/3)+9"
      ],
      "execution_count": 0,
      "outputs": []
    },
    {
      "metadata": {
        "id": "q-DrIUvElI5I",
        "colab_type": "code",
        "colab": {}
      },
      "cell_type": "code",
      "source": [
        "5/5*(1+9)"
      ],
      "execution_count": 0,
      "outputs": []
    },
    {
      "metadata": {
        "id": "ipzipiC34J93",
        "colab_type": "text"
      },
      "cell_type": "markdown",
      "source": [
        "## 변수"
      ]
    },
    {
      "metadata": {
        "id": "7aD9wAOc4c2f",
        "colab_type": "text"
      },
      "cell_type": "markdown",
      "source": [
        "### 동적 변수 (dynamic typing)"
      ]
    },
    {
      "metadata": {
        "id": "7_cdACgW4PbQ",
        "colab_type": "code",
        "colab": {}
      },
      "cell_type": "code",
      "source": [
        "# 파이썬은 동적인 언어이다. (Dynamic typing)\n",
        "# 정의된 변수\n",
        "some_var = 100\n",
        "\n",
        "# 다른 종류의 데이터를 할당할 수 있습다\n",
        "some_var = \"SPAM\"\n",
        "\n",
        "# 한편, 정적인 종류의 프로그래밍 언어\n",
        "# 변수는 정해진 유형의 데이터만 할당할 수 있다"
      ],
      "execution_count": 0,
      "outputs": []
    },
    {
      "metadata": {
        "id": "hiSHhfCB5brI",
        "colab_type": "text"
      },
      "cell_type": "markdown",
      "source": [
        "### 문자열"
      ]
    },
    {
      "metadata": {
        "id": "d7W9tThR5f_o",
        "colab_type": "code",
        "colab": {}
      },
      "cell_type": "code",
      "source": [
        "psy = \"오빤 강남스타일 \"    # 문자열을 변수에 할당"
      ],
      "execution_count": 0,
      "outputs": []
    },
    {
      "metadata": {
        "id": "siNR_ryk5mCY",
        "colab_type": "code",
        "colab": {}
      },
      "cell_type": "code",
      "source": [
        "# 문자열을 연결\n",
        "psy = \"오빤 강남스타일 \" \n",
        "psy = psy+\"오, 강남스타일\"\n",
        "psy      # 연결 문자열을 확인"
      ],
      "execution_count": 0,
      "outputs": []
    },
    {
      "metadata": {
        "id": "bkbT3UFw5qow",
        "colab_type": "code",
        "colab": {}
      },
      "cell_type": "code",
      "source": [
        "# 복합 연산자를 사용해 보자\n",
        "psy2 = \"아름다워 사랑스러워 \"\n",
        "psy2 += \"그래 너, 그래 바로 너\"\n",
        "psy2       # 복합 연산자를 사용하여 연결 문자열을 확인\n"
      ],
      "execution_count": 0,
      "outputs": []
    },
    {
      "metadata": {
        "id": "_dyJYSMW55l4",
        "colab_type": "text"
      },
      "cell_type": "markdown",
      "source": [
        "### 여러 행 문자열 (\"\"\" ~~~~~~ \"\"\")"
      ]
    },
    {
      "metadata": {
        "id": "F8ZIZsvD59ix",
        "colab_type": "code",
        "colab": {}
      },
      "cell_type": "code",
      "source": [
        "# 따옴표를 세 개 겹친 삼중 따옴표를 사용하면 줄 바꿈을 포함하는 문자열을 정의할 수 있다\n",
        "\n",
        "psy = \"\"\" 낮에는 따사로운 인간적인 여자 \n",
        "커피 한잔의 여유를 아는 품격있는 여자 \n",
        "밤이 오면 심장이 뜨거워지는 여자 그런 반전 있는 여자 \"\"\"\n",
        "psy"
      ],
      "execution_count": 0,
      "outputs": []
    },
    {
      "metadata": {
        "id": "igElczk_Z0TF",
        "colab_type": "code",
        "colab": {}
      },
      "cell_type": "code",
      "source": [
        "print(psy)"
      ],
      "execution_count": 0,
      "outputs": []
    },
    {
      "metadata": {
        "id": "wpvvMSkUaBC9",
        "colab_type": "text"
      },
      "cell_type": "markdown",
      "source": [
        "### 여러 행 수식"
      ]
    },
    {
      "metadata": {
        "id": "IlffAIchaEit",
        "colab_type": "code",
        "colab": {}
      },
      "cell_type": "code",
      "source": [
        "sum = 10 + 20 + 30 + 40\n",
        "sum"
      ],
      "execution_count": 0,
      "outputs": []
    },
    {
      "metadata": {
        "id": "49e0nbSyaLjF",
        "colab_type": "code",
        "colab": {}
      },
      "cell_type": "code",
      "source": [
        "sum = 10 + 20 + \\\n",
        "30 + 40\n",
        "sum"
      ],
      "execution_count": 0,
      "outputs": []
    },
    {
      "metadata": {
        "id": "KJyNt0RAkegg",
        "colab_type": "text"
      },
      "cell_type": "markdown",
      "source": [
        "### 숫자와 문자열 처리"
      ]
    },
    {
      "metadata": {
        "id": "gnW7OhvcCeBF",
        "colab_type": "code",
        "colab": {}
      },
      "cell_type": "code",
      "source": [
        "day=3\n",
        "date = day + \" 일\"\n",
        "print(date)"
      ],
      "execution_count": 0,
      "outputs": []
    },
    {
      "metadata": {
        "id": "pK16HG_JF1eO",
        "colab_type": "code",
        "colab": {}
      },
      "cell_type": "code",
      "source": [
        " date = str(day) + \" 일\"\n",
        " print(date)"
      ],
      "execution_count": 0,
      "outputs": []
    },
    {
      "metadata": {
        "id": "cia9M8fjGC68",
        "colab_type": "code",
        "colab": {}
      },
      "cell_type": "code",
      "source": [
        "day=3\n",
        "str_day=str(day)\n",
        "date = str_day + \" 일\"\n",
        "print(date)"
      ],
      "execution_count": 0,
      "outputs": []
    },
    {
      "metadata": {
        "id": "TbgZ47uQbCN9",
        "colab_type": "text"
      },
      "cell_type": "markdown",
      "source": [
        "#### 변수 type"
      ]
    },
    {
      "metadata": {
        "id": "VZsuWvSmaxDl",
        "colab_type": "code",
        "colab": {}
      },
      "cell_type": "code",
      "source": [
        "# 변수 type\n",
        "type(day)"
      ],
      "execution_count": 0,
      "outputs": []
    },
    {
      "metadata": {
        "id": "V0AanSjya5zN",
        "colab_type": "code",
        "colab": {}
      },
      "cell_type": "code",
      "source": [
        "type(day),type(str_day),type(date)"
      ],
      "execution_count": 0,
      "outputs": []
    },
    {
      "metadata": {
        "id": "pvACJhJZviBJ",
        "colab_type": "code",
        "colab": {}
      },
      "cell_type": "code",
      "source": [
        "dir()"
      ],
      "execution_count": 0,
      "outputs": []
    },
    {
      "metadata": {
        "id": "clVVLwZLbQy2",
        "colab_type": "text"
      },
      "cell_type": "markdown",
      "source": [
        "> Python data types\n",
        "- String\n",
        "- Number\n",
        "- Boolean\n",
        "- List\n",
        "- Tuple\n",
        "- Dictionary"
      ]
    },
    {
      "metadata": {
        "id": "HZZmAFs3JCk-",
        "colab_type": "text"
      },
      "cell_type": "markdown",
      "source": [
        "### 문자열을 숫자로 변환 : int(), float()"
      ]
    },
    {
      "metadata": {
        "id": "7w2DilVAI3Re",
        "colab_type": "code",
        "colab": {}
      },
      "cell_type": "code",
      "source": [
        "num = int(\"31\")\n",
        "pi = float('3.141592')"
      ],
      "execution_count": 0,
      "outputs": []
    },
    {
      "metadata": {
        "id": "_sOnwHpbJR3e",
        "colab_type": "code",
        "colab": {}
      },
      "cell_type": "code",
      "source": [
        "# num.pi\n",
        "num"
      ],
      "execution_count": 0,
      "outputs": []
    },
    {
      "metadata": {
        "id": "oVfoohusJS0u",
        "colab_type": "code",
        "colab": {}
      },
      "cell_type": "code",
      "source": [
        "pi,type(pi)"
      ],
      "execution_count": 0,
      "outputs": []
    },
    {
      "metadata": {
        "id": "VzIodiaJJg5F",
        "colab_type": "code",
        "colab": {}
      },
      "cell_type": "code",
      "source": [
        "print(\"num = {}, pi = {}\".format(num,pi))"
      ],
      "execution_count": 0,
      "outputs": []
    },
    {
      "metadata": {
        "id": "CAcc8NJDhHvv",
        "colab_type": "text"
      },
      "cell_type": "markdown",
      "source": [
        "## 예약어 (keywords)"
      ]
    },
    {
      "metadata": {
        "id": "LT-uLvOsJuWH",
        "colab_type": "code",
        "colab": {}
      },
      "cell_type": "code",
      "source": [
        "import keyword\n",
        "\n",
        "# 파이썬의 예약어 수\n",
        "\n",
        "len(keyword.kwlist)"
      ],
      "execution_count": 0,
      "outputs": []
    },
    {
      "metadata": {
        "id": "B-s8-86l0vna",
        "colab_type": "code",
        "colab": {}
      },
      "cell_type": "code",
      "source": [
        "keyword"
      ],
      "execution_count": 0,
      "outputs": []
    },
    {
      "metadata": {
        "id": "eHTv5Q4KhL_w",
        "colab_type": "code",
        "colab": {}
      },
      "cell_type": "code",
      "source": [
        "# 예약어 목록\n",
        "keyword.kwlist"
      ],
      "execution_count": 0,
      "outputs": []
    },
    {
      "metadata": {
        "id": "a_F5g8vU4wed",
        "colab_type": "code",
        "colab": {}
      },
      "cell_type": "code",
      "source": [
        "as = \"inje\""
      ],
      "execution_count": 0,
      "outputs": []
    },
    {
      "metadata": {
        "id": "-sMMgn4B42Vs",
        "colab_type": "code",
        "colab": {}
      },
      "cell_type": "code",
      "source": [
        "_as = \"inje\"\n",
        "_as"
      ],
      "execution_count": 0,
      "outputs": []
    },
    {
      "metadata": {
        "id": "xAkK9SdEmglx",
        "colab_type": "text"
      },
      "cell_type": "markdown",
      "source": [
        "### 예약어는 변수 이름으로 사용할 수 없다 (오류가 발생함)"
      ]
    },
    {
      "metadata": {
        "id": "51aocqAhiiJL",
        "colab_type": "text"
      },
      "cell_type": "markdown",
      "source": [
        "## User input"
      ]
    },
    {
      "metadata": {
        "id": "hZnLz7QBha94",
        "colab_type": "code",
        "colab": {}
      },
      "cell_type": "code",
      "source": [
        "name = input(\"Please write down your name here!\")"
      ],
      "execution_count": 0,
      "outputs": []
    },
    {
      "metadata": {
        "id": "nFSR0ZF_ivAa",
        "colab_type": "code",
        "colab": {}
      },
      "cell_type": "code",
      "source": [
        "name"
      ],
      "execution_count": 0,
      "outputs": []
    },
    {
      "metadata": {
        "id": "ZUr2bQdXj2Va",
        "colab_type": "text"
      },
      "cell_type": "markdown",
      "source": [
        "## Code block & Indentation"
      ]
    },
    {
      "metadata": {
        "id": "OrlKz4yfizeC",
        "colab_type": "code",
        "colab": {}
      },
      "cell_type": "code",
      "source": [
        "if(10<3):\n",
        "  print('inside if block')\n",
        "  print('still inside if block')\n",
        "print('outside if block!')"
      ],
      "execution_count": 0,
      "outputs": []
    },
    {
      "metadata": {
        "id": "UHAvMwsGkcyy",
        "colab_type": "text"
      },
      "cell_type": "markdown",
      "source": [
        "### Indentation error"
      ]
    },
    {
      "metadata": {
        "id": "Rsw8cKVdkPIx",
        "colab_type": "code",
        "colab": {}
      },
      "cell_type": "code",
      "source": [
        "if(10>3):\n",
        "  print('inside if block')\n",
        "    print('still inside if block')\n",
        "  \n",
        "print('outside if block!')"
      ],
      "execution_count": 0,
      "outputs": []
    },
    {
      "metadata": {
        "id": "6sCZqBK6ntoQ",
        "colab_type": "text"
      },
      "cell_type": "markdown",
      "source": [
        "## 도전 코딩 1. BMI   = M/H**2, (M(kg), H(m))"
      ]
    },
    {
      "metadata": {
        "id": "8lU_7Kinn3hP",
        "colab_type": "code",
        "colab": {}
      },
      "cell_type": "code",
      "source": [
        "height = float(input(\"Your height in meters:\"))\n",
        "weight = int(input(\"Your weight in kilograms:\"))\n",
        "bmi = round(weight/ (height * height), 1)\n",
        "bmi"
      ],
      "execution_count": 0,
      "outputs": []
    },
    {
      "metadata": {
        "id": "HJm_LYsDoKT0",
        "colab_type": "text"
      },
      "cell_type": "markdown",
      "source": [
        "### BMI\n",
        "\n",
        "> BMI 공식은 체중(kg)÷(키(m)**2) 입니다. 즉, 체중을 키의 제곱으로 나눈 값이 BMI(체질량지수)입니다.\n",
        "\n",
        ">> BMI는 키와 체중을 이용하여 계산한 지수인데, 체지방량의 정도를 잘 반영하는 편이라서 비만도를 판단하는데 전 세계적으로 이용되고 있는 지수 입니다.\n",
        "\n",
        "[BMI 정보](http://www.dietiyes.com/bmi-calculator)"
      ]
    },
    {
      "metadata": {
        "id": "r_yyrXkZuNJC",
        "colab_type": "text"
      },
      "cell_type": "markdown",
      "source": [
        "## 도전 코딩 2. Fat burning"
      ]
    },
    {
      "metadata": {
        "id": "Eih9JwmAn_A1",
        "colab_type": "code",
        "colab": {}
      },
      "cell_type": "code",
      "source": [
        "# 조깅에서 1kg 지방을 태우는 데 몇 시간 걸리는지를 계산\n",
        "cal_per_1kg_fat = 7200       # 지방 1kg 연소에 필요한 열량\n",
        "cal_per_1min_jog = 7.76       # 조깅 1 분에 의한 소비 칼로리"
      ],
      "execution_count": 0,
      "outputs": []
    },
    {
      "metadata": {
        "id": "qiiC3Dj5u_uy",
        "colab_type": "code",
        "colab": {}
      },
      "cell_type": "code",
      "source": [
        "#조깅에서 1kg 체중 감소하는데 몇 분이 필요할까?\n",
        "min_to_lose1kg = cal_per_1kg_fat/cal_per_1min_jog\n",
        "hours_to_lose1kg = min_to_lose1kg/60  # 분을 시간으로 환산\n",
        "print(round(hours_to_lose1kg,1))\n",
        "print(str(round(hours_to_lose1kg,1)) + \" 시간\")      # 변수의 내용을 표시"
      ],
      "execution_count": 0,
      "outputs": []
    },
    {
      "metadata": {
        "id": "7ZbiOFJjvAjC",
        "colab_type": "code",
        "colab": {}
      },
      "cell_type": "code",
      "source": [
        "print(\"{} 시간\".format(round(hours_to_lose1kg,1))) "
      ],
      "execution_count": 0,
      "outputs": []
    }
  ]
}