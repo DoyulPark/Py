{
  "nbformat": 4,
  "nbformat_minor": 0,
  "metadata": {
    "colab": {
      "name": "py_exam_final_2018_Ans",
      "version": "0.3.2",
      "provenance": [],
      "collapsed_sections": [],
      "include_colab_link": true
    },
    "kernelspec": {
      "display_name": "Python 3",
      "language": "python",
      "name": "python3"
    }
  },
  "cells": [
    {
      "cell_type": "markdown",
      "metadata": {
        "id": "view-in-github",
        "colab_type": "text"
      },
      "source": [
        "<a href=\"https://colab.research.google.com/github/Redwoods/Py/blob/master/py-basic/tips/py_exam_final_2018_Ans.ipynb\" target=\"_parent\"><img src=\"https://colab.research.google.com/assets/colab-badge.svg\" alt=\"Open In Colab\"/></a>"
      ]
    },
    {
      "metadata": {
        "colab_type": "text",
        "id": "12twNAlLMAyk"
      },
      "cell_type": "markdown",
      "source": [
        "# 기말필기시험: 파이썬 프로그래밍 (2018.12.10)"
      ]
    },
    {
      "metadata": {
        "colab_type": "text",
        "id": "Rc8uW2C1MAyp"
      },
      "cell_type": "markdown",
      "source": [
        "***"
      ]
    },
    {
      "metadata": {
        "id": "P6Ou2qFpovuR",
        "colab_type": "text"
      },
      "cell_type": "markdown",
      "source": [
        "### class"
      ]
    },
    {
      "metadata": {
        "colab_type": "code",
        "id": "6RejTzKXI4yI",
        "colab": {}
      },
      "cell_type": "code",
      "source": [
        "\n",
        "#  [1-2] Calss\n",
        "\n",
        "class PrivateMemberTest:            \n",
        "  def __init__(self, name1, name2):\n",
        "    self.name1=name1\n",
        "    self.__name2=name2   \n",
        "    print(\"initialized with \"+ name1 + \", \"+name2)\n",
        "    \n",
        "  def getNames(self):\n",
        "      self.__printNames()  \n",
        "      return self.name1, self.__name2\n",
        "    \n",
        "  def __printNames(self):   \n",
        "    print(self.name1, self.__name2)\n",
        "    "
      ],
      "execution_count": 0,
      "outputs": []
    },
    {
      "metadata": {
        "colab_type": "code",
        "id": "A4Tsg_HiJwE-",
        "outputId": "2d5df7ef-82ce-43bc-a6f7-886b0bc7afef",
        "colab": {
          "base_uri": "https://localhost:8080/",
          "height": 288
        }
      },
      "cell_type": "code",
      "source": [
        "\n",
        "# 인스턴스 생성\n",
        "obj=PrivateMemberTest(\"HCit\", \"Inje\")\n",
        "\n",
        "print(obj.name1)\n",
        "\n",
        "print(obj.getNames())  # [1] 츌력 결과는?\n",
        "\n",
        "print(obj.__name2)     # [2] 츌력 결과는\n"
      ],
      "execution_count": 0,
      "outputs": [
        {
          "output_type": "stream",
          "text": [
            "initialized with HCit, Inje\n",
            "HCit\n",
            "HCit Inje\n",
            "('HCit', 'Inje')\n"
          ],
          "name": "stdout"
        },
        {
          "output_type": "error",
          "ename": "AttributeError",
          "evalue": "ignored",
          "traceback": [
            "\u001b[0;31m---------------------------------------------------------------------------\u001b[0m",
            "\u001b[0;31mAttributeError\u001b[0m                            Traceback (most recent call last)",
            "\u001b[0;32m<ipython-input-2-57647933e593>\u001b[0m in \u001b[0;36m<module>\u001b[0;34m()\u001b[0m\n\u001b[1;32m      5\u001b[0m \u001b[0mprint\u001b[0m\u001b[0;34m(\u001b[0m\u001b[0mobj\u001b[0m\u001b[0;34m.\u001b[0m\u001b[0mgetNames\u001b[0m\u001b[0;34m(\u001b[0m\u001b[0;34m)\u001b[0m\u001b[0;34m)\u001b[0m  \u001b[0;31m# [1] 츌력 결과는?\u001b[0m\u001b[0;34m\u001b[0m\u001b[0;34m\u001b[0m\u001b[0m\n\u001b[1;32m      6\u001b[0m \u001b[0;34m\u001b[0m\u001b[0m\n\u001b[0;32m----> 7\u001b[0;31m \u001b[0mprint\u001b[0m\u001b[0;34m(\u001b[0m\u001b[0mobj\u001b[0m\u001b[0;34m.\u001b[0m\u001b[0m__name2\u001b[0m\u001b[0;34m)\u001b[0m     \u001b[0;31m# [2] 츌력 결과는\u001b[0m\u001b[0;34m\u001b[0m\u001b[0;34m\u001b[0m\u001b[0m\n\u001b[0m",
            "\u001b[0;31mAttributeError\u001b[0m: 'PrivateMemberTest' object has no attribute '__name2'"
          ]
        }
      ]
    },
    {
      "metadata": {
        "id": "tl43x6Fcovuf",
        "colab_type": "text"
      },
      "cell_type": "markdown",
      "source": [
        "***"
      ]
    },
    {
      "metadata": {
        "id": "r0LN6BMYovug",
        "colab_type": "text"
      },
      "cell_type": "markdown",
      "source": [
        "### exception handling"
      ]
    },
    {
      "metadata": {
        "colab_type": "code",
        "id": "YK0K6QASLneR",
        "colab": {}
      },
      "cell_type": "code",
      "source": [
        "\n",
        "# [3-4] 예외 처리 (exception handling)\n",
        "\n",
        "def calc(list_data):\n",
        "  sum=0\n",
        "  try:\n",
        "    sum=list_data[0]+list_data[1]+list_data[2]\n",
        "    \n",
        "    if sum<0:\n",
        "      raise Exception(\"Sum is minus! 예외 발생...\")  # [3] 사용자 발생 예외\n",
        "    \n",
        "  except IndexError as err:\n",
        "    print(str(err))\n",
        "  except Exception as err:\n",
        "    print(str(err))\n",
        "    \n",
        "  finally:             # 항상 마지막에 실행\n",
        "    print(sum)\n",
        "    "
      ],
      "execution_count": 0,
      "outputs": []
    },
    {
      "metadata": {
        "colab_type": "code",
        "id": "iYh5s4KMMVxo",
        "colab": {}
      },
      "cell_type": "code",
      "source": [
        "\n",
        "# [3] 사용자 예외를 발생시키는 키워드는? ___raise___\n",
        "# 다음 보기에서 고르시오.\n",
        "# [throw, drop, raise, popup, make, input, drag]\n"
      ],
      "execution_count": 0,
      "outputs": []
    },
    {
      "metadata": {
        "colab_type": "code",
        "id": "JYR8P1MkMl4d",
        "outputId": "08572ebc-5299-4b49-b995-0aca4abf1cbf",
        "colab": {
          "base_uri": "https://localhost:8080/",
          "height": 55
        }
      },
      "cell_type": "code",
      "source": [
        "\n",
        "# [4] calc 함수를 다음과 같이 실행할 때 결과는?\n",
        "\n",
        "calc([10,20,-100]) \n"
      ],
      "execution_count": 0,
      "outputs": [
        {
          "output_type": "stream",
          "text": [
            "Sum is minus! 예외 발생...\n",
            "-70\n"
          ],
          "name": "stdout"
        }
      ]
    },
    {
      "metadata": {
        "id": "2ToGCt1povur",
        "colab_type": "text"
      },
      "cell_type": "markdown",
      "source": [
        "***"
      ]
    },
    {
      "metadata": {
        "id": "WnHG7uC5ovus",
        "colab_type": "text"
      },
      "cell_type": "markdown",
      "source": [
        "### numpy"
      ]
    },
    {
      "metadata": {
        "id": "J32g2D8Eovut",
        "colab_type": "code",
        "colab": {}
      },
      "cell_type": "code",
      "source": [
        "\n",
        "# [5-6] numpy\n",
        "\n",
        "import numpy as np\n",
        "a = np.arange(1, 10)    \n"
      ],
      "execution_count": 0,
      "outputs": []
    },
    {
      "metadata": {
        "id": "zxpP-BxYovuw",
        "colab_type": "code",
        "outputId": "e7eed660-e28d-47df-9f56-511c0773431e",
        "colab": {
          "base_uri": "https://localhost:8080/",
          "height": 36
        }
      },
      "cell_type": "code",
      "source": [
        "# array의 속성\n",
        "\n",
        "print(a.ndim, a.size)  # [5] 출력 결과는?  \n"
      ],
      "execution_count": 0,
      "outputs": [
        {
          "output_type": "stream",
          "text": [
            "1 9\n"
          ],
          "name": "stdout"
        }
      ]
    },
    {
      "metadata": {
        "id": "lPhpFXikovu0",
        "colab_type": "code",
        "outputId": "66afceaa-77c2-475a-d991-a7fbfddb307f",
        "colab": {
          "base_uri": "https://localhost:8080/",
          "height": 36
        }
      },
      "cell_type": "code",
      "source": [
        "# 2d array\n",
        "a = np.arange(9).reshape(3, 3)\n",
        "np.sum(a)     \n"
      ],
      "execution_count": 0,
      "outputs": [
        {
          "output_type": "execute_result",
          "data": {
            "text/plain": [
              "36"
            ]
          },
          "metadata": {
            "tags": []
          },
          "execution_count": 8
        }
      ]
    },
    {
      "metadata": {
        "id": "7tKAxjL_ovu4",
        "colab_type": "code",
        "outputId": "0b36e387-0e89-4c6f-f66d-811842c2b5a1",
        "colab": {
          "base_uri": "https://localhost:8080/",
          "height": 36
        }
      },
      "cell_type": "code",
      "source": [
        "\n",
        "np.sum(a, axis=0)  # [6] 결과는?\n"
      ],
      "execution_count": 0,
      "outputs": [
        {
          "output_type": "execute_result",
          "data": {
            "text/plain": [
              "array([ 9, 12, 15])"
            ]
          },
          "metadata": {
            "tags": []
          },
          "execution_count": 9
        }
      ]
    },
    {
      "metadata": {
        "id": "SD1Bk9uyovu7",
        "colab_type": "text"
      },
      "cell_type": "markdown",
      "source": [
        "***"
      ]
    },
    {
      "metadata": {
        "id": "xdSd-3YOovu8",
        "colab_type": "code",
        "outputId": "add895c2-b3b2-43a3-9e1a-05e2b00dbf02",
        "colab": {
          "base_uri": "https://localhost:8080/",
          "height": 55
        }
      },
      "cell_type": "code",
      "source": [
        "\n",
        "# [7-8] 두 개의 2차원 배열의 연결\n",
        "\n",
        "a = np.arange(4).reshape(2, 2)     \n",
        "b = np.arange(5, 9).reshape(2, 2)  \n",
        "\n",
        "b   # [7] 출력 결과는?\n"
      ],
      "execution_count": 0,
      "outputs": [
        {
          "output_type": "execute_result",
          "data": {
            "text/plain": [
              "array([[5, 6],\n",
              "       [7, 8]])"
            ]
          },
          "metadata": {
            "tags": []
          },
          "execution_count": 10
        }
      ]
    },
    {
      "metadata": {
        "id": "yFQ3rdWgovvA",
        "colab_type": "code",
        "outputId": "6f7aec65-3e78-4c51-ef68-769d6e67578d",
        "colab": {
          "base_uri": "https://localhost:8080/",
          "height": 55
        }
      },
      "cell_type": "code",
      "source": [
        "\n",
        "np.c_[a, b]  # [8] 출력 결과는?\n",
        "\n",
        "\n",
        "\n"
      ],
      "execution_count": 0,
      "outputs": [
        {
          "output_type": "execute_result",
          "data": {
            "text/plain": [
              "array([[0, 1, 5, 6],\n",
              "       [2, 3, 7, 8]])"
            ]
          },
          "metadata": {
            "tags": []
          },
          "execution_count": 11
        }
      ]
    },
    {
      "metadata": {
        "id": "lr4oU7VPovvD",
        "colab_type": "code",
        "colab": {}
      },
      "cell_type": "code",
      "source": [
        ""
      ],
      "execution_count": 0,
      "outputs": []
    },
    {
      "metadata": {
        "id": "PEEBwdAwovvH",
        "colab_type": "code",
        "outputId": "bed3655b-3192-4681-be76-30fc34b5eaa8",
        "colab": {
          "base_uri": "https://localhost:8080/",
          "height": 36
        }
      },
      "cell_type": "code",
      "source": [
        "\n",
        "# [9] 배열의 연산\n",
        "\n",
        "A= np.array([4,5,6])\n",
        "B= np.array([2,4,8])\n",
        "\n",
        "B//A    # [9] 출력 결과는?\n"
      ],
      "execution_count": 0,
      "outputs": [
        {
          "output_type": "execute_result",
          "data": {
            "text/plain": [
              "array([0, 0, 1])"
            ]
          },
          "metadata": {
            "tags": []
          },
          "execution_count": 12
        }
      ]
    },
    {
      "metadata": {
        "id": "FDdKc31XovvK",
        "colab_type": "text"
      },
      "cell_type": "markdown",
      "source": [
        "***"
      ]
    },
    {
      "metadata": {
        "id": "YLMcPrUDovvL",
        "colab_type": "text"
      },
      "cell_type": "markdown",
      "source": [
        "### pandas"
      ]
    },
    {
      "metadata": {
        "id": "GDOdJKwGovvM",
        "colab_type": "code",
        "colab": {}
      },
      "cell_type": "code",
      "source": [
        "import pandas as pd\n",
        "import numpy as np\n",
        "np.random.seed(0)"
      ],
      "execution_count": 0,
      "outputs": []
    },
    {
      "metadata": {
        "id": "U1zIIi-iovvR",
        "colab_type": "code",
        "outputId": "47efe151-e1c6-4166-f2db-2a5cda0ada35",
        "colab": {
          "base_uri": "https://localhost:8080/",
          "height": 73
        }
      },
      "cell_type": "code",
      "source": [
        "# Creating a DataFrame by passing a NumPy array, \n",
        "# with a datetime index and labeled columns:\n",
        "\n",
        "dates = pd.date_range('20181210', periods=6)\n",
        "dates"
      ],
      "execution_count": 0,
      "outputs": [
        {
          "output_type": "execute_result",
          "data": {
            "text/plain": [
              "DatetimeIndex(['2018-12-10', '2018-12-11', '2018-12-12', '2018-12-13',\n",
              "               '2018-12-14', '2018-12-15'],\n",
              "              dtype='datetime64[ns]', freq='D')"
            ]
          },
          "metadata": {
            "tags": []
          },
          "execution_count": 14
        }
      ]
    },
    {
      "metadata": {
        "id": "vvZGI5cuovvW",
        "colab_type": "code",
        "outputId": "d7c7c2a8-7260-4928-c753-dc538d59040d",
        "colab": {
          "base_uri": "https://localhost:8080/",
          "height": 233
        }
      },
      "cell_type": "code",
      "source": [
        "# Make dataframe using an array with random numbers up to two decimal digits\n",
        "df = pd.DataFrame(np.round(np.random.randn(6,4),2), \n",
        "                  index=dates, columns=list('ABCD'))\n",
        "df"
      ],
      "execution_count": 0,
      "outputs": [
        {
          "output_type": "execute_result",
          "data": {
            "text/html": [
              "<div>\n",
              "<style scoped>\n",
              "    .dataframe tbody tr th:only-of-type {\n",
              "        vertical-align: middle;\n",
              "    }\n",
              "\n",
              "    .dataframe tbody tr th {\n",
              "        vertical-align: top;\n",
              "    }\n",
              "\n",
              "    .dataframe thead th {\n",
              "        text-align: right;\n",
              "    }\n",
              "</style>\n",
              "<table border=\"1\" class=\"dataframe\">\n",
              "  <thead>\n",
              "    <tr style=\"text-align: right;\">\n",
              "      <th></th>\n",
              "      <th>A</th>\n",
              "      <th>B</th>\n",
              "      <th>C</th>\n",
              "      <th>D</th>\n",
              "    </tr>\n",
              "  </thead>\n",
              "  <tbody>\n",
              "    <tr>\n",
              "      <th>2018-12-10</th>\n",
              "      <td>1.76</td>\n",
              "      <td>0.40</td>\n",
              "      <td>0.98</td>\n",
              "      <td>2.24</td>\n",
              "    </tr>\n",
              "    <tr>\n",
              "      <th>2018-12-11</th>\n",
              "      <td>1.87</td>\n",
              "      <td>-0.98</td>\n",
              "      <td>0.95</td>\n",
              "      <td>-0.15</td>\n",
              "    </tr>\n",
              "    <tr>\n",
              "      <th>2018-12-12</th>\n",
              "      <td>-0.10</td>\n",
              "      <td>0.41</td>\n",
              "      <td>0.14</td>\n",
              "      <td>1.45</td>\n",
              "    </tr>\n",
              "    <tr>\n",
              "      <th>2018-12-13</th>\n",
              "      <td>0.76</td>\n",
              "      <td>0.12</td>\n",
              "      <td>0.44</td>\n",
              "      <td>0.33</td>\n",
              "    </tr>\n",
              "    <tr>\n",
              "      <th>2018-12-14</th>\n",
              "      <td>1.49</td>\n",
              "      <td>-0.21</td>\n",
              "      <td>0.31</td>\n",
              "      <td>-0.85</td>\n",
              "    </tr>\n",
              "    <tr>\n",
              "      <th>2018-12-15</th>\n",
              "      <td>-2.55</td>\n",
              "      <td>0.65</td>\n",
              "      <td>0.86</td>\n",
              "      <td>-0.74</td>\n",
              "    </tr>\n",
              "  </tbody>\n",
              "</table>\n",
              "</div>"
            ],
            "text/plain": [
              "               A     B     C     D\n",
              "2018-12-10  1.76  0.40  0.98  2.24\n",
              "2018-12-11  1.87 -0.98  0.95 -0.15\n",
              "2018-12-12 -0.10  0.41  0.14  1.45\n",
              "2018-12-13  0.76  0.12  0.44  0.33\n",
              "2018-12-14  1.49 -0.21  0.31 -0.85\n",
              "2018-12-15 -2.55  0.65  0.86 -0.74"
            ]
          },
          "metadata": {
            "tags": []
          },
          "execution_count": 15
        }
      ]
    },
    {
      "metadata": {
        "id": "LVjzy9sTovvZ",
        "colab_type": "code",
        "outputId": "9de3ea80-8593-4dbc-f350-f2d646bfca46",
        "colab": {}
      },
      "cell_type": "code",
      "source": [
        "# 아래와 같이 첫째, 둘째날과 두번째, 세번째 열을 출력하려고 한다.  (loc 이용)\n",
        "# Select data for first two days AND comumns 2,3 from df."
      ],
      "execution_count": 0,
      "outputs": [
        {
          "output_type": "execute_result",
          "data": {
            "text/html": [
              "<div>\n",
              "<style scoped>\n",
              "    .dataframe tbody tr th:only-of-type {\n",
              "        vertical-align: middle;\n",
              "    }\n",
              "\n",
              "    .dataframe tbody tr th {\n",
              "        vertical-align: top;\n",
              "    }\n",
              "\n",
              "    .dataframe thead th {\n",
              "        text-align: right;\n",
              "    }\n",
              "</style>\n",
              "<table border=\"1\" class=\"dataframe\">\n",
              "  <thead>\n",
              "    <tr style=\"text-align: right;\">\n",
              "      <th></th>\n",
              "      <th>B</th>\n",
              "      <th>C</th>\n",
              "    </tr>\n",
              "  </thead>\n",
              "  <tbody>\n",
              "    <tr>\n",
              "      <th>2018-12-10</th>\n",
              "      <td>0.40</td>\n",
              "      <td>0.98</td>\n",
              "    </tr>\n",
              "    <tr>\n",
              "      <th>2018-12-11</th>\n",
              "      <td>-0.98</td>\n",
              "      <td>0.95</td>\n",
              "    </tr>\n",
              "  </tbody>\n",
              "</table>\n",
              "</div>"
            ],
            "text/plain": [
              "               B     C\n",
              "2018-12-10  0.40  0.98\n",
              "2018-12-11 -0.98  0.95"
            ]
          },
          "metadata": {
            "tags": []
          },
          "execution_count": 36
        }
      ]
    },
    {
      "metadata": {
        "id": "_7XxZLhpovvc",
        "colab_type": "code",
        "colab": {}
      },
      "cell_type": "code",
      "source": [
        "# [10] 다음 중 위의 결과를 얻지 못하는 명령은? (하나만 고르시오.) --- ( 1 )\n",
        " \n",
        "df.loc[1:3,['B','C']]  # 1. error\n",
        "# 2. loc['20181210':'20181211',['B','C']]\n",
        "# 3. df.loc[dates[:2],['B','C']]\n"
      ],
      "execution_count": 0,
      "outputs": []
    },
    {
      "metadata": {
        "id": "9ptBf4T4ovvf",
        "colab_type": "code",
        "outputId": "43bf94f2-c354-4260-e74c-636f79fde151",
        "colab": {
          "base_uri": "https://localhost:8080/",
          "height": 110
        }
      },
      "cell_type": "code",
      "source": [
        "\n",
        "# [11] iloc 을 이용해서 위와 같은 결과를 얻도록 아래 명령을 완성하시오.\n",
        "\n",
        "df.iloc[:2,1:3]\n"
      ],
      "execution_count": 0,
      "outputs": [
        {
          "output_type": "execute_result",
          "data": {
            "text/html": [
              "<div>\n",
              "<style scoped>\n",
              "    .dataframe tbody tr th:only-of-type {\n",
              "        vertical-align: middle;\n",
              "    }\n",
              "\n",
              "    .dataframe tbody tr th {\n",
              "        vertical-align: top;\n",
              "    }\n",
              "\n",
              "    .dataframe thead th {\n",
              "        text-align: right;\n",
              "    }\n",
              "</style>\n",
              "<table border=\"1\" class=\"dataframe\">\n",
              "  <thead>\n",
              "    <tr style=\"text-align: right;\">\n",
              "      <th></th>\n",
              "      <th>B</th>\n",
              "      <th>C</th>\n",
              "    </tr>\n",
              "  </thead>\n",
              "  <tbody>\n",
              "    <tr>\n",
              "      <th>2018-12-10</th>\n",
              "      <td>0.40</td>\n",
              "      <td>0.98</td>\n",
              "    </tr>\n",
              "    <tr>\n",
              "      <th>2018-12-11</th>\n",
              "      <td>-0.98</td>\n",
              "      <td>0.95</td>\n",
              "    </tr>\n",
              "  </tbody>\n",
              "</table>\n",
              "</div>"
            ],
            "text/plain": [
              "               B     C\n",
              "2018-12-10  0.40  0.98\n",
              "2018-12-11 -0.98  0.95"
            ]
          },
          "metadata": {
            "tags": []
          },
          "execution_count": 17
        }
      ]
    },
    {
      "metadata": {
        "colab_type": "text",
        "id": "715JrwVgMAzq"
      },
      "cell_type": "markdown",
      "source": [
        "***"
      ]
    },
    {
      "metadata": {
        "id": "mtoeur2Oovvk",
        "colab_type": "text"
      },
      "cell_type": "markdown",
      "source": [
        "### Machine learning"
      ]
    },
    {
      "metadata": {
        "id": "CLcTvMGMovvl",
        "colab_type": "code",
        "colab": {}
      },
      "cell_type": "code",
      "source": [
        "\n",
        "# [12] 다음 중 지도 학습 (Supervised learning)의 예가 아닌 것은?  --- (   2     )\n",
        "\n",
        "# 1. 편지 봉투에 손으로 쓴 우편번호 숫자 판별\n",
        "# 2. 고객들을 취향이 비슷한 그룹으로 묶기   # 비지도 학습 대상\n",
        "# 3. 의료 영상 이미지에 기반한 종양 판단\n",
        "# 4. 의심되는 신용카드 거래 감지\n",
        "\n"
      ],
      "execution_count": 0,
      "outputs": []
    },
    {
      "metadata": {
        "colab_type": "text",
        "id": "ciTzquUZc4jx"
      },
      "cell_type": "markdown",
      "source": [
        "\n",
        "### pandas의 데이터프레임을 이용한 수능 성적 회기 분석\n",
        "\n",
        "#### (다변수 선형회기, Multivariate Linear regression)\n"
      ]
    },
    {
      "metadata": {
        "colab_type": "text",
        "id": "4boVk_xeTq7r"
      },
      "cell_type": "markdown",
      "source": [
        "### 수능 데이터로 데이터프레임 구성 - pandas"
      ]
    },
    {
      "metadata": {
        "id": "SCm7kf2Bovvo",
        "colab_type": "code",
        "colab": {}
      },
      "cell_type": "code",
      "source": [
        "# data\n",
        "data = np.loadtxt('./data-01-test-score.csv', delimiter=',', dtype=np.float32)"
      ],
      "execution_count": 0,
      "outputs": []
    },
    {
      "metadata": {
        "colab_type": "code",
        "id": "Y3eZ4ziYT0XO",
        "outputId": "b6303602-9a16-473c-d238-c12dcb3646eb",
        "colab": {
          "base_uri": "https://localhost:8080/",
          "height": 202
        }
      },
      "cell_type": "code",
      "source": [
        "# Make dataframe\n",
        "import pandas as pd\n",
        "\n",
        "df = pd.DataFrame(data, columns=['S1','S2','S3','Final'])\n",
        "\n",
        "df.head()"
      ],
      "execution_count": 3,
      "outputs": [
        {
          "output_type": "execute_result",
          "data": {
            "text/html": [
              "<div>\n",
              "<style scoped>\n",
              "    .dataframe tbody tr th:only-of-type {\n",
              "        vertical-align: middle;\n",
              "    }\n",
              "\n",
              "    .dataframe tbody tr th {\n",
              "        vertical-align: top;\n",
              "    }\n",
              "\n",
              "    .dataframe thead th {\n",
              "        text-align: right;\n",
              "    }\n",
              "</style>\n",
              "<table border=\"1\" class=\"dataframe\">\n",
              "  <thead>\n",
              "    <tr style=\"text-align: right;\">\n",
              "      <th></th>\n",
              "      <th>S1</th>\n",
              "      <th>S2</th>\n",
              "      <th>S3</th>\n",
              "      <th>Final</th>\n",
              "    </tr>\n",
              "  </thead>\n",
              "  <tbody>\n",
              "    <tr>\n",
              "      <th>0</th>\n",
              "      <td>73.0</td>\n",
              "      <td>80.0</td>\n",
              "      <td>75.0</td>\n",
              "      <td>152.0</td>\n",
              "    </tr>\n",
              "    <tr>\n",
              "      <th>1</th>\n",
              "      <td>93.0</td>\n",
              "      <td>88.0</td>\n",
              "      <td>93.0</td>\n",
              "      <td>185.0</td>\n",
              "    </tr>\n",
              "    <tr>\n",
              "      <th>2</th>\n",
              "      <td>89.0</td>\n",
              "      <td>91.0</td>\n",
              "      <td>90.0</td>\n",
              "      <td>180.0</td>\n",
              "    </tr>\n",
              "    <tr>\n",
              "      <th>3</th>\n",
              "      <td>96.0</td>\n",
              "      <td>98.0</td>\n",
              "      <td>100.0</td>\n",
              "      <td>196.0</td>\n",
              "    </tr>\n",
              "    <tr>\n",
              "      <th>4</th>\n",
              "      <td>73.0</td>\n",
              "      <td>66.0</td>\n",
              "      <td>70.0</td>\n",
              "      <td>142.0</td>\n",
              "    </tr>\n",
              "  </tbody>\n",
              "</table>\n",
              "</div>"
            ],
            "text/plain": [
              "     S1    S2     S3  Final\n",
              "0  73.0  80.0   75.0  152.0\n",
              "1  93.0  88.0   93.0  185.0\n",
              "2  89.0  91.0   90.0  180.0\n",
              "3  96.0  98.0  100.0  196.0\n",
              "4  73.0  66.0   70.0  142.0"
            ]
          },
          "metadata": {
            "tags": []
          },
          "execution_count": 3
        }
      ]
    },
    {
      "metadata": {
        "colab_type": "code",
        "id": "Xl6uVB7QUx2Z",
        "outputId": "56765d50-82f9-47bc-9209-6ccb1c3199d8",
        "colab": {
          "base_uri": "https://localhost:8080/",
          "height": 36
        }
      },
      "cell_type": "code",
      "source": [
        "# 데이터프레임 길이 정보\n",
        "print(df.shape,len(df))"
      ],
      "execution_count": 4,
      "outputs": [
        {
          "output_type": "stream",
          "text": [
            "(25, 4) 25\n"
          ],
          "name": "stdout"
        }
      ]
    },
    {
      "metadata": {
        "id": "qEKttEt8qhNy",
        "colab_type": "code",
        "colab": {
          "base_uri": "https://localhost:8080/",
          "height": 36
        },
        "outputId": "d3650f85-2ff2-4b03-ea01-a4c313a76396"
      },
      "cell_type": "code",
      "source": [
        "# [13]\n",
        "df.size  # [13]"
      ],
      "execution_count": 5,
      "outputs": [
        {
          "output_type": "execute_result",
          "data": {
            "text/plain": [
              "100"
            ]
          },
          "metadata": {
            "tags": []
          },
          "execution_count": 5
        }
      ]
    },
    {
      "metadata": {
        "colab_type": "code",
        "id": "hBnNVfkVb3yF",
        "colab": {}
      },
      "cell_type": "code",
      "source": [
        "### 데이터프레임을 이용한 그래프 그리기"
      ],
      "execution_count": 0,
      "outputs": []
    },
    {
      "metadata": {
        "id": "5X_u4_uCovv7",
        "colab_type": "code",
        "colab": {}
      },
      "cell_type": "code",
      "source": [
        "import matplotlib.pyplot as plt\n",
        "%matplotlib inline"
      ],
      "execution_count": 0,
      "outputs": []
    },
    {
      "metadata": {
        "colab_type": "code",
        "id": "2FvsdX6mZ-qx",
        "outputId": "9ca4d9df-fd5d-4d9f-de61-1e282b2930e1",
        "colab": {
          "base_uri": "https://localhost:8080/",
          "height": 441
        }
      },
      "cell_type": "code",
      "source": [
        "\n",
        "# [14] 아래와 같은 그래프가 출력되기 위한 sharex, sharey 설정으로 옳은 것은? --- (   2    )\n",
        "# sharex=________, sharey=_________\n",
        "#\n",
        "# 1. True  True          2. True  False\n",
        "# 3. False True          4. False  False\n",
        "\n",
        "series_labels = df.columns\n",
        "# sharex, sharey 설정\n",
        "fig, axs = plt.subplots(2, 2, figsize=(10, 6), sharex=True, sharey=False) \n",
        "\n",
        "# 세 개 영역 점수와 수능 점수 그래프\n",
        "for axi, idx in zip(axs.ravel(), list(range(4))):\n",
        "    \n",
        "    # 예측결과 그래프와 테스트 데이터 점을 그림\n",
        "    df[series_labels[idx]].plot.bar(ax=axi)\n",
        "    axi.set(ylabel='', xlabel='student-id',\n",
        "           title=series_labels[idx])\n",
        "\n",
        "plt.tight_layout()"
      ],
      "execution_count": 0,
      "outputs": [
        {
          "output_type": "display_data",
          "data": {
            "image/png": "[encoded data removed]",
            "text/plain": [
              "<matplotlib.figure.Figure at 0x7f544a8d1828>"
            ]
          },
          "metadata": {
            "tags": []
          }
        }
      ]
    },
    {
      "metadata": {
        "colab_type": "text",
        "id": "fzwJSRmjdN8-"
      },
      "cell_type": "markdown",
      "source": [
        "#### 다변수 선형회기 분석 (Multivariate Linear regression)"
      ]
    },
    {
      "metadata": {
        "colab_type": "code",
        "id": "kJPZ1A6bdn7J",
        "colab": {}
      },
      "cell_type": "code",
      "source": [
        "# 입력 데이터 배열과 출력 벡터를 분리하여 구성하는 방법\n",
        "# df[['S1','S2','S3']],df['Final']"
      ],
      "execution_count": 0,
      "outputs": []
    },
    {
      "metadata": {
        "colab_type": "code",
        "id": "I_TzZ0-BdMjJ",
        "colab": {}
      },
      "cell_type": "code",
      "source": [
        "\n",
        "# [15] 트레이닝/테스트 데이터 분리를 위해 필요한 sklearn의 서브 모듈은 무엇인가? --- (   4    )\n",
        "\n",
        "# 1. model_choice       2. model_split\n",
        "# 3. model_fitting      4. model_selection\n",
        "\n",
        "# 트레이닝/테스트 데이터 분리 (테스트 데이터는 전체데이터의 20%로 설정한다.)\n",
        "from sklearn.[15]_____________________ import train_test_split\n",
        "\n",
        "X_train, X_test, y_train, y_test = train_test_split(df[['S1','S2','S3']], df['Final'], \n",
        "                                                    test_size=0.2, random_state=0)\n"
      ],
      "execution_count": 0,
      "outputs": []
    },
    {
      "metadata": {
        "colab_type": "code",
        "id": "LjcuMdmeehpZ",
        "outputId": "cf1421e4-2d6b-4204-ed7f-aa7d4cde6670",
        "colab": {
          "base_uri": "https://localhost:8080/",
          "height": 36
        }
      },
      "cell_type": "code",
      "source": [
        "# 트레이닝/테스트 데이터의 구성 확인\n",
        "X_train.shape, X_test.shape, y_train.shape, y_test.shape"
      ],
      "execution_count": 0,
      "outputs": [
        {
          "output_type": "execute_result",
          "data": {
            "text/plain": [
              "((20, 3), (5, 3), (20,), (5,))"
            ]
          },
          "metadata": {
            "tags": []
          },
          "execution_count": 56
        }
      ]
    },
    {
      "metadata": {
        "colab_type": "code",
        "id": "ORciIQsvg5Nj",
        "outputId": "eb6ed7cb-e386-4adb-a86a-7de55f7d2ad7",
        "colab": {
          "base_uri": "https://localhost:8080/",
          "height": 36
        }
      },
      "cell_type": "code",
      "source": [
        "# 선형회기 모델\n",
        "# LinearRegression\n",
        "from sklearn.linear_model import LinearRegression\n",
        "\n",
        "# 선형 회기 모델 만들기: \n",
        "model = LinearRegression().[16]____________________________\n",
        "\n",
        "# [16] 위와 같이 다변수 선형회기 모델을 만들기 위한 올바른 방법은? --- (    3     )\n",
        "\n",
        "# 1. fit(X_train, y_test)      2. fit(X_test, y_train)\n",
        "# 3. fit(X_train, y_train)     4. fit(X_test, y_test)\n"
      ],
      "execution_count": 0,
      "outputs": [
        {
          "output_type": "execute_result",
          "data": {
            "text/plain": [
              "LinearRegression(copy_X=True, fit_intercept=True, n_jobs=None,\n",
              "         normalize=False)"
            ]
          },
          "metadata": {
            "tags": []
          },
          "execution_count": 57
        }
      ]
    },
    {
      "metadata": {
        "colab_type": "code",
        "id": "wTiYvw6ohNTa",
        "outputId": "c3129666-1ae0-484a-ba2f-80030bf9744f",
        "colab": {
          "base_uri": "https://localhost:8080/",
          "height": 36
        }
      },
      "cell_type": "code",
      "source": [
        "# 선형회기 모델 확인\n",
        "# 선형회기 결과 -> 3개 특성(영역별 점수) 계수 및 y-절편(bias)\n",
        "\n",
        "model.coef_,model.intercept_\n"
      ],
      "execution_count": 0,
      "outputs": [
        {
          "output_type": "execute_result",
          "data": {
            "text/plain": [
              "(array([0.32701063, 0.47623622, 1.2409754 ], dtype=float32), -2.6910706)"
            ]
          },
          "metadata": {
            "tags": []
          },
          "execution_count": 58
        }
      ]
    },
    {
      "metadata": {
        "colab_type": "code",
        "id": "vCEtv4GJiPmk",
        "colab": {}
      },
      "cell_type": "code",
      "source": [
        "\n",
        "# [17] 만들어진 모델을 테스트 데이터에 적용하는 방법으로 옳은 것은?  --- (    2     )\n",
        "\n",
        "# 1. model.predict(y_test)        2. model.predict(X_test)\n",
        "# 3. model.predict(X_train)       4. model.predict(y_test)  # y_test -> y_train\n"
      ],
      "execution_count": 0,
      "outputs": []
    },
    {
      "metadata": {
        "id": "-cGJ1sVXovwX",
        "colab_type": "text"
      },
      "cell_type": "markdown",
      "source": [
        "#### 모델의 정확도 평가"
      ]
    },
    {
      "metadata": {
        "colab_type": "code",
        "id": "LUN-yeCkhsOA",
        "colab": {}
      },
      "cell_type": "code",
      "source": [
        "\n",
        "# [18] 수능 점수에 대한 선형 회기 모델의 정확도를 \n",
        "#      테스트데이터에 대해 평가하는 방법은? --- (   1    )\n",
        "\n",
        "1. model.score(X_test, y_test)      2. model.score(X_train, y_test)\n",
        "3. model.grade(X_test, y_test)      4. model.grade(X_train, y_test)\n"
      ],
      "execution_count": 0,
      "outputs": []
    },
    {
      "metadata": {
        "id": "OgLQsPdtovwd",
        "colab_type": "text"
      },
      "cell_type": "markdown",
      "source": [
        "***"
      ]
    },
    {
      "metadata": {
        "id": "Sv956ovoovwd",
        "colab_type": "text"
      },
      "cell_type": "markdown",
      "source": [
        "### ANN (Artificial Neural Network)"
      ]
    },
    {
      "metadata": {
        "colab_type": "code",
        "id": "hK2SzhxmZkvI",
        "colab": {}
      },
      "cell_type": "code",
      "source": [
        "import numpy as np"
      ],
      "execution_count": 0,
      "outputs": []
    },
    {
      "metadata": {
        "colab_type": "text",
        "id": "XsuyR0uVZkvM"
      },
      "cell_type": "markdown",
      "source": [
        "### Define Activation Functions"
      ]
    },
    {
      "metadata": {
        "colab_type": "code",
        "id": "DfpVE0iaZkvO",
        "colab": {}
      },
      "cell_type": "code",
      "source": [
        "def relu(z):\n",
        "    return np.maximum(0,z)\n",
        "\n",
        "def sigmoid(z):\n",
        "    return 1.0/(1.0+np.exp(-z))\n",
        "    \n",
        "def heaviside(z):\n",
        "    return np.heaviside(z,0) # threshold = 0"
      ],
      "execution_count": 0,
      "outputs": []
    },
    {
      "metadata": {
        "colab_type": "text",
        "id": "-6iSXoGXZkvS"
      },
      "cell_type": "markdown",
      "source": [
        "### Define Neuron Class"
      ]
    },
    {
      "metadata": {
        "colab_type": "code",
        "id": "OAhT0_1UZkvU",
        "colab": {}
      },
      "cell_type": "code",
      "source": [
        "class Neuron(object):\n",
        "    \n",
        "    # size = size or number of inputs\n",
        "    def __init__(self,size):\n",
        "        self.weights = np.random.randn(size)\n",
        "        self.bias = np.random.randn()\n",
        "        \n",
        "    # computes z = weighted sum + bias\n",
        "    def y_hat(self,x,phi):\n",
        "        z = [19]_________________________________  # transfer\n",
        "        a = phi(z) # activation\n",
        "        return(a)  # output\n",
        "    \n",
        "    \n",
        "    # updates weights and biases\n",
        "    def update_params(self,weights,bias):\n",
        "        self.weights = np.array([weights])\n",
        "        self.bias = np.array([bias])"
      ],
      "execution_count": 0,
      "outputs": []
    },
    {
      "metadata": {
        "id": "E2xlU1ZPovwo",
        "colab_type": "code",
        "colab": {}
      },
      "cell_type": "code",
      "source": [
        "\n",
        "# [19] 위의 Neuron 클래스에서 입력(x)에 대하여 transfer (z)를 구하는 옳바른 방법은? --- (  3  )\n",
        "\n",
        "# 1. np.mul(self.weights,x) + self.bias\n",
        "# 2. np.sum(self.weights,x) + self.bias\n",
        "# 3. np.dot(self.weights,x) + self.bias\n",
        "# 4. np.fit(self.weights,x) + self.bias\n"
      ],
      "execution_count": 0,
      "outputs": []
    },
    {
      "metadata": {
        "id": "QqsDVprxovwr",
        "colab_type": "text"
      },
      "cell_type": "markdown",
      "source": [
        "***"
      ]
    },
    {
      "metadata": {
        "id": "HjizCQxZovwr",
        "colab_type": "text"
      },
      "cell_type": "markdown",
      "source": [
        "### Define Neural Network Class"
      ]
    },
    {
      "metadata": {
        "colab_type": "code",
        "id": "nmIj6-maYAGG",
        "colab": {}
      },
      "cell_type": "code",
      "source": [
        "\n",
        "# 다음은 feedforward 연산 수행을 위한 다층 신경망 구성과 출력 계산을 위한 network 클래스이다.\n",
        "\n",
        "class Network(object):\n",
        "    def __init__(self,sizes):\n",
        "        self.num_layers = len(sizes)\n",
        "        self.sizes = sizes\n",
        "        self.biases = [np.random.randn(y,1) for y in sizes[1:]]\n",
        "        self.weights = [np.random.randn(y,x) \n",
        "                        for x,y in zip(sizes[:-1], sizes[1:])]\n",
        "        \n",
        "    def feedforward(self,a,phi):\n",
        "        for b,w in zip(self.biases, self.weights):\n",
        "            z = np.dot(w,a) + b   # b[0].T\n",
        "            z = np.diag(z)  \n",
        "            a = phi(z)  # new input to next layer\n",
        "        print(a)\n",
        "        return a\n",
        "        \n",
        "    def set_biases(self,newbiases):\n",
        "        self.biases = [np.array(newbiases)]\n",
        "        \n",
        "    def set_weights(self,newweights):\n",
        "        self.weights = [np.array([newweights])]\n",
        "        \n",
        "    def show_parameters(self):\n",
        "        print(\"biases: =\", self.biases)\n",
        "        print(\"weights: =\", self.weights)\n",
        "        "
      ],
      "execution_count": 0,
      "outputs": []
    },
    {
      "metadata": {
        "colab_type": "text",
        "id": "DfyR-JIoYANX"
      },
      "cell_type": "markdown",
      "source": [
        "#### 위의 Network 클래스를 이용해서 100개의 입력을 받아서 두 개의 딥 레이어로 처리해서 두개의 최종 출력을 구하는 과정을 설계한다.\n",
        "\n",
        "> **입력: 100 개, 첫번째 레이어: 10 뉴런, 두번째 레이어: 5 뉴런, 출력: 2 뉴런**"
      ]
    },
    {
      "metadata": {
        "colab_type": "code",
        "id": "yquDjgbmYANY",
        "colab": {}
      },
      "cell_type": "code",
      "source": [
        "\n",
        "# Network 클래스를 이용해서 위에서 지정된 구조로 심층신경망(DNN)을 생성하시오. \n",
        "\n",
        "np.random.seed(0)\n",
        "\n",
        "DNN = Network([100,10,5,2])   # [20]\n"
      ],
      "execution_count": 0,
      "outputs": []
    },
    {
      "metadata": {
        "colab_type": "code",
        "id": "bxCF9mVRMAzr",
        "colab": {}
      },
      "cell_type": "code",
      "source": [
        "#\n",
        "# [Bonus, +1] 심층신경망의 이해\n",
        "\n",
        "# 위에서 설계한 심층신경망 DNN의 첫번째 레이어의 파라미터의 총 수는?\n",
        "# DNN은 모든 뉴런이 연결되었다고 가정한다. (fully connected neural network)\n",
        "\n",
        "#   1010 (= 100x10 + 10)\n",
        "\n"
      ],
      "execution_count": 0,
      "outputs": []
    }
  ]
}