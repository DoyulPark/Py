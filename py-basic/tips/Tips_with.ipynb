{
  "nbformat": 4,
  "nbformat_minor": 0,
  "metadata": {
    "colab": {
      "name": "Tips_with.ipynb",
      "version": "0.3.2",
      "provenance": [],
      "private_outputs": true,
      "collapsed_sections": []
    },
    "kernelspec": {
      "name": "python3",
      "display_name": "Python 3"
    }
  },
  "cells": [
    {
      "metadata": {
        "id": "M7gUleGICuOY",
        "colab_type": "text"
      },
      "cell_type": "markdown",
      "source": [
        "## Using 'with' in Python"
      ]
    },
    {
      "metadata": {
        "id": "I-TlETY2Cpat",
        "colab_type": "code",
        "colab": {}
      },
      "cell_type": "code",
      "source": [
        "f = open(\"./file_test\", \"w\")\n",
        "f.write(\"using 'with' in python.\")\n",
        "f.close()"
      ],
      "execution_count": 0,
      "outputs": []
    },
    {
      "metadata": {
        "id": "7qj8JM_BDMpI",
        "colab_type": "code",
        "colab": {}
      },
      "cell_type": "code",
      "source": [
        "ls"
      ],
      "execution_count": 0,
      "outputs": []
    },
    {
      "metadata": {
        "id": "WzhkRfpgDQK4",
        "colab_type": "code",
        "colab": {}
      },
      "cell_type": "code",
      "source": [
        "with open(\"./with_test\", \"w\") as f:\n",
        "          f.write(\"using 'with' in python.\")"
      ],
      "execution_count": 0,
      "outputs": []
    },
    {
      "metadata": {
        "id": "I9ymI65WDiCf",
        "colab_type": "code",
        "colab": {}
      },
      "cell_type": "code",
      "source": [
        "ls"
      ],
      "execution_count": 0,
      "outputs": []
    },
    {
      "metadata": {
        "id": "bCjei0tvDoGH",
        "colab_type": "code",
        "colab": {}
      },
      "cell_type": "code",
      "source": [
        "f = open(\"with_test\", \"r\", encoding=\"utf-8\")  # 파일 열기\n",
        "s = f.read()           # 파일의 내용을 문자열형 변수로 읽음\n",
        "print(s)               # 파일의 내용을 표시\n",
        "f.close()              # 파일 닫기"
      ],
      "execution_count": 0,
      "outputs": []
    },
    {
      "metadata": {
        "id": "aWnvjXimEqtn",
        "colab_type": "text"
      },
      "cell_type": "markdown",
      "source": [
        "> 딥러닝 프레임워크인 Tensorflow에서 session 관리에 자주 사용된다."
      ]
    },
    {
      "metadata": {
        "id": "4VWVTwUOD3Hf",
        "colab_type": "code",
        "colab": {}
      },
      "cell_type": "code",
      "source": [
        ""
      ],
      "execution_count": 0,
      "outputs": []
    }
  ]
}