{
 "cells": [
  {
   "cell_type": "markdown",
   "metadata": {},
   "source": [
    "## 리스트 사용 (Ch.2-4)"
   ]
  },
  {
   "cell_type": "markdown",
   "metadata": {},
   "source": [
    "### 리스트 정의"
   ]
  },
  {
   "cell_type": "code",
   "execution_count": null,
   "metadata": {},
   "outputs": [],
   "source": [
    "# 도쿄의 낮 평균 기온 (1950년부터 2000년까지)\n",
    "# 변수 리스트를 할당\n",
    "tokyo_temps = [15.1, 15.4, 15.2, 15.4, 17.0, 16.9]"
   ]
  },
  {
   "cell_type": "code",
   "execution_count": null,
   "metadata": {},
   "outputs": [],
   "source": [
    "# 그래프의 표시 준비\n",
    "%matplotlib inline\n",
    "import matplotlib.pyplot as plt"
   ]
  },
  {
   "cell_type": "code",
   "execution_count": null,
   "metadata": {},
   "outputs": [],
   "source": [
    "# 그래프의 표시\n",
    "plt.plot(tokyo_temps, 'g*-', ms=15)"
   ]
  },
  {
   "cell_type": "markdown",
   "metadata": {},
   "source": [
    "### 인덱스(index)를 사용하여 리스트의 요소를 추출"
   ]
  },
  {
   "cell_type": "code",
   "execution_count": null,
   "metadata": {},
   "outputs": [],
   "source": [
    "tokyo_temps[0]   # 1950년의 평균 기온"
   ]
  },
  {
   "cell_type": "code",
   "execution_count": null,
   "metadata": {},
   "outputs": [],
   "source": [
    "# 2000년까지 50년 평균 기온이 몇도 올랐는지 계산\n",
    "# 리스트 요소의 뺄셈\n",
    "tokyo_temps[5]-tokyo_temps[0]"
   ]
  },
  {
   "cell_type": "markdown",
   "metadata": {},
   "source": [
    "계산 결과가 1.8이 되지 않는 것이 이상한 사람은 다음을 참고[기사](http://web.archive.org/web/20160506221107/http://pc.nikkeibp.co.jp/pc21/special/gosa/eg4.shtml)\n",
    "\n",
    "또한 (파이썬에서 클래를 사용)에도 쉽게 설명하고 있다"
   ]
  },
  {
   "cell_type": "code",
   "execution_count": null,
   "metadata": {},
   "outputs": [],
   "source": [
    "# 인덱스에 -1을 주고 같은 온도 차이를 계산\n",
    "# 리스트의 마지막 요소를 지정\n",
    "tokyo_temps[-1]-tokyo_temps[0]"
   ]
  },
  {
   "cell_type": "markdown",
   "metadata": {},
   "source": [
    "### max & argmax of list"
   ]
  },
  {
   "cell_type": "code",
   "execution_count": null,
   "metadata": {},
   "outputs": [],
   "source": [
    "import numpy as np\n",
    "max(tokyo_temps),np.argmax(tokyo_temps)"
   ]
  },
  {
   "cell_type": "markdown",
   "metadata": {},
   "source": [
    "### 리스트(List)의 연결"
   ]
  },
  {
   "cell_type": "code",
   "execution_count": null,
   "metadata": {},
   "outputs": [],
   "source": [
    "# 리스트에 1900년부터 1940년의 평균 기온 추가\n",
    "# 리스트의 덧셈\n",
    "e_tokyo_temps = [13.6, 13.5, 14.2, 14.8, 14.8]\n",
    "tokyo_temps2 = e_tokyo_temps+tokyo_temps"
   ]
  },
  {
   "cell_type": "code",
   "execution_count": null,
   "metadata": {},
   "outputs": [],
   "source": [
    "# 그래프의 표시\n",
    "plt.plot(tokyo_temps2,'r*-',ms=12)"
   ]
  },
  {
   "cell_type": "markdown",
   "metadata": {},
   "source": [
    "#### 연도별로 온도 변화 그래프 그리기"
   ]
  },
  {
   "cell_type": "code",
   "execution_count": null,
   "metadata": {},
   "outputs": [],
   "source": [
    "year = range(1900,2010,10)\n",
    "year"
   ]
  },
  {
   "cell_type": "code",
   "execution_count": null,
   "metadata": {},
   "outputs": [],
   "source": [
    "plt.plot(year,tokyo_temps2,'b*-',ms=12)"
   ]
  },
  {
   "cell_type": "markdown",
   "metadata": {},
   "source": [
    "### 리스트(List) 요소의 변경 삭제"
   ]
  },
  {
   "cell_type": "code",
   "execution_count": null,
   "metadata": {},
   "outputs": [],
   "source": [
    "# 문자열의 리스트를 정의하고 내용보기\n",
    "# 리스트 \"mcz\" 만들기\n",
    "mcz = [\"AB\", \"CD\", \"EF\", \"GH\", \"IJ\", \"KL\"]\n",
    "mcz"
   ]
  },
  {
   "cell_type": "code",
   "execution_count": null,
   "metadata": {},
   "outputs": [],
   "source": [
    "# 여섯 번째[5] 요소를 다시 작성\n",
    "mcz[5] = 'ZY'\n",
    "mcz                 # 변경 후 리스트 확인"
   ]
  },
  {
   "cell_type": "code",
   "execution_count": null,
   "metadata": {},
   "outputs": [],
   "source": [
    "# 요소의 제거\n",
    "del mcz[0]\n",
    "mcz            # 변경 후 리스트 확인"
   ]
  },
  {
   "cell_type": "markdown",
   "metadata": {},
   "source": [
    "### 슬라이스를 이용하여 여러 요소를 추출"
   ]
  },
  {
   "cell_type": "code",
   "execution_count": null,
   "metadata": {},
   "outputs": [],
   "source": [
    "# 인덱스 1부터 2까지의 요소를 슬라이스로 검색\n",
    "# 슬라이스의 사용 예\n",
    "lst1 = mcz[1:3]\n",
    "lst1"
   ]
  },
  {
   "cell_type": "code",
   "execution_count": null,
   "metadata": {},
   "outputs": [],
   "source": [
    "# 슬라이스 왼쪽 인덱스를 생략하면 처음부터 추출\n",
    "# 슬라이스의 사용 예\n",
    "mcz[:2]"
   ]
  },
  {
   "cell_type": "code",
   "execution_count": null,
   "metadata": {},
   "outputs": [],
   "source": [
    "# 오른쪽 인덱스를 생략하면 마지막까지 추출\n",
    "# 슬라이스의 사용 예\n",
    "mcz[1:]"
   ]
  },
  {
   "cell_type": "code",
   "execution_count": null,
   "metadata": {},
   "outputs": [],
   "source": [
    "mcz[-1]"
   ]
  },
  {
   "cell_type": "code",
   "execution_count": null,
   "metadata": {},
   "outputs": [],
   "source": [
    "mcz[:-1]"
   ]
  },
  {
   "cell_type": "markdown",
   "metadata": {},
   "source": [
    "### 리스트의 리스트 － 2 차원 배열"
   ]
  },
  {
   "cell_type": "markdown",
   "metadata": {},
   "source": [
    "\n",
    "|도시 이름/년|1930|1940|1950|1960|1970|1980|1990|2000|\n",
    "|-----|----|----|----|----|----|----|----|----|\n",
    "|도쿄도|14.8|14.8|15.1|15.4|15.2|15.4|17.0|16.9|\n",
    "|아키타시|10.0|10.4|11.5|11.2|10.9|10.6|11.8|12.2|\n",
    "|구마모토시|16.0|15.5|15.9|16.4|15.9|15.6|17.5|17.1|\n"
   ]
  },
  {
   "cell_type": "code",
   "execution_count": null,
   "metadata": {},
   "outputs": [],
   "source": [
    "# 각 도시의 평균 기온 리스트\n",
    "city_temps = [\n",
    "#도쿄의 평균 기온\n",
    "[14.8, 14.8, 15.1, 15.4, 15.2, 15.4, 17.0, 16.9],\n",
    "#아키타시의 평균 기온\n",
    "[10.0, 10.4, 11.5, 11.2, 10.9, 10.6, 11.8, 12.2],\n",
    "#구마모토시의 평균 기온\n",
    "[16.0, 15.5, 15.9, 16.4, 15.9, 15.6, 17.5, 17.1]\n",
    "]"
   ]
  },
  {
   "cell_type": "code",
   "execution_count": null,
   "metadata": {},
   "outputs": [],
   "source": [
    "# 아키타시의 평균 기온 리스트 보기\n",
    "city_temps[1]"
   ]
  },
  {
   "cell_type": "code",
   "execution_count": null,
   "metadata": {},
   "outputs": [],
   "source": [
    "# 평균 기온 비교\n",
    "city_temps[2][7]- city_temps[2][0]"
   ]
  },
  {
   "cell_type": "code",
   "execution_count": null,
   "metadata": {},
   "outputs": [],
   "source": [
    "# 3개 도시의 평균 기온 그래프 그리기\n",
    "plt.plot(city_temps[0])       # 도쿄도의 그래프 그리기\n",
    "plt.plot(city_temps[1])       # 아키타시의 그래프 그리기\n",
    "plt.plot(city_temps[2])       # 구마모토시의 그래프 그리기\n",
    "# 그래프의 선색과 마커를 변경하시오."
   ]
  },
  {
   "cell_type": "markdown",
   "metadata": {},
   "source": [
    "### 리스트의 합계 최대값, 최소값"
   ]
  },
  {
   "cell_type": "code",
   "execution_count": null,
   "metadata": {},
   "outputs": [],
   "source": [
    "monk_fish_team = [158, 157, 163, 157, 145]\n",
    "sum(monk_fish_team)   # 리스트의 합계를 계산"
   ]
  },
  {
   "cell_type": "code",
   "execution_count": null,
   "metadata": {},
   "outputs": [],
   "source": [
    "max(monk_fish_team)   # 최대 값 계산"
   ]
  },
  {
   "cell_type": "code",
   "execution_count": null,
   "metadata": {},
   "outputs": [],
   "source": [
    "min(monk_fish_team)   # 최소 값 계산"
   ]
  },
  {
   "cell_type": "markdown",
   "metadata": {},
   "source": [
    "> 최소, 최대값의 인수를 구하시오."
   ]
  },
  {
   "cell_type": "markdown",
   "metadata": {},
   "source": [
    "### 리스트의 항목 수를 측정"
   ]
  },
  {
   "cell_type": "code",
   "execution_count": null,
   "metadata": {},
   "outputs": [],
   "source": [
    "len(monk_fish_team)   # 리스트의 길이(항목 수)를 조사"
   ]
  },
  {
   "cell_type": "code",
   "execution_count": null,
   "metadata": {},
   "outputs": [],
   "source": [
    "# 합계, 리스트 길이의 응용 - 평균을 계산\n",
    "monk_sum = sum(monk_fish_team)    # 합계를 계산\n",
    "monk_len = len(monk_fish_team)    # 길이를 측정\n",
    "monk_mean = monk_sum/monk_len     # 평균을 계산\n",
    "monk_mean"
   ]
  },
  {
   "cell_type": "code",
   "execution_count": null,
   "metadata": {},
   "outputs": [],
   "source": [
    "# 신장 그래프를 그리기\n",
    "\n",
    "plt.bar([0, 1, 2, 3, 4], monk_fish_team)\n",
    "plt.plot([0, len(monk_fish_team)], [monk_mean, monk_mean], color='red')"
   ]
  },
  {
   "cell_type": "markdown",
   "metadata": {},
   "source": [
    "## for문에서 루프를 사용 (Ch.2-5)"
   ]
  },
  {
   "cell_type": "code",
   "execution_count": null,
   "metadata": {},
   "outputs": [],
   "source": [
    "# for문 루프를 사용하여 리스트의 요소를 하나씩 보기\n",
    "mcz = ['AB', 'CD', 'EF', 'GH', 'IJ']\n",
    "for member in mcz:\n",
    "    print(member)"
   ]
  },
  {
   "cell_type": "code",
   "execution_count": null,
   "metadata": {},
   "outputs": [],
   "source": [
    "# 루프가 끝난 후에도 리스트의 내용이 바뀌지 않았는지 확인\n",
    "mcz"
   ]
  },
  {
   "cell_type": "code",
   "execution_count": null,
   "metadata": {},
   "outputs": [],
   "source": [
    "# for문을 사용하여 분산을 계산\n",
    "# 몽크 피시 팀\n",
    "monk_fish_team = [158, 157, 163, 157, 145]\n",
    "\n",
    "total = sum(monk_fish_team)    # 리스트의 합계\n",
    "length = len(monk_fish_team)   # 리스트의 요소 수(길이)\n",
    "mean = total/length            # 평균을 구함\n",
    "variance = 0                   # 분산을 계산하기 위한 변수\n",
    "\n",
    "for height in monk_fish_team:\n",
    "    variance = variance+(height-mean)**2 # 키에서 평균을 빼고 제곱한 수를 더함\n",
    "\n",
    "variance = variance/length     # 더한 수치를 요소 수로 나누어 분산을 구함 length -> length-1\n",
    "variance"
   ]
  },
  {
   "cell_type": "code",
   "execution_count": null,
   "metadata": {},
   "outputs": [],
   "source": [
    "# 분산의 루트를 계산하고 표준 편차를 계산\n",
    "variance**0.5, round(variance**0.5,1)"
   ]
  },
  {
   "cell_type": "code",
   "execution_count": null,
   "metadata": {},
   "outputs": [],
   "source": [
    "# 다른 리스트에서 표준 편차를 계산\n",
    "# 발리볼 팀\n",
    "volleyball_team = [143, 167, 170, 165]\n",
    "\n",
    "total2 = sum(volleyball_team)    # 리스트의 합계\n",
    "length2 = len(volleyball_team)   # 리스트의 요소 수(길이)\n",
    "mean2 = total2/length2           # 평균을 구함\n",
    "variance2 = 0                    # 분산을 계산하기 위한 변수\n",
    "\n",
    "for height in volleyball_team:\n",
    "    variance2 = variance2+(height-mean2)**2 # 신장에서 평균을 빼고 제곱한 수를 더함\n",
    "\n",
    "variance2 = variance2/length2  # 더한 수치를 요소 수로 나누어 분산을 구함\n",
    "variance2,variance2**0.5"
   ]
  },
  {
   "cell_type": "markdown",
   "metadata": {},
   "source": [
    "### range() 함수"
   ]
  },
  {
   "cell_type": "code",
   "execution_count": null,
   "metadata": {},
   "outputs": [],
   "source": [
    "a10 = range(10)\n",
    "type(a10)"
   ]
  },
  {
   "cell_type": "code",
   "execution_count": null,
   "metadata": {},
   "outputs": [],
   "source": [
    "a10[0],a10[1],a10[9]"
   ]
  },
  {
   "cell_type": "code",
   "execution_count": null,
   "metadata": {},
   "outputs": [],
   "source": [
    "# range를 리스트로 변환\n",
    "list(a10)"
   ]
  },
  {
   "cell_type": "code",
   "execution_count": null,
   "metadata": {},
   "outputs": [],
   "source": [
    "# range()를 사용하여 0에서 9까지 표시\n",
    "for cnt in range(10):\n",
    "    print(cnt)"
   ]
  },
  {
   "cell_type": "code",
   "execution_count": null,
   "metadata": {},
   "outputs": [],
   "source": [
    "# range()를 사용하여 복리 계산을 함\n",
    "# 연리 5%의 금융 상품에 100만원 예금하면 15년 후에 얼마인지를 계산\n",
    "savings = 100               # 원금\n",
    "for i in range(15):         # 15년 반복 루프\n",
    "    savings = savings+savings*0.05   \n",
    "\n",
    "savings"
   ]
  },
  {
   "cell_type": "markdown",
   "metadata": {},
   "source": [
    "### 도전코딩-3.\n",
    "\n",
    "> 그런데 금리 15%로 돈을 빌릴 때 몇 년후에 2배가 될까? 위 코드의 수치를 다시 작성하여 실제로 시험해 본다. (신용 카드 리볼빙 지불에서 상품을 구매하거나 소비자 금융에서 돈을 빌릴 때 금리가 15% 정도 붙는다.)"
   ]
  },
  {
   "cell_type": "code",
   "execution_count": null,
   "metadata": {},
   "outputs": [],
   "source": [
    "# 도전코딩-3\n",
    "\n",
    "\n"
   ]
  },
  {
   "cell_type": "markdown",
   "metadata": {},
   "source": [
    "## if문에서 조건 분기 (Ch.2-6)"
   ]
  },
  {
   "cell_type": "code",
   "execution_count": null,
   "metadata": {},
   "outputs": [],
   "source": [
    "# if문의 예(4개의 2로 10을 만들자)\n",
    "# 10이 될지 어떨지를 조사\n",
    "# 조건식이 성립 때만 블록의 print() 함수가 실행된다.\n",
    "\n",
    "if 2*2*2+2 == 10:\n",
    "    print(\"2*2*2+2는 10\")\n",
    "if 2+2*2+2 == 10:\n",
    "    print(\"2+2*2+2는 10\")\n",
    "if (2+2)*2+2 == 10:\n",
    "    print(\"(2+2)*2+2는 10\")"
   ]
  },
  {
   "cell_type": "markdown",
   "metadata": {},
   "source": [
    "### 수치를 비교"
   ]
  },
  {
   "cell_type": "code",
   "execution_count": null,
   "metadata": {},
   "outputs": [],
   "source": [
    "# 조건식이 성립 때만 블록의 print() 함수가 실행된다\n",
    "if 1 == 1:\n",
    "    print(\"첫째는 True\")\n",
    "if 5^(4-4)+9 == 10:  # 10, 12, 14\n",
    "    print(\"2번째는 True\")\n",
    "if 2 < len([0, 1, 2]):\n",
    "    print(\"3번째는 True\")\n",
    "if sum([1, 2, 3, 4]) <= 10:\n",
    "    print(\"4번째는 True\")"
   ]
  },
  {
   "cell_type": "code",
   "execution_count": null,
   "metadata": {},
   "outputs": [],
   "source": [
    "5^(4-4) + 9"
   ]
  },
  {
   "cell_type": "code",
   "execution_count": null,
   "metadata": {},
   "outputs": [],
   "source": [
    "(5^(4-4)) + 9"
   ]
  },
  {
   "cell_type": "code",
   "execution_count": null,
   "metadata": {},
   "outputs": [],
   "source": [
    "5**(4-4) + 9"
   ]
  },
  {
   "cell_type": "markdown",
   "metadata": {},
   "source": [
    "> 위의 다른 결과를 설명하시오"
   ]
  },
  {
   "cell_type": "code",
   "execution_count": null,
   "metadata": {},
   "outputs": [],
   "source": [
    "len([0, 1, 2]),sum([1, 2, 3, 4])"
   ]
  },
  {
   "cell_type": "markdown",
   "metadata": {},
   "source": [
    "### 문자열을 비교"
   ]
  },
  {
   "cell_type": "code",
   "execution_count": null,
   "metadata": {},
   "outputs": [],
   "source": [
    "# 문장을 비교하는 조건식의 예\n",
    "if \"AUG\" == \"AUG\":\n",
    "    print(\"첫째는 True\")\n",
    "if \"AUG\" == \"aug\":\n",
    "    print(\"2번째는 True\")\n",
    "if \"가나다\" == \"가나다\":\n",
    "    print(\"3번째는 True\")"
   ]
  },
  {
   "cell_type": "markdown",
   "metadata": {},
   "source": [
    "### 문자열을 검색"
   ]
  },
  {
   "cell_type": "code",
   "execution_count": null,
   "metadata": {},
   "outputs": [],
   "source": [
    "# in 연산자를 사용한 문자열 검색\n",
    "if \"GAG\" in \"AUGACGGAGCUU\":\n",
    "    print(\"첫째는 True\")\n",
    "if \"사랑과 전쟁은 모든 것이 정당화되어\" in \"정당화\":\n",
    "    print(\"2번째는 True\")\n",
    "if \"stumble\" in \"A horse may stumble though he has four legs\":\n",
    "    print(\"3번째는 True\")"
   ]
  },
  {
   "cell_type": "markdown",
   "metadata": {},
   "source": [
    "### 리스트를 비교"
   ]
  },
  {
   "cell_type": "code",
   "execution_count": null,
   "metadata": {},
   "outputs": [],
   "source": [
    "# 리스트를 비교하는 조건식의 예\n",
    "if [1, 2, 3, 4] == [1, 2, 3, 4]:\n",
    "    print(\"첫째는 True\")\n",
    "if [1, 2, 3] == [2, 3]:\n",
    "    print(\"2번째는 True\")\n",
    "if [1, 2, 3] == ['1', '2', '3']:\n",
    "    print(\"3번째는 True\")"
   ]
  },
  {
   "cell_type": "markdown",
   "metadata": {},
   "source": [
    "### 리스트의 요소를 검색"
   ]
  },
  {
   "cell_type": "code",
   "execution_count": null,
   "metadata": {},
   "outputs": [],
   "source": [
    "# 리스트 내의 요소를 알아보는 조건식 사례 1\n",
    "if 2 in [2, 3, 5, 7, 11]:\n",
    "    print(\"첫째는 True\")\n",
    "if 21 in [13, 17, 19, 23, 29]:\n",
    "    print(\"2번째는 True\")\n",
    "if '대구' in ['서울', '대구', '부산']:\n",
    "    print(\"3번째는 True\")"
   ]
  },
  {
   "cell_type": "code",
   "execution_count": null,
   "metadata": {},
   "outputs": [],
   "source": [
    "# 리스트 내의 요소를 알아보는 조건식 사례 2\n",
    "# 목록의 비교에서는 in 왼쪽에 리스트가 오는 경우에 주의\n",
    "if 1 in [0, 1, 2, 3, 4]:\n",
    "    print(\"첫째는 True\")\n",
    "if [1, 2] in [0, 1, 2, 3, 4]:\n",
    "    print(\"2번째는 True\")\n",
    "if [1, 2] in [0, 1, [1, 2], 3, 4]:\n",
    "    print(\"3번째는 True\")"
   ]
  },
  {
   "cell_type": "markdown",
   "metadata": {},
   "source": [
    "### else문을 사용"
   ]
  },
  {
   "cell_type": "code",
   "execution_count": null,
   "metadata": {},
   "outputs": [],
   "source": [
    "# else문 사용 사례\n",
    "# 식 1\n",
    "if 2^3-2+4 == 10:                \n",
    "    print(\"식 2^3-2+4는 10\")            #식 1의 결과에 따라서 둘 중의 하나가 실행\n",
    "else:\n",
    "    print(\"식  2^3-2+4는 10이 아닙니다\")    #식 1의 결과에 따라서 둘 중의 하나가 실행  "
   ]
  },
  {
   "cell_type": "code",
   "execution_count": null,
   "metadata": {},
   "outputs": [],
   "source": [
    "# 식 2\n",
    "if 2**3-2+4 == 10:               \n",
    "    print(\"식 2**3-2+4는 10\")            #식 2의 결과에 따라서 둘 중의 하나가 실행\n",
    "else:\n",
    "    print(\"식 2**3-2+4는 10이 아닙니다\")    #식 2의 결과에 따라서 둘 중의 하나가 실행"
   ]
  },
  {
   "cell_type": "markdown",
   "metadata": {},
   "source": [
    "### elif문의 사용"
   ]
  },
  {
   "cell_type": "code",
   "execution_count": null,
   "metadata": {},
   "outputs": [],
   "source": [
    "# 2중 if문을 사용한 사례\n",
    "# if를 다단 중첩하면 들여 쓰기가 깊어지고 코드가 어렵게 보인다.\n",
    "a_year = 2080\n",
    "if a_year >= 1993:                  # 식 1\n",
    "    # 출생 연도 또는 그 이후의 경우\n",
    "    if a_year == 1993:              # 식 2\n",
    "        print(a_year, \"년에 태어남\")   # 식 1, 식 2 모두 참일 때 실행\n",
    "    else:\n",
    "        print(a_year, \"년은 \", a_year-1993, \"세\")    # 식 1은 참이지만 식 2가 거짓일 때 실행"
   ]
  },
  {
   "cell_type": "code",
   "execution_count": null,
   "metadata": {},
   "outputs": [],
   "source": [
    "# elif문 사용 사례\n",
    "# elif를 사용하면 동일한 작업을 깔끔하게 할 수 있다.\n",
    "a_year = 2080\n",
    "if a_year == 1993:\n",
    "    print(a_year, \"년에 태어남\")\n",
    "elif a_year > 1993:\n",
    "    print(a_year, \"년은 \", a_year-1993, \"세\")"
   ]
  },
  {
   "cell_type": "code",
   "execution_count": null,
   "metadata": {},
   "outputs": [],
   "source": [
    "# for문으로 if문을 조합한 사례\n",
    "# a_num가 소수의 경우에는 아무것도 표시되지 않는다.\n",
    "# 소수가 아닌 때에는 소수가 아니란 것을 표시한다.\n",
    "\n",
    "# a_num에 대입하는 수치를 바꾸어 셀을 실행하면 다양한 숫자에 대한\n",
    "# 소수 여부를 확인할 수 있다.\n",
    "\n",
    "a_num = 57            # 소수인지 알아보는 수\n",
    "for num in range(2, a_num):  # 2부터 a_num-1까지 반복\n",
    "    if a_num % num == 0:     # a_num을 num으로 나누어지는지 확인\n",
    "        print(a_num, \"은(는) 소수가 아닙니다.\")\n",
    "        break"
   ]
  },
  {
   "cell_type": "markdown",
   "metadata": {},
   "source": [
    "## 함수를 사용 (Ch.2-7)"
   ]
  },
  {
   "cell_type": "markdown",
   "metadata": {},
   "source": [
    "### 함수란"
   ]
  },
  {
   "cell_type": "code",
   "execution_count": null,
   "metadata": {},
   "outputs": [],
   "source": [
    "# 리스트의 값을 합하는 프로그램\n",
    "the_list = [101, 123, 152, 123]\n",
    "summary = 0                 # 합계를 위한 변수를 만듦\n",
    "for item in the_list:       # 리스트로 루프를 적용\n",
    "    summary = summary+item  # 리스트의 요소를 합계\n",
    "\n",
    "summary                     # 합계를 표시"
   ]
  },
  {
   "cell_type": "code",
   "execution_count": null,
   "metadata": {},
   "outputs": [],
   "source": [
    "sum(the_list)  # 함수 sum()을 사용하는 것이 간단하고 쉽다."
   ]
  },
  {
   "cell_type": "markdown",
   "metadata": {},
   "source": [
    "### 도전코딩 4.\n",
    "\n",
    "> range() 함수를 이용해서 1에서 100까지의 합을 구하시오.\n"
   ]
  },
  {
   "cell_type": "code",
   "execution_count": null,
   "metadata": {},
   "outputs": [],
   "source": [
    "# range() 함수를 이용: 1에서 100까지의 합\n",
    "\n"
   ]
  },
  {
   "cell_type": "markdown",
   "metadata": {},
   "source": [
    "### 함수를 호출"
   ]
  },
  {
   "cell_type": "code",
   "execution_count": null,
   "metadata": {},
   "outputs": [],
   "source": [
    "# abs() 함수의 실행 사례\n",
    "abs(-10)    # 절대값을 반환하는 함수를 호출"
   ]
  },
  {
   "cell_type": "code",
   "execution_count": null,
   "metadata": {},
   "outputs": [],
   "source": [
    "# abs() 함수의 실행 사례\n",
    "abs(-200.37)"
   ]
  },
  {
   "cell_type": "markdown",
   "metadata": {},
   "source": [
    "### 함수의 인수"
   ]
  },
  {
   "cell_type": "code",
   "execution_count": null,
   "metadata": {},
   "outputs": [],
   "source": [
    "# int() 함수의 실행 사례\n",
    "int(\"100\")              # 문자열을 10진수의 수치로 변환"
   ]
  },
  {
   "cell_type": "code",
   "execution_count": null,
   "metadata": {},
   "outputs": [],
   "source": [
    "# int() 함수의 실행 사례\n",
    "# 인수가 같은 함수에서도 동작이 바뀐다.\n",
    "int(\"100\", 2)           # 문자열을 2진수의 수치에 만들어 변환"
   ]
  },
  {
   "cell_type": "code",
   "execution_count": null,
   "metadata": {},
   "outputs": [],
   "source": [
    "# int() 함수의 실행 사례\n",
    "int(\"100\", 16)          # 문자열을 16진수의 수치에 만들어 변환"
   ]
  },
  {
   "cell_type": "markdown",
   "metadata": {},
   "source": [
    "### 함수의 정의"
   ]
  },
  {
   "cell_type": "code",
   "execution_count": null,
   "metadata": {},
   "outputs": [],
   "source": [
    "# destiny_tank() 함수의 정의\n",
    "def destiny_tank():\n",
    "    tanks = [\"IV호 전차 D형\", \"III호 전차 J형\", \"처칠 Mk.VII\",\n",
    "             \"M4 셔먼\", \"P40 중전차\", \"T-34/76\"]  # 전차의 리스트\n",
    "    num = input(\"좋아하는 숫자를 입력하세요:\")         #숫자를 입력\n",
    "    idx = int(num) % len(tanks)        # 입력값을 리스트의 인수로 변환\n",
    "    print(\"당신의 운명의 전차는 \")\n",
    "    print(tanks[idx])                  # 결과를 표시"
   ]
  },
  {
   "cell_type": "code",
   "execution_count": null,
   "metadata": {},
   "outputs": [],
   "source": [
    "# 함수를 호출하면 양식이 나타난다.\n",
    "# 폼에 숫자를 입력하고 리턴을 누르면\n",
    "# 운명의 전차가 나타난다.\n",
    "destiny_tank()      "
   ]
  },
  {
   "cell_type": "markdown",
   "metadata": {},
   "source": [
    "### 인수 (매개변수)를 정의"
   ]
  },
  {
   "cell_type": "code",
   "execution_count": null,
   "metadata": {},
   "outputs": [],
   "source": [
    "# 인수를 갖는 함수의 정의\n",
    "def destiny_tank2(num):\n",
    "    tanks = [\"IV호 전차 D형\", \"III호 전차 J형\", \"처칠 Mk.VII\",\n",
    "             \"M4 셔먼\", \"P40 중전차\", \"T-34/76\"]  # 전차의 리스트\n",
    "    idx = num % len(tanks)             # 입력값을 리스트의 인수로 변환\n",
    "    print(\"당신의 운명의 전차는 \")\n",
    "    print(tanks[idx])                  # 결과를 표시"
   ]
  },
  {
   "cell_type": "code",
   "execution_count": null,
   "metadata": {},
   "outputs": [],
   "source": [
    "# destiny_tank2() 함수의 실행 사례\n",
    "# 인수를 주고 함수를 호출\n",
    "num_str = input(\"좋아하는 숫자를 입력하세요:\")    # 입력 윈도우를 표시\n",
    "num = int(num_str)                         # 문자열을 수치로 변환\n",
    "destiny_tank2(num)                         # 수치를 함수에 전달"
   ]
  },
  {
   "cell_type": "code",
   "execution_count": null,
   "metadata": {},
   "outputs": [],
   "source": [
    "# 랜덤한 결과를 되돌려 줌\n",
    "# 난수를 사용하여 운명의 전차 추천 받기\n",
    "from random import randint\n",
    "num = randint(0, 10)        # 난수를 생성\n",
    "destiny_tank2(num)          # 생성한 난수를 함수에 전달"
   ]
  },
  {
   "cell_type": "markdown",
   "metadata": {},
   "source": [
    "### 함수의 반환값"
   ]
  },
  {
   "cell_type": "code",
   "execution_count": null,
   "metadata": {},
   "outputs": [],
   "source": [
    "# 반환값을 갖는 함수의 정의\n",
    "# 행운의 전차 반환값으로 결과를 반환\n",
    "def destiny_tank3(num):\n",
    "    tanks = [\"IV호 전차 D형\", \"III호 전차 J형\", \"처칠 Mk.VII\",\n",
    "             \"M4 셔먼\", \"P40 중전차\", \"T-34/76\"]  # 전차의 리스트\n",
    "    idx = num % len(tanks)             # 입력값을 리스트의 인수로 변환\n",
    "    return tanks[idx]                  # 결과를 반환값으로 되돌려 줌"
   ]
  },
  {
   "cell_type": "code",
   "execution_count": null,
   "metadata": {},
   "outputs": [],
   "source": [
    "# destiny_tank3() 함수의 실행 사례\n",
    "# 반환값으로 된 전차 이름을 표시하려면\n",
    "from random import randint\n",
    "num = randint(0, 10)\n",
    "tank = destiny_tank3(num)\n",
    "print(\"오늘 당신이 타야 할 행운의 전차는 \", tank, \"입니다.\")\n",
    "# print(\"오늘 당신이 타야 할 행운의 전차는 {}\".format(tank), \"입니다.\")"
   ]
  },
  {
   "cell_type": "markdown",
   "metadata": {},
   "source": [
    "### 지역 변수"
   ]
  },
  {
   "cell_type": "code",
   "execution_count": null,
   "metadata": {},
   "outputs": [],
   "source": [
    "# 지역 변수를 함수의 밖에서 쓰는 경우\n",
    "def test_func(arg1):\n",
    "    # 수치의 인수에 100을 더하고 표시하는 함수\n",
    "    inner_var = 100\n",
    "    print(arg1+inner_var)\n",
    "\n",
    "test_func(10)       # 함수를 호출 –110으로 표시된다\n",
    "print(inner_var)    # 함수 내에서 정의한 변수를 표시(오류가 됨)"
   ]
  },
  {
   "cell_type": "markdown",
   "metadata": {},
   "source": [
    "### 반복 사용하는 코드를 함수로 정리"
   ]
  },
  {
   "cell_type": "code",
   "execution_count": null,
   "metadata": {},
   "outputs": [],
   "source": [
    "# 지역 변수를 함수의 밖에서 쓰는 경우\n",
    "# 신장 목록에서 분산을 계산했을 때의 코드(길고 같은 처리가 중복 ...)\n",
    "monk_fish_team = [158, 157, 163, 157, 145]\n",
    "\n",
    "total = sum(monk_fish_team)    # 리스트의 합계\n",
    "length = len(monk_fish_team)   # 리스트의 요소 수(길이)\n",
    "mean = total/length            # 평균을 계산\n",
    "variance = 0                   # 분산을 계산하기 위한 변수\n",
    "\n",
    "for height in monk_fish_team:\n",
    "    variance = variance+(height-mean)**2 # 신장에서 평균을 빼고 제곱을 더함\n",
    "\n",
    "variance = variance/length     # 더한 수치를 요소 수로 나누어 분산을 구함\n",
    "\n",
    "volleyball_team = [143, 167, 170, 165]\n",
    "\n",
    "total2 = sum(volleyball_team)    # 리스트의 합계\n",
    "length2 = len(volleyball_team)   # 리스트의 요소 수(길이)\n",
    "mean2 = total2/length2           # 평균을 구함\n",
    "variance2 = 0                    # 분산을 계산하기 위한 변수\n",
    "\n",
    "for height in volleyball_team:\n",
    "    variance2 = variance2+(height-mean)**2 # 신장에서 평균을 빼고 제곱을 더함\n",
    "\n",
    "variance2 = variance2/length2  # 더한 수치를 요소 수로 나누어 분산을 구함\n",
    "print(variance, variance2)     # 결과 보기"
   ]
  },
  {
   "cell_type": "code",
   "execution_count": null,
   "metadata": {},
   "outputs": [],
   "source": [
    "# calc_variance() 함수의 정의\n",
    "# 공통 부분을 정리한 함수\n",
    "def calc_variance(a_list):\n",
    "    # 분산을 요구하는 함수\n",
    "    total = sum(a_list)    # 리스트의 합계\n",
    "    length = len(a_list)   # 리스트의 요소 수(길이)\n",
    "    mean = total/length    # 평균을 구함\n",
    "    variance = 0           # 분산을 계산하기 위한 변수\n",
    "\n",
    "    for item in a_list:\n",
    "        variance = variance+(item-mean)**2 # 각 항목에서 평균을 빼고 제곱을 더함\n",
    "    variance = variance/length  # 더한 수치를 요소 수로 나누어 분산을 구함\n",
    "\n",
    "    return variance     # 요구 분산을 반환값으로 돌려줌"
   ]
  },
  {
   "cell_type": "code",
   "execution_count": null,
   "metadata": {},
   "outputs": [],
   "source": [
    "# calc_variance() 함수의 실행 사례\n",
    "# 함수를 사용하여 분산과 표준 편차를 계산하는\n",
    "# 리스트를 정의한다\n",
    "monk_fish_team = [158, 157, 163, 157, 145]\n",
    "volleyball_team = [143, 167, 170, 165]\n",
    "pravda_team = [127, 172, 140, 160, 174]\n",
    "\n",
    "# 분산을 계산하다\n",
    "monk_team_variance = calc_variance(monk_fish_team)\n",
    "volley_team_variance = calc_variance(volleyball_team)\n",
    "pravda_team_variance = calc_variance(pravda_team)\n",
    "\n",
    "# 표준 편차를 계산하다\n",
    "print(monk_team_variance**0.5)\n",
    "print(volley_team_variance**0.5)\n",
    "print(pravda_team_variance**0.5)"
   ]
  },
  {
   "cell_type": "code",
   "execution_count": null,
   "metadata": {},
   "outputs": [],
   "source": [
    "monk_team_variance,volley_team_variance"
   ]
  },
  {
   "cell_type": "markdown",
   "metadata": {},
   "source": [
    "## 모듈 사용 (Ch.2-8)"
   ]
  },
  {
   "cell_type": "markdown",
   "metadata": {},
   "source": [
    "### 모듈 import (가져 오기)"
   ]
  },
  {
   "cell_type": "code",
   "execution_count": null,
   "metadata": {},
   "outputs": [],
   "source": [
    "# random 모듈의 Import\n",
    "import random                 # 랜덤 모듈을 읽기\n",
    "\n",
    "print(random.random())        # 0 < x < 1의 난수를 얻음\n",
    "print(random.randint(0, 6))   # 0 <= x <= 6의 난수를 얻음\n",
    "a_list = [0, 1, 2, 3, 4, 5]\n",
    "random.shuffle(a_list)        # 리스트를 임의로 교체\n",
    "print(a_list)\n",
    "print(random.choice(a_list))  # 리스트의 요소를 1개 랜덤으로 선택"
   ]
  },
  {
   "cell_type": "markdown",
   "metadata": {},
   "source": [
    "### import ~ as ~"
   ]
  },
  {
   "cell_type": "code",
   "execution_count": null,
   "metadata": {},
   "outputs": [],
   "source": [
    "# plt라는 이름으로 matplotlib.pyplot import하기\n",
    "import matplotlib.pyplot as plt  \n",
    "\n",
    "# 그래프를 표시하기 위한 선언문\n",
    "%matplotlib inline\n",
    "\n",
    "pravda_team = [127, 172, 140, 160, 174]\n",
    "plt.bar([1, 2, 3, 4, 5], pravda_team)  # plt를 사용하여 그래프를 그림"
   ]
  },
  {
   "cell_type": "markdown",
   "metadata": {},
   "source": [
    "### from을 사용한 import"
   ]
  },
  {
   "cell_type": "code",
   "execution_count": null,
   "metadata": {},
   "outputs": [],
   "source": [
    "# median() 함수의 import\n",
    "# statistics 모듈의 median 함수를 사용하여 평균을 계산\n",
    "from statistics import median\n",
    "\n",
    "monk_fish_team = [158, 157, 163, 157, 145]\n",
    "volleyball_team = [143, 167, 170, 165]\n",
    "print(median(monk_fish_team))    # 함수 이름만 불러낼 수 있음\n",
    "print(median(volleyball_team))   # 함수 이름만 불러낼 수 있음"
   ]
  },
  {
   "cell_type": "markdown",
   "metadata": {},
   "source": [
    "### 도전코딩 5. 모듈사용\n",
    "\n",
    "> var()함수를 import하여 monk_fish_tea과 volleyball_team의 variance를 구하시오."
   ]
  },
  {
   "cell_type": "code",
   "execution_count": null,
   "metadata": {},
   "outputs": [],
   "source": [
    "import numpy as np\n",
    "np.var(monk_fish_team),np.var(volleyball_team)"
   ]
  },
  {
   "cell_type": "code",
   "execution_count": null,
   "metadata": {},
   "outputs": [],
   "source": []
  }
 ],
 "metadata": {
  "kernelspec": {
   "display_name": "Python 3",
   "language": "python",
   "name": "python3"
  },
  "language_info": {
   "codemirror_mode": {
    "name": "ipython",
    "version": 3
   },
   "file_extension": ".py",
   "mimetype": "text/x-python",
   "name": "python",
   "nbconvert_exporter": "python",
   "pygments_lexer": "ipython3",
   "version": "3.6.6"
  }
 },
 "nbformat": 4,
 "nbformat_minor": 2
}
