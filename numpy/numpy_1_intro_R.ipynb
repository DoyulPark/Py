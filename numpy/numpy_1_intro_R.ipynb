{
  "nbformat": 4,
  "nbformat_minor": 0,
  "metadata": {
    "colab": {
      "name": "numpy_1_intro_R.ipynb",
      "provenance": [],
      "collapsed_sections": [],
      "include_colab_link": true
    },
    "kernelspec": {
      "name": "python2",
      "display_name": "Python 2"
    }
  },
  "cells": [
    {
      "cell_type": "markdown",
      "metadata": {
        "id": "view-in-github",
        "colab_type": "text"
      },
      "source": [
        "<a href=\"https://colab.research.google.com/github/Redwoods/Py/blob/master/numpy/numpy_1_intro_R.ipynb\" target=\"_parent\"><img src=\"https://colab.research.google.com/assets/colab-badge.svg\" alt=\"Open In Colab\"/></a>"
      ]
    },
    {
      "cell_type": "markdown",
      "metadata": {
        "id": "0Rd4EgDswXK3",
        "colab_type": "text"
      },
      "source": [
        "## python module 1. numpy"
      ]
    },
    {
      "cell_type": "markdown",
      "metadata": {
        "id": "I1Lv9GrX8W0F",
        "colab_type": "text"
      },
      "source": [
        "\n",
        "\n",
        "---\n",
        "\n"
      ]
    },
    {
      "cell_type": "markdown",
      "metadata": {
        "id": "pnSEXS8pVrtT",
        "colab_type": "text"
      },
      "source": [
        "#### 라이브러리를 import 시키는 방법 4가지"
      ]
    },
    {
      "cell_type": "markdown",
      "metadata": {
        "id": "afsJHUKdS3Ua",
        "colab_type": "text"
      },
      "source": [
        "**파이썬 코드에서 라이브러리를 import 시키는 방식**은 아래와 같이 4가지로 나눌 수 있다.\n",
        "\n",
        "\n",
        "\n",
        "1.   라이브러리의 이름을 바로 import하는 방식\n",
        "         예) import numpy\n",
        "         이렇게 import를 하면 해당 라이브러리의 풀네임을 이용하여 필요한 API를 호출할 수 있음\n",
        "         \n",
        "2.   라이브러리의 별명을 지정하는 방식\n",
        "         예) import numpy as np\n",
        "         가장 일반적인 방식임\n",
        "         a = np,array()\n",
        "3.   from을 이용하는 방식\n",
        "\n",
        "         from을 이용하면 해당 API의 이름을 쓰지 않고 API를 바로 쓸 수 있다는 장점이 있음\n",
        "         from numpy import array, arange\n",
        "         a = array()\n",
        "         an = arange(10)\n",
        "\n",
        "         \n",
        "4.   필요한 라이브러리에 모든 API를 사용\n",
        "         예) from numpy import *\n",
        "            이 경우에도 from을 사용하여 직접 필요한 API를 기술함\n",
        "\n",
        "\n",
        "\n"
      ]
    },
    {
      "cell_type": "markdown",
      "metadata": {
        "id": "poXE4qONVaCz",
        "colab_type": "text"
      },
      "source": [
        "##### 첫 번째 방식 - 라이브러리의 이름을 바로 import하는 방식"
      ]
    },
    {
      "cell_type": "code",
      "metadata": {
        "id": "XAuMP_ztUqet",
        "colab_type": "code",
        "colab": {
          "base_uri": "https://localhost:8080/",
          "height": 35
        },
        "outputId": "44e5d5e2-70be-458d-fb44-99aa3e362cce"
      },
      "source": [
        "# 1. 라이브러리의 이름을 바로 import하는 방식\n",
        "\n",
        "import numpy\n",
        "\n",
        "a1 = numpy.array([1,2])\n",
        "\n",
        "print(\"a1 = \", a1, \", type = \", type(a1))"
      ],
      "execution_count": 1,
      "outputs": [
        {
          "output_type": "stream",
          "text": [
            "('a1 = ', array([1, 2]), ', type = ', <type 'numpy.ndarray'>)\n"
          ],
          "name": "stdout"
        }
      ]
    },
    {
      "cell_type": "markdown",
      "metadata": {
        "id": "XH5TDHTTVe5z",
        "colab_type": "text"
      },
      "source": [
        "##### 두 번째 방식 - 라이브러리의 별명을 지정하는 방식"
      ]
    },
    {
      "cell_type": "code",
      "metadata": {
        "id": "ppA7TLLqVXvT",
        "colab_type": "code",
        "colab": {
          "base_uri": "https://localhost:8080/",
          "height": 35
        },
        "outputId": "44180461-751d-4aed-e050-abc27ac6c5ca"
      },
      "source": [
        "# 2. 라이브러리의 별명을 지정하는 방식\n",
        "\n",
        "import numpy as np\n",
        "\n",
        "a2 = np.array([1,2])\n",
        "\n",
        "print(\"a2 = \", a2, \", type = \", type(a2))"
      ],
      "execution_count": 2,
      "outputs": [
        {
          "output_type": "stream",
          "text": [
            "('a2 = ', array([1, 2]), ', type = ', <type 'numpy.ndarray'>)\n"
          ],
          "name": "stdout"
        }
      ]
    },
    {
      "cell_type": "markdown",
      "metadata": {
        "id": "RLb-GTgxXIBq",
        "colab_type": "text"
      },
      "source": [
        "예) numpy라는 라이브러리를 as 다음에 나오는 np로 지정"
      ]
    },
    {
      "cell_type": "markdown",
      "metadata": {
        "id": "31zpv6jgWUGG",
        "colab_type": "text"
      },
      "source": [
        "##### 세 번째 방식 - from을 이용하는 방식"
      ]
    },
    {
      "cell_type": "code",
      "metadata": {
        "id": "BBnlJGfjWNrT",
        "colab_type": "code",
        "colab": {
          "base_uri": "https://localhost:8080/",
          "height": 35
        },
        "outputId": "207a340f-6dd3-4dfb-ac45-aff002e89356"
      },
      "source": [
        "# 3. from을 이용하는 방식\n",
        "\n",
        "from numpy import array\n",
        "\n",
        "a3 = array([1, 2])\n",
        "\n",
        "print(\"a3 = \", a3, \", type = \", type(a3))"
      ],
      "execution_count": 3,
      "outputs": [
        {
          "output_type": "stream",
          "text": [
            "('a3 = ', array([1, 2]), ', type = ', <type 'numpy.ndarray'>)\n"
          ],
          "name": "stdout"
        }
      ]
    },
    {
      "cell_type": "markdown",
      "metadata": {
        "id": "wFkr6WU7XZav",
        "colab_type": "text"
      },
      "source": [
        "numpy 라이브러리에 속해있는 array API를 위의 첫 번째 및 두 번째 예에서처럼 numpy.array 또는 np.array 라고 하지 않고, 바로 array를 사용\n",
        "\n",
        "> => 즉, numpy.array가 아닌 array로 바로 사용 가능\n",
        "\n"
      ]
    },
    {
      "cell_type": "markdown",
      "metadata": {
        "id": "B-UinoSIWrq0",
        "colab_type": "text"
      },
      "source": [
        "##### 네 번째 방식 - 필요한 라이브러리에 모든 API를 사용"
      ]
    },
    {
      "cell_type": "code",
      "metadata": {
        "id": "SuOkm37nWmwC",
        "colab_type": "code",
        "colab": {
          "base_uri": "https://localhost:8080/",
          "height": 35
        },
        "outputId": "5088a3ed-98c7-4dae-ecda-2f73135889c7"
      },
      "source": [
        "# 4. 필요한 라이브러리에 모든 API를 사용\n",
        "\n",
        "from numpy import *\n",
        "\n",
        "result = exp(1) + log(1.7) + sqrt(2)\n",
        "\n",
        "print(\"result = \", result, \", type = \", type(result))"
      ],
      "execution_count": 4,
      "outputs": [
        {
          "output_type": "stream",
          "text": [
            "('result = ', 4.663123641894311, ', type = ', <type 'numpy.float64'>)\n"
          ],
          "name": "stdout"
        }
      ]
    },
    {
      "cell_type": "code",
      "metadata": {
        "id": "0mi_hDXkHxV9",
        "colab_type": "code",
        "colab": {
          "base_uri": "https://localhost:8080/",
          "height": 53
        },
        "outputId": "0ecdd782-d41a-48eb-dd45-b8f9e8c5f475"
      },
      "source": [
        "a4 = array(range(1,5)).reshape(2,2)\n",
        "\n",
        "print(\"a4 = \", a4, \", type = \", type(a4))"
      ],
      "execution_count": 5,
      "outputs": [
        {
          "output_type": "stream",
          "text": [
            "('a4 = ', array([[1, 2],\n",
            "       [3, 4]]), ', type = ', <type 'numpy.ndarray'>)\n"
          ],
          "name": "stdout"
        }
      ]
    },
    {
      "cell_type": "markdown",
      "metadata": {
        "id": "HMwk8_qxH0u4",
        "colab_type": "text"
      },
      "source": [
        "### numpy array의 속성"
      ]
    },
    {
      "cell_type": "code",
      "metadata": {
        "id": "tXiqxsg3k5I5",
        "colab_type": "code",
        "colab": {
          "base_uri": "https://localhost:8080/",
          "height": 35
        },
        "outputId": "4b94cb1e-d016-4d79-a248-9b053638ccc6"
      },
      "source": [
        "# shape of numpy arrays\n",
        "a1.shape, a2.shape, a3.shape, a4.shape"
      ],
      "execution_count": 6,
      "outputs": [
        {
          "output_type": "execute_result",
          "data": {
            "text/plain": [
              "((2,), (2,), (2,), (2, 2))"
            ]
          },
          "metadata": {
            "tags": []
          },
          "execution_count": 6
        }
      ]
    },
    {
      "cell_type": "code",
      "metadata": {
        "colab_type": "code",
        "id": "S8C1kDZayyCh",
        "colab": {
          "base_uri": "https://localhost:8080/",
          "height": 35
        },
        "outputId": "957e5340-e186-45b6-f22d-58a982ea792b"
      },
      "source": [
        "# dimension of numpy arrays\n",
        "a1.ndim, a2.ndim, a3.ndim, a4.ndim"
      ],
      "execution_count": 7,
      "outputs": [
        {
          "output_type": "execute_result",
          "data": {
            "text/plain": [
              "(1, 1, 1, 2)"
            ]
          },
          "metadata": {
            "tags": []
          },
          "execution_count": 7
        }
      ]
    },
    {
      "cell_type": "code",
      "metadata": {
        "colab_type": "code",
        "id": "WgaXd1rwy9tP",
        "colab": {
          "base_uri": "https://localhost:8080/",
          "height": 35
        },
        "outputId": "385b3711-3087-4f33-c950-80e30ef1deaa"
      },
      "source": [
        "# size of numpy arrays\n",
        "a1.size, a2.size, a3.size, a4.size"
      ],
      "execution_count": 8,
      "outputs": [
        {
          "output_type": "execute_result",
          "data": {
            "text/plain": [
              "(2, 2, 2, 4)"
            ]
          },
          "metadata": {
            "tags": []
          },
          "execution_count": 8
        }
      ]
    },
    {
      "cell_type": "code",
      "metadata": {
        "colab_type": "code",
        "id": "Yg4CHly4zMLr",
        "colab": {
          "base_uri": "https://localhost:8080/",
          "height": 35
        },
        "outputId": "cc918f4a-37e8-4444-b232-3bcac6517d4e"
      },
      "source": [
        "# dtype of numpy arrays\n",
        "a1.dtype, a2.dtype, a3.dtype, a4.dtype"
      ],
      "execution_count": 9,
      "outputs": [
        {
          "output_type": "execute_result",
          "data": {
            "text/plain": [
              "(dtype('int64'), dtype('int64'), dtype('int64'), dtype('int64'))"
            ]
          },
          "metadata": {
            "tags": []
          },
          "execution_count": 9
        }
      ]
    },
    {
      "cell_type": "code",
      "metadata": {
        "id": "o-fNUQeX2HnB",
        "colab_type": "code",
        "colab": {
          "base_uri": "https://localhost:8080/",
          "height": 35
        },
        "outputId": "2578cb73-63d0-4bc8-a8d4-2f7290db37ab"
      },
      "source": [
        "# reshape의 또 다른 사용 방법 \n",
        "a4r = array(range(1,5)).reshape(-1,2)\n",
        "a4r\n",
        "a4r.shape, a4r.ndim, a4r.size, a4r.dtype"
      ],
      "execution_count": 11,
      "outputs": [
        {
          "output_type": "execute_result",
          "data": {
            "text/plain": [
              "((2, 2), 2, 4, dtype('int64'))"
            ]
          },
          "metadata": {
            "tags": []
          },
          "execution_count": 11
        }
      ]
    },
    {
      "cell_type": "markdown",
      "metadata": {
        "id": "1agDc8fFYb7_",
        "colab_type": "text"
      },
      "source": [
        "### numpy\n",
        "\n",
        "numpy의 개념과 numpy가 필요한 이유, numpy를 이용하여 벡터와 matrix 즉, 행렬을 만들고 이를 상호변환 시킬 수 있는 API를 사용하는 방법에 대해 알아본다."
      ]
    },
    {
      "cell_type": "markdown",
      "metadata": {
        "id": "2zaiDbcJbjYL",
        "colab_type": "text"
      },
      "source": [
        "#### numpy의 개념, 그리고 numpy를 사용하는 이유"
      ]
    },
    {
      "cell_type": "markdown",
      "metadata": {
        "id": "XmsULOHVY3JT",
        "colab_type": "text"
      },
      "source": [
        "- **numpy**\n",
        "\n",
        "    * numpy는 머신러닝 코드 개발을 할 경우 자주 사용되는 벡터, 행렬 등을 표현하고 연산할 때 반드시 필요한 라이브러리다.  \n",
        "    * 벡터와 행렬을 이용하면 수치계산이 매우 빨리 수행된다.\n",
        "    * 벡터, 2차원행렬 등을 일반화 => 배열 또는 텐서(tensor)\n",
        "\n"
      ]
    },
    {
      "cell_type": "markdown",
      "metadata": {
        "id": "pNylcuDzZDWT",
        "colab_type": "text"
      },
      "source": [
        "- numpy array vs. list\n",
        "\n",
        "    *  머신러닝에서 숫자, 사람, 동물 등의 인식을 하기 위해서는 이미지 데이터를 행렬(matrix)로 변환하는 것이 중요하다.\n",
        "    *  행렬을 나타내기 위해서는 list를 사용할 수도 있지만, 행렬 연산이 직관적이지 않고 오류 가능성이 높기 때문에 **행렬 연산을 위해서는 numpy 사용이 필수적**이다.\n",
        "\n"
      ]
    },
    {
      "cell_type": "markdown",
      "metadata": {
        "id": "XnDOZbJzMpaB",
        "colab_type": "text"
      },
      "source": [
        "## 행렬연산 I\n",
        "\n",
        "- 요소별로 연산\n",
        "- elementwise operation"
      ]
    },
    {
      "cell_type": "code",
      "metadata": {
        "id": "lYblhTyAW-3s",
        "colab_type": "code",
        "colab": {}
      },
      "source": [
        "# 행렬연산\n",
        "\n",
        "\n",
        "# A = (1 0)    B = (1 1)\n",
        "#     (0 1)        (1 1)\n",
        "\n",
        "# 각 요소의 인덱스에 맞춰서, 즉 원소별로  연산이 수행된다.\n",
        "# A + B = (2 1)\n",
        "#         (1 2)"
      ],
      "execution_count": null,
      "outputs": []
    },
    {
      "cell_type": "code",
      "metadata": {
        "id": "r-qJzSmeachg",
        "colab_type": "code",
        "colab": {}
      },
      "source": [
        "import numpy as np # 라이브러리의 별명을 지정하는 방식을 사용"
      ],
      "execution_count": 12,
      "outputs": []
    },
    {
      "cell_type": "code",
      "metadata": {
        "id": "3EsPu5EqaoJw",
        "colab_type": "code",
        "colab": {
          "base_uri": "https://localhost:8080/",
          "height": 35
        },
        "outputId": "fba36aaa-f3fb-4270-e06c-1e9fb91d5be8"
      },
      "source": [
        "# 리스트로 행렬을 표현하면,\n",
        "\n",
        "A = [ [1,0], [0,1] ]\n",
        "B = [ [1,1], [1,1] ]\n",
        "\n",
        "A + B   # 행렬 연산이 아닌 리스트 연산으로 리스트가 확장된다."
      ],
      "execution_count": 13,
      "outputs": [
        {
          "output_type": "execute_result",
          "data": {
            "text/plain": [
              "[[1, 0], [0, 1], [1, 1], [1, 1]]"
            ]
          },
          "metadata": {
            "tags": []
          },
          "execution_count": 13
        }
      ]
    },
    {
      "cell_type": "markdown",
      "metadata": {
        "id": "7Egx9RhcbS74",
        "colab_type": "text"
      },
      "source": [
        "=> 리스트 연산이 됨"
      ]
    },
    {
      "cell_type": "code",
      "metadata": {
        "id": "TDew_4EYaxup",
        "colab_type": "code",
        "colab": {
          "base_uri": "https://localhost:8080/",
          "height": 53
        },
        "outputId": "7cf23425-9f38-4cb9-f45b-9aa500a27cad"
      },
      "source": [
        "# numpy matrix, 직관적임\n",
        "\n",
        "A = np.array([ [1,0], [0,1] ])\n",
        "B = np.array([ [1,1], [1,1] ])\n",
        "\n",
        "A + B  # 행렬 연산"
      ],
      "execution_count": 14,
      "outputs": [
        {
          "output_type": "execute_result",
          "data": {
            "text/plain": [
              "array([[2, 1],\n",
              "       [1, 2]])"
            ]
          },
          "metadata": {
            "tags": []
          },
          "execution_count": 14
        }
      ]
    },
    {
      "cell_type": "code",
      "metadata": {
        "id": "xJIm_4xn232K",
        "colab_type": "code",
        "colab": {
          "base_uri": "https://localhost:8080/",
          "height": 89
        },
        "outputId": "7f12588c-0e81-42e9-a8e2-1c60f09ca7ac"
      },
      "source": [
        "# A,B\n",
        "print(A)\n",
        "print(B)"
      ],
      "execution_count": 15,
      "outputs": [
        {
          "output_type": "stream",
          "text": [
            "[[1 0]\n",
            " [0 1]]\n",
            "[[1 1]\n",
            " [1 1]]\n"
          ],
          "name": "stdout"
        }
      ]
    },
    {
      "cell_type": "markdown",
      "metadata": {
        "id": "AQG_PbYhbJxC",
        "colab_type": "text"
      },
      "source": [
        "=>  numpy로 행렬 선언 및 연산을 하였기 때문에 행렬 연산의 결과가 나옴"
      ]
    },
    {
      "cell_type": "markdown",
      "metadata": {
        "id": "x4pUC7NEcDvF",
        "colab_type": "text"
      },
      "source": [
        "### numpy vector(1차원 배열)"
      ]
    },
    {
      "cell_type": "markdown",
      "metadata": {
        "id": "8IbhCw-_59zV",
        "colab_type": "text"
      },
      "source": [
        "#### 벡터 생성"
      ]
    },
    {
      "cell_type": "markdown",
      "metadata": {
        "id": "VjXJCVd5cI77",
        "colab_type": "text"
      },
      "source": [
        "- **벡터(vector) 생성**\n",
        "\n",
        "\n",
        "> 벡터는 np.array([...])를 사용하여 생성한다.\n",
        "\n",
        "        예) import numpy as np\n",
        "\n",
        "> 머신러닝 코드 구현 시, 연산을 위해서 벡터, matrix 등의 구조(shape), 차원(dimension)을 확인하는 것이 필요하다.\n",
        "\n",
        "\n"
      ]
    },
    {
      "cell_type": "code",
      "metadata": {
        "id": "cC9XMICddoXD",
        "colab_type": "code",
        "colab": {
          "base_uri": "https://localhost:8080/",
          "height": 70
        },
        "outputId": "c40226f5-be84-437c-e1da-96bddc5d4503"
      },
      "source": [
        "A = np.array([1,2,3])\n",
        "B = np.array([4,5,6])\n",
        "\n",
        "# vector A, B 출력\n",
        "print(\"A = \", A, \", B = \", B)\n",
        "\n",
        "# vector A, B 구조 출력 => shape\n",
        "print(\"A.shape = {0}, B.shape =  {1}\".format(A.shape, B.shape))\n",
        "\n",
        "# vector A, B 차원 출력 => ndim\n",
        "print(\"A.ndim = {0}, B.ndim = {1}\".format(A.ndim, B.ndim))"
      ],
      "execution_count": 16,
      "outputs": [
        {
          "output_type": "stream",
          "text": [
            "('A = ', array([1, 2, 3]), ', B = ', array([4, 5, 6]))\n",
            "A.shape = (3,), B.shape =  (3,)\n",
            "A.ndim = 1, B.ndim = 1\n"
          ],
          "name": "stdout"
        }
      ]
    },
    {
      "cell_type": "markdown",
      "metadata": {
        "id": "HQrzOFJgQCu_",
        "colab_type": "text"
      },
      "source": [
        "##### A, B는 항목(즉 요소)가 세개인 벡터임.\n",
        "\n",
        "> [행벡터](https://terms.naver.com/entry.nhn?docId=3338356&cid=47324&categoryId=47324) vs. [열벡터](https://terms.naver.com/entry.nhn?docId=3338418&ref=y&cid=47324&categoryId=47324)  \n",
        ">> 그러면 일반 벡터인 A, B를 열벡터 또는 행벡터로 변경하는 방법은?"
      ]
    },
    {
      "cell_type": "code",
      "metadata": {
        "id": "eGu_YN7hqW7n",
        "colab_type": "code",
        "colab": {
          "base_uri": "https://localhost:8080/",
          "height": 34
        },
        "outputId": "67ab7469-6617-46c3-82fb-b127be61ec81"
      },
      "source": [
        "A.shape, B.shape  # , B는 항목(즉 요소)가 세개인 벡터"
      ],
      "execution_count": 17,
      "outputs": [
        {
          "output_type": "execute_result",
          "data": {
            "text/plain": [
              "((3,), (3,))"
            ]
          },
          "metadata": {
            "tags": []
          },
          "execution_count": 17
        }
      ]
    },
    {
      "cell_type": "markdown",
      "metadata": {
        "id": "TZ84bJEXrd1E",
        "colab_type": "text"
      },
      "source": [
        "#### 열벡터로 변환"
      ]
    },
    {
      "cell_type": "code",
      "metadata": {
        "id": "hhn5gf9mq9MX",
        "colab_type": "code",
        "colab": {
          "base_uri": "https://localhost:8080/",
          "height": 70
        },
        "outputId": "ff9c3ccd-bae8-4152-be02-7948460f33c7"
      },
      "source": [
        "A[:, np.newaxis]   # 열벡터"
      ],
      "execution_count": 18,
      "outputs": [
        {
          "output_type": "execute_result",
          "data": {
            "text/plain": [
              "array([[1],\n",
              "       [2],\n",
              "       [3]])"
            ]
          },
          "metadata": {
            "tags": []
          },
          "execution_count": 18
        }
      ]
    },
    {
      "cell_type": "code",
      "metadata": {
        "id": "vd4Dw69LOm0B",
        "colab_type": "code",
        "colab": {
          "base_uri": "https://localhost:8080/",
          "height": 70
        },
        "outputId": "a3f18b0a-0931-4f4b-a88a-7455215b00dd"
      },
      "source": [
        "A,A[:,np.newaxis]"
      ],
      "execution_count": 19,
      "outputs": [
        {
          "output_type": "execute_result",
          "data": {
            "text/plain": [
              "(array([1, 2, 3]), array([[1],\n",
              "        [2],\n",
              "        [3]]))"
            ]
          },
          "metadata": {
            "tags": []
          },
          "execution_count": 19
        }
      ]
    },
    {
      "cell_type": "code",
      "metadata": {
        "id": "mf1oktBlrY2e",
        "colab_type": "code",
        "colab": {
          "base_uri": "https://localhost:8080/",
          "height": 34
        },
        "outputId": "b25d0dfa-9607-4450-acac-3bd18f504f49"
      },
      "source": [
        "A1  = A[:, np.newaxis]\n",
        "A.shape, A.ndim, A1.shape, A1.ndim"
      ],
      "execution_count": 23,
      "outputs": [
        {
          "output_type": "execute_result",
          "data": {
            "text/plain": [
              "((3,), 1, (3, 1), 2)"
            ]
          },
          "metadata": {
            "tags": []
          },
          "execution_count": 23
        }
      ]
    },
    {
      "cell_type": "markdown",
      "metadata": {
        "colab_type": "text",
        "id": "6HUVGUdJrsaJ"
      },
      "source": [
        "#### 행벡터로 변환"
      ]
    },
    {
      "cell_type": "code",
      "metadata": {
        "id": "dr_UomF-PaAf",
        "colab_type": "code",
        "colab": {
          "base_uri": "https://localhost:8080/",
          "height": 34
        },
        "outputId": "c41295f3-55ca-4979-c1d5-a05c2a7603da"
      },
      "source": [
        "B, B.shape,B.ndim"
      ],
      "execution_count": 25,
      "outputs": [
        {
          "output_type": "execute_result",
          "data": {
            "text/plain": [
              "(array([4, 5, 6]), (3,), 1)"
            ]
          },
          "metadata": {
            "tags": []
          },
          "execution_count": 25
        }
      ]
    },
    {
      "cell_type": "code",
      "metadata": {
        "colab_type": "code",
        "id": "jWfcua0drsaT",
        "colab": {
          "base_uri": "https://localhost:8080/",
          "height": 34
        },
        "outputId": "424739c9-f3bc-40da-fd91-e3ff1cee8c73"
      },
      "source": [
        "B[np.newaxis,:]   # 행벡터"
      ],
      "execution_count": 26,
      "outputs": [
        {
          "output_type": "execute_result",
          "data": {
            "text/plain": [
              "array([[4, 5, 6]])"
            ]
          },
          "metadata": {
            "tags": []
          },
          "execution_count": 26
        }
      ]
    },
    {
      "cell_type": "code",
      "metadata": {
        "colab_type": "code",
        "id": "ImhriYRJrsam",
        "colab": {
          "base_uri": "https://localhost:8080/",
          "height": 34
        },
        "outputId": "16c66cf0-27ad-44c1-85fc-7cfca619ec2b"
      },
      "source": [
        "B1  = B[np.newaxis,:]\n",
        "B1.shape, B1.ndim"
      ],
      "execution_count": 28,
      "outputs": [
        {
          "output_type": "execute_result",
          "data": {
            "text/plain": [
              "((1, 3), 2)"
            ]
          },
          "metadata": {
            "tags": []
          },
          "execution_count": 28
        }
      ]
    },
    {
      "cell_type": "code",
      "metadata": {
        "id": "oTjqGdFmsE4G",
        "colab_type": "code",
        "colab": {
          "base_uri": "https://localhost:8080/",
          "height": 88
        },
        "outputId": "e86a9a98-3867-47cb-af82-bf063a2131ac"
      },
      "source": [
        "print(A,B)\n",
        "A1,B1"
      ],
      "execution_count": 29,
      "outputs": [
        {
          "output_type": "stream",
          "text": [
            "(array([1, 2, 3]), array([4, 5, 6]))\n"
          ],
          "name": "stdout"
        },
        {
          "output_type": "execute_result",
          "data": {
            "text/plain": [
              "(array([[1],\n",
              "        [2],\n",
              "        [3]]), array([[4, 5, 6]]))"
            ]
          },
          "metadata": {
            "tags": []
          },
          "execution_count": 29
        }
      ]
    },
    {
      "cell_type": "code",
      "metadata": {
        "id": "mH_yPml6sYJf",
        "colab_type": "code",
        "colab": {
          "base_uri": "https://localhost:8080/",
          "height": 34
        },
        "outputId": "37db527e-81ef-4340-fb60-38edbce6f254"
      },
      "source": [
        "A.shape, B.shape, A1.shape, B1.shape"
      ],
      "execution_count": 30,
      "outputs": [
        {
          "output_type": "execute_result",
          "data": {
            "text/plain": [
              "((3,), (3,), (3, 1), (1, 3))"
            ]
          },
          "metadata": {
            "tags": []
          },
          "execution_count": 30
        }
      ]
    },
    {
      "cell_type": "markdown",
      "metadata": {
        "id": "Zu_DW5rbONsG",
        "colab_type": "text"
      },
      "source": [
        "### [확인]"
      ]
    },
    {
      "cell_type": "code",
      "metadata": {
        "id": "R22HiJBlOBsI",
        "colab_type": "code",
        "colab": {
          "base_uri": "https://localhost:8080/",
          "height": 34
        },
        "outputId": "73fe90e5-392c-4f9d-b9f9-a39458e1264d"
      },
      "source": [
        "# A, B, A1, B1의 차원을 비교해보시오.\n",
        "A.ndim,B.ndim,A1.ndim,B1.ndim"
      ],
      "execution_count": 32,
      "outputs": [
        {
          "output_type": "execute_result",
          "data": {
            "text/plain": [
              "(1, 1, 2, 2)"
            ]
          },
          "metadata": {
            "tags": []
          },
          "execution_count": 32
        }
      ]
    },
    {
      "cell_type": "markdown",
      "metadata": {
        "id": "wqnE4KKDuKff",
        "colab_type": "text"
      },
      "source": [
        "> **reshape()**를 이용해서 벡터의 형태 변형도 가능하다.\n",
        "- A.reshape(3,1)\n",
        "- A.reshape(1,3)"
      ]
    },
    {
      "cell_type": "markdown",
      "metadata": {
        "id": "5fOcgOxaOZYf",
        "colab_type": "text"
      },
      "source": [
        "### [도전] reshape를 이용해서 벡터 A를 열벡터, 행벡터로 변환하시오."
      ]
    },
    {
      "cell_type": "code",
      "metadata": {
        "id": "p1p4_bSBOq_W",
        "colab_type": "code",
        "colab": {
          "base_uri": "https://localhost:8080/",
          "height": 70
        },
        "outputId": "d84b09cc-0ceb-46d4-a458-ea6f55e3ae73"
      },
      "source": [
        "# reshape를 이용해서 벡터 A를 열벡터, 행벡터로 변환\n",
        "A2c=A.reshape(3,1)  # 열벡터, column vector\n",
        "A2r=A.reshape(1,3)  # 행벡터, row vector\n",
        "A, A2c, A2r"
      ],
      "execution_count": 35,
      "outputs": [
        {
          "output_type": "execute_result",
          "data": {
            "text/plain": [
              "(array([1, 2, 3]), array([[1],\n",
              "        [2],\n",
              "        [3]]), array([[1, 2, 3]]))"
            ]
          },
          "metadata": {
            "tags": []
          },
          "execution_count": 35
        }
      ]
    },
    {
      "cell_type": "code",
      "metadata": {
        "id": "wM3z0dJARjM-",
        "colab_type": "code",
        "colab": {
          "base_uri": "https://localhost:8080/",
          "height": 34
        },
        "outputId": "8e489ab1-c423-46a7-854f-fe665fff406e"
      },
      "source": [
        "A.ndim,A2c.ndim,A2r.ndim"
      ],
      "execution_count": 36,
      "outputs": [
        {
          "output_type": "execute_result",
          "data": {
            "text/plain": [
              "(1, 2, 2)"
            ]
          },
          "metadata": {
            "tags": []
          },
          "execution_count": 36
        }
      ]
    },
    {
      "cell_type": "markdown",
      "metadata": {
        "id": "Q9mDdXeZsoJ2",
        "colab_type": "text"
      },
      "source": [
        "\n",
        "\n",
        "---\n",
        "\n"
      ]
    },
    {
      "cell_type": "markdown",
      "metadata": {
        "id": "hJdNazCX6BJW",
        "colab_type": "text"
      },
      "source": [
        "## 벡터 산술연산"
      ]
    },
    {
      "cell_type": "markdown",
      "metadata": {
        "id": "gaL6T8Bycxiz",
        "colab_type": "text"
      },
      "source": [
        "- **벡터 산술연산**\n",
        "\n",
        "\n",
        "> 벡터 간 산술연산 (+, -, x, /, %)는 벡터의 각각의 원소에 대해서 행해진다.\n",
        "\n"
      ]
    },
    {
      "cell_type": "code",
      "metadata": {
        "id": "mripICsyUPxz",
        "colab_type": "code",
        "colab": {
          "base_uri": "https://localhost:8080/",
          "height": 34
        },
        "outputId": "16d051b0-7ec5-4768-d388-9528c507a97d"
      },
      "source": [
        "A,B"
      ],
      "execution_count": 37,
      "outputs": [
        {
          "output_type": "execute_result",
          "data": {
            "text/plain": [
              "(array([1, 2, 3]), array([4, 5, 6]))"
            ]
          },
          "metadata": {
            "tags": []
          },
          "execution_count": 37
        }
      ]
    },
    {
      "cell_type": "code",
      "metadata": {
        "id": "ehOzznnYa-0H",
        "colab_type": "code",
        "colab": {
          "base_uri": "https://localhost:8080/",
          "height": 124
        },
        "outputId": "59361756-2fdf-4d06-b9c8-260ad26f469b"
      },
      "source": [
        "# vector 산술 연산 (elementwise operation)\n",
        "# 벡터는 1차원 배열!\n",
        "# A = np.array([1,2,3])\n",
        "# B = np.array([4,5,6])\n",
        "\n",
        "print(\"A+B = \", A+B)\n",
        "print(\"A-B = \", A-B)\n",
        "print(\"A*B = \", A*B)\n",
        "print(\"A/B = \", A/B)\n",
        "print(\"A%B = \", A%B)\n",
        "print(\"A**B\", A**B)"
      ],
      "execution_count": 46,
      "outputs": [
        {
          "output_type": "stream",
          "text": [
            "('A+B = ', array([5, 7, 9]))\n",
            "('A-B = ', array([-3, -3, -3]))\n",
            "('A*B = ', array([ 4, 10, 18]))\n",
            "('A/B = ', array([0, 0, 0]))\n",
            "('A%B = ', array([1, 2, 3]))\n",
            "('A**B', array([  1,  32, 729]))\n"
          ],
          "name": "stdout"
        }
      ]
    },
    {
      "cell_type": "code",
      "metadata": {
        "id": "W9SoZJLOtemS",
        "colab_type": "code",
        "colab": {
          "base_uri": "https://localhost:8080/",
          "height": 34
        },
        "outputId": "8e7594f7-a4d4-49d0-87bc-4902651a6302"
      },
      "source": [
        "B%A"
      ],
      "execution_count": 44,
      "outputs": [
        {
          "output_type": "execute_result",
          "data": {
            "text/plain": [
              "array([0, 1, 0])"
            ]
          },
          "metadata": {
            "tags": []
          },
          "execution_count": 44
        }
      ]
    },
    {
      "cell_type": "code",
      "metadata": {
        "id": "HiY_p_5Ptjkz",
        "colab_type": "code",
        "colab": {
          "base_uri": "https://localhost:8080/",
          "height": 34
        },
        "outputId": "bee3da4f-e036-425a-8523-cc9951bb1886"
      },
      "source": [
        "A**B"
      ],
      "execution_count": 45,
      "outputs": [
        {
          "output_type": "execute_result",
          "data": {
            "text/plain": [
              "array([  1,  32, 729])"
            ]
          },
          "metadata": {
            "tags": []
          },
          "execution_count": 45
        }
      ]
    },
    {
      "cell_type": "markdown",
      "metadata": {
        "id": "yuwVL3pheF5O",
        "colab_type": "text"
      },
      "source": [
        "### numpy array, matrix (2차원 배열, 행렬)"
      ]
    },
    {
      "cell_type": "markdown",
      "metadata": {
        "id": "TAnvHnEJ6FEJ",
        "colab_type": "text"
      },
      "source": [
        "#### 행렬 생성"
      ]
    },
    {
      "cell_type": "markdown",
      "metadata": {
        "id": "tCo3bfQ1eJbj",
        "colab_type": "text"
      },
      "source": [
        "- **행렬 생성**\n",
        "\n",
        "\n",
        "> matrix는 벡터와 마찬가지로 np.array([ [...], [...], ... ])를 사용하여 생성한다.\n",
        "\n",
        "\n",
        ">     예)  import numpy as np\n",
        "\n",
        "\n",
        "          A = (1 2 3)       B = (-1 -2 -3)\n",
        "              (4 5 6)           (-4 -5 -6)\n",
        "            shape 2x3       shape 2x3\n",
        "\n",
        "\n"
      ]
    },
    {
      "cell_type": "code",
      "metadata": {
        "id": "wcx7fbWGdc9D",
        "colab_type": "code",
        "colab": {
          "base_uri": "https://localhost:8080/",
          "height": 52
        },
        "outputId": "3de8ae22-7e66-4340-d606-a70333623ca1"
      },
      "source": [
        "A = np.array([ [1,2,3], [4,5,6] ])\n",
        "B = np.array([ [-1,-2,-3], [-4,-5,-6] ])\n",
        "\n",
        "# vector A, B 구조 출력 => shape\n",
        "print(\"A.shape = {0}, B.shape =  {1}\".format(A.shape, B.shape))\n",
        "\n",
        "# vector A, B 차원 출력 => ndim\n",
        "print(\"A.ndim = {0}, B.ndim = {1}\".format(A.ndim, B.ndim))"
      ],
      "execution_count": 47,
      "outputs": [
        {
          "output_type": "stream",
          "text": [
            "A.shape = (2, 3), B.shape =  (2, 3)\n",
            "A.ndim = 2, B.ndim = 2\n"
          ],
          "name": "stdout"
        }
      ]
    },
    {
      "cell_type": "markdown",
      "metadata": {
        "id": "qSW-t71a6HBY",
        "colab_type": "text"
      },
      "source": [
        "#### 형 변환 (reshape)"
      ]
    },
    {
      "cell_type": "markdown",
      "metadata": {
        "id": "KwTsdW9rfXj8",
        "colab_type": "text"
      },
      "source": [
        "- **형 변환 (reshape)**\n",
        "\n",
        "\n",
        "> 벡터를 matrix로 변경하거나 matrix를 다른 구조의 matrix로 변경하기 위해서는 reshape() 사용하여 행렬의 shape를 변경하여야 한다.\n",
        "\n",
        "           예) D = (1 2 3)   D.reshape(3,2) = (1 2)\n",
        "                   (4 5 6)                    (3 4)\n",
        "                                              (5 6)\n",
        "                shape 2x3             shape 3x2"
      ]
    },
    {
      "cell_type": "code",
      "metadata": {
        "id": "HWgzy1zqfTSb",
        "colab_type": "code",
        "colab": {
          "base_uri": "https://localhost:8080/",
          "height": 70
        },
        "outputId": "87b0b950-4fe1-4f38-8fa5-fcd1b651f697"
      },
      "source": [
        "# reshape()를 이용한 열벡터 생성\n",
        "\n",
        "C = np.array([1,2,3])  # 기본 벡터\n",
        "\n",
        "# 벡터 C의 구조 출력 => shape\n",
        "print(\"C.shape = \", C.shape)\n",
        "\n",
        "# 벡터를 (3,1) 행렬로 형 변환 => 열벡터로 변환\n",
        "C1 = C.reshape(3,1)\n",
        "\n",
        "print(\"C1.shape = \", C1.shape)\n",
        "\n",
        "# 벡터를 (1,3) 행렬로 형 변환 => 행벡터로 변환\n",
        "C2 = C.reshape(1,3)\n",
        "\n",
        "print(\"C2.shape = \", C2.shape)"
      ],
      "execution_count": 48,
      "outputs": [
        {
          "output_type": "stream",
          "text": [
            "('C.shape = ', (3,))\n",
            "('C1.shape = ', (3, 1))\n",
            "('C2.shape = ', (1, 3))\n"
          ],
          "name": "stdout"
        }
      ]
    },
    {
      "cell_type": "code",
      "metadata": {
        "id": "b4naZbr5RIbe",
        "colab_type": "code",
        "colab": {
          "base_uri": "https://localhost:8080/",
          "height": 34
        },
        "outputId": "b254ede8-7943-46c8-fb72-ef2919b73ae0"
      },
      "source": [
        "C.ndim,C1.ndim, C2.ndim"
      ],
      "execution_count": 50,
      "outputs": [
        {
          "output_type": "execute_result",
          "data": {
            "text/plain": [
              "(1, 2, 2)"
            ]
          },
          "metadata": {
            "tags": []
          },
          "execution_count": 50
        }
      ]
    },
    {
      "cell_type": "markdown",
      "metadata": {
        "id": "ORwL3_suRVUZ",
        "colab_type": "text"
      },
      "source": [
        "### 2차원 배열의 구조 변환 (reshape 함수 이용)"
      ]
    },
    {
      "cell_type": "code",
      "metadata": {
        "colab_type": "code",
        "id": "RXvGHEV5wBDe",
        "colab": {
          "base_uri": "https://localhost:8080/",
          "height": 141
        },
        "outputId": "769ad7c1-f242-4e81-c9d7-4c2962c175fc"
      },
      "source": [
        "# reshape()를 이용한 구조 변경\n",
        "\n",
        "D = np.array([ [1,2,3], [4,5,6] ])  # (2,3) 배열\n",
        "\n",
        "# 배열 D의 구조 출력 => shape\n",
        "print(\"D.shape = \", D.shape)\n",
        "\n",
        "# 배열 D를 (3,2) 행렬로 형 변환 \n",
        "D1 = D.reshape(3,2)\n",
        "\n",
        "print(\"D1.shape = \", D1.shape)\n",
        "\n",
        "# D와 D1 출력\n",
        "print(D)\n",
        "print(D1)"
      ],
      "execution_count": 51,
      "outputs": [
        {
          "output_type": "stream",
          "text": [
            "('D.shape = ', (2, 3))\n",
            "('D1.shape = ', (3, 2))\n",
            "[[1 2 3]\n",
            " [4 5 6]]\n",
            "[[1 2]\n",
            " [3 4]\n",
            " [5 6]]\n"
          ],
          "name": "stdout"
        }
      ]
    },
    {
      "cell_type": "code",
      "metadata": {
        "id": "IUnhl44ERmPQ",
        "colab_type": "code",
        "colab": {
          "base_uri": "https://localhost:8080/",
          "height": 126
        },
        "outputId": "a17b3be5-626c-444f-fdcb-cabfd2e8191d"
      },
      "source": [
        "# 전치행렬과 비교 => 다르다!\n",
        "DT = D.T\n",
        "D, D1, DT"
      ],
      "execution_count": 52,
      "outputs": [
        {
          "output_type": "execute_result",
          "data": {
            "text/plain": [
              "(array([[1, 2, 3],\n",
              "        [4, 5, 6]]), array([[1, 2],\n",
              "        [3, 4],\n",
              "        [5, 6]]), array([[1, 4],\n",
              "        [2, 5],\n",
              "        [3, 6]]))"
            ]
          },
          "metadata": {
            "tags": []
          },
          "execution_count": 52
        }
      ]
    },
    {
      "cell_type": "code",
      "metadata": {
        "id": "T4vBwQnhW5QD",
        "colab_type": "code",
        "colab": {}
      },
      "source": [
        ""
      ],
      "execution_count": null,
      "outputs": []
    }
  ]
}